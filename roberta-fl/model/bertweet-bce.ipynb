{
 "cells": [
  {
   "cell_type": "markdown",
   "metadata": {},
   "source": [
    "# BERTweet BCE"
   ]
  },
  {
   "cell_type": "markdown",
   "metadata": {},
   "source": [
    "## Variables d'environnement"
   ]
  },
  {
   "cell_type": "code",
   "execution_count": 1,
   "metadata": {},
   "outputs": [],
   "source": [
    "import os\n",
    "os.environ[\"CUDA_VISIBLE_DEVICES\"] = \"1\"\n",
    "# Id des GPU disponibles : 0 et 1"
   ]
  },
  {
   "cell_type": "markdown",
   "metadata": {},
   "source": [
    "## Importation"
   ]
  },
  {
   "cell_type": "code",
   "execution_count": 2,
   "metadata": {},
   "outputs": [],
   "source": [
    "import os\n",
    "import time\n",
    "import datetime\n",
    "from typing import Any, Union, Dict, List\n",
    "import uuid\n",
    "import json\n",
    "\n",
    "import pandas as pd\n",
    "import numpy as np\n",
    "import torch\n",
    "from torch import nn\n",
    "import torch.nn.functional as F\n",
    "from torch.utils.data import DataLoader, Dataset\n",
    "import torchtext\n",
    "import nltk\n",
    "import sklearn\n",
    "import transformers\n",
    "import torchmetrics as tm\n",
    "from torchmetrics import MetricCollection, Metric, Accuracy, Precision, Recall, AUROC, HammingDistance, F1Score, ROC, AUC, PrecisionRecallCurve\n",
    "\n",
    "\n",
    "from loguru import logger\n",
    "from tqdm.auto import tqdm\n",
    "tqdm.pandas()\n",
    "\n",
    "import warnings\n",
    "warnings.filterwarnings(\"ignore\")"
   ]
  },
  {
   "cell_type": "markdown",
   "metadata": {},
   "source": [
    "## Constantes"
   ]
  },
  {
   "cell_type": "code",
   "execution_count": 3,
   "metadata": {},
   "outputs": [],
   "source": [
    "CUSTOME_NAME = \"bertweet-bce\"\n",
    "\n",
    "# Dataset\n",
    "DATA_DIR_PATH = os.path.abspath(\"../../data\")\n",
    "TRAIN_DATASET_PATH = os.path.join(DATA_DIR_PATH, \"jigsaw2019-train.csv\")\n",
    "TEST_DATASET_PATH = os.path.join(DATA_DIR_PATH, \"jigsaw2019-test.csv\")\n",
    "LABEL_LIST = ['toxicity', 'obscene', 'sexual_explicit',\n",
    "            'identity_attack', 'insult', 'threat']\n",
    "IDENTITY_LIST = ['male', 'female', 'transgender', 'other_gender', 'heterosexual',\n",
    "                'homosexual_gay_or_lesbian', 'bisexual','other_sexual_orientation',\n",
    "                'christian', 'jewish', 'muslim', 'hindu','buddhist', 'atheist',\n",
    "                'other_religion', 'black', 'white', 'asian', 'latino',\n",
    "                'other_race_or_ethnicity', 'physical_disability',\n",
    "                'intellectual_or_learning_disability',\n",
    "                'psychiatric_or_mental_illness','other_disability']\n",
    "SELECTED_IDENTITY_LIST = ['male', 'female', 'black', 'white', 'homosexual_gay_or_lesbian',\n",
    "                    'christian', 'jewish', 'muslim', 'psychiatric_or_mental_illness']\n",
    "\n",
    "# Session\n",
    "SESSION_DIR_PATH = os.path.abspath(\"../../session\")\n",
    "SESSION_DATETIME = datetime.datetime.now().strftime(\"%Y-%m-%dT%H-%M-%S-%f\")\n",
    "SESSION_NAME = f\"{CUSTOME_NAME}_{SESSION_DATETIME}\"\n",
    "CURRENT_SESSION_DIR_PATH = os.path.join(SESSION_DIR_PATH, SESSION_NAME)\n",
    "# Créer le dossier de la session\n",
    "os.makedirs(CURRENT_SESSION_DIR_PATH, exist_ok=True)\n",
    "\n",
    "# Architecture de fichier dans `CURRENT_SESSION_DIR_PATH`\n",
    "LOG_FILE_NAME = f\"{SESSION_NAME}.loguru.log\"\n",
    "MODEL_FILE_NAME = f\"{SESSION_NAME}.model\"\n",
    "TEST_FILE_NAME = f\"{SESSION_NAME}.test.csv\"\n",
    "VALIDATION_DATASET_NAME = f\"{SESSION_NAME}.jigsaw2019-validation.csv\"\n",
    "VALIDATION_FILE_NAME = f\"{SESSION_NAME}.validation.csv\"\n",
    "METRIC_FILE_NAME = f\"{SESSION_NAME}.metric.json\"\n",
    "LOG_FILE_PATH = os.path.join(CURRENT_SESSION_DIR_PATH, LOG_FILE_NAME)\n",
    "MODEL_FILE_PATH = os.path.join(CURRENT_SESSION_DIR_PATH, MODEL_FILE_NAME)\n",
    "TEST_FILE_PATH = os.path.join(CURRENT_SESSION_DIR_PATH, TEST_FILE_NAME)\n",
    "VALIDATION_DATASET_FILE_PATH = os.path.join(CURRENT_SESSION_DIR_PATH, VALIDATION_DATASET_NAME)\n",
    "VALIDATION_FILE_PATH = os.path.join(CURRENT_SESSION_DIR_PATH, VALIDATION_FILE_NAME)\n",
    "METRIC_FILE_PATH = os.path.join(CURRENT_SESSION_DIR_PATH, METRIC_FILE_NAME)\n",
    "\n",
    "# CUDA\n",
    "device = torch.device('cuda' if torch.cuda.is_available() else 'cpu')"
   ]
  },
  {
   "cell_type": "markdown",
   "metadata": {},
   "source": [
    "## Logging"
   ]
  },
  {
   "cell_type": "code",
   "execution_count": 4,
   "metadata": {},
   "outputs": [
    {
     "name": "stderr",
     "output_type": "stream",
     "text": [
      "2022-03-29 19:58:44.488 | INFO     | __main__:<cell line: 2>:2 - SESSION_NAME='test-bertweet-bce_2022-03-29T19-58-43-676584'\n",
      "2022-03-29 19:58:44.490 | INFO     | __main__:<cell line: 3>:3 - TRAIN_DATASET_PATH='/work2/home/ing1/corentin/hatespeech-detection-models/data/jigsaw2019-train.csv'\n",
      "2022-03-29 19:58:44.491 | INFO     | __main__:<cell line: 4>:4 - TEST_DATASET_PATH='/work2/home/ing1/corentin/hatespeech-detection-models/data/jigsaw2019-test.csv'\n",
      "2022-03-29 19:58:44.492 | INFO     | __main__:<cell line: 5>:5 - CURRENT_SESSION_DIR_PATH='/work2/home/ing1/corentin/hatespeech-detection-models/session/test-bertweet-bce_2022-03-29T19-58-43-676584'\n",
      "2022-03-29 19:58:44.493 | INFO     | __main__:<cell line: 6>:6 - LABEL_LIST=['toxicity', 'obscene', 'sexual_explicit', 'identity_attack', 'insult', 'threat']\n",
      "2022-03-29 19:58:44.494 | INFO     | __main__:<cell line: 7>:7 - IDENTITY_LIST=['male', 'female', 'transgender', 'other_gender', 'heterosexual', 'homosexual_gay_or_lesbian', 'bisexual', 'other_sexual_orientation', 'christian', 'jewish', 'muslim', 'hindu', 'buddhist', 'atheist', 'other_religion', 'black', 'white', 'asian', 'latino', 'other_race_or_ethnicity', 'physical_disability', 'intellectual_or_learning_disability', 'psychiatric_or_mental_illness', 'other_disability']\n",
      "2022-03-29 19:58:44.494 | INFO     | __main__:<cell line: 8>:8 - SELECTED_IDENTITY_LIST=['male', 'female', 'black', 'white', 'homosexual_gay_or_lesbian', 'christian', 'jewish', 'muslim', 'psychiatric_or_mental_illness']\n"
     ]
    }
   ],
   "source": [
    "logger.add(LOG_FILE_PATH, level=\"TRACE\")\n",
    "logger.info(f\"{SESSION_NAME=}\")\n",
    "logger.info(f\"{TRAIN_DATASET_PATH=}\")\n",
    "logger.info(f\"{TEST_DATASET_PATH=}\")\n",
    "logger.info(f\"{CURRENT_SESSION_DIR_PATH=}\")\n",
    "logger.info(f\"{LABEL_LIST=}\")\n",
    "logger.info(f\"{IDENTITY_LIST=}\")\n",
    "logger.info(f\"{SELECTED_IDENTITY_LIST=}\")"
   ]
  },
  {
   "cell_type": "markdown",
   "metadata": {},
   "source": [
    "## Vérifier la cohérence de l'architecture et l'accès aux ressources"
   ]
  },
  {
   "cell_type": "code",
   "execution_count": 5,
   "metadata": {},
   "outputs": [
    {
     "name": "stderr",
     "output_type": "stream",
     "text": [
      "2022-03-29 19:58:44.669 | INFO     | __main__:<cell line: 1>:1 - Checking consistency...\n",
      "2022-03-29 19:58:44.671 | SUCCESS  | __main__:<cell line: 10>:10 - Datasets are reachable\n",
      "2022-03-29 19:58:44.672 | INFO     | __main__:<cell line: 15>:15 - GPU_IS_AVAILABLE=True\n",
      "2022-03-29 19:58:44.673 | INFO     | __main__:<cell line: 16>:16 - GPU_COUNT=1\n",
      "2022-03-29 19:58:44.675 | SUCCESS  | __main__:<cell line: 20>:20 - GPU and CUDA are available\n",
      "2022-03-29 19:58:44.676 | INFO     | __main__:<cell line: 21>:21 - device=device(type='cuda')\n",
      "2022-03-29 19:58:44.677 | INFO     | __main__:<cell line: 22>:24 - GPU 0 : NVIDIA TITAN X (Pascal)\n"
     ]
    }
   ],
   "source": [
    "logger.info(f\"Checking consistency...\")\n",
    "\n",
    "# Vérifier l'accès aux datasets\n",
    "if not os.path.exists(TRAIN_DATASET_PATH):\n",
    "    logger.critical(f\"Train dataset does not exist !\")\n",
    "    raise RuntimeError(\"Train dataset does not exist !\")\n",
    "if not os.path.exists(TEST_DATASET_PATH):\n",
    "    logger.critical(f\"Test dataset does not exist !\")\n",
    "    raise RuntimeError(\"Test dataset does not exist !\")\n",
    "logger.success(\"Datasets are reachable\")\n",
    "\n",
    "# Vérifier l'accès aux GPU\n",
    "GPU_IS_AVAILABLE = torch.cuda.is_available()\n",
    "GPU_COUNT = torch.cuda.device_count()\n",
    "logger.info(f\"{GPU_IS_AVAILABLE=}\")\n",
    "logger.info(f\"{GPU_COUNT=}\")\n",
    "if not GPU_IS_AVAILABLE:\n",
    "    logger.critical(\"GPU and CUDA are not available !\")\n",
    "    raise RuntimeError(\"GPU and CUDA are not available !\")\n",
    "logger.success(\"GPU and CUDA are available\")\n",
    "logger.info(f\"{device=}\")\n",
    "for gpu_id in range(GPU_COUNT):\n",
    "    gpu_name = torch.cuda.get_device_name(0)\n",
    "    logger.info(f\"GPU {gpu_id} : {gpu_name}\")"
   ]
  },
  {
   "cell_type": "markdown",
   "metadata": {},
   "source": [
    "## Dataset"
   ]
  },
  {
   "cell_type": "code",
   "execution_count": 6,
   "metadata": {},
   "outputs": [
    {
     "name": "stderr",
     "output_type": "stream",
     "text": [
      "2022-03-29 19:58:52.368 | SUCCESS  | __main__:<cell line: 2>:2 - Dataset loaded !\n"
     ]
    }
   ],
   "source": [
    "all_train_df = pd.read_csv(TRAIN_DATASET_PATH, index_col=0)\n",
    "logger.success(\"Dataset loaded !\")"
   ]
  },
  {
   "cell_type": "code",
   "execution_count": 7,
   "metadata": {},
   "outputs": [
    {
     "name": "stderr",
     "output_type": "stream",
     "text": [
      "2022-03-29 19:58:52.783 | DEBUG    | __main__:<cell line: 4>:6 - Mode test is enabled. The training set has been truncated to 20 000 samples.\n"
     ]
    }
   ],
   "source": [
    "# Pour réduire le nombre d'exemple et savoir sur quel groupes d'identités\n",
    "# le modèle est entrainé, on prend un sous ensemble du jeu de données\n",
    "train_df = all_train_df[~all_train_df.white.isna()]\n",
    "if CUSTOME_NAME.startswith(\"test\"):\n",
    "    # Si c'est juste une session pour tester le notebook\n",
    "    logger.debug(\"Mode test is enabled. The training set has been truncated to 20 000 samples.\")\n",
    "    train_df = train_df[:20_000]\n",
    "# Pour le jeu de validation, on veut juste avoir des indications de perf\n",
    "# Peu importe, c'est juste pour voir si l'entraînement s'est bien passé\n",
    "# Sans pour autant regarder les biais\n",
    "validation_df = all_train_df[all_train_df.white.isna()].sample(n=10_000)"
   ]
  },
  {
   "cell_type": "code",
   "execution_count": 8,
   "metadata": {},
   "outputs": [],
   "source": [
    "# Remplacer toutes les colonnes correspondantes aux labels par 1 ou 0\n",
    "# si la probabilité est supérieure ou égale à 0.5 ou non\n",
    "train_df[LABEL_LIST] = (train_df[LABEL_LIST]>=0.5).astype(int)\n",
    "validation_df[LABEL_LIST] = (validation_df[LABEL_LIST]>=0.5).astype(int)"
   ]
  },
  {
   "cell_type": "code",
   "execution_count": 9,
   "metadata": {},
   "outputs": [],
   "source": [
    "class JigsawDataset(Dataset):\n",
    "    def __init__(self, data_df, tokenizer):\n",
    "        self.data = data_df\n",
    "        self.tokenizer = tokenizer\n",
    "\n",
    "    def __len__(self):\n",
    "        return len(self.data)\n",
    "\n",
    "    def __getitem__(self, index):\n",
    "        comment = self.data.iloc[index][\"comment_text\"]\n",
    "        label = torch.tensor(self.data.iloc[index][LABEL_LIST].tolist(), dtype=torch.float)\n",
    "        \n",
    "        token_list, attention_mask = self.text_to_token_and_mask(comment)\n",
    "\n",
    "        return dict(index=index, ids=token_list, mask=attention_mask, labels=label)\n",
    "    \n",
    "    def text_to_token_and_mask(self, input_text):\n",
    "        tokenization_dict = tokenizer.encode_plus(input_text,\n",
    "                                add_special_tokens=True,\n",
    "                                max_length=128,\n",
    "                                padding='max_length',\n",
    "                                truncation=True,\n",
    "                                return_attention_mask=True,\n",
    "                                return_tensors='pt')\n",
    "        token_list = tokenization_dict[\"input_ids\"].flatten()\n",
    "        attention_mask = tokenization_dict[\"attention_mask\"].flatten()\n",
    "        return (token_list, attention_mask)"
   ]
  },
  {
   "cell_type": "markdown",
   "metadata": {},
   "source": [
    "## Model"
   ]
  },
  {
   "cell_type": "code",
   "execution_count": 10,
   "metadata": {},
   "outputs": [],
   "source": [
    "def set_lr(optim, lr):\n",
    "    '''\n",
    "    Set the learning rate in the optimizer\n",
    "    '''\n",
    "    for g in optim.param_groups:\n",
    "        g['lr'] = lr\n",
    "    return optim"
   ]
  },
  {
   "cell_type": "code",
   "execution_count": 11,
   "metadata": {},
   "outputs": [],
   "source": [
    "# Transformer class and functions for models and predictions\n",
    "\n",
    "class TransformerClassifierStack(nn.Module):\n",
    "    def __init__(self, tr_model, nb_labels, dropout_prob=0.4, freeze=False):\n",
    "        super().__init__()\n",
    "        self.tr_model = tr_model\n",
    "\n",
    "        # Stack features of 4 last encoders\n",
    "        self.hidden_dim = tr_model.config.hidden_size * 4\n",
    "\n",
    "        # hidden linear for the classification\n",
    "        self.dropout = nn.Dropout(dropout_prob)\n",
    "        self.hl = nn.Linear(self.hidden_dim, self.hidden_dim)\n",
    "\n",
    "        # Last Linear for the classification\n",
    "        self.last_l = nn.Linear(self.hidden_dim, nb_labels)\n",
    "\n",
    "        # freeze all the parameters if necessary\n",
    "        for param in self.tr_model.parameters():\n",
    "            param.requires_grad = not freeze\n",
    "\n",
    "        # init learning params of last layers\n",
    "        torch.nn.init.xavier_uniform_(self.hl.weight)\n",
    "        torch.nn.init.xavier_uniform_(self.last_l.weight)\n",
    "\n",
    "    def forward(self, ids, mask):\n",
    "        # ids = [batch_size, padded_seq_len]\n",
    "        # mask = [batch_size, padded_seq_len]\n",
    "        # mask: avoid to make self attention on padded data\n",
    "        tr_output = self.tr_model(input_ids=ids,\n",
    "                                  attention_mask=mask,\n",
    "                                  output_hidden_states=True)\n",
    "\n",
    "        # Get all the hidden states\n",
    "        hidden_states = tr_output['hidden_states']\n",
    "\n",
    "        # hs_* = [batch_size, padded_seq_len, 768]\n",
    "        hs_1 = hidden_states[-1][:, 0, :]\n",
    "        hs_2 = hidden_states[-2][:, 0, :]\n",
    "        hs_3 = hidden_states[-3][:, 0, :]\n",
    "        hs_4 = hidden_states[-4][:, 0, :]\n",
    "\n",
    "        # features_vec = [batch_size, 768 * 4]\n",
    "        features_vec = torch.cat([hs_1, hs_2, hs_3, hs_4], dim=-1)\n",
    "\n",
    "        x = self.dropout(features_vec)\n",
    "        x = self.hl(x)\n",
    "\n",
    "        # x = [batch_size, 768 * 4]\n",
    "        x = torch.tanh(x)\n",
    "        x = self.dropout(x)\n",
    "        x = self.last_l(x)\n",
    "        \n",
    "        # x = [batch_size, 1]\n",
    "        return x\n",
    "\n",
    "def load_roberta_model(nb_labels):\n",
    "    '''\n",
    "    Load RoBERTa model without any checkpoint\n",
    "    RoBERTa for finetuning\n",
    "    '''\n",
    "    logger.info(f\"transformers.AutoTokenizer : vinai/bertweet-base\")\n",
    "    logger.info(f\"transformers.AutoModel : vinai/bertweet-base\")\n",
    "    tokenizer = transformers.AutoTokenizer.from_pretrained('vinai/bertweet-base')\n",
    "    tr_model = transformers.AutoModel.from_pretrained('vinai/bertweet-base')\n",
    "    model = TransformerClassifierStack(tr_model, nb_labels, freeze=True)\n",
    "    return model, tokenizer"
   ]
  },
  {
   "cell_type": "code",
   "execution_count": 12,
   "metadata": {},
   "outputs": [
    {
     "name": "stderr",
     "output_type": "stream",
     "text": [
      "2022-03-29 19:58:53.977 | INFO     | __main__:load_roberta_model:62 - transformers.AutoTokenizer : vinai/bertweet-base\n",
      "2022-03-29 19:58:53.979 | INFO     | __main__:load_roberta_model:63 - transformers.AutoModel : vinai/bertweet-base\n"
     ]
    },
    {
     "data": {
      "application/vnd.jupyter.widget-view+json": {
       "model_id": "25a2172641f84e27bbaa82b823b31f93",
       "version_major": 2,
       "version_minor": 0
      },
      "text/plain": [
       "Downloading:   0%|          | 0.00/558 [00:00<?, ?B/s]"
      ]
     },
     "metadata": {},
     "output_type": "display_data"
    },
    {
     "data": {
      "application/vnd.jupyter.widget-view+json": {
       "model_id": "a164458c0c0f489db6aa7f73d49b54c7",
       "version_major": 2,
       "version_minor": 0
      },
      "text/plain": [
       "Downloading:   0%|          | 0.00/824k [00:00<?, ?B/s]"
      ]
     },
     "metadata": {},
     "output_type": "display_data"
    },
    {
     "data": {
      "application/vnd.jupyter.widget-view+json": {
       "model_id": "bc32556a33aa422f9e7a29cd40cec579",
       "version_major": 2,
       "version_minor": 0
      },
      "text/plain": [
       "Downloading:   0%|          | 0.00/1.03M [00:00<?, ?B/s]"
      ]
     },
     "metadata": {},
     "output_type": "display_data"
    },
    {
     "name": "stderr",
     "output_type": "stream",
     "text": [
      "emoji is not installed, thus not converting emoticons or emojis into text. Please install emoji: pip3 install emoji\n",
      "Special tokens have been added in the vocabulary, make sure the associated word embeddings are fine-tuned or trained.\n"
     ]
    },
    {
     "data": {
      "application/vnd.jupyter.widget-view+json": {
       "model_id": "f424ed426bb4401da2b73fb11b6021fe",
       "version_major": 2,
       "version_minor": 0
      },
      "text/plain": [
       "Downloading:   0%|          | 0.00/517M [00:00<?, ?B/s]"
      ]
     },
     "metadata": {},
     "output_type": "display_data"
    },
    {
     "name": "stderr",
     "output_type": "stream",
     "text": [
      "Some weights of the model checkpoint at vinai/bertweet-base were not used when initializing RobertaModel: ['lm_head.decoder.weight', 'lm_head.layer_norm.bias', 'lm_head.dense.weight', 'lm_head.dense.bias', 'lm_head.decoder.bias', 'lm_head.bias', 'lm_head.layer_norm.weight']\n",
      "- This IS expected if you are initializing RobertaModel from the checkpoint of a model trained on another task or with another architecture (e.g. initializing a BertForSequenceClassification model from a BertForPreTraining model).\n",
      "- This IS NOT expected if you are initializing RobertaModel from the checkpoint of a model that you expect to be exactly identical (initializing a BertForSequenceClassification model from a BertForSequenceClassification model).\n",
      "2022-03-29 19:59:08.725 | SUCCESS  | __main__:<cell line: 3>:3 - Model loaded !\n"
     ]
    }
   ],
   "source": [
    "# Load the model\n",
    "model, tokenizer = load_roberta_model(nb_labels=len(LABEL_LIST))\n",
    "logger.success(\"Model loaded !\")"
   ]
  },
  {
   "cell_type": "markdown",
   "metadata": {},
   "source": [
    "## Hyperparamètre"
   ]
  },
  {
   "cell_type": "code",
   "execution_count": 13,
   "metadata": {},
   "outputs": [
    {
     "name": "stderr",
     "output_type": "stream",
     "text": [
      "2022-03-29 19:59:09.002 | INFO     | __main__:<cell line: 7>:7 - BATCH_SIZE=32\n",
      "2022-03-29 19:59:09.005 | INFO     | __main__:<cell line: 8>:8 - LR=0.0001\n",
      "2022-03-29 19:59:09.007 | INFO     | __main__:<cell line: 9>:9 - PIN_MEMORY=True\n",
      "2022-03-29 19:59:09.008 | INFO     | __main__:<cell line: 10>:10 - NUM_WORKERS=0\n",
      "2022-03-29 19:59:09.010 | INFO     | __main__:<cell line: 11>:11 - PREFETCH_FACTOR=2\n",
      "2022-03-29 19:59:09.011 | INFO     | __main__:<cell line: 12>:12 - NUM_EPOCHS=1\n"
     ]
    }
   ],
   "source": [
    "BATCH_SIZE = 32\n",
    "LR=1e-4\n",
    "PIN_MEMORY = True\n",
    "NUM_WORKERS = 0\n",
    "PREFETCH_FACTOR = 2\n",
    "NUM_EPOCHS = 1\n",
    "logger.info(f\"{BATCH_SIZE=}\")\n",
    "logger.info(f\"{LR=}\")\n",
    "logger.info(f\"{PIN_MEMORY=}\")\n",
    "logger.info(f\"{NUM_WORKERS=}\")\n",
    "logger.info(f\"{PREFETCH_FACTOR=}\")\n",
    "logger.info(f\"{NUM_EPOCHS=}\")"
   ]
  },
  {
   "cell_type": "markdown",
   "metadata": {},
   "source": [
    "### Loss"
   ]
  },
  {
   "cell_type": "code",
   "execution_count": 14,
   "metadata": {},
   "outputs": [],
   "source": [
    "# Taken from: https://github.com/Roche/BalancedLossNLP\n",
    "\n",
    "class ResampleLoss(nn.Module):\n",
    "\n",
    "    def __init__(self,\n",
    "                 use_sigmoid=True, partial=False,\n",
    "                 loss_weight=1.0, reduction='mean',\n",
    "                 reweight_func=None,  # None, 'inv', 'sqrt_inv', 'rebalance', 'CB'\n",
    "                 weight_norm=None, # None, 'by_instance', 'by_batch'\n",
    "                 focal=dict(\n",
    "                     focal=True,\n",
    "                     alpha=0.5,\n",
    "                     gamma=2,\n",
    "                 ),\n",
    "                 map_param=dict(\n",
    "                     alpha=10.0,\n",
    "                     beta=0.2,\n",
    "                     gamma=0.1\n",
    "                 ),\n",
    "                 CB_loss=dict(\n",
    "                     CB_beta=0.9,\n",
    "                     CB_mode='average_w'  # 'by_class', 'average_n', 'average_w', 'min_n'\n",
    "                 ),\n",
    "                 logit_reg=dict(\n",
    "                     neg_scale=5.0,\n",
    "                     init_bias=0.1\n",
    "                 ),\n",
    "                 class_freq=None,\n",
    "                 train_num=None):\n",
    "        super(ResampleLoss, self).__init__()\n",
    "\n",
    "        assert (use_sigmoid is True) or (partial is False)\n",
    "        self.use_sigmoid = use_sigmoid\n",
    "        self.partial = partial\n",
    "        self.loss_weight = loss_weight\n",
    "        self.reduction = reduction\n",
    "        if self.use_sigmoid:\n",
    "            if self.partial:\n",
    "                raise RuntimeError(\"Not defined here\")\n",
    "                self.cls_criterion = partial_cross_entropy\n",
    "            else:\n",
    "                self.cls_criterion = binary_cross_entropy\n",
    "        else:\n",
    "            raise RuntimeError(\"Not defined here\")\n",
    "            self.cls_criterion = cross_entropy\n",
    "\n",
    "        # reweighting function\n",
    "        self.reweight_func = reweight_func\n",
    "\n",
    "        # normalization (optional)\n",
    "        self.weight_norm = weight_norm\n",
    "\n",
    "        # focal loss params\n",
    "        self.focal = focal['focal']\n",
    "        self.gamma = focal['gamma']\n",
    "        self.alpha = focal['alpha'] # change to alpha\n",
    "\n",
    "        # mapping function params\n",
    "        self.map_alpha = map_param['alpha']\n",
    "        self.map_beta = map_param['beta']\n",
    "        self.map_gamma = map_param['gamma']\n",
    "\n",
    "        # CB loss params (optional)\n",
    "        self.CB_beta = CB_loss['CB_beta']\n",
    "        self.CB_mode = CB_loss['CB_mode']\n",
    "\n",
    "        self.class_freq = torch.from_numpy(np.asarray(class_freq)).float().cuda()\n",
    "        self.num_classes = self.class_freq.shape[0]\n",
    "        self.train_num = train_num # only used to be divided by class_freq\n",
    "        # regularization params\n",
    "        self.logit_reg = logit_reg\n",
    "        self.neg_scale = logit_reg[\n",
    "            'neg_scale'] if 'neg_scale' in logit_reg else 1.0\n",
    "        init_bias = logit_reg['init_bias'] if 'init_bias' in logit_reg else 0.0\n",
    "        # bug fixed https://github.com/wutong16/DistributionBalancedLoss/issues/8\n",
    "        self.init_bias = - torch.log(\n",
    "            self.train_num / self.class_freq - 1) * init_bias\n",
    "\n",
    "        self.freq_inv = torch.ones(self.class_freq.shape).cuda() / self.class_freq\n",
    "        self.propotion_inv = self.train_num / self.class_freq\n",
    "\n",
    "    def forward(self,\n",
    "                cls_score,\n",
    "                label,\n",
    "                weight=None,\n",
    "                avg_factor=None,\n",
    "                reduction_override=None,\n",
    "                **kwargs):\n",
    "\n",
    "        assert reduction_override in (None, 'none', 'mean', 'sum')\n",
    "        reduction = (\n",
    "            reduction_override if reduction_override else self.reduction)\n",
    "\n",
    "        weight = self.reweight_functions(label)\n",
    "\n",
    "        cls_score, weight = self.logit_reg_functions(label.float(), cls_score, weight)\n",
    "\n",
    "        if self.focal:\n",
    "            logpt = self.cls_criterion(\n",
    "                cls_score.clone(), label, weight=None, reduction='none',\n",
    "                avg_factor=avg_factor)\n",
    "            # pt is sigmoid(logit) for pos or sigmoid(-logit) for neg\n",
    "            pt = torch.exp(-logpt)\n",
    "            wtloss = self.cls_criterion(\n",
    "                cls_score, label.float(), weight=weight, reduction='none')\n",
    "            alpha_t = torch.where(label==1, self.alpha, 1-self.alpha)\n",
    "            loss = alpha_t * ((1 - pt) ** self.gamma) * wtloss # balance_param should be a tensor\n",
    "            loss = reduce_loss(loss, reduction)             # add reduction\n",
    "        else:\n",
    "            loss = self.cls_criterion(cls_score, label.float(), weight,\n",
    "                                      reduction=reduction)\n",
    "\n",
    "        loss = self.loss_weight * loss\n",
    "        return loss\n",
    "\n",
    "    def reweight_functions(self, label):\n",
    "        if self.reweight_func is None:\n",
    "            return None\n",
    "        elif self.reweight_func in ['inv', 'sqrt_inv']:\n",
    "            weight = self.RW_weight(label.float())\n",
    "        elif self.reweight_func in 'rebalance':\n",
    "            weight = self.rebalance_weight(label.float())\n",
    "        elif self.reweight_func in 'CB':\n",
    "            weight = self.CB_weight(label.float())\n",
    "        else:\n",
    "            return None\n",
    "\n",
    "        if self.weight_norm is not None:\n",
    "            if 'by_instance' in self.weight_norm:\n",
    "                max_by_instance, _ = torch.max(weight, dim=-1, keepdim=True)\n",
    "                weight = weight / max_by_instance\n",
    "            elif 'by_batch' in self.weight_norm:\n",
    "                weight = weight / torch.max(weight)\n",
    "\n",
    "        return weight\n",
    "\n",
    "    def logit_reg_functions(self, labels, logits, weight=None): \n",
    "        if not self.logit_reg:\n",
    "            return logits, weight\n",
    "        if 'init_bias' in self.logit_reg:\n",
    "            logits += self.init_bias\n",
    "        if 'neg_scale' in self.logit_reg:\n",
    "            logits = logits * (1 - labels) * self.neg_scale  + logits * labels\n",
    "            if weight is not None:\n",
    "                weight = weight / self.neg_scale * (1 - labels) + weight * labels\n",
    "        return logits, weight\n",
    "\n",
    "    def rebalance_weight(self, gt_labels):\n",
    "        repeat_rate = torch.sum( gt_labels.float() * self.freq_inv, dim=1, keepdim=True)\n",
    "        pos_weight = self.freq_inv.clone().detach().unsqueeze(0) / repeat_rate\n",
    "        # pos and neg are equally treated\n",
    "        weight = torch.sigmoid(self.map_beta * (pos_weight - self.map_gamma)) + self.map_alpha\n",
    "        return weight\n",
    "\n",
    "    def CB_weight(self, gt_labels):\n",
    "        if  'by_class' in self.CB_mode:\n",
    "            weight = torch.tensor((1 - self.CB_beta)).cuda() / \\\n",
    "                     (1 - torch.pow(self.CB_beta, self.class_freq)).cuda()\n",
    "        elif 'average_n' in self.CB_mode:\n",
    "            avg_n = torch.sum(gt_labels * self.class_freq, dim=1, keepdim=True) / \\\n",
    "                    torch.sum(gt_labels, dim=1, keepdim=True)\n",
    "            weight = torch.tensor((1 - self.CB_beta)).cuda() / \\\n",
    "                     (1 - torch.pow(self.CB_beta, avg_n)).cuda()\n",
    "        elif 'average_w' in self.CB_mode:\n",
    "            weight_ = torch.tensor((1 - self.CB_beta)).cuda() / \\\n",
    "                      (1 - torch.pow(self.CB_beta, self.class_freq)).cuda()\n",
    "            weight = torch.sum(gt_labels * weight_, dim=1, keepdim=True) / \\\n",
    "                     torch.sum(gt_labels, dim=1, keepdim=True)\n",
    "        elif 'min_n' in self.CB_mode:\n",
    "            min_n, _ = torch.min(gt_labels * self.class_freq +\n",
    "                                 (1 - gt_labels) * 100000, dim=1, keepdim=True)\n",
    "            weight = torch.tensor((1 - self.CB_beta)).cuda() / \\\n",
    "                     (1 - torch.pow(self.CB_beta, min_n)).cuda()\n",
    "        else:\n",
    "            raise NameError\n",
    "        return weight\n",
    "\n",
    "    def RW_weight(self, gt_labels, by_class=True):\n",
    "        if 'sqrt' in self.reweight_func:\n",
    "            weight = torch.sqrt(self.propotion_inv)\n",
    "        else:\n",
    "            weight = self.propotion_inv\n",
    "        if not by_class:\n",
    "            sum_ = torch.sum(weight * gt_labels, dim=1, keepdim=True)\n",
    "            weight = sum_ / torch.sum(gt_labels, dim=1, keepdim=True)\n",
    "        return weight\n",
    "    \n",
    "\n",
    "def reduce_loss(loss, reduction):\n",
    "    \"\"\"Reduce loss as specified.\n",
    "    Args:\n",
    "        loss (Tensor): Elementwise loss tensor.\n",
    "        reduction (str): Options are \"none\", \"mean\" and \"sum\".\n",
    "    Return:\n",
    "        Tensor: Reduced loss tensor.\n",
    "    \"\"\"\n",
    "    reduction_enum = F._Reduction.get_enum(reduction)\n",
    "    # none: 0, elementwise_mean:1, sum: 2\n",
    "    if reduction_enum == 0:\n",
    "        return loss\n",
    "    elif reduction_enum == 1:\n",
    "        return loss.mean()\n",
    "    elif reduction_enum == 2:\n",
    "        return loss.sum()\n",
    "\n",
    "\n",
    "def weight_reduce_loss(loss, weight=None, reduction='mean', avg_factor=None):\n",
    "    \"\"\"Apply element-wise weight and reduce loss.\n",
    "    Args:\n",
    "        loss (Tensor): Element-wise loss.\n",
    "        weight (Tensor): Element-wise weights.\n",
    "        reduction (str): Same as built-in losses of PyTorch.\n",
    "        avg_factor (float): Avarage factor when computing the mean of losses.\n",
    "    Returns:\n",
    "        Tensor: Processed loss values.\n",
    "    \"\"\"\n",
    "    # if weight is specified, apply element-wise weight\n",
    "    if weight is not None:\n",
    "        loss = loss * weight\n",
    "\n",
    "    # if avg_factor is not specified, just reduce the loss\n",
    "    if avg_factor is None:\n",
    "        loss = reduce_loss(loss, reduction)\n",
    "    else:\n",
    "        # if reduction is mean, then average the loss by avg_factor\n",
    "        if reduction == 'mean':\n",
    "            loss = loss.sum() / avg_factor\n",
    "        # if reduction is 'none', then do nothing, otherwise raise an error\n",
    "        elif reduction != 'none':\n",
    "            raise ValueError('avg_factor can not be used with reduction=\"sum\"')\n",
    "    return loss\n",
    "\n",
    "\n",
    "def binary_cross_entropy(pred,\n",
    "                         label,\n",
    "                         weight=None,\n",
    "                         reduction='mean',\n",
    "                         avg_factor=None):\n",
    "\n",
    "    # weighted element-wise losses\n",
    "    if weight is not None:\n",
    "        weight = weight.float()\n",
    "\n",
    "    loss = F.binary_cross_entropy_with_logits(\n",
    "        pred, label.float(), weight, reduction='none')\n",
    "    loss = weight_reduce_loss(loss, reduction=reduction, avg_factor=avg_factor)\n",
    "\n",
    "    return loss"
   ]
  },
  {
   "cell_type": "code",
   "execution_count": 15,
   "metadata": {},
   "outputs": [],
   "source": [
    "def get_label_weights_bce(df, classes=LABEL_LIST):\n",
    "    weights = torch.empty((len(classes),))\n",
    "\n",
    "    nb_samples = len(df)\n",
    "\n",
    "    for idx, c in enumerate(classes):\n",
    "        nb_zeros = len(df[df[c] == 0])\n",
    "        nb_ones = nb_samples - nb_zeros\n",
    "        weights[idx] = nb_zeros / nb_ones\n",
    "\n",
    "    return weights\n",
    "\n",
    "def get_label_inv_freq(df, classes=LABEL_LIST):\n",
    "    weights = torch.empty((len(classes),))\n",
    "    nb_samples = len(df)\n",
    "\n",
    "    for idx, c in enumerate(classes):\n",
    "        nb_zeros = len(df[df[c] == 0])\n",
    "        weights[idx] = (nb_zeros / nb_samples)\n",
    "\n",
    "    return weights\n",
    "\n",
    "def get_nb_samples_lab(df, classes=LABEL_LIST):\n",
    "    nb_ones_tot, nb_zeros_tot = [], []\n",
    "    nb_tot = len(df)\n",
    "\n",
    "    for c in classes:\n",
    "        nb_zeros = len(df[df[c] == 0])\n",
    "        nb_ones = nb_tot - nb_zeros\n",
    "\n",
    "        nb_ones_tot.append(nb_ones)\n",
    "        nb_zeros_tot.append(nb_zeros)\n",
    "\n",
    "    return torch.tensor(nb_ones_tot), torch.tensor(nb_zeros_tot)"
   ]
  },
  {
   "cell_type": "markdown",
   "metadata": {},
   "source": [
    "### Instancier les différents objets"
   ]
  },
  {
   "cell_type": "code",
   "execution_count": 16,
   "metadata": {},
   "outputs": [
    {
     "name": "stderr",
     "output_type": "stream",
     "text": [
      "2022-03-29 19:59:09.803 | INFO     | __main__:<cell line: 19>:19 - BCEWithLogitsLoss()\n",
      "2022-03-29 19:59:09.808 | INFO     | __main__:<cell line: 21>:21 - AdamW (\n",
      "Parameter Group 0\n",
      "    amsgrad: False\n",
      "    betas: (0.9, 0.999)\n",
      "    eps: 1e-08\n",
      "    lr: 0.0001\n",
      "    maximize: False\n",
      "    weight_decay: 0.01\n",
      ")\n"
     ]
    },
    {
     "data": {
      "text/plain": [
       "BCEWithLogitsLoss()"
      ]
     },
     "execution_count": 16,
     "metadata": {},
     "output_type": "execute_result"
    }
   ],
   "source": [
    "train_dataset = JigsawDataset(train_df, tokenizer)\n",
    "train_dataloader = DataLoader(train_dataset,\n",
    "                             batch_size=BATCH_SIZE,\n",
    "                             shuffle=True,\n",
    "                             num_workers=NUM_WORKERS,\n",
    "                             prefetch_factor=PREFETCH_FACTOR,\n",
    "                             pin_memory=PIN_MEMORY)\n",
    "\n",
    "validation_dataset = JigsawDataset(validation_df, tokenizer)\n",
    "validation_dataloader = DataLoader(validation_dataset,\n",
    "                             batch_size=BATCH_SIZE,\n",
    "                             shuffle=True,\n",
    "                             num_workers=NUM_WORKERS,\n",
    "                             prefetch_factor=PREFETCH_FACTOR,\n",
    "                             pin_memory=PIN_MEMORY)\n",
    "\n",
    "# Pas besoin de Sigmoid en sorti du model seulement pour `BCEWithLogitsLoss`\n",
    "criterion = torch.nn.BCEWithLogitsLoss()\n",
    "logger.info(criterion)\n",
    "optimizer = torch.optim.AdamW(model.parameters(), lr=LR)\n",
    "logger.info(optimizer)\n",
    "\n",
    "model.to(device)\n",
    "criterion.to(device)"
   ]
  },
  {
   "cell_type": "markdown",
   "metadata": {},
   "source": [
    "## Metric"
   ]
  },
  {
   "cell_type": "markdown",
   "metadata": {},
   "source": [
    "### Variantes de Hamming Loss"
   ]
  },
  {
   "cell_type": "code",
   "execution_count": 17,
   "metadata": {},
   "outputs": [],
   "source": [
    "class HammingLossWithoutThreshold(Metric):\n",
    "    def __init__(self, num_classes=1, dist_sync_on_step=False):\n",
    "        super().__init__(dist_sync_on_step=dist_sync_on_step)\n",
    "        self.num_classes = num_classes\n",
    "\n",
    "        self.add_state(\"total\", default=torch.tensor(0, dtype=torch.float32), dist_reduce_fx=\"sum\")\n",
    "        self.add_state(\"nbr_sample\", default=torch.tensor(0), dist_reduce_fx=\"sum\")\n",
    "\n",
    "    def update(self, preds: torch.Tensor, target: torch.Tensor):\n",
    "        current_nbr_sample, current_nbr_category = preds.shape\n",
    "        if current_nbr_category != self.num_classes:\n",
    "          raise AttributeError(\"`num_classes` != `current_nbr_category` detected in `pred` parameter\")\n",
    "        \n",
    "        current_loss_per_pred = torch.absolute(target - preds)\n",
    "        current_hamming_loss = current_loss_per_pred.sum()\n",
    "\n",
    "        self.total += current_hamming_loss.float()\n",
    "        self.nbr_sample += current_nbr_sample\n",
    "\n",
    "    def compute(self):\n",
    "        return self.total/(self.num_classes*self.nbr_sample)"
   ]
  },
  {
   "cell_type": "code",
   "execution_count": 18,
   "metadata": {},
   "outputs": [],
   "source": [
    "class RebalancedHammingLossWithoutThreshold(Metric):\n",
    "    def __init__(self, num_classes=1, average=\"macro\", dist_sync_on_step=False):\n",
    "        super().__init__(dist_sync_on_step=dist_sync_on_step)\n",
    "        self.num_classes = num_classes\n",
    "\n",
    "        # average = \"macro\" or None\n",
    "        self.average = average\n",
    "\n",
    "        # Nombre de positif 1 & negatif 0 par categorie\n",
    "        self.add_state(\n",
    "            \"number_positive\",\n",
    "            default=torch.tensor([0 for _ in range(num_classes)]),\n",
    "            dist_reduce_fx=\"sum\",\n",
    "        )\n",
    "        self.add_state(\n",
    "            \"number_negative\",\n",
    "            default=torch.tensor([0 for _ in range(num_classes)]),\n",
    "            dist_reduce_fx=\"sum\",\n",
    "        )\n",
    "\n",
    "        self.add_state(\n",
    "            \"hamming_loss_positive\",\n",
    "            default=torch.tensor([0.0 for _ in range(num_classes)]),\n",
    "            dist_reduce_fx=\"sum\",\n",
    "        )\n",
    "        self.add_state(\n",
    "            \"hamming_loss_negative\",\n",
    "            default=torch.tensor([0.0 for _ in range(num_classes)]),\n",
    "            dist_reduce_fx=\"sum\",\n",
    "        )\n",
    "\n",
    "        self.add_state(\"nbr_sample\", default=torch.tensor(0), dist_reduce_fx=\"sum\")\n",
    "\n",
    "    def update(self, preds: torch.Tensor, target: torch.Tensor):\n",
    "        current_nbr_sample, current_nbr_category = preds.shape\n",
    "        if current_nbr_category != self.num_classes:\n",
    "            raise AttributeError(\n",
    "                \"`num_classes` != `current_nbr_category` detected in `pred` parameter\"\n",
    "            )\n",
    "\n",
    "        # Nombre de positif 1 & negatif 0 par categorie\n",
    "        current_number_positive = target.sum(axis=0)\n",
    "        current_number_negative = current_nbr_sample - target.sum(axis=0)\n",
    "\n",
    "        self.number_positive += current_number_positive.int()\n",
    "        self.number_negative += current_number_negative.int()\n",
    "\n",
    "        self.nbr_sample += current_nbr_sample\n",
    "\n",
    "        for class_id in range(self.num_classes):\n",
    "            positive_filter = target[:, class_id] == 1\n",
    "            negative_filter = target[:, class_id] == 0\n",
    "\n",
    "            target_vector = target[:, class_id]\n",
    "            preds_vector = preds[:, class_id]\n",
    "\n",
    "            # Filtered vector\n",
    "            ## Target\n",
    "            pos_filtered_target_vector = target_vector[positive_filter]\n",
    "            neg_filtered_target_vector = target_vector[negative_filter]\n",
    "            ## Preds\n",
    "            pos_filtered_preds_vector = preds_vector[positive_filter]\n",
    "            neg_filtered_preds_vector = preds_vector[negative_filter]\n",
    "\n",
    "            # Hamming Loss without Threshold\n",
    "            hamming_loss_on_positive = torch.absolute(\n",
    "                pos_filtered_target_vector - pos_filtered_preds_vector\n",
    "            )\n",
    "            hamming_loss_on_negative = torch.absolute(\n",
    "                neg_filtered_target_vector - neg_filtered_preds_vector\n",
    "            )\n",
    "\n",
    "            self.hamming_loss_positive[class_id] += hamming_loss_on_positive.sum()\n",
    "            self.hamming_loss_negative[class_id] += hamming_loss_on_negative.sum()\n",
    "\n",
    "    def compute(self):\n",
    "        factor_pos = self.nbr_sample / (2 * self.number_positive)\n",
    "        factor_neg = self.nbr_sample / (2 * self.number_negative)\n",
    "\n",
    "        rebalanced_hamming_loss_per_class = torch.multiply(\n",
    "            self.hamming_loss_positive, factor_pos\n",
    "        ) + torch.multiply(self.hamming_loss_negative, factor_neg)\n",
    "        if self.average == \"macro\":\n",
    "            return rebalanced_hamming_loss_per_class.sum() / (\n",
    "                self.nbr_sample * self.num_classes\n",
    "            )\n",
    "        return rebalanced_hamming_loss_per_class / (self.nbr_sample)\n"
   ]
  },
  {
   "cell_type": "markdown",
   "metadata": {},
   "source": [
    "### Instanciation des metrics"
   ]
  },
  {
   "cell_type": "code",
   "execution_count": 19,
   "metadata": {},
   "outputs": [],
   "source": [
    "num_classes = len(LABEL_LIST)\n",
    "train_metric_dict = dict()\n",
    "\n",
    "# AUROC Macro\n",
    "auroc_macro = AUROC(num_classes=num_classes, compute_on_step=True, average=\"macro\")\n",
    "train_metric_dict[\"auroc_macro\"] = auroc_macro\n",
    "\n",
    "# AUROC per class\n",
    "auroc_per_class = AUROC(num_classes=num_classes, compute_on_step=True, average=None)\n",
    "train_metric_dict[\"auroc_per_class\"] = auroc_per_class\n",
    "\n",
    "# F1 score global\n",
    "f1 = F1Score()\n",
    "train_metric_dict[\"f1\"] = f1\n",
    "\n",
    "# F1 score per class\n",
    "f1_per_calss = F1Score(num_classes=6, average=None)\n",
    "train_metric_dict[\"f1_per_calss\"] = f1_per_calss\n",
    "\n",
    "# Hamming Distance without Threshold\n",
    "hamming_loss_woutt = HammingLossWithoutThreshold(num_classes=num_classes)\n",
    "train_metric_dict[\"hamming_loss_without_threshold\"] = hamming_loss_woutt\n",
    "\n",
    "# Rebalanced Hamming Distance without Threshold macro\n",
    "rebalanced_hamming_loss_woutt_macro = RebalancedHammingLossWithoutThreshold(\n",
    "    num_classes=num_classes, average=\"macro\"\n",
    ")\n",
    "train_metric_dict[\n",
    "    \"rebalanced_hamming_loss_without_threshold_macro\"\n",
    "] = rebalanced_hamming_loss_woutt_macro\n",
    "\n",
    "# Rebalanced Hamming Distance without Threshold macro\n",
    "rebalanced_hamming_loss_woutt_per_class = RebalancedHammingLossWithoutThreshold(\n",
    "    num_classes=num_classes, average=None\n",
    ")\n",
    "train_metric_dict[\n",
    "    \"rebalanced_hamming_loss_without_threshold_per_class\"\n",
    "] = rebalanced_hamming_loss_woutt_per_class"
   ]
  },
  {
   "cell_type": "code",
   "execution_count": 20,
   "metadata": {},
   "outputs": [
    {
     "data": {
      "text/plain": [
       "MetricCollection(\n",
       "  (auroc_macro): AUROC()\n",
       "  (auroc_per_class): AUROC()\n",
       "  (f1): F1Score()\n",
       "  (f1_per_calss): F1Score()\n",
       "  (hamming_loss_without_threshold): HammingLossWithoutThreshold()\n",
       "  (rebalanced_hamming_loss_without_threshold_macro): RebalancedHammingLossWithoutThreshold()\n",
       "  (rebalanced_hamming_loss_without_threshold_per_class): RebalancedHammingLossWithoutThreshold()\n",
       ")"
      ]
     },
     "execution_count": 20,
     "metadata": {},
     "output_type": "execute_result"
    }
   ],
   "source": [
    "train_metric = MetricCollection(train_metric_dict)\n",
    "train_metric.to(device)\n",
    "\n",
    "validation_metric = train_metric.clone()\n",
    "validation_metric.to(device)"
   ]
  },
  {
   "cell_type": "markdown",
   "metadata": {},
   "source": [
    "### Export metrics"
   ]
  },
  {
   "cell_type": "code",
   "execution_count": 21,
   "metadata": {},
   "outputs": [],
   "source": [
    "def serialize(object_to_serialize: Any, ensure_ascii: bool = True) -> str:\n",
    "    \"\"\"\n",
    "    Serialize any object, i.e. convert an object to JSON\n",
    "    Args:\n",
    "        object_to_serialize (Any): The object to serialize\n",
    "        ensure_ascii (bool, optional): If ensure_ascii is true (the default), the output is guaranteed to have all incoming non-ASCII characters escaped. If ensure_ascii is false, these characters will be output as-is. Defaults to True.\n",
    "    Returns:\n",
    "            str: string of serialized object (JSON)\n",
    "    \"\"\"\n",
    "\n",
    "    def dumper(obj: Any) -> Union[str, Dict]:\n",
    "        \"\"\"\n",
    "        Function called recursively by json.dumps to know how to serialize an object.\n",
    "        For example, for datetime, we try to convert it to ISO format rather than\n",
    "        retrieve the list of attributes defined in its object.\n",
    "        Args:\n",
    "            obj (Any): The object to serialize\n",
    "        Returns:\n",
    "            Union[str, Dict]: Serialized object\n",
    "        \"\"\"\n",
    "        if isinstance(obj, torch.Tensor):\n",
    "            return obj.cpu().numpy().tolist()\n",
    "        elif hasattr(obj, \"__dict__\"):\n",
    "            return obj.__dict__\n",
    "        return str(obj)\n",
    "\n",
    "    return json.dumps(object_to_serialize, default=dumper, ensure_ascii=ensure_ascii)"
   ]
  },
  {
   "cell_type": "code",
   "execution_count": 22,
   "metadata": {},
   "outputs": [],
   "source": [
    "def export_metric(metric_collection, **kwargs):\n",
    "    \"\"\"\n",
    "    Export MetricCollection to json file\n",
    "\n",
    "    Args:\n",
    "        metric_collection: MetricCollection\n",
    "        **kwargs: field to add in json line\n",
    "    \"\"\"\n",
    "    with open(METRIC_FILE_PATH, \"a\") as f:\n",
    "        metric_collection_value = metric_collection.compute()\n",
    "        metric_collection_value.update(kwargs)\n",
    "        serialized_value = serialize(metric_collection_value)\n",
    "        f.write(serialized_value)\n",
    "        f.write(\"\\n\")\n",
    "    logger.success(\"Metrics are exported !\")"
   ]
  },
  {
   "cell_type": "markdown",
   "metadata": {},
   "source": [
    "## Entraînement"
   ]
  },
  {
   "cell_type": "code",
   "execution_count": 23,
   "metadata": {},
   "outputs": [],
   "source": [
    "def train_epoch(epoch_id=None):\n",
    "    model.train()\n",
    "    logger.info(f\"START EPOCH {epoch_id=}\")\n",
    "\n",
    "    progress = tqdm(train_dataloader, desc='training batch...', leave=False)\n",
    "    for batch_id, batch in enumerate(progress):\n",
    "        if batch_id % 1_000 == 0:\n",
    "            valid_epoch(epoch_id=epoch, batch_id=batch_id)\n",
    "        \n",
    "        logger.trace(f\"{batch_id=}\")\n",
    "        token_list_batch = batch[\"ids\"].to(device)\n",
    "        attention_mask_batch = batch[\"mask\"].to(device)\n",
    "        label_batch = batch[\"labels\"].to(device)\n",
    "\n",
    "        # Reset gradient\n",
    "        optimizer.zero_grad()\n",
    "\n",
    "        # Predict\n",
    "        prediction_batch = model(token_list_batch, attention_mask_batch)\n",
    "        transformed_prediction_batch = prediction_batch.squeeze()\n",
    "\n",
    "        # Loss\n",
    "        loss = criterion(transformed_prediction_batch.to(torch.float32), label_batch.to(torch.float32))\n",
    "\n",
    "        # Metrics\n",
    "        proba_prediction_batch = torch.sigmoid(transformed_prediction_batch)\n",
    "        train_metrics_collection_dict = train_metric(proba_prediction_batch.to(torch.float32), label_batch.to(torch.int32))\n",
    "        logger.trace(train_metrics_collection_dict)\n",
    "\n",
    "        # Backprop        \n",
    "        loss.backward()\n",
    "        # gradient clip\n",
    "        torch.nn.utils.clip_grad_norm_(model.parameters(), 1.0)\n",
    "        optimizer.step()\n",
    "\n",
    "        # Update progress bar description\n",
    "        progress_description = \"Train Loss : {loss:.4f} - Train AUROC : {acc:.4f}\"\n",
    "        auroc_macro_value = float(train_metrics_collection_dict[\"auroc_macro\"])\n",
    "        progress_description = progress_description.format(loss=loss.item(), acc=auroc_macro_value)\n",
    "        progress.set_description(progress_description)\n",
    "\n",
    "    logger.info(f\"END EPOCH {epoch_id=}\")"
   ]
  },
  {
   "cell_type": "code",
   "execution_count": 24,
   "metadata": {},
   "outputs": [],
   "source": [
    "@torch.no_grad()\n",
    "def valid_epoch(epoch_id=None, batch_id=None):\n",
    "    model.eval()\n",
    "    logger.info(f\"START VALIDATION {epoch_id=}{batch_id=}\")\n",
    "    validation_metric.reset()\n",
    "\n",
    "    loss_list = []\n",
    "    prediction_list = torch.Tensor([])\n",
    "    target_list = torch.Tensor([])\n",
    "\n",
    "\n",
    "    progress = tqdm(validation_dataloader, desc=\"valid batch...\", leave=False)\n",
    "    for _, batch in enumerate(progress):\n",
    "        \n",
    "        token_list_batch = batch[\"ids\"].to(device)\n",
    "        attention_mask_batch = batch[\"mask\"].to(device)\n",
    "        label_batch = batch[\"labels\"].to(device)\n",
    "\n",
    "        # Predict\n",
    "        prediction_batch = model(token_list_batch, attention_mask_batch)\n",
    "\n",
    "        transformed_prediction_batch = prediction_batch.squeeze()\n",
    "\n",
    "        # Loss\n",
    "        loss = criterion(\n",
    "            transformed_prediction_batch.to(torch.float32),\n",
    "            label_batch.to(torch.float32),\n",
    "        )\n",
    "\n",
    "        loss_list.append(loss.item())\n",
    "\n",
    "        proba_prediction_batch = torch.sigmoid(transformed_prediction_batch)\n",
    "        prediction_list = torch.concat(\n",
    "            [prediction_list, proba_prediction_batch.cpu()]\n",
    "        )\n",
    "        target_list = torch.concat([target_list, label_batch.cpu()])\n",
    "\n",
    "        # Metrics\n",
    "        validation_metric(proba_prediction_batch.to(torch.float32), label_batch.to(torch.int32))\n",
    "\n",
    "    loss_mean = np.mean(loss_list)\n",
    "    logger.trace(validation_metric.compute())\n",
    "    logger.info(f\"END VALIDATION {epoch_id=}{batch_id=}\")\n",
    "    export_metric(validation_metric, epoch_id=epoch_id, batch_id=batch_id, loss=loss_mean)"
   ]
  },
  {
   "cell_type": "code",
   "execution_count": 25,
   "metadata": {},
   "outputs": [
    {
     "data": {
      "application/vnd.jupyter.widget-view+json": {
       "model_id": "cc5d84cad7114c6eb76b387eb25b98eb",
       "version_major": 2,
       "version_minor": 0
      },
      "text/plain": [
       "training epoch...:   0%|          | 0/1 [00:00<?, ?it/s]"
      ]
     },
     "metadata": {},
     "output_type": "display_data"
    },
    {
     "name": "stderr",
     "output_type": "stream",
     "text": [
      "2022-03-29 19:59:14.424 | INFO     | __main__:train_epoch:3 - START EPOCH epoch_id=1\n"
     ]
    },
    {
     "data": {
      "application/vnd.jupyter.widget-view+json": {
       "model_id": "638fa8cd6cfa42bf8eb957869751a19b",
       "version_major": 2,
       "version_minor": 0
      },
      "text/plain": [
       "training batch...:   0%|          | 0/625 [00:00<?, ?it/s]"
      ]
     },
     "metadata": {},
     "output_type": "display_data"
    },
    {
     "name": "stderr",
     "output_type": "stream",
     "text": [
      "2022-03-29 19:59:14.509 | INFO     | __main__:valid_epoch:4 - START VALIDATION epoch_id=1batch_id=0\n"
     ]
    },
    {
     "data": {
      "application/vnd.jupyter.widget-view+json": {
       "model_id": "3a74800276294051b435744364ab577b",
       "version_major": 2,
       "version_minor": 0
      },
      "text/plain": [
       "valid batch...:   0%|          | 0/313 [00:00<?, ?it/s]"
      ]
     },
     "metadata": {},
     "output_type": "display_data"
    },
    {
     "name": "stderr",
     "output_type": "stream",
     "text": [
      "2022-03-29 20:00:07.552 | INFO     | __main__:valid_epoch:43 - END VALIDATION epoch_id=1batch_id=0\n",
      "2022-03-29 20:00:07.554 | SUCCESS  | __main__:export_metric:15 - Metrics are exported !\n",
      "2022-03-29 20:02:01.457 | INFO     | __main__:train_epoch:42 - END EPOCH epoch_id=1\n",
      "2022-03-29 20:02:01.459 | INFO     | __main__:valid_epoch:4 - START VALIDATION epoch_id=1batch_id=None\n"
     ]
    },
    {
     "data": {
      "application/vnd.jupyter.widget-view+json": {
       "model_id": "9d642817ba2a4134a877fb3cc2e74444",
       "version_major": 2,
       "version_minor": 0
      },
      "text/plain": [
       "valid batch...:   0%|          | 0/313 [00:00<?, ?it/s]"
      ]
     },
     "metadata": {},
     "output_type": "display_data"
    },
    {
     "name": "stderr",
     "output_type": "stream",
     "text": [
      "2022-03-29 20:02:54.944 | INFO     | __main__:valid_epoch:43 - END VALIDATION epoch_id=1batch_id=None\n",
      "2022-03-29 20:02:54.945 | SUCCESS  | __main__:export_metric:15 - Metrics are exported !\n"
     ]
    }
   ],
   "source": [
    "torch.cuda.empty_cache()\n",
    "progress =  tqdm(range(1,NUM_EPOCHS+1), desc='training epoch...', leave=True)\n",
    "for epoch in progress:\n",
    "    # Train\n",
    "    train_epoch(epoch_id=epoch)\n",
    "\n",
    "    # Validation\n",
    "    valid_epoch(epoch_id=epoch)\n",
    "\n",
    "    # Save\n",
    "    torch.save(model, MODEL_FILE_PATH)"
   ]
  },
  {
   "cell_type": "markdown",
   "metadata": {},
   "source": [
    "## Evaluation"
   ]
  },
  {
   "cell_type": "code",
   "execution_count": 26,
   "metadata": {},
   "outputs": [],
   "source": [
    "try:\n",
    "    del train_df\n",
    "    del validation_df\n",
    "except NameError:\n",
    "    logger.warning(\"Train DataFrame & Validation DataFrame already deleted\")"
   ]
  },
  {
   "cell_type": "code",
   "execution_count": 27,
   "metadata": {},
   "outputs": [],
   "source": [
    "test_df = pd.read_csv(TEST_DATASET_PATH, index_col=0)"
   ]
  },
  {
   "cell_type": "code",
   "execution_count": 28,
   "metadata": {},
   "outputs": [],
   "source": [
    "test_df = test_df[~test_df.white.isna()]"
   ]
  },
  {
   "cell_type": "code",
   "execution_count": 29,
   "metadata": {},
   "outputs": [],
   "source": [
    "test_dataset = JigsawDataset(test_df, tokenizer)\n",
    "test_dataloader = DataLoader(test_dataset,\n",
    "                             batch_size=BATCH_SIZE,\n",
    "                             shuffle=False)"
   ]
  },
  {
   "cell_type": "code",
   "execution_count": 30,
   "metadata": {},
   "outputs": [],
   "source": [
    "@torch.no_grad()\n",
    "def evaluation(model):\n",
    "    model.eval()\n",
    "    logger.info(f\"START EVALUATION\")\n",
    "\n",
    "    index_tensor = torch.Tensor([])\n",
    "    prediction_tensor = torch.Tensor([])\n",
    "\n",
    "    progress = tqdm(test_dataloader, desc='test batch...', leave=False)\n",
    "    for batch_id, batch in enumerate(progress):\n",
    "        logger.trace(f\"{batch_id=}\")\n",
    "        index_batch = batch[\"index\"].to(device)\n",
    "        token_list_batch = batch[\"ids\"].to(device)\n",
    "        attention_mask_batch = batch[\"mask\"].to(device)\n",
    "        label_batch = batch[\"labels\"].to(device)\n",
    "\n",
    "        # Predict\n",
    "        prediction_batch = model(token_list_batch, attention_mask_batch)\n",
    "        transformed_prediction_batch = prediction_batch.squeeze()\n",
    "        proba_prediction_batch = torch.sigmoid(transformed_prediction_batch)\n",
    "        \n",
    "        index_tensor = torch.concat([index_tensor, index_batch.cpu()])\n",
    "        prediction_tensor = torch.concat([prediction_tensor, proba_prediction_batch.cpu()])\n",
    "    \n",
    "    logger.info(f\"END EVALUATION\")\n",
    "    prediction_test_df = pd.DataFrame(prediction_tensor.tolist(), \n",
    "                                     columns=LABEL_LIST,\n",
    "                                     index=index_tensor.to(int).tolist())\n",
    "    prediction_test_df.to_csv(TEST_FILE_PATH)\n",
    "    logger.success(f\"Test predictions exported !\")"
   ]
  },
  {
   "cell_type": "code",
   "execution_count": 31,
   "metadata": {},
   "outputs": [
    {
     "name": "stderr",
     "output_type": "stream",
     "text": [
      "2022-03-29 20:02:58.360 | INFO     | __main__:evaluation:4 - START EVALUATION\n"
     ]
    },
    {
     "data": {
      "application/vnd.jupyter.widget-view+json": {
       "model_id": "67ade1803d454e19a95e05069bf9bccb",
       "version_major": 2,
       "version_minor": 0
      },
      "text/plain": [
       "test batch...:   0%|          | 0/1339 [00:00<?, ?it/s]"
      ]
     },
     "metadata": {},
     "output_type": "display_data"
    },
    {
     "name": "stderr",
     "output_type": "stream",
     "text": [
      "2022-03-29 20:06:23.781 | INFO     | __main__:evaluation:25 - END EVALUATION\n",
      "2022-03-29 20:06:24.204 | SUCCESS  | __main__:evaluation:30 - Test predictions exported !\n"
     ]
    }
   ],
   "source": [
    "evaluation(model)"
   ]
  },
  {
   "cell_type": "markdown",
   "metadata": {},
   "source": [
    "## Exporter les prédictions de la dataset de validation"
   ]
  },
  {
   "cell_type": "code",
   "execution_count": 32,
   "metadata": {},
   "outputs": [
    {
     "name": "stderr",
     "output_type": "stream",
     "text": [
      "2022-03-29 20:06:24.381 | INFO     | __main__:export_validation:4 - START GET PREDICTION ON VALIDATION DATASET\n"
     ]
    },
    {
     "data": {
      "application/vnd.jupyter.widget-view+json": {
       "model_id": "635c7726036843d1805018b550955d00",
       "version_major": 2,
       "version_minor": 0
      },
      "text/plain": [
       "valid batch...:   0%|          | 0/313 [00:00<?, ?it/s]"
      ]
     },
     "metadata": {},
     "output_type": "display_data"
    },
    {
     "name": "stderr",
     "output_type": "stream",
     "text": [
      "2022-03-29 20:07:11.957 | INFO     | __main__:export_validation:27 - END GET PREDICTION ON VALIDATION DATASET\n",
      "2022-03-29 20:07:12.090 | SUCCESS  | __main__:export_validation:36 - Validation predictions exported !\n"
     ]
    }
   ],
   "source": [
    "@torch.no_grad()\n",
    "def export_validation(model):\n",
    "    model.eval()\n",
    "    logger.info(f\"START GET PREDICTION ON VALIDATION DATASET\")\n",
    "\n",
    "    index_tensor = torch.Tensor([])\n",
    "    prediction_tensor = torch.Tensor([])\n",
    "    label_tensor = torch.Tensor([])\n",
    "\n",
    "    progress = tqdm(validation_dataloader, desc='valid batch...', leave=False)\n",
    "    for batch_id, batch in enumerate(progress):\n",
    "        logger.trace(f\"{batch_id=}\")\n",
    "        index_batch = batch[\"index\"].to(device)\n",
    "        token_list_batch = batch[\"ids\"].to(device)\n",
    "        attention_mask_batch = batch[\"mask\"].to(device)\n",
    "        label_batch = batch[\"labels\"].to(device)\n",
    "\n",
    "        # Predict\n",
    "        prediction_batch = model(token_list_batch, attention_mask_batch)\n",
    "        transformed_prediction_batch = prediction_batch.squeeze()\n",
    "        proba_prediction_batch = torch.sigmoid(transformed_prediction_batch)\n",
    "        \n",
    "        index_tensor = torch.concat([index_tensor, index_batch.cpu()])\n",
    "        prediction_tensor = torch.concat([prediction_tensor, proba_prediction_batch.cpu()])\n",
    "        label_tensor = torch.concat([label_tensor, label_batch.cpu()])\n",
    "    \n",
    "    logger.info(f\"END GET PREDICTION ON VALIDATION DATASET\")\n",
    "    prediction_valid_df = pd.DataFrame(prediction_tensor.tolist(), \n",
    "                                     columns=LABEL_LIST,\n",
    "                                     index=index_tensor.to(int).tolist())\n",
    "    label_valid_df = pd.DataFrame(label_tensor.tolist(), \n",
    "                                     columns=LABEL_LIST,\n",
    "                                     index=index_tensor.to(int).tolist())\n",
    "    prediction_valid_df.to_csv(VALIDATION_FILE_PATH)\n",
    "    label_valid_df.to_csv(VALIDATION_DATASET_FILE_PATH)\n",
    "    logger.success(f\"Validation predictions exported !\")\n",
    "export_validation(model)"
   ]
  }
 ],
 "metadata": {
  "interpreter": {
   "hash": "61bdec511af6d11ab513a76379a59f4e5a5400220f7b851eb051cbea952f89aa"
  },
  "kernelspec": {
   "display_name": "Python 3.8.9 ('venv': venv)",
   "language": "python",
   "name": "python3"
  },
  "language_info": {
   "codemirror_mode": {
    "name": "ipython",
    "version": 3
   },
   "file_extension": ".py",
   "mimetype": "text/x-python",
   "name": "python",
   "nbconvert_exporter": "python",
   "pygments_lexer": "ipython3",
   "version": "3.8.9"
  },
  "orig_nbformat": 4
 },
 "nbformat": 4,
 "nbformat_minor": 2
}
