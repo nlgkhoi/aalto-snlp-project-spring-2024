{
 "cells": [
  {
   "cell_type": "code",
   "execution_count": 4,
   "metadata": {},
   "outputs": [],
   "source": [
    "import pandas as pd\n",
    "import numpy as np\n",
    "import os\n",
    "import torchmetrics as tm\n",
    "import torch\n",
    "from tqdm.auto import tqdm\n",
    "from pathlib import Path\n",
    "import shutil"
   ]
  },
  {
   "cell_type": "code",
   "execution_count": 5,
   "metadata": {},
   "outputs": [],
   "source": [
    "# Dataset\n",
    "DATA_DIR_PATH = os.path.abspath(\"../../data\")\n",
    "SESSION_DIR_PATH = os.path.abspath(\"../../session\")\n",
    "EXPORT_DIR_PATH = os.path.abspath(\"/tmp/export\")\n",
    "\n",
    "os.makedirs(EXPORT_DIR_PATH, exist_ok=True)"
   ]
  },
  {
   "cell_type": "code",
   "execution_count": 6,
   "metadata": {},
   "outputs": [],
   "source": [
    "SELECTED_SESSION_NAME = ['pierre-roberta-bce_2022-04-01T15-53-15-127273',\n",
    "                        'pierre-roberta-pwbce_2022-04-01T00-16-50-635795',\n",
    "                        'pierre-roberta-fl_2022-04-01T20-43-05-082657',\n",
    "                        'pierre-roberta-pwfl_2022-04-01T20-44-35-459744',\n",
    "                        'pierre-albert-pwbce_2022-04-02T08-52-15-316727',\n",
    "                        'pierre-distilbert-pwbce_2022-04-02T08-51-40-340808',\n",
    "                        'pierre-hatebert-pwbce_2022-04-02T14-16-41-524853',\n",
    "                        'pierre-xlmroberta-pwbce_2022-04-02T14-48-21-276717',\n",
    "                        'pierre-xlnet-pwbce_2022-04-02T18-31-29-083854',\n",
    "                        'pierre-bertweet-pwbce_2022-04-03T03-03-05-377047',\n",
    "                        'pierre-unfreezed-glove-resnet44-pwbce_2022-04-03T03-07-30-490184',\n",
    "                        'pierre-freezed-glove-resnet44-pwbce_2022-04-03T10-58-39-295726',\n",
    "                        'pierre-glove-bigru-pwbce_2022-04-03T18-21-04-474521',\n",
    "                        'pierre-glove-bilstm-pwbce_2022-04-03T20-20-15-399610']"
   ]
  },
  {
   "cell_type": "code",
   "execution_count": 7,
   "metadata": {},
   "outputs": [],
   "source": [
    "def session_filter(session_name : str):\n",
    "    #return not session_name.startswith(\"test-\") and not session_name.startswith(\"fix-\")\n",
    "    return session_name in SELECTED_SESSION_NAME"
   ]
  },
  {
   "cell_type": "code",
   "execution_count": 8,
   "metadata": {},
   "outputs": [],
   "source": [
    "session_iter = Path(SESSION_DIR_PATH).iterdir()\n",
    "session_iter = filter(lambda path: path.is_dir(), session_iter)\n",
    "session_iter = map(lambda path: path.name, session_iter)\n",
    "session_iter = filter(session_filter, session_iter)\n",
    "session_list = list(session_iter)"
   ]
  },
  {
   "cell_type": "code",
   "execution_count": 11,
   "metadata": {},
   "outputs": [
    {
     "data": {
      "text/plain": [
       "(14, 14)"
      ]
     },
     "execution_count": 11,
     "metadata": {},
     "output_type": "execute_result"
    }
   ],
   "source": [
    "len(SELECTED_SESSION_NAME), len(session_list)"
   ]
  },
  {
   "cell_type": "code",
   "execution_count": 12,
   "metadata": {},
   "outputs": [],
   "source": [
    "validation_dataset_namespace = lambda session_name: f\"{session_name}.jigsaw2019-validation.csv\"\n",
    "log_namespace = lambda session_name: f\"{session_name}.loguru.log\"\n",
    "metric_namespace = lambda session_name: f\"{session_name}.metric.json\"\n",
    "test_prediction_namespace = lambda session_name: f\"{session_name}.test.csv\"\n",
    "validation_prediction_namespace = lambda session_name: f\"{session_name}.validation.csv\""
   ]
  },
  {
   "cell_type": "code",
   "execution_count": 14,
   "metadata": {},
   "outputs": [
    {
     "data": {
      "application/vnd.jupyter.widget-view+json": {
       "model_id": "2f0e46032713416490a37cc709ce4ae8",
       "version_major": 2,
       "version_minor": 0
      },
      "text/plain": [
       "  0%|          | 0/14 [00:00<?, ?it/s]"
      ]
     },
     "metadata": {},
     "output_type": "display_data"
    },
    {
     "name": "stdout",
     "output_type": "stream",
     "text": [
      "pierre-glove-bigru-pwbce_2022-04-03T18-21-04-474521 is not completed !\n",
      "pierre-hatebert-pwbce_2022-04-02T14-16-41-524853 is not completed !\n",
      "pierre-unfreezed-glove-resnet44-pwbce_2022-04-03T03-07-30-490184 is not completed !\n",
      "pierre-xlnet-pwbce_2022-04-02T18-31-29-083854 is not completed !\n",
      "pierre-albert-pwbce_2022-04-02T08-52-15-316727 is not completed !\n",
      "pierre-roberta-bce_2022-04-01T15-53-15-127273 is not completed !\n",
      "pierre-roberta-pwfl_2022-04-01T20-44-35-459744 is not completed !\n",
      "pierre-distilbert-pwbce_2022-04-02T08-51-40-340808 is not completed !\n",
      "pierre-roberta-fl_2022-04-01T20-43-05-082657 is not completed !\n",
      "pierre-xlmroberta-pwbce_2022-04-02T14-48-21-276717 is not completed !\n",
      "pierre-bertweet-pwbce_2022-04-03T03-03-05-377047 is not completed !\n",
      "pierre-freezed-glove-resnet44-pwbce_2022-04-03T10-58-39-295726 is not completed !\n",
      "pierre-glove-bilstm-pwbce_2022-04-03T20-20-15-399610 is not completed !\n"
     ]
    }
   ],
   "source": [
    "root_path = Path(SESSION_DIR_PATH)\n",
    "for session in tqdm(session_list):\n",
    "    session_path = root_path.joinpath(session)\n",
    "\n",
    "    validation_dataset_path = session_path.joinpath(validation_dataset_namespace(session))\n",
    "    log_path = session_path.joinpath(log_namespace(session))\n",
    "    metric_dataset_path = session_path.joinpath(metric_namespace(session))\n",
    "    test_prediction_dataset_path = session_path.joinpath(test_prediction_namespace(session))\n",
    "    validation_prediction_path = session_path.joinpath(validation_prediction_namespace(session))\n",
    "\n",
    "    #if not validation_prediction_path.exists():\n",
    "    #    print(session, \"is not completed !\")\n",
    "    \n",
    "    #shutil.copy2(validation_dataset_path, EXPORT_DIR_PATH)\n",
    "    shutil.copy2(log_path, EXPORT_DIR_PATH)\n",
    "    shutil.copy2(metric_dataset_path, EXPORT_DIR_PATH)\n",
    "    shutil.copy2(test_prediction_dataset_path, EXPORT_DIR_PATH)\n",
    "    #shutil.copy2(validation_prediction_path, EXPORT_DIR_PATH)\n",
    "    "
   ]
  },
  {
   "cell_type": "code",
   "execution_count": null,
   "metadata": {},
   "outputs": [],
   "source": []
  }
 ],
 "metadata": {
  "interpreter": {
   "hash": "61bdec511af6d11ab513a76379a59f4e5a5400220f7b851eb051cbea952f89aa"
  },
  "kernelspec": {
   "display_name": "Python 3.8.9 ('venv': venv)",
   "language": "python",
   "name": "python3"
  },
  "language_info": {
   "codemirror_mode": {
    "name": "ipython",
    "version": 3
   },
   "file_extension": ".py",
   "mimetype": "text/x-python",
   "name": "python",
   "nbconvert_exporter": "python",
   "pygments_lexer": "ipython3",
   "version": "3.8.9"
  },
  "orig_nbformat": 4
 },
 "nbformat": 4,
 "nbformat_minor": 2
}
