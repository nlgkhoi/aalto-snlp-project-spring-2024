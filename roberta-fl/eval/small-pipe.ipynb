{
 "cells": [
  {
   "cell_type": "code",
   "execution_count": 24,
   "metadata": {},
   "outputs": [],
   "source": [
    "import pandas as pd\n",
    "import numpy as np\n",
    "import os\n",
    "import torchmetrics as tm\n",
    "import torch\n",
    "from tqdm.auto import tqdm"
   ]
  },
  {
   "cell_type": "code",
   "execution_count": 25,
   "metadata": {},
   "outputs": [],
   "source": [
    "# Dataset\n",
    "DATA_DIR_PATH = os.path.abspath(\"../../data\")\n",
    "SESSION_DIR_PATH = os.path.abspath(\"../../session\")\n",
    "TRAIN_DATASET_PATH = os.path.join(DATA_DIR_PATH, \"jigsaw2019-train.csv\")\n",
    "TEST_DATASET_PATH = os.path.join(DATA_DIR_PATH, \"jigsaw2019-test.csv\")\n",
    "LABEL_LIST = ['toxicity', 'obscene', 'sexual_explicit',\n",
    "            'identity_attack', 'insult', 'threat']\n",
    "IDENTITY_LIST = ['male', 'female', 'transgender', 'other_gender', 'heterosexual',\n",
    "                'homosexual_gay_or_lesbian', 'bisexual','other_sexual_orientation',\n",
    "                'christian', 'jewish', 'muslim', 'hindu','buddhist', 'atheist',\n",
    "                'other_religion', 'black', 'white', 'asian', 'latino',\n",
    "                'other_race_or_ethnicity', 'physical_disability',\n",
    "                'intellectual_or_learning_disability',\n",
    "                'psychiatric_or_mental_illness','other_disability']\n",
    "SELECTED_IDENTITY_LIST = ['male', 'female', 'black', 'white', 'homosexual_gay_or_lesbian',\n",
    "                    'christian', 'jewish', 'muslim', 'psychiatric_or_mental_illness']\n"
   ]
  },
  {
   "cell_type": "code",
   "execution_count": 3,
   "metadata": {},
   "outputs": [],
   "source": [
    "SESSION_NAME = \"pierre-roberta-pwbce_2022-04-01T00-16-50-635795\"\n",
    "CURRENT_SESSION_DIR_PATH = os.path.join(SESSION_DIR_PATH, SESSION_NAME)\n",
    "\n",
    "LOG_FILE_NAME = f\"{SESSION_NAME}.loguru.log\"\n",
    "MODEL_FILE_NAME = f\"{SESSION_NAME}.model\"\n",
    "TEST_FILE_NAME = f\"{SESSION_NAME}.test.csv\"\n",
    "VALIDATION_DATASET_NAME = f\"{SESSION_NAME}.jigsaw2019-validation.csv\"\n",
    "VALIDATION_FILE_NAME = f\"{SESSION_NAME}.validation.csv\"\n",
    "METRIC_FILE_NAME = f\"{SESSION_NAME}.metric.json\"\n",
    "LOG_FILE_PATH = os.path.join(CURRENT_SESSION_DIR_PATH, LOG_FILE_NAME)\n",
    "MODEL_FILE_PATH = os.path.join(CURRENT_SESSION_DIR_PATH, MODEL_FILE_NAME)\n",
    "TEST_FILE_PATH = os.path.join(CURRENT_SESSION_DIR_PATH, TEST_FILE_NAME)\n",
    "VALIDATION_DATASET_FILE_PATH = os.path.join(CURRENT_SESSION_DIR_PATH, VALIDATION_DATASET_NAME)\n",
    "VALIDATION_FILE_PATH = os.path.join(CURRENT_SESSION_DIR_PATH, VALIDATION_FILE_NAME)\n",
    "METRIC_FILE_PATH = os.path.join(CURRENT_SESSION_DIR_PATH, METRIC_FILE_NAME)"
   ]
  },
  {
   "cell_type": "markdown",
   "metadata": {},
   "source": [
    "## Calculer le meilleur seuil pour un F1 max "
   ]
  },
  {
   "cell_type": "code",
   "execution_count": 4,
   "metadata": {},
   "outputs": [],
   "source": [
    "target_validation_df = pd.read_csv(VALIDATION_DATASET_FILE_PATH, index_col=0)\n",
    "pred_validation_df = pd.read_csv(VALIDATION_FILE_PATH, index_col=0)"
   ]
  },
  {
   "cell_type": "code",
   "execution_count": 5,
   "metadata": {},
   "outputs": [],
   "source": [
    "pred_tensor = torch.Tensor(pred_validation_df[LABEL_LIST].to_numpy())\n",
    "target_tensor = torch.Tensor(target_validation_df[LABEL_LIST].to_numpy()).to(int)"
   ]
  },
  {
   "cell_type": "code",
   "execution_count": 6,
   "metadata": {},
   "outputs": [
    {
     "data": {
      "application/vnd.jupyter.widget-view+json": {
       "model_id": "468a2914f3574008aab34993eb8c59e3",
       "version_major": 2,
       "version_minor": 0
      },
      "text/plain": [
       "  0%|          | 0/1000 [00:00<?, ?it/s]"
      ]
     },
     "metadata": {},
     "output_type": "display_data"
    },
    {
     "name": "stdout",
     "output_type": "stream",
     "text": [
      "best_thresholds=0.9590000000000001 \n",
      "float(best_f1)=0.6591809988021851\n"
     ]
    }
   ],
   "source": [
    "thresholds = np.arange(0, 1, 0.001)\n",
    "scores = [tm.F1Score(threshold=t)(pred_tensor, target_tensor) for t in tqdm(thresholds)]\n",
    "# get best threshold\n",
    "ix = np.argmax(scores)\n",
    "best_thresholds = thresholds[ix]\n",
    "best_f1 = scores[ix]\n",
    "print(f\"{best_thresholds=}\", f\"\\n{float(best_f1)=}\")"
   ]
  },
  {
   "cell_type": "markdown",
   "metadata": {},
   "source": [
    "## Performance sur le jeu de TEST"
   ]
  },
  {
   "cell_type": "code",
   "execution_count": 27,
   "metadata": {},
   "outputs": [
    {
     "data": {
      "text/html": [
       "<div>\n",
       "<style scoped>\n",
       "    .dataframe tbody tr th:only-of-type {\n",
       "        vertical-align: middle;\n",
       "    }\n",
       "\n",
       "    .dataframe tbody tr th {\n",
       "        vertical-align: top;\n",
       "    }\n",
       "\n",
       "    .dataframe thead th {\n",
       "        text-align: right;\n",
       "    }\n",
       "</style>\n",
       "<table border=\"1\" class=\"dataframe\">\n",
       "  <thead>\n",
       "    <tr style=\"text-align: right;\">\n",
       "      <th></th>\n",
       "      <th>toxicity</th>\n",
       "      <th>obscene</th>\n",
       "      <th>sexual_explicit</th>\n",
       "      <th>identity_attack</th>\n",
       "      <th>insult</th>\n",
       "      <th>threat</th>\n",
       "    </tr>\n",
       "  </thead>\n",
       "  <tbody>\n",
       "    <tr>\n",
       "      <th>0</th>\n",
       "      <td>0.997036</td>\n",
       "      <td>0.974258</td>\n",
       "      <td>0.874258</td>\n",
       "      <td>0.000620</td>\n",
       "      <td>0.988196</td>\n",
       "      <td>0.026945</td>\n",
       "    </tr>\n",
       "    <tr>\n",
       "      <th>1</th>\n",
       "      <td>0.990918</td>\n",
       "      <td>0.000867</td>\n",
       "      <td>0.000023</td>\n",
       "      <td>0.000243</td>\n",
       "      <td>0.991644</td>\n",
       "      <td>0.000082</td>\n",
       "    </tr>\n",
       "    <tr>\n",
       "      <th>2</th>\n",
       "      <td>0.996491</td>\n",
       "      <td>0.005192</td>\n",
       "      <td>0.000284</td>\n",
       "      <td>0.000203</td>\n",
       "      <td>0.994888</td>\n",
       "      <td>0.306850</td>\n",
       "    </tr>\n",
       "    <tr>\n",
       "      <th>3</th>\n",
       "      <td>0.000367</td>\n",
       "      <td>0.000038</td>\n",
       "      <td>0.000020</td>\n",
       "      <td>0.000051</td>\n",
       "      <td>0.000420</td>\n",
       "      <td>0.000023</td>\n",
       "    </tr>\n",
       "    <tr>\n",
       "      <th>4</th>\n",
       "      <td>0.007049</td>\n",
       "      <td>0.020725</td>\n",
       "      <td>0.010351</td>\n",
       "      <td>0.000224</td>\n",
       "      <td>0.003474</td>\n",
       "      <td>0.000500</td>\n",
       "    </tr>\n",
       "    <tr>\n",
       "      <th>...</th>\n",
       "      <td>...</td>\n",
       "      <td>...</td>\n",
       "      <td>...</td>\n",
       "      <td>...</td>\n",
       "      <td>...</td>\n",
       "      <td>...</td>\n",
       "    </tr>\n",
       "    <tr>\n",
       "      <th>194287</th>\n",
       "      <td>0.855642</td>\n",
       "      <td>0.004413</td>\n",
       "      <td>0.001169</td>\n",
       "      <td>0.004930</td>\n",
       "      <td>0.836272</td>\n",
       "      <td>0.050501</td>\n",
       "    </tr>\n",
       "    <tr>\n",
       "      <th>194288</th>\n",
       "      <td>0.946454</td>\n",
       "      <td>0.001487</td>\n",
       "      <td>0.000315</td>\n",
       "      <td>0.007047</td>\n",
       "      <td>0.101563</td>\n",
       "      <td>0.998236</td>\n",
       "    </tr>\n",
       "    <tr>\n",
       "      <th>194289</th>\n",
       "      <td>0.598870</td>\n",
       "      <td>0.000177</td>\n",
       "      <td>0.000381</td>\n",
       "      <td>0.990277</td>\n",
       "      <td>0.022358</td>\n",
       "      <td>0.000302</td>\n",
       "    </tr>\n",
       "    <tr>\n",
       "      <th>194290</th>\n",
       "      <td>0.998044</td>\n",
       "      <td>0.001010</td>\n",
       "      <td>0.845941</td>\n",
       "      <td>0.997775</td>\n",
       "      <td>0.916981</td>\n",
       "      <td>0.000566</td>\n",
       "    </tr>\n",
       "    <tr>\n",
       "      <th>194291</th>\n",
       "      <td>0.964683</td>\n",
       "      <td>0.002904</td>\n",
       "      <td>0.000025</td>\n",
       "      <td>0.000301</td>\n",
       "      <td>0.981879</td>\n",
       "      <td>0.000125</td>\n",
       "    </tr>\n",
       "  </tbody>\n",
       "</table>\n",
       "<p>194292 rows × 6 columns</p>\n",
       "</div>"
      ],
      "text/plain": [
       "        toxicity   obscene  sexual_explicit  identity_attack    insult  \\\n",
       "0       0.997036  0.974258         0.874258         0.000620  0.988196   \n",
       "1       0.990918  0.000867         0.000023         0.000243  0.991644   \n",
       "2       0.996491  0.005192         0.000284         0.000203  0.994888   \n",
       "3       0.000367  0.000038         0.000020         0.000051  0.000420   \n",
       "4       0.007049  0.020725         0.010351         0.000224  0.003474   \n",
       "...          ...       ...              ...              ...       ...   \n",
       "194287  0.855642  0.004413         0.001169         0.004930  0.836272   \n",
       "194288  0.946454  0.001487         0.000315         0.007047  0.101563   \n",
       "194289  0.598870  0.000177         0.000381         0.990277  0.022358   \n",
       "194290  0.998044  0.001010         0.845941         0.997775  0.916981   \n",
       "194291  0.964683  0.002904         0.000025         0.000301  0.981879   \n",
       "\n",
       "          threat  \n",
       "0       0.026945  \n",
       "1       0.000082  \n",
       "2       0.306850  \n",
       "3       0.000023  \n",
       "4       0.000500  \n",
       "...          ...  \n",
       "194287  0.050501  \n",
       "194288  0.998236  \n",
       "194289  0.000302  \n",
       "194290  0.000566  \n",
       "194291  0.000125  \n",
       "\n",
       "[194292 rows x 6 columns]"
      ]
     },
     "execution_count": 27,
     "metadata": {},
     "output_type": "execute_result"
    }
   ],
   "source": [
    "pred_test_df"
   ]
  },
  {
   "cell_type": "code",
   "execution_count": 33,
   "metadata": {},
   "outputs": [],
   "source": [
    "pred_test_df = pd.read_csv(TEST_FILE_PATH, index_col=0)\n",
    "target_test_df = pd.read_csv(TEST_DATASET_PATH, index_col=0)\n",
    "target_test_df[LABEL_LIST] = (target_test_df[LABEL_LIST] >= 0.5).astype(int)\n",
    "\n",
    "target_test_df = target_test_df.reset_index()\n",
    "pred_test_df = pred_test_df[~target_test_df.white.isna()]\n",
    "target_test_df = target_test_df[~target_test_df.white.isna()]"
   ]
  },
  {
   "cell_type": "code",
   "execution_count": 34,
   "metadata": {},
   "outputs": [
    {
     "name": "stderr",
     "output_type": "stream",
     "text": [
      "/work2/home/ing1/corentin/hatespeech-detection-models/venv/lib/python3.8/site-packages/torchmetrics/utilities/prints.py:36: UserWarning: Metric `AUROC` will save all targets and predictions in buffer. For large datasets this may lead to large memory footprint.\n",
      "  warnings.warn(*args, **kwargs)\n"
     ]
    }
   ],
   "source": [
    "accuracy = tm.Accuracy()\n",
    "f1score = tm.F1Score(threshold=0.9590000000000001)\n",
    "f1score_multi = tm.F1Score(num_classes=6, average=None, threshold=0.9590000000000001)\n",
    "recall = tm.Recall()\n",
    "precision = tm.Precision()\n",
    "auroc = tm.AUROC(num_classes=6)"
   ]
  },
  {
   "cell_type": "code",
   "execution_count": 35,
   "metadata": {},
   "outputs": [],
   "source": [
    "pred= torch.Tensor(pred_test_df[LABEL_LIST].to_numpy())\n",
    "target= torch.Tensor((target_test_df[LABEL_LIST]>=0.5).astype(int).values).to(int)"
   ]
  },
  {
   "cell_type": "code",
   "execution_count": 36,
   "metadata": {},
   "outputs": [
    {
     "data": {
      "text/plain": [
       "torch.Size([42823, 6])"
      ]
     },
     "execution_count": 36,
     "metadata": {},
     "output_type": "execute_result"
    }
   ],
   "source": [
    "pred.shape"
   ]
  },
  {
   "cell_type": "code",
   "execution_count": 37,
   "metadata": {},
   "outputs": [
    {
     "data": {
      "text/plain": [
       "torch.Size([42823, 6])"
      ]
     },
     "execution_count": 37,
     "metadata": {},
     "output_type": "execute_result"
    }
   ],
   "source": [
    "target.shape"
   ]
  },
  {
   "cell_type": "code",
   "execution_count": 38,
   "metadata": {},
   "outputs": [
    {
     "name": "stdout",
     "output_type": "stream",
     "text": [
      "Accuracy : tensor(0.9225)\n",
      "F1 Score : tensor(0.5629)\n",
      "F1 Score per class : tensor([0.6237, 0.4943, 0.3261, 0.4152, 0.6600, 0.2155])\n",
      "Precision : tensor(0.3106)\n",
      "Recall : tensor(0.9150)\n",
      "AUROC : tensor(0.9719)\n"
     ]
    }
   ],
   "source": [
    "print(\"Accuracy :\", accuracy(pred,target))\n",
    "print(\"F1 Score :\", f1score(pred,target))\n",
    "print(\"F1 Score per class :\", f1score_multi(pred,target))\n",
    "print(\"Precision :\", precision(pred,target))\n",
    "print(\"Recall :\", recall(pred,target))\n",
    "print(\"AUROC :\", auroc(pred,target))"
   ]
  },
  {
   "cell_type": "markdown",
   "metadata": {},
   "source": [
    "Accuracy : tensor(0.9489)\n",
    "F1 Score : tensor(0.6143)\n",
    "F1 Score per class : tensor([0.6688, 0.4648, 0.3099, 0.3980, 0.6773, 0.2578])\n",
    "Precision : tensor(0.3284)\n",
    "Recall : tensor(0.9232)\n",
    "AUROC : tensor(0.9809)"
   ]
  }
 ],
 "metadata": {
  "interpreter": {
   "hash": "61bdec511af6d11ab513a76379a59f4e5a5400220f7b851eb051cbea952f89aa"
  },
  "kernelspec": {
   "display_name": "Python 3.8.9 ('venv': venv)",
   "language": "python",
   "name": "python3"
  },
  "language_info": {
   "codemirror_mode": {
    "name": "ipython",
    "version": 3
   },
   "file_extension": ".py",
   "mimetype": "text/x-python",
   "name": "python",
   "nbconvert_exporter": "python",
   "pygments_lexer": "ipython3",
   "version": "3.8.9"
  },
  "orig_nbformat": 4
 },
 "nbformat": 4,
 "nbformat_minor": 2
}
