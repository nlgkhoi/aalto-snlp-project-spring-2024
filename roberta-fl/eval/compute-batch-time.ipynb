{
 "cells": [
  {
   "cell_type": "code",
   "execution_count": 6,
   "metadata": {},
   "outputs": [],
   "source": [
    "import pandas as pd\n",
    "import numpy as np\n",
    "import os\n",
    "from pathlib import Path\n",
    "from tqdm.notebook import tqdm\n",
    "tqdm.pandas()\n",
    "\n",
    "import torch\n",
    "import torchmetrics as tm\n",
    "import seaborn as sns\n",
    "from matplotlib import pyplot as plt\n",
    "import re\n",
    "import datetime\n",
    "\n",
    "import warnings\n",
    "warnings.filterwarnings(\"ignore\")"
   ]
  },
  {
   "cell_type": "code",
   "execution_count": 7,
   "metadata": {},
   "outputs": [],
   "source": [
    "# ll = [\"pierre-roberta-bce_2022-04-01T15-53-15-127273\",\n",
    "# \"pierre-roberta-pwbce_2022-04-01T00-16-50-635795\",\n",
    "# \"pierre-roberta-fl_2022-04-01T20-43-05-082657\",\n",
    "# \"pierre-roberta-pwfl_2022-04-01T20-44-35-459744\",\n",
    "# \"pierre-albert-pwbce_2022-04-02T08-52-15-316727\",\n",
    "# \"pierre-distilbert-pwbce_2022-04-02T08-51-40-340808\",\n",
    "# \"pierre-hatebert-pwbce_2022-04-02T14-16-41-524853\",\n",
    "# \"pierre-xlmroberta-pwbce_2022-04-02T14-48-21-276717\",\n",
    "# \"pierre-xlnet-pwbce_2022-04-02T18-31-29-083854\",\n",
    "# \"pierre-bertweet-pwbce_2022-04-03T03-03-05-377047\",\n",
    "# \"pierre-unfreezed-glove-resnet44-pwbce_2022-04-03T03-07-30-490184\",\n",
    "# \"pierre-freezed-glove-resnet44-pwbce_2022-04-03T10-58-39-295726\",\n",
    "# \"pierre-glove-bigru-pwbce_2022-04-03T18-21-04-474521\",\n",
    "# \"pierre-glove-bilstm-pwbce_2022-04-03T20-20-15-399610\",\n",
    "# \"glove-cct-pwbce_2022-04-03T22-49-02-960730\",\n",
    "# \"pierre-unfreezed-glove-resnet56-pwbce_2022-04-06T13-32-28-490973\"]"
   ]
  },
  {
   "cell_type": "code",
   "execution_count": 8,
   "metadata": {},
   "outputs": [],
   "source": [
    "# for m, _, _, _ in SELECTED_SESSION_INFO:\n",
    "#     if m not in ll:\n",
    "#         print(m)"
   ]
  },
  {
   "cell_type": "code",
   "execution_count": 9,
   "metadata": {},
   "outputs": [],
   "source": [
    "# def find(l):\n",
    "#     for m, _, _, _ in SELECTED_SESSION_INFO:\n",
    "#         if m==l:\n",
    "#             return True\n",
    "#     return False"
   ]
  },
  {
   "cell_type": "code",
   "execution_count": 10,
   "metadata": {},
   "outputs": [],
   "source": [
    "# for l in ll:\n",
    "#     if not find(l):\n",
    "#         print(l)"
   ]
  },
  {
   "cell_type": "code",
   "execution_count": 11,
   "metadata": {},
   "outputs": [],
   "source": [
    "SESSION_DIR_PATH = Path(\"../../session\")\n",
    "DATA_DIR_PATH = Path(\"../../data\")\n",
    "SESSION_DIR_PATH = Path(\"../../session\")\n",
    "TRAIN_DATASET_PATH = DATA_DIR_PATH.joinpath(\"jigsaw2019-train.csv\")\n",
    "TEST_DATASET_PATH = DATA_DIR_PATH.joinpath(\"jigsaw2019-test.csv\")\n",
    "LABEL_LIST = ['toxicity', 'obscene', 'sexual_explicit',\n",
    "            'identity_attack', 'insult', 'threat']\n",
    "IDENTITY_LIST = ['male', 'female', 'transgender', 'other_gender', 'heterosexual',\n",
    "                'homosexual_gay_or_lesbian', 'bisexual','other_sexual_orientation',\n",
    "                'christian', 'jewish', 'muslim', 'hindu','buddhist', 'atheist',\n",
    "                'other_religion', 'black', 'white', 'asian', 'latino',\n",
    "                'other_race_or_ethnicity', 'physical_disability',\n",
    "                'intellectual_or_learning_disability',\n",
    "                'psychiatric_or_mental_illness','other_disability']\n",
    "SELECTED_IDENTITY_LIST = ['male', 'female', 'black', 'white', 'homosexual_gay_or_lesbian',\n",
    "                    'christian', 'jewish', 'muslim', 'psychiatric_or_mental_illness']\n",
    "\n",
    "SELECTED_SESSION_INFO = [('pierre-roberta-bce_2022-04-01T15-53-15-127273', 'BERT', 134_088_961, None),\n",
    "                        ('pierre-roberta-pwbce_2022-04-01T00-16-50-635795', 'BERT', 134_088_961, None),\n",
    "                        ('pierre-roberta-fl_2022-04-01T20-43-05-082657', 'BERT', 134_088_961, None),\n",
    "                        ('pierre-roberta-pwfl_2022-04-01T20-44-35-459744', 'BERT', 134_088_961, None),\n",
    "                        ('pierre-albert-pwbce_2022-04-02T08-52-15-316727', 'BERT', 21_142_278, None),\n",
    "                        ('pierre-distilbert-pwbce_2022-04-02T08-51-40-340808', 'BERT', 75_821_574, None),\n",
    "                        ('pierre-hatebert-pwbce_2022-04-02T14-16-41-524853', 'BERT', 118_940_934, None),\n",
    "                        ('pierre-xlmroberta-pwbce_2022-04-02T14-48-21-276717', 'BERT', 287_502_342, None),\n",
    "                        ('pierre-xlnet-pwbce_2022-04-02T18-31-29-083854', 'XLNet', 126_177_030, None),\n",
    "                        ('pierre-bertweet-pwbce_2022-04-03T03-03-05-377047', 'BERT', 144_358_662, None),\n",
    "                        ('pierre-unfreezed-glove-resnet44-pwbce_2022-04-03T03-07-30-490184', 'CNN', 26_274_138, 0.071897), # Compute on pierre-unfreezed-glove-resnet44-pwbce_2022-04-03T16-38-13-195724\n",
    "                        ('pierre-freezed-glove-resnet44-pwbce_2022-04-03T10-58-39-295726', 'CNN', 658_038, None),\n",
    "                        ('pierre-glove-bigru-pwbce_2022-04-03T18-21-04-474521', 'RNN', 27_665_706, None),\n",
    "                        ('pierre-glove-bilstm-pwbce_2022-04-03T20-20-15-399610', 'RNN', 28_348_106, None),\n",
    "                        ('glove-cct-pwbce_2022-04-03T22-49-02-960730', 'RNN', 62_132_971, None),\n",
    "                        ('pierre-unfreezed-glove-resnet56-pwbce_2022-04-06T13-32-28-490973', 'RNN', 26_468_570, None)\n",
    "                        ]"
   ]
  },
  {
   "cell_type": "markdown",
   "metadata": {},
   "source": [
    "Il manquait des lignes de log pour calculer le batch time d'inférence pour `pierre-unfreezed-glove-resnet44-pwbce_2022-04-03T03-07-30-490184`, donc j'ai pris une session avec exactement le même modèle `pierre-unfreezed-glove-resnet44-pwbce_2022-04-03T16-38-13-195724` pour le calculer. "
   ]
  },
  {
   "cell_type": "code",
   "execution_count": 12,
   "metadata": {},
   "outputs": [],
   "source": [
    "validation_dataset_namespace = lambda session_name: f\"{session_name}.jigsaw2019-validation.csv\"\n",
    "log_namespace = lambda session_name: f\"{session_name}.loguru.log\"\n",
    "metric_namespace = lambda session_name: f\"{session_name}.metric.json\"\n",
    "test_prediction_namespace = lambda session_name: f\"{session_name}.test.csv\"\n",
    "validation_prediction_namespace = lambda session_name: f\"{session_name}.validation.csv\""
   ]
  },
  {
   "cell_type": "code",
   "execution_count": 13,
   "metadata": {},
   "outputs": [],
   "source": [
    "# Get Batch Time\n",
    "def compte_batch_time(session_info_list):\n",
    "    for i, (session_name, model_type, params, manual_batch_time) in tqdm(enumerate(session_info_list)):\n",
    "        if manual_batch_time is not None:\n",
    "            continue\n",
    "        log_path = SESSION_DIR_PATH.joinpath(session_name).joinpath(log_namespace(session_name))\n",
    "        log_line_regex = r\"^(?P<date>[ 0-9-:.]*) \\| TRACE    \\| __main__:evaluation:(\\d)+ - batch_id=(?P<batch_id>\\d+)$\"\n",
    "        with open(log_path, \"r\") as f:\n",
    "            line_list = f.readlines()\n",
    "        line_list = map(lambda line: re.match(log_line_regex, line), line_list)\n",
    "        line_list = filter(lambda line: line is not None, line_list)\n",
    "        line_list = map(lambda m: (int(m.group(\"batch_id\")), datetime.datetime.fromisoformat(m.group(\"date\"))), line_list)\n",
    "        line_list = list(line_list)\n",
    "\n",
    "        if len(line_list) == 0:\n",
    "            SELECTED_SESSION_INFO[i] = (session_name, model_type, params, None)\n",
    "            print(session_name, \": not complet\")\n",
    "            continue\n",
    "        first_batch_id, first_batch_date = line_list[0]\n",
    "        last_batch_id, last_batch_date = line_list[-1]\n",
    "        batch_number = last_batch_id - first_batch_id\n",
    "        batch_deltatime = last_batch_date - first_batch_date\n",
    "        batch_time = (batch_deltatime/batch_number).total_seconds()\n",
    "        SELECTED_SESSION_INFO[i] = (session_name, model_type, params, batch_time)\n",
    "\n",
    "        "
   ]
  },
  {
   "cell_type": "code",
   "execution_count": 14,
   "metadata": {},
   "outputs": [
    {
     "data": {
      "application/vnd.jupyter.widget-view+json": {
       "model_id": "511a1fd2f1804ad8b1cb0fbb290dd800",
       "version_major": 2,
       "version_minor": 0
      },
      "text/plain": [
       "0it [00:00, ?it/s]"
      ]
     },
     "metadata": {},
     "output_type": "display_data"
    }
   ],
   "source": [
    "compte_batch_time(SELECTED_SESSION_INFO)"
   ]
  },
  {
   "cell_type": "code",
   "execution_count": 15,
   "metadata": {},
   "outputs": [
    {
     "name": "stdout",
     "output_type": "stream",
     "text": [
      "[('pierre-roberta-bce_2022-04-01T15-53-15-127273', 'BERT', 134088961, 0.153711), ('pierre-roberta-pwbce_2022-04-01T00-16-50-635795', 'BERT', 134088961, 0.15284), ('pierre-roberta-fl_2022-04-01T20-43-05-082657', 'BERT', 134088961, 0.154159), ('pierre-roberta-pwfl_2022-04-01T20-44-35-459744', 'BERT', 134088961, 0.154602), ('pierre-albert-pwbce_2022-04-02T08-52-15-316727', 'BERT', 21142278, 0.177142), ('pierre-distilbert-pwbce_2022-04-02T08-51-40-340808', 'BERT', 75821574, 0.089415), ('pierre-hatebert-pwbce_2022-04-02T14-16-41-524853', 'BERT', 118940934, 0.171139), ('pierre-xlmroberta-pwbce_2022-04-02T14-48-21-276717', 'BERT', 287502342, 0.152607), ('pierre-xlnet-pwbce_2022-04-02T18-31-29-083854', 'XLNet', 126177030, 0.242603), ('pierre-bertweet-pwbce_2022-04-03T03-03-05-377047', 'BERT', 144358662, 0.1533), ('pierre-unfreezed-glove-resnet44-pwbce_2022-04-03T03-07-30-490184', 'CNN', 26274138, 0.071897), ('pierre-freezed-glove-resnet44-pwbce_2022-04-03T10-58-39-295726', 'CNN', 658038, 0.073078), ('pierre-glove-bigru-pwbce_2022-04-03T18-21-04-474521', 'RNN', 27665706, 0.03195), ('pierre-glove-bilstm-pwbce_2022-04-03T20-20-15-399610', 'RNN', 28348106, 0.034753), ('glove-cct-pwbce_2022-04-03T22-49-02-960730', 'RNN', 62132971, 0.204585), ('pierre-unfreezed-glove-resnet56-pwbce_2022-04-06T13-32-28-490973', 'RNN', 26468570, 0.08401)]\n"
     ]
    }
   ],
   "source": [
    "print(SELECTED_SESSION_INFO)"
   ]
  },
  {
   "cell_type": "markdown",
   "metadata": {},
   "source": [
    "```python\n",
    "[('pierre-roberta-bce_2022-04-01T15-53-15-127273', 'BERT', 134088961, 0.153711),\n",
    "('pierre-roberta-pwbce_2022-04-01T00-16-50-635795', 'BERT', 134088961, 0.15284),\n",
    "('pierre-roberta-fl_2022-04-01T20-43-05-082657', 'BERT', 134088961, 0.154159),\n",
    "('pierre-roberta-pwfl_2022-04-01T20-44-35-459744', 'BERT', 134088961, 0.154602),\n",
    "('pierre-albert-pwbce_2022-04-02T08-52-15-316727', 'BERT', 21142278, 0.177142),\n",
    "('pierre-distilbert-pwbce_2022-04-02T08-51-40-340808', 'BERT', 75821574, 0.089415),\n",
    "('pierre-hatebert-pwbce_2022-04-02T14-16-41-524853', 'BERT', 118940934, 0.171139),\n",
    "('pierre-xlmroberta-pwbce_2022-04-02T14-48-21-276717', 'BERT', 287502342, 0.152607),\n",
    "('pierre-xlnet-pwbce_2022-04-02T18-31-29-083854', 'XLNet', 126177030, 0.242603),\n",
    "('pierre-bertweet-pwbce_2022-04-03T03-03-05-377047', 'BERT', 144358662, 0.1533),\n",
    "('pierre-unfreezed-glove-resnet44-pwbce_2022-04-03T03-07-30-490184', 'CNN', 26274138, 0.071897),\n",
    "('pierre-freezed-glove-resnet44-pwbce_2022-04-03T10-58-39-295726', 'CNN', 658038, 0.073078),\n",
    "('pierre-glove-bigru-pwbce_2022-04-03T18-21-04-474521', 'RNN', 27665706, 0.03195),\n",
    "('pierre-glove-bilstm-pwbce_2022-04-03T20-20-15-399610', 'RNN', 28348106, 0.034753)]\n",
    "```"
   ]
  },
  {
   "cell_type": "code",
   "execution_count": null,
   "metadata": {},
   "outputs": [],
   "source": [
    "[('pierre-roberta-bce_2022-04-01T15-53-15-127273', 'BERT', 134088961, 0.153711),\n",
    "('pierre-roberta-pwbce_2022-04-01T00-16-50-635795', 'BERT', 134088961, 0.15284),\n",
    "('pierre-roberta-fl_2022-04-01T20-43-05-082657', 'BERT', 134088961, 0.154159),\n",
    "('pierre-roberta-pwfl_2022-04-01T20-44-35-459744', 'BERT', 134088961, 0.154602),\n",
    "('pierre-albert-pwbce_2022-04-02T08-52-15-316727', 'BERT', 21142278, 0.177142),\n",
    "('pierre-distilbert-pwbce_2022-04-02T08-51-40-340808', 'BERT', 75821574, 0.089415),\n",
    "('pierre-hatebert-pwbce_2022-04-02T14-16-41-524853', 'BERT', 118940934, 0.171139),\n",
    "('pierre-xlmroberta-pwbce_2022-04-02T14-48-21-276717', 'BERT', 287502342, 0.152607),\n",
    "('pierre-xlnet-pwbce_2022-04-02T18-31-29-083854', 'XLNet', 126177030, 0.242603),\n",
    "('pierre-bertweet-pwbce_2022-04-03T03-03-05-377047', 'BERT', 144358662, 0.1533),\n",
    "('pierre-unfreezed-glove-resnet44-pwbce_2022-04-03T03-07-30-490184', 'CNN', 26274138, 0.071897),\n",
    "('pierre-freezed-glove-resnet44-pwbce_2022-04-03T10-58-39-295726', 'CNN', 658038, 0.073078),\n",
    "('pierre-glove-bigru-pwbce_2022-04-03T18-21-04-474521', 'RNN', 27665706, 0.03195),\n",
    "('pierre-glove-bilstm-pwbce_2022-04-03T20-20-15-399610', 'RNN', 28348106, 0.034753),\n",
    "('glove-cct-pwbce_2022-04-03T22-49-02-960730', 'RNN', 62132971, 0.204585*4),\n",
    "('pierre-unfreezed-glove-resnet56-pwbce_2022-04-06T13-32-28-490973', 'RNN', 26468570, 0.08401)]"
   ]
  }
 ],
 "metadata": {
  "interpreter": {
   "hash": "74c553a6e8b82483857ba3ddaf7e8469fb5af9a74c95d0698cfa607b46dae7b0"
  },
  "kernelspec": {
   "display_name": "Python 3.8.9 ('.venv': poetry)",
   "language": "python",
   "name": "python3"
  },
  "language_info": {
   "codemirror_mode": {
    "name": "ipython",
    "version": 3
   },
   "file_extension": ".py",
   "mimetype": "text/x-python",
   "name": "python",
   "nbconvert_exporter": "python",
   "pygments_lexer": "ipython3",
   "version": "3.8.9"
  },
  "orig_nbformat": 4
 },
 "nbformat": 4,
 "nbformat_minor": 2
}
