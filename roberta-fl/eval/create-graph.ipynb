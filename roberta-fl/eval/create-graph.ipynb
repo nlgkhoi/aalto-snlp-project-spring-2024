{
 "cells": [
  {
   "cell_type": "code",
   "execution_count": 2,
   "metadata": {},
   "outputs": [],
   "source": [
    "import pandas as pd\n",
    "import numpy as np\n",
    "import os\n",
    "from pathlib import Path\n",
    "from tqdm.notebook import tqdm\n",
    "tqdm.pandas()\n",
    "\n",
    "import torch\n",
    "import torchmetrics as tm\n",
    "import seaborn as sns\n",
    "from matplotlib import pyplot as plt\n",
    "import re\n",
    "import datetime\n",
    "\n",
    "import warnings\n",
    "warnings.filterwarnings(\"ignore\")"
   ]
  },
  {
   "cell_type": "code",
   "execution_count": 3,
   "metadata": {},
   "outputs": [],
   "source": [
    "SESSION_DIR_PATH = Path(\"../../session\")\n",
    "DATA_DIR_PATH = Path(\"../../data\")\n",
    "SESSION_DIR_PATH = Path(\"../../session\")\n",
    "TRAIN_DATASET_PATH = DATA_DIR_PATH.joinpath(\"jigsaw2019-train.csv\")\n",
    "TEST_DATASET_PATH = DATA_DIR_PATH.joinpath(\"jigsaw2019-test.csv\")\n",
    "LABEL_LIST = ['toxicity', 'obscene', 'sexual_explicit',\n",
    "            'identity_attack', 'insult', 'threat']\n",
    "IDENTITY_LIST = ['male', 'female', 'transgender', 'other_gender', 'heterosexual',\n",
    "                'homosexual_gay_or_lesbian', 'bisexual','other_sexual_orientation',\n",
    "                'christian', 'jewish', 'muslim', 'hindu','buddhist', 'atheist',\n",
    "                'other_religion', 'black', 'white', 'asian', 'latino',\n",
    "                'other_race_or_ethnicity', 'physical_disability',\n",
    "                'intellectual_or_learning_disability',\n",
    "                'psychiatric_or_mental_illness','other_disability']\n",
    "SELECTED_IDENTITY_LIST = ['male', 'female', 'black', 'white', 'homosexual_gay_or_lesbian',\n",
    "                    'christian', 'jewish', 'muslim', 'psychiatric_or_mental_illness']\n",
    "\n",
    "SELECTED_SESSION_INFO = [('pierre-roberta-bce_2022-04-01T15-53-15-127273', 'BERT', 134088961, 0.153711),\n",
    "                        ('pierre-roberta-pwbce_2022-04-01T00-16-50-635795', 'BERT', 134088961, 0.15284),\n",
    "                        ('pierre-roberta-fl_2022-04-01T20-43-05-082657', 'BERT', 134088961, 0.154159),\n",
    "                        ('pierre-roberta-pwfl_2022-04-01T20-44-35-459744', 'BERT', 134088961, 0.154602),\n",
    "                        ('pierre-albert-pwbce_2022-04-02T08-52-15-316727', 'BERT', 21142278, 0.177142),\n",
    "                        ('pierre-distilbert-pwbce_2022-04-02T08-51-40-340808', 'BERT', 75821574, 0.089415),\n",
    "                        ('pierre-hatebert-pwbce_2022-04-02T14-16-41-524853', 'BERT', 118940934, 0.171139),\n",
    "                        ('pierre-xlmroberta-pwbce_2022-04-02T14-48-21-276717', 'BERT', 287502342, 0.152607),\n",
    "                        ('pierre-xlnet-pwbce_2022-04-02T18-31-29-083854', 'XLNet', 126177030, 0.242603),\n",
    "                        ('pierre-bertweet-pwbce_2022-04-03T03-03-05-377047', 'BERT', 144358662, 0.1533),\n",
    "                        ('pierre-unfreezed-glove-resnet44-pwbce_2022-04-03T03-07-30-490184', 'CNN', 26274138, 0.071897),\n",
    "                        ('pierre-freezed-glove-resnet44-pwbce_2022-04-03T10-58-39-295726', 'CNN', 658038, 0.073078),\n",
    "                        ('pierre-glove-bigru-pwbce_2022-04-03T18-21-04-474521', 'RNN', 27665706, 0.03195),\n",
    "                        ('pierre-glove-bilstm-pwbce_2022-04-03T20-20-15-399610', 'RNN', 28348106, 0.034753),\n",
    "                        ('glove-cct-pwbce_2022-04-03T22-49-02-960730', 'CCT', 62132971, 0.204585),\n",
    "                        ('pierre-unfreezed-glove-resnet56-pwbce_2022-04-06T13-32-28-490973', 'CNN', 26468570, 0.08401)]\n",
    "\n",
    "INDEX_RENAME = {\n",
    "    \"model_type\":\"Model type\",\n",
    "    \"id\":\"Id\",\n",
    "    \"session_name\":\"Model name\"\n",
    "}\n",
    "\n",
    "SESSION_RENAME = {\n",
    "    \"roberta-bce\":\"RoBERTa BCE\",\n",
    "    \"roberta-pwbce\":\"RoBERTa pwBCE\",\n",
    "    \"roberta-fl\":\"RoBERTa FL\",\n",
    "    \"roberta-pwfl\":\"RoBERTa pwFL\",\n",
    "    \"albert-pwbce\":\"AlBERT\",\n",
    "    \"distilbert-pwbce\":\"DistilBERT\",\n",
    "    \"hatebert-pwbce\":\"HateBERT\",\n",
    "    \"xlmroberta-pwbce\":\"XLM RoBERTa\",\n",
    "    \"xlnet-pwbce\":\"XLNet\",\n",
    "    \"bertweet-pwbce\":\"BERTweet\",\n",
    "    \"unfreezed-glove-resnet44-pwbce\":\"Unfreeze GloVe ResNet44\",\n",
    "    \"freezed-glove-resnet44-pwbce\":\"Freeze GloVe ResNet44\",\n",
    "    \"glove-bigru-pwbce\":\"BiGRU\",\n",
    "    \"glove-bilstm-pwbce\":\"BiLSTM\",\n",
    "    \"glove-cct-pwbce\":\"CCT\",\n",
    "    \"unfreezed-glove-resnet56-pwbce\":\"Unfreeze GloVe ResNet56\"\n",
    "}\n",
    "\n",
    "SELECTED_SESSION_NAME = [name for name, _,  _, _ in SELECTED_SESSION_INFO]\n",
    "SELECTED_SESSION_PARAMS = [params for _, _, params, _ in SELECTED_SESSION_INFO]\n",
    "SELECTED_SESSION_BATCHTIME = [batchtime for _, _, _, batchtime in SELECTED_SESSION_INFO]"
   ]
  },
  {
   "cell_type": "code",
   "execution_count": 4,
   "metadata": {},
   "outputs": [],
   "source": [
    "validation_dataset_namespace = lambda session_name: f\"{session_name}.jigsaw2019-validation.csv\"\n",
    "log_namespace = lambda session_name: f\"{session_name}.loguru.log\"\n",
    "metric_namespace = lambda session_name: f\"{session_name}.metric.json\"\n",
    "test_prediction_namespace = lambda session_name: f\"{session_name}.test.csv\"\n",
    "validation_prediction_namespace = lambda session_name: f\"{session_name}.validation.csv\""
   ]
  },
  {
   "cell_type": "markdown",
   "metadata": {},
   "source": [
    "## Metrics en général"
   ]
  },
  {
   "cell_type": "code",
   "execution_count": 5,
   "metadata": {},
   "outputs": [],
   "source": [
    "# Adapted from : https://gist.github.com/aditya-5842/b2a886f42bc9988dc11c1737a349830c\n",
    "\n",
    "from sklearn.metrics import roc_auc_score\n",
    "\n",
    "########################################################################################\n",
    "#######################     function to calculate the AUC        #######################\n",
    "########################################################################################\n",
    "\n",
    "def cal_auc(y_true, y_pred):\n",
    "    \"returns the auc value\"\n",
    "    return roc_auc_score(y_true, y_pred)\n",
    "\n",
    "########################################################################################\n",
    "#######################  function to calculate the Subgroup AUC  #######################\n",
    "########################################################################################\n",
    "\n",
    "def cal_subgroup_auc(target_df, prediction_df, subgroups, label):\n",
    "    subgroup_filter = target_df[subgroups] == 1\n",
    "    return cal_auc(target_df[subgroup_filter][label], prediction_df[subgroup_filter][label])\n",
    "\n",
    "########################################################################################\n",
    "#######################   function to calculate the BPSN AUC     #######################\n",
    "########################################################################################\n",
    "\n",
    "def cal_bpsn_auc(target_df, prediction_df, subgroups, label):\n",
    "    \"\"\"This will calculate the BPSN auc\"\"\"\n",
    "    subgroup_filter = target_df[subgroups] == 1\n",
    "    positive_label_filter = target_df[label] == 1\n",
    "    # subset where subgroup is True and target label is 0\n",
    "    pred_subgroup_negative_examples = prediction_df[subgroup_filter & ~positive_label_filter]\n",
    "    target_subgroup_negative_examples = target_df[subgroup_filter & ~positive_label_filter]\n",
    "\n",
    "    # subset where subgroup is False and target label is 1\n",
    "    pred_background_positive_examples = prediction_df[~subgroup_filter & positive_label_filter]\n",
    "    target_background_positive_examples = target_df[~subgroup_filter & positive_label_filter]\n",
    "\n",
    "    # combine above two sets\n",
    "    pred_bpsn_examples = pd.concat([pred_subgroup_negative_examples, pred_background_positive_examples])\n",
    "    target_bpsn_examples = pd.concat([target_subgroup_negative_examples, target_background_positive_examples])\n",
    "\n",
    "    return cal_auc(target_bpsn_examples[label], pred_bpsn_examples[label])\n",
    "\n",
    "\n",
    "########################################################################################\n",
    "#######################   function to calculate the BNSP AUC     #######################\n",
    "########################################################################################\n",
    "def cal_bnsp_auc(target_df, prediction_df, subgroups, label):\n",
    "    \"\"\"This will calculate the BNSP auc\"\"\"\n",
    "    subgroup_filter = target_df[subgroups] == 1\n",
    "    positive_label_filter = target_df[label] == 1\n",
    "\n",
    "    # subset where subgroup is True and target label is 1\n",
    "    pred_subgroup_positive_examples = prediction_df[subgroup_filter & positive_label_filter]\n",
    "    target_subgroup_positive_examples = target_df[subgroup_filter & positive_label_filter]\n",
    "\n",
    "    # subset where subgroup is False and target label is 0\n",
    "    pred_background_negative_examples = prediction_df[~subgroup_filter & ~positive_label_filter]\n",
    "    target_background_negative_examples = target_df[~subgroup_filter & ~positive_label_filter]\n",
    "\n",
    "    # combine above two sets\n",
    "    pred_bnsp_examples = pd.concat([pred_subgroup_positive_examples, pred_background_negative_examples])\n",
    "    target_bnsp_examples = pd.concat([target_subgroup_positive_examples, target_background_negative_examples])\n",
    "\n",
    "    return cal_auc(target_bnsp_examples[label], pred_bnsp_examples[label])\n",
    "\n",
    "########################################################################################\n",
    "#######################    function to calculate Bias metric     #######################\n",
    "########################################################################################\n",
    "def cal_bias_metric(target_df, prediction_df, subgroups, label):\n",
    "    \"\"\"Computes per-subgroup metrics for all subgroups and one model\n",
    "    and returns the dataframe which will have all three Bias metrices\n",
    "    and number of exmaples for each subgroup\"\"\"\n",
    "    records = []\n",
    "    for subgroup in subgroups:\n",
    "        record = {\"subgroup\": subgroup, \"subgroup_size\": len(target_df[target_df[subgroup] == 1])}\n",
    "        record[\"subgroup_auc\"] = cal_subgroup_auc(target_df, prediction_df, subgroup, label)\n",
    "        record[\"bpsn_auc\"]     = cal_bpsn_auc(target_df, prediction_df, subgroup, label)\n",
    "        record[\"bnsp_auc\"]     = cal_bnsp_auc(target_df, prediction_df, subgroup, label)\n",
    "\n",
    "        records.append(record)\n",
    "    submetric_df = pd.DataFrame(records)\n",
    "\n",
    "    return submetric_df\n",
    "\n",
    "########################################################################################\n",
    "#######################   function to calculate Overall metric   #######################\n",
    "########################################################################################\n",
    "def cal_overall_auc(target_df, prediction_df, label):\n",
    "    return roc_auc_score(target_df[label], prediction_df[label])\n",
    "\n",
    "########################################################################################\n",
    "#######################    function to calculate final metric    #######################\n",
    "########################################################################################\n",
    "def power_mean(series, p):\n",
    "    total_sum = np.sum(np.power(series, p))\n",
    "    return np.power(total_sum/len(series), 1/p)\n",
    "\n",
    "def final_metric(submetric_df, overall_auc, p = -5, w = 0.25):\n",
    "    generalized_subgroup_auc = power_mean(submetric_df[\"subgroup_auc\"], p)\n",
    "    generalized_bpsn_auc = power_mean(submetric_df[\"bpsn_auc\"], p)\n",
    "    generalized_bnsp_auc = power_mean(submetric_df[\"bnsp_auc\"], p)\n",
    "    \n",
    "    overall_metric = w*overall_auc + w*(generalized_subgroup_auc\n",
    "                                        + generalized_bpsn_auc\n",
    "                                        + generalized_bnsp_auc)\n",
    "    return overall_metric\n",
    "\n",
    "def generalized_auc_metric(target_df, prediction_df, subgroups, label, p = -5):\n",
    "    submetric_df = cal_bias_metric(target_df, prediction_df, subgroups, label)\n",
    "    \n",
    "    generalized_subgroup_auc = power_mean(submetric_df[\"subgroup_auc\"], p)\n",
    "    generalized_bpsn_auc = power_mean(submetric_df[\"bpsn_auc\"], p)\n",
    "    generalized_bnsp_auc = power_mean(submetric_df[\"bnsp_auc\"], p)\n",
    "\n",
    "    return dict(generalized_subgroup_auc=generalized_subgroup_auc, \n",
    "                generalized_bpsn_auc=generalized_bpsn_auc,\n",
    "                generalized_bnsp_auc=generalized_bnsp_auc)\n",
    "\n",
    "########################################################################################\n",
    "#######################   function all above function into one   #######################\n",
    "########################################################################################\n",
    "\n",
    "def return_final_metric(target_df, prediction_df, subgroups, label):\n",
    "    \"\"\"Data is dataframe which include whole data \n",
    "    and it also has the predicted target column\"\"\"\n",
    "    submetric_df = cal_bias_metric(target_df, prediction_df, subgroups, label)\n",
    "\n",
    "    overall_auc =  cal_overall_auc(target_df, prediction_df, label)\n",
    "    overall_metric = final_metric(submetric_df, overall_auc, p = -5, w = 0.25)\n",
    "\n",
    "    return overall_metric, submetric_df"
   ]
  },
  {
   "cell_type": "markdown",
   "metadata": {},
   "source": [
    "## Preparer les données"
   ]
  },
  {
   "cell_type": "code",
   "execution_count": 6,
   "metadata": {},
   "outputs": [],
   "source": [
    "target_test_df = pd.read_csv(TEST_DATASET_PATH, index_col=0)\n",
    "#target_test_df = target_test_df[~target_test_df.white.isna()]# TO REMOVE\n",
    "target_test_df[LABEL_LIST] = (target_test_df[LABEL_LIST] >= 0.5).astype(int)\n",
    "#target_test_df.reset_index(inplace=True)"
   ]
  },
  {
   "cell_type": "code",
   "execution_count": 7,
   "metadata": {},
   "outputs": [],
   "source": [
    "identity_target_test_df = target_test_df.copy()\n",
    "identity_target_test_df[LABEL_LIST + IDENTITY_LIST] = (identity_target_test_df[LABEL_LIST + IDENTITY_LIST] >= 0.5).astype(int)\n",
    "identity_target_test_df.reset_index(inplace=True)"
   ]
  },
  {
   "cell_type": "markdown",
   "metadata": {},
   "source": [
    "## Fonction à appliquer pour chaque model"
   ]
  },
  {
   "cell_type": "markdown",
   "metadata": {},
   "source": [
    "### Générique"
   ]
  },
  {
   "cell_type": "code",
   "execution_count": 8,
   "metadata": {},
   "outputs": [],
   "source": [
    "def get_best_f1_threshold(session_name):\n",
    "    # # Path\n",
    "    # session_path = SESSION_DIR_PATH.joinpath(session_name)\n",
    "    # validation_target_path = session_path.joinpath(validation_dataset_namespace(session_name))\n",
    "    # validation_prediction_path = session_path.joinpath(validation_prediction_namespace(session_name))\n",
    "\n",
    "    # # Read files\n",
    "    # target_validation_df = pd.read_csv(validation_target_path, index_col=0)\n",
    "    # pred_validation_df = pd.read_csv(validation_prediction_path, index_col=0)\n",
    "\n",
    "    # # Clean data\n",
    "    # pred_validation_df = pred_validation_df[LABEL_LIST]\n",
    "    # target_validation_df = (target_validation_df[LABEL_LIST] >= 0.5).astype(int)\n",
    "\n",
    "    # # Create tensors\n",
    "    # target_tensor = torch.Tensor(target_validation_df.to_numpy()).to(int)\n",
    "    # prediction_tensor = torch.Tensor(pred_validation_df.to_numpy())\n",
    "\n",
    "    # thresholds = np.arange(0, 1, 0.001)\n",
    "    # scores = [tm.F1Score(threshold=t, average=\"micro\")(prediction_tensor, target_tensor) for t in tqdm(thresholds, leave=False)]\n",
    "    # # get best threshold\n",
    "    # ix = np.argmax(scores)\n",
    "    # best_thresholds = thresholds[ix]\n",
    "    # TODO FIXEME : Ajouter un jeu de validation/prediction sur ce jeu pour chaque session\n",
    "    return 0.8"
   ]
  },
  {
   "cell_type": "markdown",
   "metadata": {},
   "source": [
    "### Groupe By"
   ]
  },
  {
   "cell_type": "code",
   "execution_count": 9,
   "metadata": {},
   "outputs": [],
   "source": [
    "def perf_and_bias_metric_per_model(prediction_test_df : pd.DataFrame):\n",
    "    result_metric_dict = dict()\n",
    "\n",
    "    # Performance\n",
    "    perf_metric_dict = dict()\n",
    "    ## AUROC Macro\n",
    "    perf_metric_dict[\"auroc_macro\"] = tm.AUROC(num_classes=len(LABEL_LIST), average=\"macro\")\n",
    "    ## F1 Score Macro\n",
    "    perf_metric_dict[\"f1_macro_50\"] = tm.F1Score(num_classes=len(LABEL_LIST), average=\"macro\", threshold=0.5)\n",
    "    ## F1 Score Micro\n",
    "    perf_metric_dict[\"f1_micro_50\"] = tm.F1Score(num_classes=len(LABEL_LIST), average=\"micro\", threshold=0.5)\n",
    "    ## Micro F1@BestTh\n",
    "    # session_name = prediction_test_df[\"session_name\"].to_list()[0]\n",
    "    # best_threshold = get_best_f1_threshold(session_name)\n",
    "    # perf_metric_dict[\"best_f1_micro\"] = tm.F1Score(num_classes=len(LABEL_LIST), average=\"micro\", threshold=best_threshold)\n",
    "    \n",
    "    ## Recall\n",
    "    perf_metric_dict[\"recall_micro_50\"] = tm.Recall(num_classes=len(LABEL_LIST), average=\"micro\", threshold=0.5)\n",
    "    ## Precision\n",
    "    perf_metric_dict[\"precision_micro_50\"] = tm.Precision(num_classes=len(LABEL_LIST), average=\"micro\", threshold=0.5)\n",
    "\n",
    "    perf_metric_collection = tm.MetricCollection(perf_metric_dict)\n",
    "\n",
    "    pred_tensor = torch.Tensor(prediction_test_df[LABEL_LIST].to_numpy())\n",
    "    target_tensor = torch.Tensor(target_test_df[LABEL_LIST].to_numpy()).to(int)\n",
    "    perf_result_metric_dict = perf_metric_collection(pred_tensor, target_tensor)\n",
    "    perf_result_metric_dict = {key:value.item() for key, value in perf_result_metric_dict.items()}\n",
    "    result_metric_dict.update(perf_result_metric_dict)\n",
    "\n",
    "    # Biais\n",
    "    label = \"toxicity\"\n",
    "    # Add identity label to prediction DataFrame\n",
    "    identity_prediction_test_df = pd.concat([prediction_test_df, identity_target_test_df[IDENTITY_LIST]], axis=1)\n",
    "\n",
    "    # Remove NaN value identity label sample\n",
    "    identity_prediction_test_df = identity_prediction_test_df[~identity_prediction_test_df.white.isna()]\n",
    "    result_metric_dict.update(generalized_auc_metric(identity_target_test_df, identity_prediction_test_df, SELECTED_IDENTITY_LIST, label))\n",
    "\n",
    "    return pd.Series(result_metric_dict)"
   ]
  },
  {
   "cell_type": "code",
   "execution_count": 10,
   "metadata": {},
   "outputs": [],
   "source": [
    "def identity_aur_per_sub_per_model(prediction_test_df):\n",
    "    label = \"toxicity\"\n",
    "    # Add identity label to prediction DataFrame\n",
    "    identity_prediction_test_df = pd.concat([prediction_test_df, identity_target_test_df[IDENTITY_LIST]], axis=1)\n",
    "    # Remove NaN value identity label sample\n",
    "    identity_prediction_test_df = identity_prediction_test_df[~identity_prediction_test_df.white.isna()]\n",
    "    return cal_bias_metric(identity_target_test_df[~identity_target_test_df.white.isna()], identity_prediction_test_df, SELECTED_IDENTITY_LIST, label)"
   ]
  },
  {
   "cell_type": "code",
   "execution_count": 11,
   "metadata": {},
   "outputs": [],
   "source": [
    "def metric_per_class_per_model(prediction_test_df):\n",
    "    f1_50_per_class = tm.AUROC(num_classes=len(LABEL_LIST), average=None)\n",
    "\n",
    "    pred_tensor = torch.Tensor(prediction_test_df[LABEL_LIST].to_numpy())\n",
    "    target_tensor = torch.Tensor(target_test_df[LABEL_LIST].to_numpy()).to(int)\n",
    "\n",
    "    perf_metric = f1_50_per_class(pred_tensor, target_tensor)\n",
    "    return pd.Series(perf_metric, index=LABEL_LIST)"
   ]
  },
  {
   "cell_type": "markdown",
   "metadata": {},
   "source": [
    "## Calcul sur les sessions"
   ]
  },
  {
   "cell_type": "code",
   "execution_count": 12,
   "metadata": {},
   "outputs": [
    {
     "data": {
      "application/vnd.jupyter.widget-view+json": {
       "model_id": "0ba896a73cdd49a68039e578997fccf8",
       "version_major": 2,
       "version_minor": 0
      },
      "text/plain": [
       "  0%|          | 0/16 [00:00<?, ?it/s]"
      ]
     },
     "metadata": {},
     "output_type": "display_data"
    }
   ],
   "source": [
    "prediction_test_df = None\n",
    "for session_name in tqdm(SELECTED_SESSION_NAME):\n",
    "    session_path = SESSION_DIR_PATH.joinpath(session_name)\n",
    "    test_file_path =session_path.joinpath(test_prediction_namespace(session_name))\n",
    "    current_test_df = pd.read_csv(test_file_path, index_col=0)\n",
    "    current_test_df[\"session_name\"] = session_name\n",
    "    if prediction_test_df is None:\n",
    "        prediction_test_df = current_test_df\n",
    "    else:\n",
    "        prediction_test_df = pd.concat([prediction_test_df, current_test_df])\n"
   ]
  },
  {
   "cell_type": "code",
   "execution_count": 13,
   "metadata": {},
   "outputs": [],
   "source": [
    "groupby_test_df = prediction_test_df.groupby(\"session_name\")"
   ]
  },
  {
   "cell_type": "code",
   "execution_count": 14,
   "metadata": {},
   "outputs": [],
   "source": [
    "def add_model_type(data_df : pd.DataFrame) -> pd.DataFrame:\n",
    "    model_type_dict = {session_name:model_type for session_name, model_type, _, _ in SELECTED_SESSION_INFO}\n",
    "    data_df[\"model_type\"] = data_df.apply(lambda row: model_type_dict[row.session_name], axis=1)\n",
    "    return data_df"
   ]
  },
  {
   "cell_type": "markdown",
   "metadata": {},
   "source": [
    "### Perf & Biais Metric pour chaque Model"
   ]
  },
  {
   "cell_type": "code",
   "execution_count": 15,
   "metadata": {},
   "outputs": [
    {
     "data": {
      "application/vnd.jupyter.widget-view+json": {
       "model_id": "e7e1fd3679384cc5930d80a7cc0e1ddf",
       "version_major": 2,
       "version_minor": 0
      },
      "text/plain": [
       "  0%|          | 0/16 [00:00<?, ?it/s]"
      ]
     },
     "metadata": {},
     "output_type": "display_data"
    }
   ],
   "source": [
    "multi_metric_per_model_df = groupby_test_df.progress_apply(perf_and_bias_metric_per_model)"
   ]
  },
  {
   "cell_type": "code",
   "execution_count": 16,
   "metadata": {},
   "outputs": [],
   "source": [
    "# Remove session_name as index\n",
    "multi_metric_per_model_df.reset_index(inplace=True)\n",
    "multi_metric_per_model_df = add_model_type(multi_metric_per_model_df)\n",
    "multi_metric_per_model_df = multi_metric_per_model_df.sort_values([\"model_type\", \"session_name\"]).reset_index(drop=True)\n",
    "\n",
    "# Rename index to \"id\"\n",
    "multi_metric_per_model_df.index.rename(\"id\", inplace=True)"
   ]
  },
  {
   "cell_type": "code",
   "execution_count": 17,
   "metadata": {},
   "outputs": [],
   "source": [
    "# PERF & PARAMS GRAPH\n",
    "perf_and_params_per_model_df = multi_metric_per_model_df.copy()\n",
    "\n",
    "# PERF & BIAS TAB\n",
    "perf_and_bias_metric_per_model_df = multi_metric_per_model_df.copy()"
   ]
  },
  {
   "cell_type": "code",
   "execution_count": 18,
   "metadata": {},
   "outputs": [],
   "source": [
    "# The id is used to identify easily the model instead of using a long session name\n",
    "perf_and_bias_metric_per_model_df[\"session_name\"] = perf_and_bias_metric_per_model_df[\"session_name\"].apply(lambda session_name: session_name.split(\"_\")[0])\n",
    "perf_and_bias_metric_per_model_df[\"session_name\"] = perf_and_bias_metric_per_model_df[\"session_name\"].apply(lambda session_name: session_name[7:] if session_name.startswith(\"pierre-\") else session_name)\n",
    "\n",
    "# Add multi index with id and session_name\n",
    "perf_and_bias_metric_per_model_df.set_index([\"model_type\", perf_and_bias_metric_per_model_df.index, \"session_name\"], inplace=True)"
   ]
  },
  {
   "cell_type": "code",
   "execution_count": 19,
   "metadata": {},
   "outputs": [
    {
     "data": {
      "text/html": [
       "<div>\n",
       "<style scoped>\n",
       "    .dataframe tbody tr th:only-of-type {\n",
       "        vertical-align: middle;\n",
       "    }\n",
       "\n",
       "    .dataframe tbody tr th {\n",
       "        vertical-align: top;\n",
       "    }\n",
       "\n",
       "    .dataframe thead th {\n",
       "        text-align: right;\n",
       "    }\n",
       "</style>\n",
       "<table border=\"1\" class=\"dataframe\">\n",
       "  <thead>\n",
       "    <tr style=\"text-align: right;\">\n",
       "      <th></th>\n",
       "      <th></th>\n",
       "      <th></th>\n",
       "      <th>auroc_macro</th>\n",
       "      <th>f1_macro_50</th>\n",
       "      <th>f1_micro_50</th>\n",
       "      <th>precision_micro_50</th>\n",
       "      <th>recall_micro_50</th>\n",
       "      <th>generalized_subgroup_auc</th>\n",
       "      <th>generalized_bpsn_auc</th>\n",
       "      <th>generalized_bnsp_auc</th>\n",
       "    </tr>\n",
       "    <tr>\n",
       "      <th>model_type</th>\n",
       "      <th>id</th>\n",
       "      <th>session_name</th>\n",
       "      <th></th>\n",
       "      <th></th>\n",
       "      <th></th>\n",
       "      <th></th>\n",
       "      <th></th>\n",
       "      <th></th>\n",
       "      <th></th>\n",
       "      <th></th>\n",
       "    </tr>\n",
       "  </thead>\n",
       "  <tbody>\n",
       "    <tr>\n",
       "      <th rowspan=\"9\" valign=\"top\">BERT</th>\n",
       "      <th>0</th>\n",
       "      <th>albert-pwbce</th>\n",
       "      <td>0.978966</td>\n",
       "      <td>0.346320</td>\n",
       "      <td>0.478641</td>\n",
       "      <td>0.324673</td>\n",
       "      <td>0.910351</td>\n",
       "      <td>0.867430</td>\n",
       "      <td>0.899828</td>\n",
       "      <td>0.951305</td>\n",
       "    </tr>\n",
       "    <tr>\n",
       "      <th>1</th>\n",
       "      <th>bertweet-pwbce</th>\n",
       "      <td>0.981561</td>\n",
       "      <td>0.361618</td>\n",
       "      <td>0.492812</td>\n",
       "      <td>0.336333</td>\n",
       "      <td>0.921574</td>\n",
       "      <td>0.878005</td>\n",
       "      <td>0.894502</td>\n",
       "      <td>0.960273</td>\n",
       "    </tr>\n",
       "    <tr>\n",
       "      <th>2</th>\n",
       "      <th>distilbert-pwbce</th>\n",
       "      <td>0.980360</td>\n",
       "      <td>0.387945</td>\n",
       "      <td>0.511465</td>\n",
       "      <td>0.357228</td>\n",
       "      <td>0.900086</td>\n",
       "      <td>0.876181</td>\n",
       "      <td>0.874003</td>\n",
       "      <td>0.964442</td>\n",
       "    </tr>\n",
       "    <tr>\n",
       "      <th>3</th>\n",
       "      <th>hatebert-pwbce</th>\n",
       "      <td>0.979072</td>\n",
       "      <td>0.367850</td>\n",
       "      <td>0.484449</td>\n",
       "      <td>0.329246</td>\n",
       "      <td>0.916458</td>\n",
       "      <td>0.874366</td>\n",
       "      <td>0.891479</td>\n",
       "      <td>0.958937</td>\n",
       "    </tr>\n",
       "    <tr>\n",
       "      <th>4</th>\n",
       "      <th>roberta-bce</th>\n",
       "      <td>0.981323</td>\n",
       "      <td>0.474881</td>\n",
       "      <td>0.535949</td>\n",
       "      <td>0.383589</td>\n",
       "      <td>0.889094</td>\n",
       "      <td>0.880017</td>\n",
       "      <td>0.890083</td>\n",
       "      <td>0.961594</td>\n",
       "    </tr>\n",
       "    <tr>\n",
       "      <th>5</th>\n",
       "      <th>roberta-fl</th>\n",
       "      <td>0.981787</td>\n",
       "      <td>0.464816</td>\n",
       "      <td>0.552381</td>\n",
       "      <td>0.401704</td>\n",
       "      <td>0.883945</td>\n",
       "      <td>0.880695</td>\n",
       "      <td>0.900957</td>\n",
       "      <td>0.959741</td>\n",
       "    </tr>\n",
       "    <tr>\n",
       "      <th>6</th>\n",
       "      <th>roberta-pwbce</th>\n",
       "      <td>0.980888</td>\n",
       "      <td>0.354077</td>\n",
       "      <td>0.484458</td>\n",
       "      <td>0.328398</td>\n",
       "      <td>0.923158</td>\n",
       "      <td>0.874105</td>\n",
       "      <td>0.898197</td>\n",
       "      <td>0.957460</td>\n",
       "    </tr>\n",
       "    <tr>\n",
       "      <th>7</th>\n",
       "      <th>roberta-pwfl</th>\n",
       "      <td>0.980938</td>\n",
       "      <td>0.361202</td>\n",
       "      <td>0.486145</td>\n",
       "      <td>0.329668</td>\n",
       "      <td>0.925370</td>\n",
       "      <td>0.873434</td>\n",
       "      <td>0.891970</td>\n",
       "      <td>0.959730</td>\n",
       "    </tr>\n",
       "    <tr>\n",
       "      <th>8</th>\n",
       "      <th>xlmroberta-pwbce</th>\n",
       "      <td>0.979014</td>\n",
       "      <td>0.336809</td>\n",
       "      <td>0.468018</td>\n",
       "      <td>0.313493</td>\n",
       "      <td>0.922960</td>\n",
       "      <td>0.868879</td>\n",
       "      <td>0.885950</td>\n",
       "      <td>0.958124</td>\n",
       "    </tr>\n",
       "    <tr>\n",
       "      <th>CCT</th>\n",
       "      <th>9</th>\n",
       "      <th>glove-cct-pwbce</th>\n",
       "      <td>0.950467</td>\n",
       "      <td>0.342845</td>\n",
       "      <td>0.487355</td>\n",
       "      <td>0.350741</td>\n",
       "      <td>0.798290</td>\n",
       "      <td>0.813281</td>\n",
       "      <td>0.830681</td>\n",
       "      <td>0.944716</td>\n",
       "    </tr>\n",
       "    <tr>\n",
       "      <th rowspan=\"3\" valign=\"top\">CNN</th>\n",
       "      <th>10</th>\n",
       "      <th>freezed-glove-resnet44-pwbce</th>\n",
       "      <td>0.952641</td>\n",
       "      <td>0.418899</td>\n",
       "      <td>0.559082</td>\n",
       "      <td>0.463091</td>\n",
       "      <td>0.705275</td>\n",
       "      <td>0.821923</td>\n",
       "      <td>0.787577</td>\n",
       "      <td>0.949929</td>\n",
       "    </tr>\n",
       "    <tr>\n",
       "      <th>11</th>\n",
       "      <th>unfreezed-glove-resnet44-pwbce</th>\n",
       "      <td>0.965968</td>\n",
       "      <td>0.456557</td>\n",
       "      <td>0.595780</td>\n",
       "      <td>0.483515</td>\n",
       "      <td>0.775944</td>\n",
       "      <td>0.842061</td>\n",
       "      <td>0.849257</td>\n",
       "      <td>0.954003</td>\n",
       "    </tr>\n",
       "    <tr>\n",
       "      <th>12</th>\n",
       "      <th>unfreezed-glove-resnet56-pwbce</th>\n",
       "      <td>0.963870</td>\n",
       "      <td>0.377804</td>\n",
       "      <td>0.509798</td>\n",
       "      <td>0.360408</td>\n",
       "      <td>0.870709</td>\n",
       "      <td>0.848731</td>\n",
       "      <td>0.844451</td>\n",
       "      <td>0.957860</td>\n",
       "    </tr>\n",
       "    <tr>\n",
       "      <th rowspan=\"2\" valign=\"top\">RNN</th>\n",
       "      <th>13</th>\n",
       "      <th>glove-bigru-pwbce</th>\n",
       "      <td>0.974819</td>\n",
       "      <td>0.349250</td>\n",
       "      <td>0.476162</td>\n",
       "      <td>0.323249</td>\n",
       "      <td>0.903618</td>\n",
       "      <td>0.857258</td>\n",
       "      <td>0.861632</td>\n",
       "      <td>0.960043</td>\n",
       "    </tr>\n",
       "    <tr>\n",
       "      <th>14</th>\n",
       "      <th>glove-bilstm-pwbce</th>\n",
       "      <td>0.975391</td>\n",
       "      <td>0.363805</td>\n",
       "      <td>0.508891</td>\n",
       "      <td>0.358587</td>\n",
       "      <td>0.876122</td>\n",
       "      <td>0.863563</td>\n",
       "      <td>0.875760</td>\n",
       "      <td>0.956948</td>\n",
       "    </tr>\n",
       "    <tr>\n",
       "      <th>XLNet</th>\n",
       "      <th>15</th>\n",
       "      <th>xlnet-pwbce</th>\n",
       "      <td>0.979971</td>\n",
       "      <td>0.333617</td>\n",
       "      <td>0.458573</td>\n",
       "      <td>0.304453</td>\n",
       "      <td>0.928703</td>\n",
       "      <td>0.873850</td>\n",
       "      <td>0.883361</td>\n",
       "      <td>0.959699</td>\n",
       "    </tr>\n",
       "  </tbody>\n",
       "</table>\n",
       "</div>"
      ],
      "text/plain": [
       "                                              auroc_macro  f1_macro_50  \\\n",
       "model_type id session_name                                               \n",
       "BERT       0  albert-pwbce                       0.978966     0.346320   \n",
       "           1  bertweet-pwbce                     0.981561     0.361618   \n",
       "           2  distilbert-pwbce                   0.980360     0.387945   \n",
       "           3  hatebert-pwbce                     0.979072     0.367850   \n",
       "           4  roberta-bce                        0.981323     0.474881   \n",
       "           5  roberta-fl                         0.981787     0.464816   \n",
       "           6  roberta-pwbce                      0.980888     0.354077   \n",
       "           7  roberta-pwfl                       0.980938     0.361202   \n",
       "           8  xlmroberta-pwbce                   0.979014     0.336809   \n",
       "CCT        9  glove-cct-pwbce                    0.950467     0.342845   \n",
       "CNN        10 freezed-glove-resnet44-pwbce       0.952641     0.418899   \n",
       "           11 unfreezed-glove-resnet44-pwbce     0.965968     0.456557   \n",
       "           12 unfreezed-glove-resnet56-pwbce     0.963870     0.377804   \n",
       "RNN        13 glove-bigru-pwbce                  0.974819     0.349250   \n",
       "           14 glove-bilstm-pwbce                 0.975391     0.363805   \n",
       "XLNet      15 xlnet-pwbce                        0.979971     0.333617   \n",
       "\n",
       "                                              f1_micro_50  precision_micro_50  \\\n",
       "model_type id session_name                                                      \n",
       "BERT       0  albert-pwbce                       0.478641            0.324673   \n",
       "           1  bertweet-pwbce                     0.492812            0.336333   \n",
       "           2  distilbert-pwbce                   0.511465            0.357228   \n",
       "           3  hatebert-pwbce                     0.484449            0.329246   \n",
       "           4  roberta-bce                        0.535949            0.383589   \n",
       "           5  roberta-fl                         0.552381            0.401704   \n",
       "           6  roberta-pwbce                      0.484458            0.328398   \n",
       "           7  roberta-pwfl                       0.486145            0.329668   \n",
       "           8  xlmroberta-pwbce                   0.468018            0.313493   \n",
       "CCT        9  glove-cct-pwbce                    0.487355            0.350741   \n",
       "CNN        10 freezed-glove-resnet44-pwbce       0.559082            0.463091   \n",
       "           11 unfreezed-glove-resnet44-pwbce     0.595780            0.483515   \n",
       "           12 unfreezed-glove-resnet56-pwbce     0.509798            0.360408   \n",
       "RNN        13 glove-bigru-pwbce                  0.476162            0.323249   \n",
       "           14 glove-bilstm-pwbce                 0.508891            0.358587   \n",
       "XLNet      15 xlnet-pwbce                        0.458573            0.304453   \n",
       "\n",
       "                                              recall_micro_50  \\\n",
       "model_type id session_name                                      \n",
       "BERT       0  albert-pwbce                           0.910351   \n",
       "           1  bertweet-pwbce                         0.921574   \n",
       "           2  distilbert-pwbce                       0.900086   \n",
       "           3  hatebert-pwbce                         0.916458   \n",
       "           4  roberta-bce                            0.889094   \n",
       "           5  roberta-fl                             0.883945   \n",
       "           6  roberta-pwbce                          0.923158   \n",
       "           7  roberta-pwfl                           0.925370   \n",
       "           8  xlmroberta-pwbce                       0.922960   \n",
       "CCT        9  glove-cct-pwbce                        0.798290   \n",
       "CNN        10 freezed-glove-resnet44-pwbce           0.705275   \n",
       "           11 unfreezed-glove-resnet44-pwbce         0.775944   \n",
       "           12 unfreezed-glove-resnet56-pwbce         0.870709   \n",
       "RNN        13 glove-bigru-pwbce                      0.903618   \n",
       "           14 glove-bilstm-pwbce                     0.876122   \n",
       "XLNet      15 xlnet-pwbce                            0.928703   \n",
       "\n",
       "                                              generalized_subgroup_auc  \\\n",
       "model_type id session_name                                               \n",
       "BERT       0  albert-pwbce                                    0.867430   \n",
       "           1  bertweet-pwbce                                  0.878005   \n",
       "           2  distilbert-pwbce                                0.876181   \n",
       "           3  hatebert-pwbce                                  0.874366   \n",
       "           4  roberta-bce                                     0.880017   \n",
       "           5  roberta-fl                                      0.880695   \n",
       "           6  roberta-pwbce                                   0.874105   \n",
       "           7  roberta-pwfl                                    0.873434   \n",
       "           8  xlmroberta-pwbce                                0.868879   \n",
       "CCT        9  glove-cct-pwbce                                 0.813281   \n",
       "CNN        10 freezed-glove-resnet44-pwbce                    0.821923   \n",
       "           11 unfreezed-glove-resnet44-pwbce                  0.842061   \n",
       "           12 unfreezed-glove-resnet56-pwbce                  0.848731   \n",
       "RNN        13 glove-bigru-pwbce                               0.857258   \n",
       "           14 glove-bilstm-pwbce                              0.863563   \n",
       "XLNet      15 xlnet-pwbce                                     0.873850   \n",
       "\n",
       "                                              generalized_bpsn_auc  \\\n",
       "model_type id session_name                                           \n",
       "BERT       0  albert-pwbce                                0.899828   \n",
       "           1  bertweet-pwbce                              0.894502   \n",
       "           2  distilbert-pwbce                            0.874003   \n",
       "           3  hatebert-pwbce                              0.891479   \n",
       "           4  roberta-bce                                 0.890083   \n",
       "           5  roberta-fl                                  0.900957   \n",
       "           6  roberta-pwbce                               0.898197   \n",
       "           7  roberta-pwfl                                0.891970   \n",
       "           8  xlmroberta-pwbce                            0.885950   \n",
       "CCT        9  glove-cct-pwbce                             0.830681   \n",
       "CNN        10 freezed-glove-resnet44-pwbce                0.787577   \n",
       "           11 unfreezed-glove-resnet44-pwbce              0.849257   \n",
       "           12 unfreezed-glove-resnet56-pwbce              0.844451   \n",
       "RNN        13 glove-bigru-pwbce                           0.861632   \n",
       "           14 glove-bilstm-pwbce                          0.875760   \n",
       "XLNet      15 xlnet-pwbce                                 0.883361   \n",
       "\n",
       "                                              generalized_bnsp_auc  \n",
       "model_type id session_name                                          \n",
       "BERT       0  albert-pwbce                                0.951305  \n",
       "           1  bertweet-pwbce                              0.960273  \n",
       "           2  distilbert-pwbce                            0.964442  \n",
       "           3  hatebert-pwbce                              0.958937  \n",
       "           4  roberta-bce                                 0.961594  \n",
       "           5  roberta-fl                                  0.959741  \n",
       "           6  roberta-pwbce                               0.957460  \n",
       "           7  roberta-pwfl                                0.959730  \n",
       "           8  xlmroberta-pwbce                            0.958124  \n",
       "CCT        9  glove-cct-pwbce                             0.944716  \n",
       "CNN        10 freezed-glove-resnet44-pwbce                0.949929  \n",
       "           11 unfreezed-glove-resnet44-pwbce              0.954003  \n",
       "           12 unfreezed-glove-resnet56-pwbce              0.957860  \n",
       "RNN        13 glove-bigru-pwbce                           0.960043  \n",
       "           14 glove-bilstm-pwbce                          0.956948  \n",
       "XLNet      15 xlnet-pwbce                                 0.959699  "
      ]
     },
     "execution_count": 19,
     "metadata": {},
     "output_type": "execute_result"
    }
   ],
   "source": [
    "perf_and_bias_metric_per_model_df"
   ]
  },
  {
   "cell_type": "markdown",
   "metadata": {},
   "source": [
    "#### Tableau des metriques en fonction des modèles"
   ]
  },
  {
   "cell_type": "markdown",
   "metadata": {},
   "source": [
    "##### Renommer `session_name` et les colonnes"
   ]
  },
  {
   "cell_type": "code",
   "execution_count": 20,
   "metadata": {},
   "outputs": [],
   "source": [
    "rename_map = {\n",
    "    \"auroc_macro\": \"AUROC\",\n",
    "    #\"best_f1_micro\": \"F1@B\",\n",
    "    \"f1_macro_50\": \"Macro F1\",\n",
    "    \"f1_micro_50\": \"Micro F1\",\n",
    "    \"precision_micro_50\": \"Precision\",\n",
    "    \"recall_micro_50\": \"Recall\",\n",
    "    \"generalized_subgroup_auc\": \"GMB Sub.\",\n",
    "    \"generalized_bpsn_auc\": \"GMB BPSN\",\n",
    "    \"generalized_bnsp_auc\": \"GMB BNSP\",\n",
    "}\n",
    "perf_and_bias_metric_per_model_df.rename(rename_map, inplace=True)"
   ]
  },
  {
   "cell_type": "code",
   "execution_count": 21,
   "metadata": {},
   "outputs": [],
   "source": [
    "multi_columns = [('Performance', 'AUROC'),\n",
    "                #('Performance', 'F1@B'),\n",
    "                ('Performance', 'Macro F1'),\n",
    "                ('Performance', 'Micro F1'),\n",
    "                ('Performance', 'Precision'),\n",
    "                ('Performance', 'Recall'),\n",
    "                ('Bias', 'GMB Sub.'),\n",
    "                ('Bias', 'GMB BPSN'),\n",
    "                ('Bias', 'GMB BNSP')]\n",
    "\n",
    "perf_and_bias_metric_per_model_df.columns = pd.MultiIndex.from_tuples(multi_columns)"
   ]
  },
  {
   "cell_type": "code",
   "execution_count": 22,
   "metadata": {},
   "outputs": [
    {
     "data": {
      "text/html": [
       "<div>\n",
       "<style scoped>\n",
       "    .dataframe tbody tr th:only-of-type {\n",
       "        vertical-align: middle;\n",
       "    }\n",
       "\n",
       "    .dataframe tbody tr th {\n",
       "        vertical-align: top;\n",
       "    }\n",
       "\n",
       "    .dataframe thead tr th {\n",
       "        text-align: left;\n",
       "    }\n",
       "\n",
       "    .dataframe thead tr:last-of-type th {\n",
       "        text-align: right;\n",
       "    }\n",
       "</style>\n",
       "<table border=\"1\" class=\"dataframe\">\n",
       "  <thead>\n",
       "    <tr>\n",
       "      <th></th>\n",
       "      <th></th>\n",
       "      <th></th>\n",
       "      <th colspan=\"5\" halign=\"left\">Performance</th>\n",
       "      <th colspan=\"3\" halign=\"left\">Bias</th>\n",
       "    </tr>\n",
       "    <tr>\n",
       "      <th></th>\n",
       "      <th></th>\n",
       "      <th></th>\n",
       "      <th>AUROC</th>\n",
       "      <th>Macro F1</th>\n",
       "      <th>Micro F1</th>\n",
       "      <th>Precision</th>\n",
       "      <th>Recall</th>\n",
       "      <th>GMB Sub.</th>\n",
       "      <th>GMB BPSN</th>\n",
       "      <th>GMB BNSP</th>\n",
       "    </tr>\n",
       "    <tr>\n",
       "      <th>Model type</th>\n",
       "      <th>Id</th>\n",
       "      <th>Model name</th>\n",
       "      <th></th>\n",
       "      <th></th>\n",
       "      <th></th>\n",
       "      <th></th>\n",
       "      <th></th>\n",
       "      <th></th>\n",
       "      <th></th>\n",
       "      <th></th>\n",
       "    </tr>\n",
       "  </thead>\n",
       "  <tbody>\n",
       "    <tr>\n",
       "      <th rowspan=\"9\" valign=\"top\">BERT</th>\n",
       "      <th>0</th>\n",
       "      <th>AlBERT</th>\n",
       "      <td>0.978966</td>\n",
       "      <td>0.346320</td>\n",
       "      <td>0.478641</td>\n",
       "      <td>0.324673</td>\n",
       "      <td>0.910351</td>\n",
       "      <td>0.867430</td>\n",
       "      <td>0.899828</td>\n",
       "      <td>0.951305</td>\n",
       "    </tr>\n",
       "    <tr>\n",
       "      <th>1</th>\n",
       "      <th>BERTweet</th>\n",
       "      <td>0.981561</td>\n",
       "      <td>0.361618</td>\n",
       "      <td>0.492812</td>\n",
       "      <td>0.336333</td>\n",
       "      <td>0.921574</td>\n",
       "      <td>0.878005</td>\n",
       "      <td>0.894502</td>\n",
       "      <td>0.960273</td>\n",
       "    </tr>\n",
       "    <tr>\n",
       "      <th>2</th>\n",
       "      <th>DistilBERT</th>\n",
       "      <td>0.980360</td>\n",
       "      <td>0.387945</td>\n",
       "      <td>0.511465</td>\n",
       "      <td>0.357228</td>\n",
       "      <td>0.900086</td>\n",
       "      <td>0.876181</td>\n",
       "      <td>0.874003</td>\n",
       "      <td>0.964442</td>\n",
       "    </tr>\n",
       "    <tr>\n",
       "      <th>3</th>\n",
       "      <th>HateBERT</th>\n",
       "      <td>0.979072</td>\n",
       "      <td>0.367850</td>\n",
       "      <td>0.484449</td>\n",
       "      <td>0.329246</td>\n",
       "      <td>0.916458</td>\n",
       "      <td>0.874366</td>\n",
       "      <td>0.891479</td>\n",
       "      <td>0.958937</td>\n",
       "    </tr>\n",
       "    <tr>\n",
       "      <th>4</th>\n",
       "      <th>RoBERTa BCE</th>\n",
       "      <td>0.981323</td>\n",
       "      <td>0.474881</td>\n",
       "      <td>0.535949</td>\n",
       "      <td>0.383589</td>\n",
       "      <td>0.889094</td>\n",
       "      <td>0.880017</td>\n",
       "      <td>0.890083</td>\n",
       "      <td>0.961594</td>\n",
       "    </tr>\n",
       "    <tr>\n",
       "      <th>5</th>\n",
       "      <th>RoBERTa FL</th>\n",
       "      <td>0.981787</td>\n",
       "      <td>0.464816</td>\n",
       "      <td>0.552381</td>\n",
       "      <td>0.401704</td>\n",
       "      <td>0.883945</td>\n",
       "      <td>0.880695</td>\n",
       "      <td>0.900957</td>\n",
       "      <td>0.959741</td>\n",
       "    </tr>\n",
       "    <tr>\n",
       "      <th>6</th>\n",
       "      <th>RoBERTa pwBCE</th>\n",
       "      <td>0.980888</td>\n",
       "      <td>0.354077</td>\n",
       "      <td>0.484458</td>\n",
       "      <td>0.328398</td>\n",
       "      <td>0.923158</td>\n",
       "      <td>0.874105</td>\n",
       "      <td>0.898197</td>\n",
       "      <td>0.957460</td>\n",
       "    </tr>\n",
       "    <tr>\n",
       "      <th>7</th>\n",
       "      <th>RoBERTa pwFL</th>\n",
       "      <td>0.980938</td>\n",
       "      <td>0.361202</td>\n",
       "      <td>0.486145</td>\n",
       "      <td>0.329668</td>\n",
       "      <td>0.925370</td>\n",
       "      <td>0.873434</td>\n",
       "      <td>0.891970</td>\n",
       "      <td>0.959730</td>\n",
       "    </tr>\n",
       "    <tr>\n",
       "      <th>8</th>\n",
       "      <th>XLM RoBERTa</th>\n",
       "      <td>0.979014</td>\n",
       "      <td>0.336809</td>\n",
       "      <td>0.468018</td>\n",
       "      <td>0.313493</td>\n",
       "      <td>0.922960</td>\n",
       "      <td>0.868879</td>\n",
       "      <td>0.885950</td>\n",
       "      <td>0.958124</td>\n",
       "    </tr>\n",
       "    <tr>\n",
       "      <th>CCT</th>\n",
       "      <th>9</th>\n",
       "      <th>CCT</th>\n",
       "      <td>0.950467</td>\n",
       "      <td>0.342845</td>\n",
       "      <td>0.487355</td>\n",
       "      <td>0.350741</td>\n",
       "      <td>0.798290</td>\n",
       "      <td>0.813281</td>\n",
       "      <td>0.830681</td>\n",
       "      <td>0.944716</td>\n",
       "    </tr>\n",
       "    <tr>\n",
       "      <th rowspan=\"3\" valign=\"top\">CNN</th>\n",
       "      <th>10</th>\n",
       "      <th>Freeze GloVe ResNet44</th>\n",
       "      <td>0.952641</td>\n",
       "      <td>0.418899</td>\n",
       "      <td>0.559082</td>\n",
       "      <td>0.463091</td>\n",
       "      <td>0.705275</td>\n",
       "      <td>0.821923</td>\n",
       "      <td>0.787577</td>\n",
       "      <td>0.949929</td>\n",
       "    </tr>\n",
       "    <tr>\n",
       "      <th>11</th>\n",
       "      <th>Unfreeze GloVe ResNet44</th>\n",
       "      <td>0.965968</td>\n",
       "      <td>0.456557</td>\n",
       "      <td>0.595780</td>\n",
       "      <td>0.483515</td>\n",
       "      <td>0.775944</td>\n",
       "      <td>0.842061</td>\n",
       "      <td>0.849257</td>\n",
       "      <td>0.954003</td>\n",
       "    </tr>\n",
       "    <tr>\n",
       "      <th>12</th>\n",
       "      <th>Unfreeze GloVe ResNet56</th>\n",
       "      <td>0.963870</td>\n",
       "      <td>0.377804</td>\n",
       "      <td>0.509798</td>\n",
       "      <td>0.360408</td>\n",
       "      <td>0.870709</td>\n",
       "      <td>0.848731</td>\n",
       "      <td>0.844451</td>\n",
       "      <td>0.957860</td>\n",
       "    </tr>\n",
       "    <tr>\n",
       "      <th rowspan=\"2\" valign=\"top\">RNN</th>\n",
       "      <th>13</th>\n",
       "      <th>BiGRU</th>\n",
       "      <td>0.974819</td>\n",
       "      <td>0.349250</td>\n",
       "      <td>0.476162</td>\n",
       "      <td>0.323249</td>\n",
       "      <td>0.903618</td>\n",
       "      <td>0.857258</td>\n",
       "      <td>0.861632</td>\n",
       "      <td>0.960043</td>\n",
       "    </tr>\n",
       "    <tr>\n",
       "      <th>14</th>\n",
       "      <th>BiLSTM</th>\n",
       "      <td>0.975391</td>\n",
       "      <td>0.363805</td>\n",
       "      <td>0.508891</td>\n",
       "      <td>0.358587</td>\n",
       "      <td>0.876122</td>\n",
       "      <td>0.863563</td>\n",
       "      <td>0.875760</td>\n",
       "      <td>0.956948</td>\n",
       "    </tr>\n",
       "    <tr>\n",
       "      <th>XLNet</th>\n",
       "      <th>15</th>\n",
       "      <th>XLNet</th>\n",
       "      <td>0.979971</td>\n",
       "      <td>0.333617</td>\n",
       "      <td>0.458573</td>\n",
       "      <td>0.304453</td>\n",
       "      <td>0.928703</td>\n",
       "      <td>0.873850</td>\n",
       "      <td>0.883361</td>\n",
       "      <td>0.959699</td>\n",
       "    </tr>\n",
       "  </tbody>\n",
       "</table>\n",
       "</div>"
      ],
      "text/plain": [
       "                                      Performance                      \\\n",
       "                                            AUROC  Macro F1  Micro F1   \n",
       "Model type Id Model name                                                \n",
       "BERT       0  AlBERT                     0.978966  0.346320  0.478641   \n",
       "           1  BERTweet                   0.981561  0.361618  0.492812   \n",
       "           2  DistilBERT                 0.980360  0.387945  0.511465   \n",
       "           3  HateBERT                   0.979072  0.367850  0.484449   \n",
       "           4  RoBERTa BCE                0.981323  0.474881  0.535949   \n",
       "           5  RoBERTa FL                 0.981787  0.464816  0.552381   \n",
       "           6  RoBERTa pwBCE              0.980888  0.354077  0.484458   \n",
       "           7  RoBERTa pwFL               0.980938  0.361202  0.486145   \n",
       "           8  XLM RoBERTa                0.979014  0.336809  0.468018   \n",
       "CCT        9  CCT                        0.950467  0.342845  0.487355   \n",
       "CNN        10 Freeze GloVe ResNet44      0.952641  0.418899  0.559082   \n",
       "           11 Unfreeze GloVe ResNet44    0.965968  0.456557  0.595780   \n",
       "           12 Unfreeze GloVe ResNet56    0.963870  0.377804  0.509798   \n",
       "RNN        13 BiGRU                      0.974819  0.349250  0.476162   \n",
       "           14 BiLSTM                     0.975391  0.363805  0.508891   \n",
       "XLNet      15 XLNet                      0.979971  0.333617  0.458573   \n",
       "\n",
       "                                                               Bias            \\\n",
       "                                      Precision    Recall  GMB Sub.  GMB BPSN   \n",
       "Model type Id Model name                                                        \n",
       "BERT       0  AlBERT                   0.324673  0.910351  0.867430  0.899828   \n",
       "           1  BERTweet                 0.336333  0.921574  0.878005  0.894502   \n",
       "           2  DistilBERT               0.357228  0.900086  0.876181  0.874003   \n",
       "           3  HateBERT                 0.329246  0.916458  0.874366  0.891479   \n",
       "           4  RoBERTa BCE              0.383589  0.889094  0.880017  0.890083   \n",
       "           5  RoBERTa FL               0.401704  0.883945  0.880695  0.900957   \n",
       "           6  RoBERTa pwBCE            0.328398  0.923158  0.874105  0.898197   \n",
       "           7  RoBERTa pwFL             0.329668  0.925370  0.873434  0.891970   \n",
       "           8  XLM RoBERTa              0.313493  0.922960  0.868879  0.885950   \n",
       "CCT        9  CCT                      0.350741  0.798290  0.813281  0.830681   \n",
       "CNN        10 Freeze GloVe ResNet44    0.463091  0.705275  0.821923  0.787577   \n",
       "           11 Unfreeze GloVe ResNet44  0.483515  0.775944  0.842061  0.849257   \n",
       "           12 Unfreeze GloVe ResNet56  0.360408  0.870709  0.848731  0.844451   \n",
       "RNN        13 BiGRU                    0.323249  0.903618  0.857258  0.861632   \n",
       "           14 BiLSTM                   0.358587  0.876122  0.863563  0.875760   \n",
       "XLNet      15 XLNet                    0.304453  0.928703  0.873850  0.883361   \n",
       "\n",
       "                                                 \n",
       "                                       GMB BNSP  \n",
       "Model type Id Model name                         \n",
       "BERT       0  AlBERT                   0.951305  \n",
       "           1  BERTweet                 0.960273  \n",
       "           2  DistilBERT               0.964442  \n",
       "           3  HateBERT                 0.958937  \n",
       "           4  RoBERTa BCE              0.961594  \n",
       "           5  RoBERTa FL               0.959741  \n",
       "           6  RoBERTa pwBCE            0.957460  \n",
       "           7  RoBERTa pwFL             0.959730  \n",
       "           8  XLM RoBERTa              0.958124  \n",
       "CCT        9  CCT                      0.944716  \n",
       "CNN        10 Freeze GloVe ResNet44    0.949929  \n",
       "           11 Unfreeze GloVe ResNet44  0.954003  \n",
       "           12 Unfreeze GloVe ResNet56  0.957860  \n",
       "RNN        13 BiGRU                    0.960043  \n",
       "           14 BiLSTM                   0.956948  \n",
       "XLNet      15 XLNet                    0.959699  "
      ]
     },
     "execution_count": 22,
     "metadata": {},
     "output_type": "execute_result"
    }
   ],
   "source": [
    "perf_and_bias_metric_per_model_df.rename(index=SESSION_RENAME, inplace=True)\n",
    "perf_and_bias_metric_per_model_df.index.rename(INDEX_RENAME, inplace=True)\n",
    "perf_and_bias_metric_per_model_df"
   ]
  },
  {
   "cell_type": "markdown",
   "metadata": {},
   "source": [
    "##### Style"
   ]
  },
  {
   "cell_type": "code",
   "execution_count": 23,
   "metadata": {},
   "outputs": [],
   "source": [
    "def bold_max_value(column):\n",
    "    is_max_list = column == column.max()\n",
    "    return [\"font-weight: bold\" if is_max else \"\" for is_max in is_max_list]"
   ]
  },
  {
   "cell_type": "code",
   "execution_count": 24,
   "metadata": {},
   "outputs": [
    {
     "data": {
      "text/html": [
       "<style type=\"text/css\">\n",
       "#T_d0b83_row0_col0 {\n",
       "  background-color: #f1ebf5;\n",
       "  color: #000000;\n",
       "}\n",
       "#T_d0b83_row0_col1 {\n",
       "  background-color: #03517e;\n",
       "  color: #f1f1f1;\n",
       "}\n",
       "#T_d0b83_row0_col2, #T_d0b83_row6_col1 {\n",
       "  background-color: #045e93;\n",
       "  color: #f1f1f1;\n",
       "}\n",
       "#T_d0b83_row0_col3, #T_d0b83_row13_col1 {\n",
       "  background-color: #045687;\n",
       "  color: #f1f1f1;\n",
       "}\n",
       "#T_d0b83_row0_col4, #T_d0b83_row3_col0, #T_d0b83_row3_col6, #T_d0b83_row8_col0 {\n",
       "  background-color: #f2ecf5;\n",
       "  color: #000000;\n",
       "}\n",
       "#T_d0b83_row0_col5 {\n",
       "  background-color: #dcdaeb;\n",
       "  color: #000000;\n",
       "}\n",
       "#T_d0b83_row0_col6, #T_d0b83_row4_col5 {\n",
       "  background-color: #fef6fa;\n",
       "  color: #000000;\n",
       "}\n",
       "#T_d0b83_row0_col7 {\n",
       "  background-color: #2685bb;\n",
       "  color: #f1f1f1;\n",
       "}\n",
       "#T_d0b83_row1_col0 {\n",
       "  background-color: #fef6fb;\n",
       "  color: #000000;\n",
       "}\n",
       "#T_d0b83_row1_col1 {\n",
       "  background-color: #0567a1;\n",
       "  color: #f1f1f1;\n",
       "}\n",
       "#T_d0b83_row1_col2 {\n",
       "  background-color: #056faf;\n",
       "  color: #f1f1f1;\n",
       "}\n",
       "#T_d0b83_row1_col3 {\n",
       "  background-color: #04639b;\n",
       "  color: #f1f1f1;\n",
       "}\n",
       "#T_d0b83_row1_col4 {\n",
       "  background-color: #faf3f9;\n",
       "  color: #000000;\n",
       "}\n",
       "#T_d0b83_row1_col5 {\n",
       "  background-color: #f9f2f8;\n",
       "  color: #000000;\n",
       "}\n",
       "#T_d0b83_row1_col6, #T_d0b83_row3_col4, #T_d0b83_row15_col0 {\n",
       "  background-color: #f7f0f7;\n",
       "  color: #000000;\n",
       "}\n",
       "#T_d0b83_row1_col7 {\n",
       "  background-color: #d9d8ea;\n",
       "  color: #000000;\n",
       "}\n",
       "#T_d0b83_row2_col0 {\n",
       "  background-color: #f8f1f8;\n",
       "  color: #000000;\n",
       "}\n",
       "#T_d0b83_row2_col1, #T_d0b83_row2_col2 {\n",
       "  background-color: #3b92c1;\n",
       "  color: #f1f1f1;\n",
       "}\n",
       "#T_d0b83_row2_col3 {\n",
       "  background-color: #167bb6;\n",
       "  color: #f1f1f1;\n",
       "}\n",
       "#T_d0b83_row2_col4 {\n",
       "  background-color: #ece7f2;\n",
       "  color: #000000;\n",
       "}\n",
       "#T_d0b83_row2_col5 {\n",
       "  background-color: #f5eef6;\n",
       "  color: #000000;\n",
       "}\n",
       "#T_d0b83_row2_col6, #T_d0b83_row14_col4 {\n",
       "  background-color: #d3d4e7;\n",
       "  color: #000000;\n",
       "}\n",
       "#T_d0b83_row2_col7, #T_d0b83_row4_col1, #T_d0b83_row5_col0, #T_d0b83_row5_col5, #T_d0b83_row5_col6, #T_d0b83_row11_col2, #T_d0b83_row11_col3, #T_d0b83_row15_col4 {\n",
       "  background-color: #fff7fb;\n",
       "  color: #000000;\n",
       "  font-weight: bold;\n",
       "}\n",
       "#T_d0b83_row3_col1 {\n",
       "  background-color: #056fae;\n",
       "  color: #f1f1f1;\n",
       "}\n",
       "#T_d0b83_row3_col2, #T_d0b83_row6_col2 {\n",
       "  background-color: #05659f;\n",
       "  color: #f1f1f1;\n",
       "}\n",
       "#T_d0b83_row3_col3 {\n",
       "  background-color: #045c90;\n",
       "  color: #f1f1f1;\n",
       "}\n",
       "#T_d0b83_row3_col5, #T_d0b83_row4_col6 {\n",
       "  background-color: #f1ebf4;\n",
       "  color: #000000;\n",
       "}\n",
       "#T_d0b83_row3_col7 {\n",
       "  background-color: #c6cce3;\n",
       "  color: #000000;\n",
       "}\n",
       "#T_d0b83_row4_col0, #T_d0b83_row7_col4 {\n",
       "  background-color: #fdf5fa;\n",
       "  color: #000000;\n",
       "}\n",
       "#T_d0b83_row4_col2 {\n",
       "  background-color: #8eb3d5;\n",
       "  color: #000000;\n",
       "}\n",
       "#T_d0b83_row4_col3 {\n",
       "  background-color: #589ec8;\n",
       "  color: #f1f1f1;\n",
       "}\n",
       "#T_d0b83_row4_col4 {\n",
       "  background-color: #e0deed;\n",
       "  color: #000000;\n",
       "}\n",
       "#T_d0b83_row4_col7 {\n",
       "  background-color: #e8e4f0;\n",
       "  color: #000000;\n",
       "}\n",
       "#T_d0b83_row5_col1 {\n",
       "  background-color: #f4eef6;\n",
       "  color: #000000;\n",
       "}\n",
       "#T_d0b83_row5_col2 {\n",
       "  background-color: #bbc7e0;\n",
       "  color: #000000;\n",
       "}\n",
       "#T_d0b83_row5_col3, #T_d0b83_row11_col6 {\n",
       "  background-color: #86b0d3;\n",
       "  color: #000000;\n",
       "}\n",
       "#T_d0b83_row5_col4 {\n",
       "  background-color: #dbdaeb;\n",
       "  color: #000000;\n",
       "}\n",
       "#T_d0b83_row5_col7, #T_d0b83_row7_col7, #T_d0b83_row15_col7 {\n",
       "  background-color: #d2d3e7;\n",
       "  color: #000000;\n",
       "}\n",
       "#T_d0b83_row6_col0 {\n",
       "  background-color: #fbf3f9;\n",
       "  color: #000000;\n",
       "}\n",
       "#T_d0b83_row6_col3 {\n",
       "  background-color: #045b8f;\n",
       "  color: #f1f1f1;\n",
       "}\n",
       "#T_d0b83_row6_col4, #T_d0b83_row6_col6, #T_d0b83_row7_col0, #T_d0b83_row8_col4 {\n",
       "  background-color: #fbf4f9;\n",
       "  color: #000000;\n",
       "}\n",
       "#T_d0b83_row6_col5, #T_d0b83_row15_col5 {\n",
       "  background-color: #f0eaf4;\n",
       "  color: #000000;\n",
       "}\n",
       "#T_d0b83_row6_col7 {\n",
       "  background-color: #adc1dd;\n",
       "  color: #000000;\n",
       "}\n",
       "#T_d0b83_row7_col1 {\n",
       "  background-color: #0566a0;\n",
       "  color: #f1f1f1;\n",
       "}\n",
       "#T_d0b83_row7_col2 {\n",
       "  background-color: #0567a2;\n",
       "  color: #f1f1f1;\n",
       "}\n",
       "#T_d0b83_row7_col3 {\n",
       "  background-color: #045d92;\n",
       "  color: #f1f1f1;\n",
       "}\n",
       "#T_d0b83_row7_col5 {\n",
       "  background-color: #efe9f3;\n",
       "  color: #000000;\n",
       "}\n",
       "#T_d0b83_row7_col6 {\n",
       "  background-color: #f3edf5;\n",
       "  color: #000000;\n",
       "}\n",
       "#T_d0b83_row8_col1 {\n",
       "  background-color: #023d60;\n",
       "  color: #f1f1f1;\n",
       "}\n",
       "#T_d0b83_row8_col2, #T_d0b83_row10_col0 {\n",
       "  background-color: #034a74;\n",
       "  color: #f1f1f1;\n",
       "}\n",
       "#T_d0b83_row8_col3 {\n",
       "  background-color: #03456c;\n",
       "  color: #f1f1f1;\n",
       "}\n",
       "#T_d0b83_row8_col5 {\n",
       "  background-color: #e1dfed;\n",
       "  color: #000000;\n",
       "}\n",
       "#T_d0b83_row8_col6, #T_d0b83_row11_col1 {\n",
       "  background-color: #ebe6f2;\n",
       "  color: #000000;\n",
       "}\n",
       "#T_d0b83_row8_col7 {\n",
       "  background-color: #b9c6e0;\n",
       "  color: #000000;\n",
       "}\n",
       "#T_d0b83_row9_col0, #T_d0b83_row9_col5, #T_d0b83_row9_col7, #T_d0b83_row10_col4, #T_d0b83_row10_col6, #T_d0b83_row15_col1, #T_d0b83_row15_col2, #T_d0b83_row15_col3 {\n",
       "  background-color: #023858;\n",
       "  color: #f1f1f1;\n",
       "}\n",
       "#T_d0b83_row9_col1 {\n",
       "  background-color: #034973;\n",
       "  color: #f1f1f1;\n",
       "}\n",
       "#T_d0b83_row9_col2 {\n",
       "  background-color: #0569a4;\n",
       "  color: #f1f1f1;\n",
       "}\n",
       "#T_d0b83_row9_col3 {\n",
       "  background-color: #0872b1;\n",
       "  color: #f1f1f1;\n",
       "}\n",
       "#T_d0b83_row9_col4 {\n",
       "  background-color: #4a98c5;\n",
       "  color: #f1f1f1;\n",
       "}\n",
       "#T_d0b83_row9_col6 {\n",
       "  background-color: #3991c1;\n",
       "  color: #f1f1f1;\n",
       "}\n",
       "#T_d0b83_row10_col1 {\n",
       "  background-color: #9ebad9;\n",
       "  color: #000000;\n",
       "}\n",
       "#T_d0b83_row10_col2 {\n",
       "  background-color: #cacee5;\n",
       "  color: #000000;\n",
       "}\n",
       "#T_d0b83_row10_col3 {\n",
       "  background-color: #eee8f3;\n",
       "  color: #000000;\n",
       "}\n",
       "#T_d0b83_row10_col5, #T_d0b83_row13_col2 {\n",
       "  background-color: #045a8d;\n",
       "  color: #f1f1f1;\n",
       "}\n",
       "#T_d0b83_row10_col7 {\n",
       "  background-color: #0a73b2;\n",
       "  color: #f1f1f1;\n",
       "}\n",
       "#T_d0b83_row11_col0 {\n",
       "  background-color: #71a8ce;\n",
       "  color: #f1f1f1;\n",
       "}\n",
       "#T_d0b83_row11_col4, #T_d0b83_row12_col1 {\n",
       "  background-color: #1e80b8;\n",
       "  color: #f1f1f1;\n",
       "}\n",
       "#T_d0b83_row11_col5, #T_d0b83_row12_col0 {\n",
       "  background-color: #509ac6;\n",
       "  color: #f1f1f1;\n",
       "}\n",
       "#T_d0b83_row11_col7 {\n",
       "  background-color: #65a3cb;\n",
       "  color: #f1f1f1;\n",
       "}\n",
       "#T_d0b83_row12_col2 {\n",
       "  background-color: #358fc0;\n",
       "  color: #f1f1f1;\n",
       "}\n",
       "#T_d0b83_row12_col3 {\n",
       "  background-color: #1c7fb8;\n",
       "  color: #f1f1f1;\n",
       "}\n",
       "#T_d0b83_row12_col4 {\n",
       "  background-color: #cdd0e5;\n",
       "  color: #000000;\n",
       "}\n",
       "#T_d0b83_row12_col5 {\n",
       "  background-color: #7eadd1;\n",
       "  color: #f1f1f1;\n",
       "}\n",
       "#T_d0b83_row12_col6 {\n",
       "  background-color: #75a9cf;\n",
       "  color: #f1f1f1;\n",
       "}\n",
       "#T_d0b83_row12_col7 {\n",
       "  background-color: #b4c4df;\n",
       "  color: #000000;\n",
       "}\n",
       "#T_d0b83_row13_col0, #T_d0b83_row14_col6 {\n",
       "  background-color: #d7d6e9;\n",
       "  color: #000000;\n",
       "}\n",
       "#T_d0b83_row13_col3 {\n",
       "  background-color: #045483;\n",
       "  color: #f1f1f1;\n",
       "}\n",
       "#T_d0b83_row13_col4 {\n",
       "  background-color: #eee9f3;\n",
       "  color: #000000;\n",
       "}\n",
       "#T_d0b83_row13_col5 {\n",
       "  background-color: #afc1dd;\n",
       "  color: #000000;\n",
       "}\n",
       "#T_d0b83_row13_col6 {\n",
       "  background-color: #b0c2de;\n",
       "  color: #000000;\n",
       "}\n",
       "#T_d0b83_row13_col7 {\n",
       "  background-color: #d6d6e9;\n",
       "  color: #000000;\n",
       "}\n",
       "#T_d0b83_row14_col0 {\n",
       "  background-color: #dad9ea;\n",
       "  color: #000000;\n",
       "}\n",
       "#T_d0b83_row14_col1 {\n",
       "  background-color: #0569a5;\n",
       "  color: #f1f1f1;\n",
       "}\n",
       "#T_d0b83_row14_col2 {\n",
       "  background-color: #328dbf;\n",
       "  color: #f1f1f1;\n",
       "}\n",
       "#T_d0b83_row14_col3 {\n",
       "  background-color: #197db7;\n",
       "  color: #f1f1f1;\n",
       "}\n",
       "#T_d0b83_row14_col5 {\n",
       "  background-color: #ced0e6;\n",
       "  color: #000000;\n",
       "}\n",
       "#T_d0b83_row14_col7 {\n",
       "  background-color: #a4bcda;\n",
       "  color: #000000;\n",
       "}\n",
       "#T_d0b83_row15_col6 {\n",
       "  background-color: #e6e2ef;\n",
       "  color: #000000;\n",
       "}\n",
       "</style>\n",
       "<table id=\"T_d0b83\">\n",
       "  <thead>\n",
       "    <tr>\n",
       "      <th class=\"blank\" >&nbsp;</th>\n",
       "      <th class=\"blank\" >&nbsp;</th>\n",
       "      <th class=\"blank level0\" >&nbsp;</th>\n",
       "      <th id=\"T_d0b83_level0_col0\" class=\"col_heading level0 col0\" colspan=\"5\">Performance</th>\n",
       "      <th id=\"T_d0b83_level0_col5\" class=\"col_heading level0 col5\" colspan=\"3\">Bias</th>\n",
       "    </tr>\n",
       "    <tr>\n",
       "      <th class=\"blank\" >&nbsp;</th>\n",
       "      <th class=\"blank\" >&nbsp;</th>\n",
       "      <th class=\"blank level1\" >&nbsp;</th>\n",
       "      <th id=\"T_d0b83_level1_col0\" class=\"col_heading level1 col0\" >AUROC</th>\n",
       "      <th id=\"T_d0b83_level1_col1\" class=\"col_heading level1 col1\" >Macro F1</th>\n",
       "      <th id=\"T_d0b83_level1_col2\" class=\"col_heading level1 col2\" >Micro F1</th>\n",
       "      <th id=\"T_d0b83_level1_col3\" class=\"col_heading level1 col3\" >Precision</th>\n",
       "      <th id=\"T_d0b83_level1_col4\" class=\"col_heading level1 col4\" >Recall</th>\n",
       "      <th id=\"T_d0b83_level1_col5\" class=\"col_heading level1 col5\" >GMB Sub.</th>\n",
       "      <th id=\"T_d0b83_level1_col6\" class=\"col_heading level1 col6\" >GMB BPSN</th>\n",
       "      <th id=\"T_d0b83_level1_col7\" class=\"col_heading level1 col7\" >GMB BNSP</th>\n",
       "    </tr>\n",
       "    <tr>\n",
       "      <th class=\"index_name level0\" >Model type</th>\n",
       "      <th class=\"index_name level1\" >Id</th>\n",
       "      <th class=\"index_name level2\" >Model name</th>\n",
       "      <th class=\"blank col0\" >&nbsp;</th>\n",
       "      <th class=\"blank col1\" >&nbsp;</th>\n",
       "      <th class=\"blank col2\" >&nbsp;</th>\n",
       "      <th class=\"blank col3\" >&nbsp;</th>\n",
       "      <th class=\"blank col4\" >&nbsp;</th>\n",
       "      <th class=\"blank col5\" >&nbsp;</th>\n",
       "      <th class=\"blank col6\" >&nbsp;</th>\n",
       "      <th class=\"blank col7\" >&nbsp;</th>\n",
       "    </tr>\n",
       "  </thead>\n",
       "  <tbody>\n",
       "    <tr>\n",
       "      <th id=\"T_d0b83_level0_row0\" class=\"row_heading level0 row0\" rowspan=\"9\">BERT</th>\n",
       "      <th id=\"T_d0b83_level1_row0\" class=\"row_heading level1 row0\" >0</th>\n",
       "      <th id=\"T_d0b83_level2_row0\" class=\"row_heading level2 row0\" >AlBERT</th>\n",
       "      <td id=\"T_d0b83_row0_col0\" class=\"data row0 col0\" >0.9790</td>\n",
       "      <td id=\"T_d0b83_row0_col1\" class=\"data row0 col1\" >0.3463</td>\n",
       "      <td id=\"T_d0b83_row0_col2\" class=\"data row0 col2\" >0.4786</td>\n",
       "      <td id=\"T_d0b83_row0_col3\" class=\"data row0 col3\" >0.3247</td>\n",
       "      <td id=\"T_d0b83_row0_col4\" class=\"data row0 col4\" >0.9104</td>\n",
       "      <td id=\"T_d0b83_row0_col5\" class=\"data row0 col5\" >0.8674</td>\n",
       "      <td id=\"T_d0b83_row0_col6\" class=\"data row0 col6\" >0.8998</td>\n",
       "      <td id=\"T_d0b83_row0_col7\" class=\"data row0 col7\" >0.9513</td>\n",
       "    </tr>\n",
       "    <tr>\n",
       "      <th id=\"T_d0b83_level1_row1\" class=\"row_heading level1 row1\" >1</th>\n",
       "      <th id=\"T_d0b83_level2_row1\" class=\"row_heading level2 row1\" >BERTweet</th>\n",
       "      <td id=\"T_d0b83_row1_col0\" class=\"data row1 col0\" >0.9816</td>\n",
       "      <td id=\"T_d0b83_row1_col1\" class=\"data row1 col1\" >0.3616</td>\n",
       "      <td id=\"T_d0b83_row1_col2\" class=\"data row1 col2\" >0.4928</td>\n",
       "      <td id=\"T_d0b83_row1_col3\" class=\"data row1 col3\" >0.3363</td>\n",
       "      <td id=\"T_d0b83_row1_col4\" class=\"data row1 col4\" >0.9216</td>\n",
       "      <td id=\"T_d0b83_row1_col5\" class=\"data row1 col5\" >0.8780</td>\n",
       "      <td id=\"T_d0b83_row1_col6\" class=\"data row1 col6\" >0.8945</td>\n",
       "      <td id=\"T_d0b83_row1_col7\" class=\"data row1 col7\" >0.9603</td>\n",
       "    </tr>\n",
       "    <tr>\n",
       "      <th id=\"T_d0b83_level1_row2\" class=\"row_heading level1 row2\" >2</th>\n",
       "      <th id=\"T_d0b83_level2_row2\" class=\"row_heading level2 row2\" >DistilBERT</th>\n",
       "      <td id=\"T_d0b83_row2_col0\" class=\"data row2 col0\" >0.9804</td>\n",
       "      <td id=\"T_d0b83_row2_col1\" class=\"data row2 col1\" >0.3879</td>\n",
       "      <td id=\"T_d0b83_row2_col2\" class=\"data row2 col2\" >0.5115</td>\n",
       "      <td id=\"T_d0b83_row2_col3\" class=\"data row2 col3\" >0.3572</td>\n",
       "      <td id=\"T_d0b83_row2_col4\" class=\"data row2 col4\" >0.9001</td>\n",
       "      <td id=\"T_d0b83_row2_col5\" class=\"data row2 col5\" >0.8762</td>\n",
       "      <td id=\"T_d0b83_row2_col6\" class=\"data row2 col6\" >0.8740</td>\n",
       "      <td id=\"T_d0b83_row2_col7\" class=\"data row2 col7\" >0.9644</td>\n",
       "    </tr>\n",
       "    <tr>\n",
       "      <th id=\"T_d0b83_level1_row3\" class=\"row_heading level1 row3\" >3</th>\n",
       "      <th id=\"T_d0b83_level2_row3\" class=\"row_heading level2 row3\" >HateBERT</th>\n",
       "      <td id=\"T_d0b83_row3_col0\" class=\"data row3 col0\" >0.9791</td>\n",
       "      <td id=\"T_d0b83_row3_col1\" class=\"data row3 col1\" >0.3679</td>\n",
       "      <td id=\"T_d0b83_row3_col2\" class=\"data row3 col2\" >0.4844</td>\n",
       "      <td id=\"T_d0b83_row3_col3\" class=\"data row3 col3\" >0.3292</td>\n",
       "      <td id=\"T_d0b83_row3_col4\" class=\"data row3 col4\" >0.9165</td>\n",
       "      <td id=\"T_d0b83_row3_col5\" class=\"data row3 col5\" >0.8744</td>\n",
       "      <td id=\"T_d0b83_row3_col6\" class=\"data row3 col6\" >0.8915</td>\n",
       "      <td id=\"T_d0b83_row3_col7\" class=\"data row3 col7\" >0.9589</td>\n",
       "    </tr>\n",
       "    <tr>\n",
       "      <th id=\"T_d0b83_level1_row4\" class=\"row_heading level1 row4\" >4</th>\n",
       "      <th id=\"T_d0b83_level2_row4\" class=\"row_heading level2 row4\" >RoBERTa BCE</th>\n",
       "      <td id=\"T_d0b83_row4_col0\" class=\"data row4 col0\" >0.9813</td>\n",
       "      <td id=\"T_d0b83_row4_col1\" class=\"data row4 col1\" >0.4749</td>\n",
       "      <td id=\"T_d0b83_row4_col2\" class=\"data row4 col2\" >0.5359</td>\n",
       "      <td id=\"T_d0b83_row4_col3\" class=\"data row4 col3\" >0.3836</td>\n",
       "      <td id=\"T_d0b83_row4_col4\" class=\"data row4 col4\" >0.8891</td>\n",
       "      <td id=\"T_d0b83_row4_col5\" class=\"data row4 col5\" >0.8800</td>\n",
       "      <td id=\"T_d0b83_row4_col6\" class=\"data row4 col6\" >0.8901</td>\n",
       "      <td id=\"T_d0b83_row4_col7\" class=\"data row4 col7\" >0.9616</td>\n",
       "    </tr>\n",
       "    <tr>\n",
       "      <th id=\"T_d0b83_level1_row5\" class=\"row_heading level1 row5\" >5</th>\n",
       "      <th id=\"T_d0b83_level2_row5\" class=\"row_heading level2 row5\" >RoBERTa FL</th>\n",
       "      <td id=\"T_d0b83_row5_col0\" class=\"data row5 col0\" >0.9818</td>\n",
       "      <td id=\"T_d0b83_row5_col1\" class=\"data row5 col1\" >0.4648</td>\n",
       "      <td id=\"T_d0b83_row5_col2\" class=\"data row5 col2\" >0.5524</td>\n",
       "      <td id=\"T_d0b83_row5_col3\" class=\"data row5 col3\" >0.4017</td>\n",
       "      <td id=\"T_d0b83_row5_col4\" class=\"data row5 col4\" >0.8839</td>\n",
       "      <td id=\"T_d0b83_row5_col5\" class=\"data row5 col5\" >0.8807</td>\n",
       "      <td id=\"T_d0b83_row5_col6\" class=\"data row5 col6\" >0.9010</td>\n",
       "      <td id=\"T_d0b83_row5_col7\" class=\"data row5 col7\" >0.9597</td>\n",
       "    </tr>\n",
       "    <tr>\n",
       "      <th id=\"T_d0b83_level1_row6\" class=\"row_heading level1 row6\" >6</th>\n",
       "      <th id=\"T_d0b83_level2_row6\" class=\"row_heading level2 row6\" >RoBERTa pwBCE</th>\n",
       "      <td id=\"T_d0b83_row6_col0\" class=\"data row6 col0\" >0.9809</td>\n",
       "      <td id=\"T_d0b83_row6_col1\" class=\"data row6 col1\" >0.3541</td>\n",
       "      <td id=\"T_d0b83_row6_col2\" class=\"data row6 col2\" >0.4845</td>\n",
       "      <td id=\"T_d0b83_row6_col3\" class=\"data row6 col3\" >0.3284</td>\n",
       "      <td id=\"T_d0b83_row6_col4\" class=\"data row6 col4\" >0.9232</td>\n",
       "      <td id=\"T_d0b83_row6_col5\" class=\"data row6 col5\" >0.8741</td>\n",
       "      <td id=\"T_d0b83_row6_col6\" class=\"data row6 col6\" >0.8982</td>\n",
       "      <td id=\"T_d0b83_row6_col7\" class=\"data row6 col7\" >0.9575</td>\n",
       "    </tr>\n",
       "    <tr>\n",
       "      <th id=\"T_d0b83_level1_row7\" class=\"row_heading level1 row7\" >7</th>\n",
       "      <th id=\"T_d0b83_level2_row7\" class=\"row_heading level2 row7\" >RoBERTa pwFL</th>\n",
       "      <td id=\"T_d0b83_row7_col0\" class=\"data row7 col0\" >0.9809</td>\n",
       "      <td id=\"T_d0b83_row7_col1\" class=\"data row7 col1\" >0.3612</td>\n",
       "      <td id=\"T_d0b83_row7_col2\" class=\"data row7 col2\" >0.4861</td>\n",
       "      <td id=\"T_d0b83_row7_col3\" class=\"data row7 col3\" >0.3297</td>\n",
       "      <td id=\"T_d0b83_row7_col4\" class=\"data row7 col4\" >0.9254</td>\n",
       "      <td id=\"T_d0b83_row7_col5\" class=\"data row7 col5\" >0.8734</td>\n",
       "      <td id=\"T_d0b83_row7_col6\" class=\"data row7 col6\" >0.8920</td>\n",
       "      <td id=\"T_d0b83_row7_col7\" class=\"data row7 col7\" >0.9597</td>\n",
       "    </tr>\n",
       "    <tr>\n",
       "      <th id=\"T_d0b83_level1_row8\" class=\"row_heading level1 row8\" >8</th>\n",
       "      <th id=\"T_d0b83_level2_row8\" class=\"row_heading level2 row8\" >XLM RoBERTa</th>\n",
       "      <td id=\"T_d0b83_row8_col0\" class=\"data row8 col0\" >0.9790</td>\n",
       "      <td id=\"T_d0b83_row8_col1\" class=\"data row8 col1\" >0.3368</td>\n",
       "      <td id=\"T_d0b83_row8_col2\" class=\"data row8 col2\" >0.4680</td>\n",
       "      <td id=\"T_d0b83_row8_col3\" class=\"data row8 col3\" >0.3135</td>\n",
       "      <td id=\"T_d0b83_row8_col4\" class=\"data row8 col4\" >0.9230</td>\n",
       "      <td id=\"T_d0b83_row8_col5\" class=\"data row8 col5\" >0.8689</td>\n",
       "      <td id=\"T_d0b83_row8_col6\" class=\"data row8 col6\" >0.8859</td>\n",
       "      <td id=\"T_d0b83_row8_col7\" class=\"data row8 col7\" >0.9581</td>\n",
       "    </tr>\n",
       "    <tr>\n",
       "      <th id=\"T_d0b83_level0_row9\" class=\"row_heading level0 row9\" >CCT</th>\n",
       "      <th id=\"T_d0b83_level1_row9\" class=\"row_heading level1 row9\" >9</th>\n",
       "      <th id=\"T_d0b83_level2_row9\" class=\"row_heading level2 row9\" >CCT</th>\n",
       "      <td id=\"T_d0b83_row9_col0\" class=\"data row9 col0\" >0.9505</td>\n",
       "      <td id=\"T_d0b83_row9_col1\" class=\"data row9 col1\" >0.3428</td>\n",
       "      <td id=\"T_d0b83_row9_col2\" class=\"data row9 col2\" >0.4874</td>\n",
       "      <td id=\"T_d0b83_row9_col3\" class=\"data row9 col3\" >0.3507</td>\n",
       "      <td id=\"T_d0b83_row9_col4\" class=\"data row9 col4\" >0.7983</td>\n",
       "      <td id=\"T_d0b83_row9_col5\" class=\"data row9 col5\" >0.8133</td>\n",
       "      <td id=\"T_d0b83_row9_col6\" class=\"data row9 col6\" >0.8307</td>\n",
       "      <td id=\"T_d0b83_row9_col7\" class=\"data row9 col7\" >0.9447</td>\n",
       "    </tr>\n",
       "    <tr>\n",
       "      <th id=\"T_d0b83_level0_row10\" class=\"row_heading level0 row10\" rowspan=\"3\">CNN</th>\n",
       "      <th id=\"T_d0b83_level1_row10\" class=\"row_heading level1 row10\" >10</th>\n",
       "      <th id=\"T_d0b83_level2_row10\" class=\"row_heading level2 row10\" >Freeze GloVe ResNet44</th>\n",
       "      <td id=\"T_d0b83_row10_col0\" class=\"data row10 col0\" >0.9526</td>\n",
       "      <td id=\"T_d0b83_row10_col1\" class=\"data row10 col1\" >0.4189</td>\n",
       "      <td id=\"T_d0b83_row10_col2\" class=\"data row10 col2\" >0.5591</td>\n",
       "      <td id=\"T_d0b83_row10_col3\" class=\"data row10 col3\" >0.4631</td>\n",
       "      <td id=\"T_d0b83_row10_col4\" class=\"data row10 col4\" >0.7053</td>\n",
       "      <td id=\"T_d0b83_row10_col5\" class=\"data row10 col5\" >0.8219</td>\n",
       "      <td id=\"T_d0b83_row10_col6\" class=\"data row10 col6\" >0.7876</td>\n",
       "      <td id=\"T_d0b83_row10_col7\" class=\"data row10 col7\" >0.9499</td>\n",
       "    </tr>\n",
       "    <tr>\n",
       "      <th id=\"T_d0b83_level1_row11\" class=\"row_heading level1 row11\" >11</th>\n",
       "      <th id=\"T_d0b83_level2_row11\" class=\"row_heading level2 row11\" >Unfreeze GloVe ResNet44</th>\n",
       "      <td id=\"T_d0b83_row11_col0\" class=\"data row11 col0\" >0.9660</td>\n",
       "      <td id=\"T_d0b83_row11_col1\" class=\"data row11 col1\" >0.4566</td>\n",
       "      <td id=\"T_d0b83_row11_col2\" class=\"data row11 col2\" >0.5958</td>\n",
       "      <td id=\"T_d0b83_row11_col3\" class=\"data row11 col3\" >0.4835</td>\n",
       "      <td id=\"T_d0b83_row11_col4\" class=\"data row11 col4\" >0.7759</td>\n",
       "      <td id=\"T_d0b83_row11_col5\" class=\"data row11 col5\" >0.8421</td>\n",
       "      <td id=\"T_d0b83_row11_col6\" class=\"data row11 col6\" >0.8493</td>\n",
       "      <td id=\"T_d0b83_row11_col7\" class=\"data row11 col7\" >0.9540</td>\n",
       "    </tr>\n",
       "    <tr>\n",
       "      <th id=\"T_d0b83_level1_row12\" class=\"row_heading level1 row12\" >12</th>\n",
       "      <th id=\"T_d0b83_level2_row12\" class=\"row_heading level2 row12\" >Unfreeze GloVe ResNet56</th>\n",
       "      <td id=\"T_d0b83_row12_col0\" class=\"data row12 col0\" >0.9639</td>\n",
       "      <td id=\"T_d0b83_row12_col1\" class=\"data row12 col1\" >0.3778</td>\n",
       "      <td id=\"T_d0b83_row12_col2\" class=\"data row12 col2\" >0.5098</td>\n",
       "      <td id=\"T_d0b83_row12_col3\" class=\"data row12 col3\" >0.3604</td>\n",
       "      <td id=\"T_d0b83_row12_col4\" class=\"data row12 col4\" >0.8707</td>\n",
       "      <td id=\"T_d0b83_row12_col5\" class=\"data row12 col5\" >0.8487</td>\n",
       "      <td id=\"T_d0b83_row12_col6\" class=\"data row12 col6\" >0.8445</td>\n",
       "      <td id=\"T_d0b83_row12_col7\" class=\"data row12 col7\" >0.9579</td>\n",
       "    </tr>\n",
       "    <tr>\n",
       "      <th id=\"T_d0b83_level0_row13\" class=\"row_heading level0 row13\" rowspan=\"2\">RNN</th>\n",
       "      <th id=\"T_d0b83_level1_row13\" class=\"row_heading level1 row13\" >13</th>\n",
       "      <th id=\"T_d0b83_level2_row13\" class=\"row_heading level2 row13\" >BiGRU</th>\n",
       "      <td id=\"T_d0b83_row13_col0\" class=\"data row13 col0\" >0.9748</td>\n",
       "      <td id=\"T_d0b83_row13_col1\" class=\"data row13 col1\" >0.3492</td>\n",
       "      <td id=\"T_d0b83_row13_col2\" class=\"data row13 col2\" >0.4762</td>\n",
       "      <td id=\"T_d0b83_row13_col3\" class=\"data row13 col3\" >0.3232</td>\n",
       "      <td id=\"T_d0b83_row13_col4\" class=\"data row13 col4\" >0.9036</td>\n",
       "      <td id=\"T_d0b83_row13_col5\" class=\"data row13 col5\" >0.8573</td>\n",
       "      <td id=\"T_d0b83_row13_col6\" class=\"data row13 col6\" >0.8616</td>\n",
       "      <td id=\"T_d0b83_row13_col7\" class=\"data row13 col7\" >0.9600</td>\n",
       "    </tr>\n",
       "    <tr>\n",
       "      <th id=\"T_d0b83_level1_row14\" class=\"row_heading level1 row14\" >14</th>\n",
       "      <th id=\"T_d0b83_level2_row14\" class=\"row_heading level2 row14\" >BiLSTM</th>\n",
       "      <td id=\"T_d0b83_row14_col0\" class=\"data row14 col0\" >0.9754</td>\n",
       "      <td id=\"T_d0b83_row14_col1\" class=\"data row14 col1\" >0.3638</td>\n",
       "      <td id=\"T_d0b83_row14_col2\" class=\"data row14 col2\" >0.5089</td>\n",
       "      <td id=\"T_d0b83_row14_col3\" class=\"data row14 col3\" >0.3586</td>\n",
       "      <td id=\"T_d0b83_row14_col4\" class=\"data row14 col4\" >0.8761</td>\n",
       "      <td id=\"T_d0b83_row14_col5\" class=\"data row14 col5\" >0.8636</td>\n",
       "      <td id=\"T_d0b83_row14_col6\" class=\"data row14 col6\" >0.8758</td>\n",
       "      <td id=\"T_d0b83_row14_col7\" class=\"data row14 col7\" >0.9569</td>\n",
       "    </tr>\n",
       "    <tr>\n",
       "      <th id=\"T_d0b83_level0_row15\" class=\"row_heading level0 row15\" >XLNet</th>\n",
       "      <th id=\"T_d0b83_level1_row15\" class=\"row_heading level1 row15\" >15</th>\n",
       "      <th id=\"T_d0b83_level2_row15\" class=\"row_heading level2 row15\" >XLNet</th>\n",
       "      <td id=\"T_d0b83_row15_col0\" class=\"data row15 col0\" >0.9800</td>\n",
       "      <td id=\"T_d0b83_row15_col1\" class=\"data row15 col1\" >0.3336</td>\n",
       "      <td id=\"T_d0b83_row15_col2\" class=\"data row15 col2\" >0.4586</td>\n",
       "      <td id=\"T_d0b83_row15_col3\" class=\"data row15 col3\" >0.3045</td>\n",
       "      <td id=\"T_d0b83_row15_col4\" class=\"data row15 col4\" >0.9287</td>\n",
       "      <td id=\"T_d0b83_row15_col5\" class=\"data row15 col5\" >0.8738</td>\n",
       "      <td id=\"T_d0b83_row15_col6\" class=\"data row15 col6\" >0.8834</td>\n",
       "      <td id=\"T_d0b83_row15_col7\" class=\"data row15 col7\" >0.9597</td>\n",
       "    </tr>\n",
       "  </tbody>\n",
       "</table>\n"
      ],
      "text/plain": [
       "<pandas.io.formats.style.Styler at 0x7f02e0878ca0>"
      ]
     },
     "execution_count": 24,
     "metadata": {},
     "output_type": "execute_result"
    }
   ],
   "source": [
    "perf_and_bias_metric_per_model_style = perf_and_bias_metric_per_model_df.style.background_gradient(axis=0, cmap=\"PuBu_r\")\n",
    "perf_and_bias_metric_per_model_style = perf_and_bias_metric_per_model_style.format(precision=4)\n",
    "perf_and_bias_metric_per_model_style = perf_and_bias_metric_per_model_style.apply(bold_max_value)\n",
    "\n",
    "#perf_and_bias_metric_per_model_style = perf_and_bias_metric_per_model_style.applymap_index(lambda v: \"rotatebox:{45}--rwrap--latex;\", axis=1)\n",
    "\n",
    "perf_and_bias_metric_per_model_style"
   ]
  },
  {
   "cell_type": "code",
   "execution_count": 25,
   "metadata": {},
   "outputs": [
    {
     "name": "stdout",
     "output_type": "stream",
     "text": [
      "\\begin{tabular}{lllllllllll}\n",
      "\\toprule\n",
      " &  &  & \\multicolumn{5}{c}{Performance} & \\multicolumn{3}{c}{Bias} \\\\\n",
      " &  &  & AUROC & Macro F1 & Micro F1 & Precision & Recall & GMB Sub. & GMB BPSN & GMB BNSP \\\\\n",
      "Model type & Id & Model name &  &  &  &  &  &  &  &  \\\\\n",
      "\\midrule\n",
      "\\multirow[c]{9}{*}{BERT} & 0 & AlBERT & {\\cellcolor[HTML]{F1EBF5}} \\color[HTML]{000000} 0.9790 & {\\cellcolor[HTML]{03517E}} \\color[HTML]{F1F1F1} 0.3463 & {\\cellcolor[HTML]{045E93}} \\color[HTML]{F1F1F1} 0.4786 & {\\cellcolor[HTML]{045687}} \\color[HTML]{F1F1F1} 0.3247 & {\\cellcolor[HTML]{F2ECF5}} \\color[HTML]{000000} 0.9104 & {\\cellcolor[HTML]{DCDAEB}} \\color[HTML]{000000} 0.8674 & {\\cellcolor[HTML]{FEF6FA}} \\color[HTML]{000000} 0.8998 & {\\cellcolor[HTML]{2685BB}} \\color[HTML]{F1F1F1} 0.9513 \\\\\n",
      "\\cline{2-11} \\cline{3-11}\n",
      " & 1 & BERTweet & {\\cellcolor[HTML]{FEF6FB}} \\color[HTML]{000000} 0.9816 & {\\cellcolor[HTML]{0567A1}} \\color[HTML]{F1F1F1} 0.3616 & {\\cellcolor[HTML]{056FAF}} \\color[HTML]{F1F1F1} 0.4928 & {\\cellcolor[HTML]{04639B}} \\color[HTML]{F1F1F1} 0.3363 & {\\cellcolor[HTML]{FAF3F9}} \\color[HTML]{000000} 0.9216 & {\\cellcolor[HTML]{F9F2F8}} \\color[HTML]{000000} 0.8780 & {\\cellcolor[HTML]{F7F0F7}} \\color[HTML]{000000} 0.8945 & {\\cellcolor[HTML]{D9D8EA}} \\color[HTML]{000000} 0.9603 \\\\\n",
      "\\cline{2-11} \\cline{3-11}\n",
      " & 2 & DistilBERT & {\\cellcolor[HTML]{F8F1F8}} \\color[HTML]{000000} 0.9804 & {\\cellcolor[HTML]{3B92C1}} \\color[HTML]{F1F1F1} 0.3879 & {\\cellcolor[HTML]{3B92C1}} \\color[HTML]{F1F1F1} 0.5115 & {\\cellcolor[HTML]{167BB6}} \\color[HTML]{F1F1F1} 0.3572 & {\\cellcolor[HTML]{ECE7F2}} \\color[HTML]{000000} 0.9001 & {\\cellcolor[HTML]{F5EEF6}} \\color[HTML]{000000} 0.8762 & {\\cellcolor[HTML]{D3D4E7}} \\color[HTML]{000000} 0.8740 & {\\cellcolor[HTML]{FFF7FB}} \\color[HTML]{000000} \\bfseries 0.9644 \\\\\n",
      "\\cline{2-11} \\cline{3-11}\n",
      " & 3 & HateBERT & {\\cellcolor[HTML]{F2ECF5}} \\color[HTML]{000000} 0.9791 & {\\cellcolor[HTML]{056FAE}} \\color[HTML]{F1F1F1} 0.3679 & {\\cellcolor[HTML]{05659F}} \\color[HTML]{F1F1F1} 0.4844 & {\\cellcolor[HTML]{045C90}} \\color[HTML]{F1F1F1} 0.3292 & {\\cellcolor[HTML]{F7F0F7}} \\color[HTML]{000000} 0.9165 & {\\cellcolor[HTML]{F1EBF4}} \\color[HTML]{000000} 0.8744 & {\\cellcolor[HTML]{F2ECF5}} \\color[HTML]{000000} 0.8915 & {\\cellcolor[HTML]{C6CCE3}} \\color[HTML]{000000} 0.9589 \\\\\n",
      "\\cline{2-11} \\cline{3-11}\n",
      " & 4 & RoBERTa BCE & {\\cellcolor[HTML]{FDF5FA}} \\color[HTML]{000000} 0.9813 & {\\cellcolor[HTML]{FFF7FB}} \\color[HTML]{000000} \\bfseries 0.4749 & {\\cellcolor[HTML]{8EB3D5}} \\color[HTML]{000000} 0.5359 & {\\cellcolor[HTML]{589EC8}} \\color[HTML]{F1F1F1} 0.3836 & {\\cellcolor[HTML]{E0DEED}} \\color[HTML]{000000} 0.8891 & {\\cellcolor[HTML]{FEF6FA}} \\color[HTML]{000000} 0.8800 & {\\cellcolor[HTML]{F1EBF4}} \\color[HTML]{000000} 0.8901 & {\\cellcolor[HTML]{E8E4F0}} \\color[HTML]{000000} 0.9616 \\\\\n",
      "\\cline{2-11} \\cline{3-11}\n",
      " & 5 & RoBERTa FL & {\\cellcolor[HTML]{FFF7FB}} \\color[HTML]{000000} \\bfseries 0.9818 & {\\cellcolor[HTML]{F4EEF6}} \\color[HTML]{000000} 0.4648 & {\\cellcolor[HTML]{BBC7E0}} \\color[HTML]{000000} 0.5524 & {\\cellcolor[HTML]{86B0D3}} \\color[HTML]{000000} 0.4017 & {\\cellcolor[HTML]{DBDAEB}} \\color[HTML]{000000} 0.8839 & {\\cellcolor[HTML]{FFF7FB}} \\color[HTML]{000000} \\bfseries 0.8807 & {\\cellcolor[HTML]{FFF7FB}} \\color[HTML]{000000} \\bfseries 0.9010 & {\\cellcolor[HTML]{D2D3E7}} \\color[HTML]{000000} 0.9597 \\\\\n",
      "\\cline{2-11} \\cline{3-11}\n",
      " & 6 & RoBERTa pwBCE & {\\cellcolor[HTML]{FBF3F9}} \\color[HTML]{000000} 0.9809 & {\\cellcolor[HTML]{045E93}} \\color[HTML]{F1F1F1} 0.3541 & {\\cellcolor[HTML]{05659F}} \\color[HTML]{F1F1F1} 0.4845 & {\\cellcolor[HTML]{045B8F}} \\color[HTML]{F1F1F1} 0.3284 & {\\cellcolor[HTML]{FBF4F9}} \\color[HTML]{000000} 0.9232 & {\\cellcolor[HTML]{F0EAF4}} \\color[HTML]{000000} 0.8741 & {\\cellcolor[HTML]{FBF4F9}} \\color[HTML]{000000} 0.8982 & {\\cellcolor[HTML]{ADC1DD}} \\color[HTML]{000000} 0.9575 \\\\\n",
      "\\cline{2-11} \\cline{3-11}\n",
      " & 7 & RoBERTa pwFL & {\\cellcolor[HTML]{FBF4F9}} \\color[HTML]{000000} 0.9809 & {\\cellcolor[HTML]{0566A0}} \\color[HTML]{F1F1F1} 0.3612 & {\\cellcolor[HTML]{0567A2}} \\color[HTML]{F1F1F1} 0.4861 & {\\cellcolor[HTML]{045D92}} \\color[HTML]{F1F1F1} 0.3297 & {\\cellcolor[HTML]{FDF5FA}} \\color[HTML]{000000} 0.9254 & {\\cellcolor[HTML]{EFE9F3}} \\color[HTML]{000000} 0.8734 & {\\cellcolor[HTML]{F3EDF5}} \\color[HTML]{000000} 0.8920 & {\\cellcolor[HTML]{D2D3E7}} \\color[HTML]{000000} 0.9597 \\\\\n",
      "\\cline{2-11} \\cline{3-11}\n",
      " & 8 & XLM RoBERTa & {\\cellcolor[HTML]{F2ECF5}} \\color[HTML]{000000} 0.9790 & {\\cellcolor[HTML]{023D60}} \\color[HTML]{F1F1F1} 0.3368 & {\\cellcolor[HTML]{034A74}} \\color[HTML]{F1F1F1} 0.4680 & {\\cellcolor[HTML]{03456C}} \\color[HTML]{F1F1F1} 0.3135 & {\\cellcolor[HTML]{FBF4F9}} \\color[HTML]{000000} 0.9230 & {\\cellcolor[HTML]{E1DFED}} \\color[HTML]{000000} 0.8689 & {\\cellcolor[HTML]{EBE6F2}} \\color[HTML]{000000} 0.8859 & {\\cellcolor[HTML]{B9C6E0}} \\color[HTML]{000000} 0.9581 \\\\\n",
      "\\cline{1-11} \\cline{2-11} \\cline{3-11}\n",
      "CCT & 9 & CCT & {\\cellcolor[HTML]{023858}} \\color[HTML]{F1F1F1} 0.9505 & {\\cellcolor[HTML]{034973}} \\color[HTML]{F1F1F1} 0.3428 & {\\cellcolor[HTML]{0569A4}} \\color[HTML]{F1F1F1} 0.4874 & {\\cellcolor[HTML]{0872B1}} \\color[HTML]{F1F1F1} 0.3507 & {\\cellcolor[HTML]{4A98C5}} \\color[HTML]{F1F1F1} 0.7983 & {\\cellcolor[HTML]{023858}} \\color[HTML]{F1F1F1} 0.8133 & {\\cellcolor[HTML]{3991C1}} \\color[HTML]{F1F1F1} 0.8307 & {\\cellcolor[HTML]{023858}} \\color[HTML]{F1F1F1} 0.9447 \\\\\n",
      "\\cline{1-11} \\cline{2-11} \\cline{3-11}\n",
      "\\multirow[c]{3}{*}{CNN} & 10 & Freeze GloVe ResNet44 & {\\cellcolor[HTML]{034A74}} \\color[HTML]{F1F1F1} 0.9526 & {\\cellcolor[HTML]{9EBAD9}} \\color[HTML]{000000} 0.4189 & {\\cellcolor[HTML]{CACEE5}} \\color[HTML]{000000} 0.5591 & {\\cellcolor[HTML]{EEE8F3}} \\color[HTML]{000000} 0.4631 & {\\cellcolor[HTML]{023858}} \\color[HTML]{F1F1F1} 0.7053 & {\\cellcolor[HTML]{045A8D}} \\color[HTML]{F1F1F1} 0.8219 & {\\cellcolor[HTML]{023858}} \\color[HTML]{F1F1F1} 0.7876 & {\\cellcolor[HTML]{0A73B2}} \\color[HTML]{F1F1F1} 0.9499 \\\\\n",
      "\\cline{2-11} \\cline{3-11}\n",
      " & 11 & Unfreeze GloVe ResNet44 & {\\cellcolor[HTML]{71A8CE}} \\color[HTML]{F1F1F1} 0.9660 & {\\cellcolor[HTML]{EBE6F2}} \\color[HTML]{000000} 0.4566 & {\\cellcolor[HTML]{FFF7FB}} \\color[HTML]{000000} \\bfseries 0.5958 & {\\cellcolor[HTML]{FFF7FB}} \\color[HTML]{000000} \\bfseries 0.4835 & {\\cellcolor[HTML]{1E80B8}} \\color[HTML]{F1F1F1} 0.7759 & {\\cellcolor[HTML]{509AC6}} \\color[HTML]{F1F1F1} 0.8421 & {\\cellcolor[HTML]{86B0D3}} \\color[HTML]{000000} 0.8493 & {\\cellcolor[HTML]{65A3CB}} \\color[HTML]{F1F1F1} 0.9540 \\\\\n",
      "\\cline{2-11} \\cline{3-11}\n",
      " & 12 & Unfreeze GloVe ResNet56 & {\\cellcolor[HTML]{509AC6}} \\color[HTML]{F1F1F1} 0.9639 & {\\cellcolor[HTML]{1E80B8}} \\color[HTML]{F1F1F1} 0.3778 & {\\cellcolor[HTML]{358FC0}} \\color[HTML]{F1F1F1} 0.5098 & {\\cellcolor[HTML]{1C7FB8}} \\color[HTML]{F1F1F1} 0.3604 & {\\cellcolor[HTML]{CDD0E5}} \\color[HTML]{000000} 0.8707 & {\\cellcolor[HTML]{7EADD1}} \\color[HTML]{F1F1F1} 0.8487 & {\\cellcolor[HTML]{75A9CF}} \\color[HTML]{F1F1F1} 0.8445 & {\\cellcolor[HTML]{B4C4DF}} \\color[HTML]{000000} 0.9579 \\\\\n",
      "\\cline{1-11} \\cline{2-11} \\cline{3-11}\n",
      "\\multirow[c]{2}{*}{RNN} & 13 & BiGRU & {\\cellcolor[HTML]{D7D6E9}} \\color[HTML]{000000} 0.9748 & {\\cellcolor[HTML]{045687}} \\color[HTML]{F1F1F1} 0.3492 & {\\cellcolor[HTML]{045A8D}} \\color[HTML]{F1F1F1} 0.4762 & {\\cellcolor[HTML]{045483}} \\color[HTML]{F1F1F1} 0.3232 & {\\cellcolor[HTML]{EEE9F3}} \\color[HTML]{000000} 0.9036 & {\\cellcolor[HTML]{AFC1DD}} \\color[HTML]{000000} 0.8573 & {\\cellcolor[HTML]{B0C2DE}} \\color[HTML]{000000} 0.8616 & {\\cellcolor[HTML]{D6D6E9}} \\color[HTML]{000000} 0.9600 \\\\\n",
      "\\cline{2-11} \\cline{3-11}\n",
      " & 14 & BiLSTM & {\\cellcolor[HTML]{DAD9EA}} \\color[HTML]{000000} 0.9754 & {\\cellcolor[HTML]{0569A5}} \\color[HTML]{F1F1F1} 0.3638 & {\\cellcolor[HTML]{328DBF}} \\color[HTML]{F1F1F1} 0.5089 & {\\cellcolor[HTML]{197DB7}} \\color[HTML]{F1F1F1} 0.3586 & {\\cellcolor[HTML]{D3D4E7}} \\color[HTML]{000000} 0.8761 & {\\cellcolor[HTML]{CED0E6}} \\color[HTML]{000000} 0.8636 & {\\cellcolor[HTML]{D7D6E9}} \\color[HTML]{000000} 0.8758 & {\\cellcolor[HTML]{A4BCDA}} \\color[HTML]{000000} 0.9569 \\\\\n",
      "\\cline{1-11} \\cline{2-11} \\cline{3-11}\n",
      "XLNet & 15 & XLNet & {\\cellcolor[HTML]{F7F0F7}} \\color[HTML]{000000} 0.9800 & {\\cellcolor[HTML]{023858}} \\color[HTML]{F1F1F1} 0.3336 & {\\cellcolor[HTML]{023858}} \\color[HTML]{F1F1F1} 0.4586 & {\\cellcolor[HTML]{023858}} \\color[HTML]{F1F1F1} 0.3045 & {\\cellcolor[HTML]{FFF7FB}} \\color[HTML]{000000} \\bfseries 0.9287 & {\\cellcolor[HTML]{F0EAF4}} \\color[HTML]{000000} 0.8738 & {\\cellcolor[HTML]{E6E2EF}} \\color[HTML]{000000} 0.8834 & {\\cellcolor[HTML]{D2D3E7}} \\color[HTML]{000000} 0.9597 \\\\\n",
      "\\cline{1-11} \\cline{2-11} \\cline{3-11}\n",
      "\\bottomrule\n",
      "\\end{tabular}\n",
      "\n"
     ]
    }
   ],
   "source": [
    "perf_and_bias_metric_per_model_latex = perf_and_bias_metric_per_model_style.to_latex(\n",
    "    convert_css=True,\n",
    "    column_format=\"lllllllllll\",\n",
    "    clines=\"all;data\",\n",
    "    multicol_align=\"c\",\n",
    "    hrules=True,\n",
    ")\n",
    "print(perf_and_bias_metric_per_model_latex)"
   ]
  },
  {
   "cell_type": "markdown",
   "metadata": {},
   "source": [
    "##### Bon exemple d'importation dans LaTeX"
   ]
  },
  {
   "cell_type": "markdown",
   "metadata": {},
   "source": [
    "* Retirer les `\\cline{2-11} \\cline{3-11}`\n",
    "* Ajouter ` \\cmidrule(lr){4-8} \\cmidrule(lr){9-11}`\n",
    "\n",
    "Il faut encadrer ce code par :\n",
    "```latex\n",
    "\\usepackage{booktabs}\n",
    "\\usepackage[table]{xcolor}\n",
    "\\usepackage{graphicx}\n",
    "\n",
    "\\begin{table*}[htb!]\n",
    "\\resizebox{1.0\\linewidth}{!}{\n",
    "%%%\n",
    "\n",
    "% Write HERE\n",
    "\n",
    "%%%\n",
    "}\n",
    "\\caption{Model performance results}\n",
    "\\label{tab:results}\n",
    "\\end{table*}\n",
    "```"
   ]
  },
  {
   "cell_type": "markdown",
   "metadata": {},
   "source": [
    "```latex\n",
    "\\begin{table*}[htb!]\n",
    "\\resizebox{1.0\\linewidth}{!}{\n",
    "%%%\n",
    "\\begin{tabular}{llllllllll}\n",
    "\\toprule\n",
    " &  & \\multicolumn{5}{c }{Performance} & \\multicolumn{3}{c}{Bias} \\\\\n",
    "\\cmidrule(lr){3-7}\n",
    "\\cmidrule(lr){8-10}\n",
    " &  & AUROC & Macro F1 & Micro F1 & Precision & Recall & GMB Sub. & GMB BPSN & GMB BNSP \\\\\n",
    "Id & Model &  &  &  &  &  &  &  &  \\\\\n",
    "\\midrule\n",
    "\n",
    "....\n",
    "\n",
    "\\bottomrule\n",
    "\\end{tabular}\n",
    "%%%\n",
    "}\n",
    "\\caption{Model performance results}\n",
    "\\label{tab:results}\n",
    "\\end{table*}\n",
    "```"
   ]
  },
  {
   "cell_type": "markdown",
   "metadata": {},
   "source": [
    "#### Performance en fonction du temps par batch et de la taille du modèle"
   ]
  },
  {
   "cell_type": "code",
   "execution_count": 26,
   "metadata": {},
   "outputs": [],
   "source": [
    "params_dict = {session_name:params for session_name, _, params, _ in SELECTED_SESSION_INFO}\n",
    "batchtime_dict = {session_name:batchtime for session_name, _, _, batchtime in SELECTED_SESSION_INFO}\n",
    "\n",
    "clean_perf_and_params_per_model_df = perf_and_params_per_model_df.copy()\n",
    "\n",
    "clean_perf_and_params_per_model_df[\"parameters\"] = perf_and_params_per_model_df.apply(lambda row: params_dict[row.session_name], axis=1)\n",
    "clean_perf_and_params_per_model_df[\"batch_time\"] = perf_and_params_per_model_df.apply(lambda row: batchtime_dict[row.session_name], axis=1)\n",
    "\n",
    "clean_perf_and_params_per_model_df.session_name = perf_and_params_per_model_df.session_name.apply(lambda session_name: session_name.split(\"_\")[0])\n",
    "clean_perf_and_params_per_model_df.session_name = clean_perf_and_params_per_model_df.session_name.apply(lambda session_name: session_name[7:] if session_name.startswith(\"pierre-\") else session_name)"
   ]
  },
  {
   "cell_type": "code",
   "execution_count": 27,
   "metadata": {},
   "outputs": [
    {
     "data": {
      "text/html": [
       "<div>\n",
       "<style scoped>\n",
       "    .dataframe tbody tr th:only-of-type {\n",
       "        vertical-align: middle;\n",
       "    }\n",
       "\n",
       "    .dataframe tbody tr th {\n",
       "        vertical-align: top;\n",
       "    }\n",
       "\n",
       "    .dataframe thead th {\n",
       "        text-align: right;\n",
       "    }\n",
       "</style>\n",
       "<table border=\"1\" class=\"dataframe\">\n",
       "  <thead>\n",
       "    <tr style=\"text-align: right;\">\n",
       "      <th></th>\n",
       "      <th>session_name</th>\n",
       "      <th>auroc_macro</th>\n",
       "      <th>f1_macro_50</th>\n",
       "      <th>f1_micro_50</th>\n",
       "      <th>precision_micro_50</th>\n",
       "      <th>recall_micro_50</th>\n",
       "      <th>generalized_subgroup_auc</th>\n",
       "      <th>generalized_bpsn_auc</th>\n",
       "      <th>generalized_bnsp_auc</th>\n",
       "      <th>model_type</th>\n",
       "      <th>parameters</th>\n",
       "      <th>batch_time</th>\n",
       "    </tr>\n",
       "    <tr>\n",
       "      <th>id</th>\n",
       "      <th></th>\n",
       "      <th></th>\n",
       "      <th></th>\n",
       "      <th></th>\n",
       "      <th></th>\n",
       "      <th></th>\n",
       "      <th></th>\n",
       "      <th></th>\n",
       "      <th></th>\n",
       "      <th></th>\n",
       "      <th></th>\n",
       "      <th></th>\n",
       "    </tr>\n",
       "  </thead>\n",
       "  <tbody>\n",
       "    <tr>\n",
       "      <th>0</th>\n",
       "      <td>albert-pwbce</td>\n",
       "      <td>0.978966</td>\n",
       "      <td>0.346320</td>\n",
       "      <td>0.478641</td>\n",
       "      <td>0.324673</td>\n",
       "      <td>0.910351</td>\n",
       "      <td>0.867430</td>\n",
       "      <td>0.899828</td>\n",
       "      <td>0.951305</td>\n",
       "      <td>BERT</td>\n",
       "      <td>21142278</td>\n",
       "      <td>0.177142</td>\n",
       "    </tr>\n",
       "    <tr>\n",
       "      <th>1</th>\n",
       "      <td>bertweet-pwbce</td>\n",
       "      <td>0.981561</td>\n",
       "      <td>0.361618</td>\n",
       "      <td>0.492812</td>\n",
       "      <td>0.336333</td>\n",
       "      <td>0.921574</td>\n",
       "      <td>0.878005</td>\n",
       "      <td>0.894502</td>\n",
       "      <td>0.960273</td>\n",
       "      <td>BERT</td>\n",
       "      <td>144358662</td>\n",
       "      <td>0.153300</td>\n",
       "    </tr>\n",
       "    <tr>\n",
       "      <th>2</th>\n",
       "      <td>distilbert-pwbce</td>\n",
       "      <td>0.980360</td>\n",
       "      <td>0.387945</td>\n",
       "      <td>0.511465</td>\n",
       "      <td>0.357228</td>\n",
       "      <td>0.900086</td>\n",
       "      <td>0.876181</td>\n",
       "      <td>0.874003</td>\n",
       "      <td>0.964442</td>\n",
       "      <td>BERT</td>\n",
       "      <td>75821574</td>\n",
       "      <td>0.089415</td>\n",
       "    </tr>\n",
       "    <tr>\n",
       "      <th>3</th>\n",
       "      <td>hatebert-pwbce</td>\n",
       "      <td>0.979072</td>\n",
       "      <td>0.367850</td>\n",
       "      <td>0.484449</td>\n",
       "      <td>0.329246</td>\n",
       "      <td>0.916458</td>\n",
       "      <td>0.874366</td>\n",
       "      <td>0.891479</td>\n",
       "      <td>0.958937</td>\n",
       "      <td>BERT</td>\n",
       "      <td>118940934</td>\n",
       "      <td>0.171139</td>\n",
       "    </tr>\n",
       "    <tr>\n",
       "      <th>4</th>\n",
       "      <td>roberta-bce</td>\n",
       "      <td>0.981323</td>\n",
       "      <td>0.474881</td>\n",
       "      <td>0.535949</td>\n",
       "      <td>0.383589</td>\n",
       "      <td>0.889094</td>\n",
       "      <td>0.880017</td>\n",
       "      <td>0.890083</td>\n",
       "      <td>0.961594</td>\n",
       "      <td>BERT</td>\n",
       "      <td>134088961</td>\n",
       "      <td>0.153711</td>\n",
       "    </tr>\n",
       "    <tr>\n",
       "      <th>5</th>\n",
       "      <td>roberta-fl</td>\n",
       "      <td>0.981787</td>\n",
       "      <td>0.464816</td>\n",
       "      <td>0.552381</td>\n",
       "      <td>0.401704</td>\n",
       "      <td>0.883945</td>\n",
       "      <td>0.880695</td>\n",
       "      <td>0.900957</td>\n",
       "      <td>0.959741</td>\n",
       "      <td>BERT</td>\n",
       "      <td>134088961</td>\n",
       "      <td>0.154159</td>\n",
       "    </tr>\n",
       "    <tr>\n",
       "      <th>6</th>\n",
       "      <td>roberta-pwbce</td>\n",
       "      <td>0.980888</td>\n",
       "      <td>0.354077</td>\n",
       "      <td>0.484458</td>\n",
       "      <td>0.328398</td>\n",
       "      <td>0.923158</td>\n",
       "      <td>0.874105</td>\n",
       "      <td>0.898197</td>\n",
       "      <td>0.957460</td>\n",
       "      <td>BERT</td>\n",
       "      <td>134088961</td>\n",
       "      <td>0.152840</td>\n",
       "    </tr>\n",
       "    <tr>\n",
       "      <th>7</th>\n",
       "      <td>roberta-pwfl</td>\n",
       "      <td>0.980938</td>\n",
       "      <td>0.361202</td>\n",
       "      <td>0.486145</td>\n",
       "      <td>0.329668</td>\n",
       "      <td>0.925370</td>\n",
       "      <td>0.873434</td>\n",
       "      <td>0.891970</td>\n",
       "      <td>0.959730</td>\n",
       "      <td>BERT</td>\n",
       "      <td>134088961</td>\n",
       "      <td>0.154602</td>\n",
       "    </tr>\n",
       "    <tr>\n",
       "      <th>8</th>\n",
       "      <td>xlmroberta-pwbce</td>\n",
       "      <td>0.979014</td>\n",
       "      <td>0.336809</td>\n",
       "      <td>0.468018</td>\n",
       "      <td>0.313493</td>\n",
       "      <td>0.922960</td>\n",
       "      <td>0.868879</td>\n",
       "      <td>0.885950</td>\n",
       "      <td>0.958124</td>\n",
       "      <td>BERT</td>\n",
       "      <td>287502342</td>\n",
       "      <td>0.152607</td>\n",
       "    </tr>\n",
       "    <tr>\n",
       "      <th>9</th>\n",
       "      <td>glove-cct-pwbce</td>\n",
       "      <td>0.950467</td>\n",
       "      <td>0.342845</td>\n",
       "      <td>0.487355</td>\n",
       "      <td>0.350741</td>\n",
       "      <td>0.798290</td>\n",
       "      <td>0.813281</td>\n",
       "      <td>0.830681</td>\n",
       "      <td>0.944716</td>\n",
       "      <td>CCT</td>\n",
       "      <td>62132971</td>\n",
       "      <td>0.204585</td>\n",
       "    </tr>\n",
       "    <tr>\n",
       "      <th>10</th>\n",
       "      <td>freezed-glove-resnet44-pwbce</td>\n",
       "      <td>0.952641</td>\n",
       "      <td>0.418899</td>\n",
       "      <td>0.559082</td>\n",
       "      <td>0.463091</td>\n",
       "      <td>0.705275</td>\n",
       "      <td>0.821923</td>\n",
       "      <td>0.787577</td>\n",
       "      <td>0.949929</td>\n",
       "      <td>CNN</td>\n",
       "      <td>658038</td>\n",
       "      <td>0.073078</td>\n",
       "    </tr>\n",
       "    <tr>\n",
       "      <th>11</th>\n",
       "      <td>unfreezed-glove-resnet44-pwbce</td>\n",
       "      <td>0.965968</td>\n",
       "      <td>0.456557</td>\n",
       "      <td>0.595780</td>\n",
       "      <td>0.483515</td>\n",
       "      <td>0.775944</td>\n",
       "      <td>0.842061</td>\n",
       "      <td>0.849257</td>\n",
       "      <td>0.954003</td>\n",
       "      <td>CNN</td>\n",
       "      <td>26274138</td>\n",
       "      <td>0.071897</td>\n",
       "    </tr>\n",
       "    <tr>\n",
       "      <th>12</th>\n",
       "      <td>unfreezed-glove-resnet56-pwbce</td>\n",
       "      <td>0.963870</td>\n",
       "      <td>0.377804</td>\n",
       "      <td>0.509798</td>\n",
       "      <td>0.360408</td>\n",
       "      <td>0.870709</td>\n",
       "      <td>0.848731</td>\n",
       "      <td>0.844451</td>\n",
       "      <td>0.957860</td>\n",
       "      <td>CNN</td>\n",
       "      <td>26468570</td>\n",
       "      <td>0.084010</td>\n",
       "    </tr>\n",
       "    <tr>\n",
       "      <th>13</th>\n",
       "      <td>glove-bigru-pwbce</td>\n",
       "      <td>0.974819</td>\n",
       "      <td>0.349250</td>\n",
       "      <td>0.476162</td>\n",
       "      <td>0.323249</td>\n",
       "      <td>0.903618</td>\n",
       "      <td>0.857258</td>\n",
       "      <td>0.861632</td>\n",
       "      <td>0.960043</td>\n",
       "      <td>RNN</td>\n",
       "      <td>27665706</td>\n",
       "      <td>0.031950</td>\n",
       "    </tr>\n",
       "    <tr>\n",
       "      <th>14</th>\n",
       "      <td>glove-bilstm-pwbce</td>\n",
       "      <td>0.975391</td>\n",
       "      <td>0.363805</td>\n",
       "      <td>0.508891</td>\n",
       "      <td>0.358587</td>\n",
       "      <td>0.876122</td>\n",
       "      <td>0.863563</td>\n",
       "      <td>0.875760</td>\n",
       "      <td>0.956948</td>\n",
       "      <td>RNN</td>\n",
       "      <td>28348106</td>\n",
       "      <td>0.034753</td>\n",
       "    </tr>\n",
       "    <tr>\n",
       "      <th>15</th>\n",
       "      <td>xlnet-pwbce</td>\n",
       "      <td>0.979971</td>\n",
       "      <td>0.333617</td>\n",
       "      <td>0.458573</td>\n",
       "      <td>0.304453</td>\n",
       "      <td>0.928703</td>\n",
       "      <td>0.873850</td>\n",
       "      <td>0.883361</td>\n",
       "      <td>0.959699</td>\n",
       "      <td>XLNet</td>\n",
       "      <td>126177030</td>\n",
       "      <td>0.242603</td>\n",
       "    </tr>\n",
       "  </tbody>\n",
       "</table>\n",
       "</div>"
      ],
      "text/plain": [
       "                      session_name  auroc_macro  f1_macro_50  f1_micro_50  \\\n",
       "id                                                                          \n",
       "0                     albert-pwbce     0.978966     0.346320     0.478641   \n",
       "1                   bertweet-pwbce     0.981561     0.361618     0.492812   \n",
       "2                 distilbert-pwbce     0.980360     0.387945     0.511465   \n",
       "3                   hatebert-pwbce     0.979072     0.367850     0.484449   \n",
       "4                      roberta-bce     0.981323     0.474881     0.535949   \n",
       "5                       roberta-fl     0.981787     0.464816     0.552381   \n",
       "6                    roberta-pwbce     0.980888     0.354077     0.484458   \n",
       "7                     roberta-pwfl     0.980938     0.361202     0.486145   \n",
       "8                 xlmroberta-pwbce     0.979014     0.336809     0.468018   \n",
       "9                  glove-cct-pwbce     0.950467     0.342845     0.487355   \n",
       "10    freezed-glove-resnet44-pwbce     0.952641     0.418899     0.559082   \n",
       "11  unfreezed-glove-resnet44-pwbce     0.965968     0.456557     0.595780   \n",
       "12  unfreezed-glove-resnet56-pwbce     0.963870     0.377804     0.509798   \n",
       "13               glove-bigru-pwbce     0.974819     0.349250     0.476162   \n",
       "14              glove-bilstm-pwbce     0.975391     0.363805     0.508891   \n",
       "15                     xlnet-pwbce     0.979971     0.333617     0.458573   \n",
       "\n",
       "    precision_micro_50  recall_micro_50  generalized_subgroup_auc  \\\n",
       "id                                                                  \n",
       "0             0.324673         0.910351                  0.867430   \n",
       "1             0.336333         0.921574                  0.878005   \n",
       "2             0.357228         0.900086                  0.876181   \n",
       "3             0.329246         0.916458                  0.874366   \n",
       "4             0.383589         0.889094                  0.880017   \n",
       "5             0.401704         0.883945                  0.880695   \n",
       "6             0.328398         0.923158                  0.874105   \n",
       "7             0.329668         0.925370                  0.873434   \n",
       "8             0.313493         0.922960                  0.868879   \n",
       "9             0.350741         0.798290                  0.813281   \n",
       "10            0.463091         0.705275                  0.821923   \n",
       "11            0.483515         0.775944                  0.842061   \n",
       "12            0.360408         0.870709                  0.848731   \n",
       "13            0.323249         0.903618                  0.857258   \n",
       "14            0.358587         0.876122                  0.863563   \n",
       "15            0.304453         0.928703                  0.873850   \n",
       "\n",
       "    generalized_bpsn_auc  generalized_bnsp_auc model_type  parameters  \\\n",
       "id                                                                      \n",
       "0               0.899828              0.951305       BERT    21142278   \n",
       "1               0.894502              0.960273       BERT   144358662   \n",
       "2               0.874003              0.964442       BERT    75821574   \n",
       "3               0.891479              0.958937       BERT   118940934   \n",
       "4               0.890083              0.961594       BERT   134088961   \n",
       "5               0.900957              0.959741       BERT   134088961   \n",
       "6               0.898197              0.957460       BERT   134088961   \n",
       "7               0.891970              0.959730       BERT   134088961   \n",
       "8               0.885950              0.958124       BERT   287502342   \n",
       "9               0.830681              0.944716        CCT    62132971   \n",
       "10              0.787577              0.949929        CNN      658038   \n",
       "11              0.849257              0.954003        CNN    26274138   \n",
       "12              0.844451              0.957860        CNN    26468570   \n",
       "13              0.861632              0.960043        RNN    27665706   \n",
       "14              0.875760              0.956948        RNN    28348106   \n",
       "15              0.883361              0.959699      XLNet   126177030   \n",
       "\n",
       "    batch_time  \n",
       "id              \n",
       "0     0.177142  \n",
       "1     0.153300  \n",
       "2     0.089415  \n",
       "3     0.171139  \n",
       "4     0.153711  \n",
       "5     0.154159  \n",
       "6     0.152840  \n",
       "7     0.154602  \n",
       "8     0.152607  \n",
       "9     0.204585  \n",
       "10    0.073078  \n",
       "11    0.071897  \n",
       "12    0.084010  \n",
       "13    0.031950  \n",
       "14    0.034753  \n",
       "15    0.242603  "
      ]
     },
     "execution_count": 27,
     "metadata": {},
     "output_type": "execute_result"
    }
   ],
   "source": [
    "clean_perf_and_params_per_model_df"
   ]
  },
  {
   "cell_type": "code",
   "execution_count": 28,
   "metadata": {},
   "outputs": [],
   "source": [
    "excluded_session_name_list = [\"roberta-bce\", \"roberta-fl\", \"roberta-pwfl\"]"
   ]
  },
  {
   "cell_type": "code",
   "execution_count": 29,
   "metadata": {},
   "outputs": [],
   "source": [
    "clean_perf_and_params_per_model_df = clean_perf_and_params_per_model_df[clean_perf_and_params_per_model_df.apply(lambda r: r.session_name not in excluded_session_name_list, axis=1)]"
   ]
  },
  {
   "cell_type": "code",
   "execution_count": 30,
   "metadata": {},
   "outputs": [
    {
     "data": {
      "text/html": [
       "<div>\n",
       "<style scoped>\n",
       "    .dataframe tbody tr th:only-of-type {\n",
       "        vertical-align: middle;\n",
       "    }\n",
       "\n",
       "    .dataframe tbody tr th {\n",
       "        vertical-align: top;\n",
       "    }\n",
       "\n",
       "    .dataframe thead th {\n",
       "        text-align: right;\n",
       "    }\n",
       "</style>\n",
       "<table border=\"1\" class=\"dataframe\">\n",
       "  <thead>\n",
       "    <tr style=\"text-align: right;\">\n",
       "      <th></th>\n",
       "      <th>session_name</th>\n",
       "      <th>auroc_macro</th>\n",
       "      <th>f1_macro_50</th>\n",
       "      <th>f1_micro_50</th>\n",
       "      <th>precision_micro_50</th>\n",
       "      <th>recall_micro_50</th>\n",
       "      <th>generalized_subgroup_auc</th>\n",
       "      <th>generalized_bpsn_auc</th>\n",
       "      <th>generalized_bnsp_auc</th>\n",
       "      <th>model_type</th>\n",
       "      <th>parameters</th>\n",
       "      <th>batch_time</th>\n",
       "    </tr>\n",
       "    <tr>\n",
       "      <th>id</th>\n",
       "      <th></th>\n",
       "      <th></th>\n",
       "      <th></th>\n",
       "      <th></th>\n",
       "      <th></th>\n",
       "      <th></th>\n",
       "      <th></th>\n",
       "      <th></th>\n",
       "      <th></th>\n",
       "      <th></th>\n",
       "      <th></th>\n",
       "      <th></th>\n",
       "    </tr>\n",
       "  </thead>\n",
       "  <tbody>\n",
       "    <tr>\n",
       "      <th>0</th>\n",
       "      <td>albert-pwbce</td>\n",
       "      <td>0.978966</td>\n",
       "      <td>0.346320</td>\n",
       "      <td>0.478641</td>\n",
       "      <td>0.324673</td>\n",
       "      <td>0.910351</td>\n",
       "      <td>0.867430</td>\n",
       "      <td>0.899828</td>\n",
       "      <td>0.951305</td>\n",
       "      <td>BERT</td>\n",
       "      <td>21142278</td>\n",
       "      <td>0.177142</td>\n",
       "    </tr>\n",
       "    <tr>\n",
       "      <th>1</th>\n",
       "      <td>bertweet-pwbce</td>\n",
       "      <td>0.981561</td>\n",
       "      <td>0.361618</td>\n",
       "      <td>0.492812</td>\n",
       "      <td>0.336333</td>\n",
       "      <td>0.921574</td>\n",
       "      <td>0.878005</td>\n",
       "      <td>0.894502</td>\n",
       "      <td>0.960273</td>\n",
       "      <td>BERT</td>\n",
       "      <td>144358662</td>\n",
       "      <td>0.153300</td>\n",
       "    </tr>\n",
       "    <tr>\n",
       "      <th>2</th>\n",
       "      <td>distilbert-pwbce</td>\n",
       "      <td>0.980360</td>\n",
       "      <td>0.387945</td>\n",
       "      <td>0.511465</td>\n",
       "      <td>0.357228</td>\n",
       "      <td>0.900086</td>\n",
       "      <td>0.876181</td>\n",
       "      <td>0.874003</td>\n",
       "      <td>0.964442</td>\n",
       "      <td>BERT</td>\n",
       "      <td>75821574</td>\n",
       "      <td>0.089415</td>\n",
       "    </tr>\n",
       "    <tr>\n",
       "      <th>3</th>\n",
       "      <td>hatebert-pwbce</td>\n",
       "      <td>0.979072</td>\n",
       "      <td>0.367850</td>\n",
       "      <td>0.484449</td>\n",
       "      <td>0.329246</td>\n",
       "      <td>0.916458</td>\n",
       "      <td>0.874366</td>\n",
       "      <td>0.891479</td>\n",
       "      <td>0.958937</td>\n",
       "      <td>BERT</td>\n",
       "      <td>118940934</td>\n",
       "      <td>0.171139</td>\n",
       "    </tr>\n",
       "    <tr>\n",
       "      <th>6</th>\n",
       "      <td>roberta-pwbce</td>\n",
       "      <td>0.980888</td>\n",
       "      <td>0.354077</td>\n",
       "      <td>0.484458</td>\n",
       "      <td>0.328398</td>\n",
       "      <td>0.923158</td>\n",
       "      <td>0.874105</td>\n",
       "      <td>0.898197</td>\n",
       "      <td>0.957460</td>\n",
       "      <td>BERT</td>\n",
       "      <td>134088961</td>\n",
       "      <td>0.152840</td>\n",
       "    </tr>\n",
       "    <tr>\n",
       "      <th>8</th>\n",
       "      <td>xlmroberta-pwbce</td>\n",
       "      <td>0.979014</td>\n",
       "      <td>0.336809</td>\n",
       "      <td>0.468018</td>\n",
       "      <td>0.313493</td>\n",
       "      <td>0.922960</td>\n",
       "      <td>0.868879</td>\n",
       "      <td>0.885950</td>\n",
       "      <td>0.958124</td>\n",
       "      <td>BERT</td>\n",
       "      <td>287502342</td>\n",
       "      <td>0.152607</td>\n",
       "    </tr>\n",
       "    <tr>\n",
       "      <th>9</th>\n",
       "      <td>glove-cct-pwbce</td>\n",
       "      <td>0.950467</td>\n",
       "      <td>0.342845</td>\n",
       "      <td>0.487355</td>\n",
       "      <td>0.350741</td>\n",
       "      <td>0.798290</td>\n",
       "      <td>0.813281</td>\n",
       "      <td>0.830681</td>\n",
       "      <td>0.944716</td>\n",
       "      <td>CCT</td>\n",
       "      <td>62132971</td>\n",
       "      <td>0.204585</td>\n",
       "    </tr>\n",
       "    <tr>\n",
       "      <th>10</th>\n",
       "      <td>freezed-glove-resnet44-pwbce</td>\n",
       "      <td>0.952641</td>\n",
       "      <td>0.418899</td>\n",
       "      <td>0.559082</td>\n",
       "      <td>0.463091</td>\n",
       "      <td>0.705275</td>\n",
       "      <td>0.821923</td>\n",
       "      <td>0.787577</td>\n",
       "      <td>0.949929</td>\n",
       "      <td>CNN</td>\n",
       "      <td>658038</td>\n",
       "      <td>0.073078</td>\n",
       "    </tr>\n",
       "    <tr>\n",
       "      <th>11</th>\n",
       "      <td>unfreezed-glove-resnet44-pwbce</td>\n",
       "      <td>0.965968</td>\n",
       "      <td>0.456557</td>\n",
       "      <td>0.595780</td>\n",
       "      <td>0.483515</td>\n",
       "      <td>0.775944</td>\n",
       "      <td>0.842061</td>\n",
       "      <td>0.849257</td>\n",
       "      <td>0.954003</td>\n",
       "      <td>CNN</td>\n",
       "      <td>26274138</td>\n",
       "      <td>0.071897</td>\n",
       "    </tr>\n",
       "    <tr>\n",
       "      <th>12</th>\n",
       "      <td>unfreezed-glove-resnet56-pwbce</td>\n",
       "      <td>0.963870</td>\n",
       "      <td>0.377804</td>\n",
       "      <td>0.509798</td>\n",
       "      <td>0.360408</td>\n",
       "      <td>0.870709</td>\n",
       "      <td>0.848731</td>\n",
       "      <td>0.844451</td>\n",
       "      <td>0.957860</td>\n",
       "      <td>CNN</td>\n",
       "      <td>26468570</td>\n",
       "      <td>0.084010</td>\n",
       "    </tr>\n",
       "    <tr>\n",
       "      <th>13</th>\n",
       "      <td>glove-bigru-pwbce</td>\n",
       "      <td>0.974819</td>\n",
       "      <td>0.349250</td>\n",
       "      <td>0.476162</td>\n",
       "      <td>0.323249</td>\n",
       "      <td>0.903618</td>\n",
       "      <td>0.857258</td>\n",
       "      <td>0.861632</td>\n",
       "      <td>0.960043</td>\n",
       "      <td>RNN</td>\n",
       "      <td>27665706</td>\n",
       "      <td>0.031950</td>\n",
       "    </tr>\n",
       "    <tr>\n",
       "      <th>14</th>\n",
       "      <td>glove-bilstm-pwbce</td>\n",
       "      <td>0.975391</td>\n",
       "      <td>0.363805</td>\n",
       "      <td>0.508891</td>\n",
       "      <td>0.358587</td>\n",
       "      <td>0.876122</td>\n",
       "      <td>0.863563</td>\n",
       "      <td>0.875760</td>\n",
       "      <td>0.956948</td>\n",
       "      <td>RNN</td>\n",
       "      <td>28348106</td>\n",
       "      <td>0.034753</td>\n",
       "    </tr>\n",
       "    <tr>\n",
       "      <th>15</th>\n",
       "      <td>xlnet-pwbce</td>\n",
       "      <td>0.979971</td>\n",
       "      <td>0.333617</td>\n",
       "      <td>0.458573</td>\n",
       "      <td>0.304453</td>\n",
       "      <td>0.928703</td>\n",
       "      <td>0.873850</td>\n",
       "      <td>0.883361</td>\n",
       "      <td>0.959699</td>\n",
       "      <td>XLNet</td>\n",
       "      <td>126177030</td>\n",
       "      <td>0.242603</td>\n",
       "    </tr>\n",
       "  </tbody>\n",
       "</table>\n",
       "</div>"
      ],
      "text/plain": [
       "                      session_name  auroc_macro  f1_macro_50  f1_micro_50  \\\n",
       "id                                                                          \n",
       "0                     albert-pwbce     0.978966     0.346320     0.478641   \n",
       "1                   bertweet-pwbce     0.981561     0.361618     0.492812   \n",
       "2                 distilbert-pwbce     0.980360     0.387945     0.511465   \n",
       "3                   hatebert-pwbce     0.979072     0.367850     0.484449   \n",
       "6                    roberta-pwbce     0.980888     0.354077     0.484458   \n",
       "8                 xlmroberta-pwbce     0.979014     0.336809     0.468018   \n",
       "9                  glove-cct-pwbce     0.950467     0.342845     0.487355   \n",
       "10    freezed-glove-resnet44-pwbce     0.952641     0.418899     0.559082   \n",
       "11  unfreezed-glove-resnet44-pwbce     0.965968     0.456557     0.595780   \n",
       "12  unfreezed-glove-resnet56-pwbce     0.963870     0.377804     0.509798   \n",
       "13               glove-bigru-pwbce     0.974819     0.349250     0.476162   \n",
       "14              glove-bilstm-pwbce     0.975391     0.363805     0.508891   \n",
       "15                     xlnet-pwbce     0.979971     0.333617     0.458573   \n",
       "\n",
       "    precision_micro_50  recall_micro_50  generalized_subgroup_auc  \\\n",
       "id                                                                  \n",
       "0             0.324673         0.910351                  0.867430   \n",
       "1             0.336333         0.921574                  0.878005   \n",
       "2             0.357228         0.900086                  0.876181   \n",
       "3             0.329246         0.916458                  0.874366   \n",
       "6             0.328398         0.923158                  0.874105   \n",
       "8             0.313493         0.922960                  0.868879   \n",
       "9             0.350741         0.798290                  0.813281   \n",
       "10            0.463091         0.705275                  0.821923   \n",
       "11            0.483515         0.775944                  0.842061   \n",
       "12            0.360408         0.870709                  0.848731   \n",
       "13            0.323249         0.903618                  0.857258   \n",
       "14            0.358587         0.876122                  0.863563   \n",
       "15            0.304453         0.928703                  0.873850   \n",
       "\n",
       "    generalized_bpsn_auc  generalized_bnsp_auc model_type  parameters  \\\n",
       "id                                                                      \n",
       "0               0.899828              0.951305       BERT    21142278   \n",
       "1               0.894502              0.960273       BERT   144358662   \n",
       "2               0.874003              0.964442       BERT    75821574   \n",
       "3               0.891479              0.958937       BERT   118940934   \n",
       "6               0.898197              0.957460       BERT   134088961   \n",
       "8               0.885950              0.958124       BERT   287502342   \n",
       "9               0.830681              0.944716        CCT    62132971   \n",
       "10              0.787577              0.949929        CNN      658038   \n",
       "11              0.849257              0.954003        CNN    26274138   \n",
       "12              0.844451              0.957860        CNN    26468570   \n",
       "13              0.861632              0.960043        RNN    27665706   \n",
       "14              0.875760              0.956948        RNN    28348106   \n",
       "15              0.883361              0.959699      XLNet   126177030   \n",
       "\n",
       "    batch_time  \n",
       "id              \n",
       "0     0.177142  \n",
       "1     0.153300  \n",
       "2     0.089415  \n",
       "3     0.171139  \n",
       "6     0.152840  \n",
       "8     0.152607  \n",
       "9     0.204585  \n",
       "10    0.073078  \n",
       "11    0.071897  \n",
       "12    0.084010  \n",
       "13    0.031950  \n",
       "14    0.034753  \n",
       "15    0.242603  "
      ]
     },
     "execution_count": 30,
     "metadata": {},
     "output_type": "execute_result"
    }
   ],
   "source": [
    "clean_perf_and_params_per_model_df"
   ]
  },
  {
   "cell_type": "code",
   "execution_count": 31,
   "metadata": {},
   "outputs": [
    {
     "data": {
      "image/png": "[encoded data removed]",
      "text/plain": [
       "<Figure size 434.125x360 with 1 Axes>"
      ]
     },
     "metadata": {},
     "output_type": "display_data"
    }
   ],
   "source": [
    "rename_label_dict = {\n",
    "    \"model_type\":\"Model type\",\n",
    "    \"parameters\":\"Parameters\",\n",
    "    \"0.5\":\"50M\",\n",
    "    \"1.0\":\"100M\",\n",
    "    \"1.5\":\"150M\",\n",
    "    \"2.0\":\"200M\",\n",
    "    \"2.5\":\"250M\",\n",
    "}\n",
    "\n",
    "sns.set_style(\"darkgrid\")\n",
    "\n",
    "g = sns.relplot(\n",
    "    data=clean_perf_and_params_per_model_df,\n",
    "    x=\"batch_time\", y=\"auroc_macro\",\n",
    "    size=\"parameters\",\n",
    "    hue=\"model_type\", sizes=(10, 500),\n",
    "    alpha=0.8,\n",
    "    palette=\"colorblind\",\n",
    ")\n",
    "\n",
    "for t in g._legend.texts:\n",
    "    t.set_text(rename_label_dict.get(t.get_text(), t.get_text()))\n",
    "\n",
    "g.ax.xaxis.grid(True)\n",
    "g.ax.yaxis.grid(True)\n",
    "plt.xlabel(\"Inference time per batch (seconde)\")\n",
    "plt.ylabel(\"Macro AUROC\")\n",
    "\n",
    "for k, v in clean_perf_and_params_per_model_df.iterrows():\n",
    "    g.ax.annotate(k, (v.batch_time, v.auroc_macro),\n",
    "                xytext=(0,0), textcoords='offset points',\n",
    "                family='sans-serif', fontsize=9, color='black')\n",
    "\n",
    "\n",
    "#sns.move_legend(g, \"lower center\", ncol=2, frameon=False, bbox_to_anchor=(0.5, -0.3))\n",
    "sns.move_legend(g, \"center right\", ncol=1, frameon=True, bbox_to_anchor=(0.8, 0.5), borderpad=1)\n",
    "\n",
    "legend = g._legend\n",
    "frame = legend.get_frame()\n",
    "frame.set_facecolor('white')\n",
    "\n",
    "plt.savefig('perf_and_params_per_model_df.pdf', bbox_inches='tight')\n",
    "plt.show()"
   ]
  },
  {
   "cell_type": "code",
   "execution_count": 32,
   "metadata": {},
   "outputs": [
    {
     "data": {
      "image/png": "[encoded data removed]",
      "text/plain": [
       "<Figure size 426.125x360 with 1 Axes>"
      ]
     },
     "metadata": {},
     "output_type": "display_data"
    }
   ],
   "source": [
    "rename_label_dict = {\n",
    "    \"model_type\":\"Model type\",\n",
    "    \"parameters\":\"Parameters\",\n",
    "    \"0.5\":\"50M\",\n",
    "    \"1.0\":\"100M\",\n",
    "    \"1.5\":\"150M\",\n",
    "    \"2.0\":\"200M\",\n",
    "    \"2.5\":\"250M\",\n",
    "}\n",
    "\n",
    "sns.set_style(\"darkgrid\")\n",
    "\n",
    "\n",
    "g = sns.relplot(\n",
    "    data=clean_perf_and_params_per_model_df,\n",
    "    x=\"parameters\", y=\"auroc_macro\",\n",
    "    hue=\"model_type\", sizes=(10, 500),\n",
    "    alpha=1,\n",
    ")\n",
    "\n",
    "for t in g._legend.texts:\n",
    "    t.set_text(rename_label_dict.get(t.get_text(), t.get_text()))\n",
    "#g.set(xscale=\"log\", yscale=\"log\")\n",
    "g.ax.xaxis.grid(True)\n",
    "g.ax.yaxis.grid(True)\n",
    "plt.xlabel(\"Parameters\")\n",
    "plt.ylabel(\"Macro AUROC\")\n",
    "\n",
    "#for i in range(perf_and_params_per_model_df.shape[0]):\n",
    "#    g.ax.text(perf_and_params_per_model_df.batch_time[i] + 2, perf_and_params_per_model_df.auroc_macro[i] + 0.005, perf_and_params_per_model_df.index[i], horizontalalignment='center', size='medium', color='black', weight='semibold')\n",
    "\n",
    "for k, v in clean_perf_and_params_per_model_df.iterrows():\n",
    "    g.ax.annotate(k, (v.parameters, v.auroc_macro),\n",
    "                xytext=(3,3), textcoords='offset points',\n",
    "                family='sans-serif', fontsize=9, color='black')\n",
    "\n",
    "#g.ax.annotate(, (2,0.960))\n",
    "plt.savefig('perf_and_only_params_per_model_df.svg')\n",
    "plt.show()"
   ]
  },
  {
   "cell_type": "code",
   "execution_count": 33,
   "metadata": {},
   "outputs": [],
   "source": [
    "with open(\"number_model_map.log\", \"w\") as f:\n",
    "    f.write(\"\\n\".join([f\"{i}. {name}\" for i, name in enumerate(perf_and_params_per_model_df.session_name.to_list())]))"
   ]
  },
  {
   "cell_type": "markdown",
   "metadata": {},
   "source": [
    "### Histograme AUC par modèle et par identité"
   ]
  },
  {
   "cell_type": "code",
   "execution_count": 34,
   "metadata": {},
   "outputs": [
    {
     "data": {
      "application/vnd.jupyter.widget-view+json": {
       "model_id": "8ae03994ee6e4ff79295b1e4f2388105",
       "version_major": 2,
       "version_minor": 0
      },
      "text/plain": [
       "  0%|          | 0/16 [00:00<?, ?it/s]"
      ]
     },
     "metadata": {},
     "output_type": "display_data"
    }
   ],
   "source": [
    "model_type_dict = {session_name:model_type for session_name, model_type, _, _ in SELECTED_SESSION_INFO}\n",
    "\n",
    "identity_aur_per_sub_per_model_df = groupby_test_df.progress_apply(identity_aur_per_sub_per_model)\n",
    "\n",
    "identity_aur_per_sub_per_model_df.reset_index(inplace=True)\n",
    "identity_aur_per_sub_per_model_df = identity_aur_per_sub_per_model_df.melt(id_vars=[\"session_name\", \"subgroup\"], value_vars=[\"subgroup_auc\", \"bpsn_auc\", \"bnsp_auc\"])\n",
    "identity_aur_per_sub_per_model_df[\"model_type\"] = identity_aur_per_sub_per_model_df.apply(lambda row: model_type_dict[row.session_name], axis=1)"
   ]
  },
  {
   "cell_type": "code",
   "execution_count": 35,
   "metadata": {},
   "outputs": [
    {
     "data": {
      "text/html": [
       "<div>\n",
       "<style scoped>\n",
       "    .dataframe tbody tr th:only-of-type {\n",
       "        vertical-align: middle;\n",
       "    }\n",
       "\n",
       "    .dataframe tbody tr th {\n",
       "        vertical-align: top;\n",
       "    }\n",
       "\n",
       "    .dataframe thead th {\n",
       "        text-align: right;\n",
       "    }\n",
       "</style>\n",
       "<table border=\"1\" class=\"dataframe\">\n",
       "  <thead>\n",
       "    <tr style=\"text-align: right;\">\n",
       "      <th></th>\n",
       "      <th>session_name</th>\n",
       "      <th>subgroup</th>\n",
       "      <th>variable</th>\n",
       "      <th>value</th>\n",
       "      <th>model_type</th>\n",
       "    </tr>\n",
       "  </thead>\n",
       "  <tbody>\n",
       "    <tr>\n",
       "      <th>0</th>\n",
       "      <td>glove-cct-pwbce_2022-04-03T22-49-02-960730</td>\n",
       "      <td>male</td>\n",
       "      <td>subgroup_auc</td>\n",
       "      <td>0.878712</td>\n",
       "      <td>CCT</td>\n",
       "    </tr>\n",
       "    <tr>\n",
       "      <th>1</th>\n",
       "      <td>glove-cct-pwbce_2022-04-03T22-49-02-960730</td>\n",
       "      <td>female</td>\n",
       "      <td>subgroup_auc</td>\n",
       "      <td>0.880051</td>\n",
       "      <td>CCT</td>\n",
       "    </tr>\n",
       "    <tr>\n",
       "      <th>2</th>\n",
       "      <td>glove-cct-pwbce_2022-04-03T22-49-02-960730</td>\n",
       "      <td>black</td>\n",
       "      <td>subgroup_auc</td>\n",
       "      <td>0.772601</td>\n",
       "      <td>CCT</td>\n",
       "    </tr>\n",
       "    <tr>\n",
       "      <th>3</th>\n",
       "      <td>glove-cct-pwbce_2022-04-03T22-49-02-960730</td>\n",
       "      <td>white</td>\n",
       "      <td>subgroup_auc</td>\n",
       "      <td>0.792361</td>\n",
       "      <td>CCT</td>\n",
       "    </tr>\n",
       "    <tr>\n",
       "      <th>4</th>\n",
       "      <td>glove-cct-pwbce_2022-04-03T22-49-02-960730</td>\n",
       "      <td>homosexual_gay_or_lesbian</td>\n",
       "      <td>subgroup_auc</td>\n",
       "      <td>0.731388</td>\n",
       "      <td>CCT</td>\n",
       "    </tr>\n",
       "    <tr>\n",
       "      <th>...</th>\n",
       "      <td>...</td>\n",
       "      <td>...</td>\n",
       "      <td>...</td>\n",
       "      <td>...</td>\n",
       "      <td>...</td>\n",
       "    </tr>\n",
       "    <tr>\n",
       "      <th>427</th>\n",
       "      <td>pierre-xlnet-pwbce_2022-04-02T18-31-29-083854</td>\n",
       "      <td>homosexual_gay_or_lesbian</td>\n",
       "      <td>bnsp_auc</td>\n",
       "      <td>0.958170</td>\n",
       "      <td>XLNet</td>\n",
       "    </tr>\n",
       "    <tr>\n",
       "      <th>428</th>\n",
       "      <td>pierre-xlnet-pwbce_2022-04-02T18-31-29-083854</td>\n",
       "      <td>christian</td>\n",
       "      <td>bnsp_auc</td>\n",
       "      <td>0.950451</td>\n",
       "      <td>XLNet</td>\n",
       "    </tr>\n",
       "    <tr>\n",
       "      <th>429</th>\n",
       "      <td>pierre-xlnet-pwbce_2022-04-02T18-31-29-083854</td>\n",
       "      <td>jewish</td>\n",
       "      <td>bnsp_auc</td>\n",
       "      <td>0.964070</td>\n",
       "      <td>XLNet</td>\n",
       "    </tr>\n",
       "    <tr>\n",
       "      <th>430</th>\n",
       "      <td>pierre-xlnet-pwbce_2022-04-02T18-31-29-083854</td>\n",
       "      <td>muslim</td>\n",
       "      <td>bnsp_auc</td>\n",
       "      <td>0.959487</td>\n",
       "      <td>XLNet</td>\n",
       "    </tr>\n",
       "    <tr>\n",
       "      <th>431</th>\n",
       "      <td>pierre-xlnet-pwbce_2022-04-02T18-31-29-083854</td>\n",
       "      <td>psychiatric_or_mental_illness</td>\n",
       "      <td>bnsp_auc</td>\n",
       "      <td>0.956998</td>\n",
       "      <td>XLNet</td>\n",
       "    </tr>\n",
       "  </tbody>\n",
       "</table>\n",
       "<p>432 rows × 5 columns</p>\n",
       "</div>"
      ],
      "text/plain": [
       "                                      session_name  \\\n",
       "0       glove-cct-pwbce_2022-04-03T22-49-02-960730   \n",
       "1       glove-cct-pwbce_2022-04-03T22-49-02-960730   \n",
       "2       glove-cct-pwbce_2022-04-03T22-49-02-960730   \n",
       "3       glove-cct-pwbce_2022-04-03T22-49-02-960730   \n",
       "4       glove-cct-pwbce_2022-04-03T22-49-02-960730   \n",
       "..                                             ...   \n",
       "427  pierre-xlnet-pwbce_2022-04-02T18-31-29-083854   \n",
       "428  pierre-xlnet-pwbce_2022-04-02T18-31-29-083854   \n",
       "429  pierre-xlnet-pwbce_2022-04-02T18-31-29-083854   \n",
       "430  pierre-xlnet-pwbce_2022-04-02T18-31-29-083854   \n",
       "431  pierre-xlnet-pwbce_2022-04-02T18-31-29-083854   \n",
       "\n",
       "                          subgroup      variable     value model_type  \n",
       "0                             male  subgroup_auc  0.878712        CCT  \n",
       "1                           female  subgroup_auc  0.880051        CCT  \n",
       "2                            black  subgroup_auc  0.772601        CCT  \n",
       "3                            white  subgroup_auc  0.792361        CCT  \n",
       "4        homosexual_gay_or_lesbian  subgroup_auc  0.731388        CCT  \n",
       "..                             ...           ...       ...        ...  \n",
       "427      homosexual_gay_or_lesbian      bnsp_auc  0.958170      XLNet  \n",
       "428                      christian      bnsp_auc  0.950451      XLNet  \n",
       "429                         jewish      bnsp_auc  0.964070      XLNet  \n",
       "430                         muslim      bnsp_auc  0.959487      XLNet  \n",
       "431  psychiatric_or_mental_illness      bnsp_auc  0.956998      XLNet  \n",
       "\n",
       "[432 rows x 5 columns]"
      ]
     },
     "execution_count": 35,
     "metadata": {},
     "output_type": "execute_result"
    }
   ],
   "source": [
    "identity_aur_per_sub_per_model_df"
   ]
  },
  {
   "cell_type": "code",
   "execution_count": 36,
   "metadata": {},
   "outputs": [],
   "source": [
    "# Rename session_name / subgroup\n",
    "identity_aur_per_sub_per_model_df[\"session_name\"] = identity_aur_per_sub_per_model_df[\"session_name\"].apply(lambda session_name: session_name.split(\"_\")[0])\n",
    "identity_aur_per_sub_per_model_df[\"session_name\"] = identity_aur_per_sub_per_model_df[\"session_name\"].apply(lambda session_name: session_name[7:] if session_name.startswith(\"pierre-\") else session_name)\n",
    "\n",
    "renam_subgroup_dict = {\n",
    "    \"homosexual_gay_or_lesbian\":\"homosexual\",\n",
    "    \"psychiatric_or_mental_illness\":\"psychiatric\"\n",
    "}\n",
    "identity_aur_per_sub_per_model_df[\"subgroup\"] = identity_aur_per_sub_per_model_df[\"subgroup\"].apply(lambda subgroup: renam_subgroup_dict.get(subgroup, subgroup))"
   ]
  },
  {
   "cell_type": "code",
   "execution_count": 37,
   "metadata": {},
   "outputs": [
    {
     "data": {
      "text/html": [
       "<div>\n",
       "<style scoped>\n",
       "    .dataframe tbody tr th:only-of-type {\n",
       "        vertical-align: middle;\n",
       "    }\n",
       "\n",
       "    .dataframe tbody tr th {\n",
       "        vertical-align: top;\n",
       "    }\n",
       "\n",
       "    .dataframe thead th {\n",
       "        text-align: right;\n",
       "    }\n",
       "</style>\n",
       "<table border=\"1\" class=\"dataframe\">\n",
       "  <thead>\n",
       "    <tr style=\"text-align: right;\">\n",
       "      <th></th>\n",
       "      <th>session_name</th>\n",
       "      <th>subgroup</th>\n",
       "      <th>variable</th>\n",
       "      <th>value</th>\n",
       "      <th>model_type</th>\n",
       "    </tr>\n",
       "  </thead>\n",
       "  <tbody>\n",
       "    <tr>\n",
       "      <th>0</th>\n",
       "      <td>glove-cct-pwbce</td>\n",
       "      <td>male</td>\n",
       "      <td>subgroup_auc</td>\n",
       "      <td>0.878712</td>\n",
       "      <td>CCT</td>\n",
       "    </tr>\n",
       "    <tr>\n",
       "      <th>1</th>\n",
       "      <td>glove-cct-pwbce</td>\n",
       "      <td>female</td>\n",
       "      <td>subgroup_auc</td>\n",
       "      <td>0.880051</td>\n",
       "      <td>CCT</td>\n",
       "    </tr>\n",
       "    <tr>\n",
       "      <th>2</th>\n",
       "      <td>glove-cct-pwbce</td>\n",
       "      <td>black</td>\n",
       "      <td>subgroup_auc</td>\n",
       "      <td>0.772601</td>\n",
       "      <td>CCT</td>\n",
       "    </tr>\n",
       "    <tr>\n",
       "      <th>3</th>\n",
       "      <td>glove-cct-pwbce</td>\n",
       "      <td>white</td>\n",
       "      <td>subgroup_auc</td>\n",
       "      <td>0.792361</td>\n",
       "      <td>CCT</td>\n",
       "    </tr>\n",
       "    <tr>\n",
       "      <th>4</th>\n",
       "      <td>glove-cct-pwbce</td>\n",
       "      <td>homosexual</td>\n",
       "      <td>subgroup_auc</td>\n",
       "      <td>0.731388</td>\n",
       "      <td>CCT</td>\n",
       "    </tr>\n",
       "    <tr>\n",
       "      <th>...</th>\n",
       "      <td>...</td>\n",
       "      <td>...</td>\n",
       "      <td>...</td>\n",
       "      <td>...</td>\n",
       "      <td>...</td>\n",
       "    </tr>\n",
       "    <tr>\n",
       "      <th>427</th>\n",
       "      <td>xlnet-pwbce</td>\n",
       "      <td>homosexual</td>\n",
       "      <td>bnsp_auc</td>\n",
       "      <td>0.958170</td>\n",
       "      <td>XLNet</td>\n",
       "    </tr>\n",
       "    <tr>\n",
       "      <th>428</th>\n",
       "      <td>xlnet-pwbce</td>\n",
       "      <td>christian</td>\n",
       "      <td>bnsp_auc</td>\n",
       "      <td>0.950451</td>\n",
       "      <td>XLNet</td>\n",
       "    </tr>\n",
       "    <tr>\n",
       "      <th>429</th>\n",
       "      <td>xlnet-pwbce</td>\n",
       "      <td>jewish</td>\n",
       "      <td>bnsp_auc</td>\n",
       "      <td>0.964070</td>\n",
       "      <td>XLNet</td>\n",
       "    </tr>\n",
       "    <tr>\n",
       "      <th>430</th>\n",
       "      <td>xlnet-pwbce</td>\n",
       "      <td>muslim</td>\n",
       "      <td>bnsp_auc</td>\n",
       "      <td>0.959487</td>\n",
       "      <td>XLNet</td>\n",
       "    </tr>\n",
       "    <tr>\n",
       "      <th>431</th>\n",
       "      <td>xlnet-pwbce</td>\n",
       "      <td>psychiatric</td>\n",
       "      <td>bnsp_auc</td>\n",
       "      <td>0.956998</td>\n",
       "      <td>XLNet</td>\n",
       "    </tr>\n",
       "  </tbody>\n",
       "</table>\n",
       "<p>432 rows × 5 columns</p>\n",
       "</div>"
      ],
      "text/plain": [
       "        session_name     subgroup      variable     value model_type\n",
       "0    glove-cct-pwbce         male  subgroup_auc  0.878712        CCT\n",
       "1    glove-cct-pwbce       female  subgroup_auc  0.880051        CCT\n",
       "2    glove-cct-pwbce        black  subgroup_auc  0.772601        CCT\n",
       "3    glove-cct-pwbce        white  subgroup_auc  0.792361        CCT\n",
       "4    glove-cct-pwbce   homosexual  subgroup_auc  0.731388        CCT\n",
       "..               ...          ...           ...       ...        ...\n",
       "427      xlnet-pwbce   homosexual      bnsp_auc  0.958170      XLNet\n",
       "428      xlnet-pwbce    christian      bnsp_auc  0.950451      XLNet\n",
       "429      xlnet-pwbce       jewish      bnsp_auc  0.964070      XLNet\n",
       "430      xlnet-pwbce       muslim      bnsp_auc  0.959487      XLNet\n",
       "431      xlnet-pwbce  psychiatric      bnsp_auc  0.956998      XLNet\n",
       "\n",
       "[432 rows x 5 columns]"
      ]
     },
     "execution_count": 37,
     "metadata": {},
     "output_type": "execute_result"
    }
   ],
   "source": [
    "identity_aur_per_sub_per_model_df"
   ]
  },
  {
   "cell_type": "code",
   "execution_count": 38,
   "metadata": {},
   "outputs": [
    {
     "data": {
      "application/vnd.plotly.v1+json": {
       "config": {
        "plotlyServerURL": "https://plot.ly"
       },
       "data": [
        {
         "alignmentgroup": "True",
         "hovertemplate": "Model=BERT<br>variable=bnsp_auc<br>=%{x}<br>AUC=%{y}<extra></extra>",
         "legendgroup": "BERT",
         "marker": {
          "color": "#4C78A8",
          "pattern": {
           "shape": ""
          }
         },
         "name": "BERT",
         "offsetgroup": "BERT",
         "orientation": "v",
         "showlegend": true,
         "textposition": "auto",
         "type": "bar",
         "x": [
          "black",
          "christian",
          "female",
          "homosexual",
          "jewish",
          "male",
          "muslim",
          "psychiatric",
          "white"
         ],
         "xaxis": "x3",
         "y": [
          0.965739535188074,
          0.9518870282020383,
          0.9544186399863457,
          0.9554116283428081,
          0.9605868288347487,
          0.9591521684934319,
          0.9569464911026565,
          0.9618800745524807,
          0.9664139774306789
         ],
         "yaxis": "y3"
        },
        {
         "alignmentgroup": "True",
         "hovertemplate": "Model=BERT<br>variable=bpsn_auc<br>=%{x}<br>AUC=%{y}<extra></extra>",
         "legendgroup": "BERT",
         "marker": {
          "color": "#4C78A8",
          "pattern": {
           "shape": ""
          }
         },
         "name": "BERT",
         "offsetgroup": "BERT",
         "orientation": "v",
         "showlegend": false,
         "textposition": "auto",
         "type": "bar",
         "x": [
          "black",
          "christian",
          "female",
          "homosexual",
          "jewish",
          "male",
          "muslim",
          "psychiatric",
          "white"
         ],
         "xaxis": "x2",
         "y": [
          0.8402958278125767,
          0.9508762101051924,
          0.9383292274239968,
          0.8671235477273356,
          0.9105144580127507,
          0.9278557505519383,
          0.8834309314452023,
          0.9008559685088571,
          0.8505496642988963
         ],
         "yaxis": "y2"
        },
        {
         "alignmentgroup": "True",
         "hovertemplate": "Model=BERT<br>variable=subgroup_auc<br>=%{x}<br>AUC=%{y}<extra></extra>",
         "legendgroup": "BERT",
         "marker": {
          "color": "#4C78A8",
          "pattern": {
           "shape": ""
          }
         },
         "name": "BERT",
         "offsetgroup": "BERT",
         "orientation": "v",
         "showlegend": false,
         "textposition": "auto",
         "type": "bar",
         "x": [
          "black",
          "christian",
          "female",
          "homosexual",
          "jewish",
          "male",
          "muslim",
          "psychiatric",
          "white"
         ],
         "xaxis": "x",
         "y": [
          0.8271865960840381,
          0.9351203556276358,
          0.9205491207158093,
          0.824647633172661,
          0.9013716479875797,
          0.9160130679576641,
          0.85172789124089,
          0.9027887775966043,
          0.8453359551919631
         ],
         "yaxis": "y"
        },
        {
         "alignmentgroup": "True",
         "hovertemplate": "Model=CCT<br>variable=bnsp_auc<br>=%{x}<br>AUC=%{y}<extra></extra>",
         "legendgroup": "CCT",
         "marker": {
          "color": "#F58518",
          "pattern": {
           "shape": ""
          }
         },
         "name": "CCT",
         "offsetgroup": "CCT",
         "orientation": "v",
         "showlegend": true,
         "textposition": "auto",
         "type": "bar",
         "x": [
          "black",
          "christian",
          "female",
          "homosexual",
          "jewish",
          "male",
          "muslim",
          "psychiatric",
          "white"
         ],
         "xaxis": "x3",
         "y": [
          0.9528748757643926,
          0.9285510461349151,
          0.9389990551604765,
          0.945207957738433,
          0.9448083876197384,
          0.946295886111415,
          0.9499370163091241,
          0.9452528041770818,
          0.9519475224745589
         ],
         "yaxis": "y3"
        },
        {
         "alignmentgroup": "True",
         "hovertemplate": "Model=CCT<br>variable=bpsn_auc<br>=%{x}<br>AUC=%{y}<extra></extra>",
         "legendgroup": "CCT",
         "marker": {
          "color": "#F58518",
          "pattern": {
           "shape": ""
          }
         },
         "name": "CCT",
         "offsetgroup": "CCT",
         "orientation": "v",
         "showlegend": false,
         "textposition": "auto",
         "type": "bar",
         "x": [
          "black",
          "christian",
          "female",
          "homosexual",
          "jewish",
          "male",
          "muslim",
          "psychiatric",
          "white"
         ],
         "xaxis": "x2",
         "y": [
          0.7861086244288389,
          0.9175540928294805,
          0.8921456840091804,
          0.7780852879644665,
          0.847119027610375,
          0.8788568359623838,
          0.786380655469938,
          0.8645708546692837,
          0.8019357500631324
         ],
         "yaxis": "y2"
        },
        {
         "alignmentgroup": "True",
         "hovertemplate": "Model=CCT<br>variable=subgroup_auc<br>=%{x}<br>AUC=%{y}<extra></extra>",
         "legendgroup": "CCT",
         "marker": {
          "color": "#F58518",
          "pattern": {
           "shape": ""
          }
         },
         "name": "CCT",
         "offsetgroup": "CCT",
         "orientation": "v",
         "showlegend": false,
         "textposition": "auto",
         "type": "bar",
         "x": [
          "black",
          "christian",
          "female",
          "homosexual",
          "jewish",
          "male",
          "muslim",
          "psychiatric",
          "white"
         ],
         "xaxis": "x",
         "y": [
          0.77260061677181,
          0.8953951042369045,
          0.880051327614723,
          0.7313882091212459,
          0.8449982325910216,
          0.8787116623556062,
          0.7692967444161212,
          0.8613207547169811,
          0.792361012594379
         ],
         "yaxis": "y"
        },
        {
         "alignmentgroup": "True",
         "hovertemplate": "Model=CNN<br>variable=bnsp_auc<br>=%{x}<br>AUC=%{y}<extra></extra>",
         "legendgroup": "CNN",
         "marker": {
          "color": "#E45756",
          "pattern": {
           "shape": ""
          }
         },
         "name": "CNN",
         "offsetgroup": "CNN",
         "orientation": "v",
         "showlegend": true,
         "textposition": "auto",
         "type": "bar",
         "x": [
          "black",
          "christian",
          "female",
          "homosexual",
          "jewish",
          "male",
          "muslim",
          "psychiatric",
          "white"
         ],
         "xaxis": "x3",
         "y": [
          0.9614773126942104,
          0.9385651742780002,
          0.9525935149924107,
          0.950808593288575,
          0.9531926800481475,
          0.9566475702956589,
          0.9538240527342269,
          0.9535899881432232,
          0.9669751785247321
         ],
         "yaxis": "y3"
        },
        {
         "alignmentgroup": "True",
         "hovertemplate": "Model=CNN<br>variable=bpsn_auc<br>=%{x}<br>AUC=%{y}<extra></extra>",
         "legendgroup": "CNN",
         "marker": {
          "color": "#E45756",
          "pattern": {
           "shape": ""
          }
         },
         "name": "CNN",
         "offsetgroup": "CNN",
         "orientation": "v",
         "showlegend": false,
         "textposition": "auto",
         "type": "bar",
         "x": [
          "black",
          "christian",
          "female",
          "homosexual",
          "jewish",
          "male",
          "muslim",
          "psychiatric",
          "white"
         ],
         "xaxis": "x2",
         "y": [
          0.7617272572635126,
          0.9174333052631064,
          0.8894954280889147,
          0.7866473562376871,
          0.8497435687893322,
          0.8760189092966578,
          0.8162657887672297,
          0.8614934615354694,
          0.7757314382332726
         ],
         "yaxis": "y2"
        },
        {
         "alignmentgroup": "True",
         "hovertemplate": "Model=CNN<br>variable=subgroup_auc<br>=%{x}<br>AUC=%{y}<extra></extra>",
         "legendgroup": "CNN",
         "marker": {
          "color": "#E45756",
          "pattern": {
           "shape": ""
          }
         },
         "name": "CNN",
         "offsetgroup": "CNN",
         "orientation": "v",
         "showlegend": false,
         "textposition": "auto",
         "type": "bar",
         "x": [
          "black",
          "christian",
          "female",
          "homosexual",
          "jewish",
          "male",
          "muslim",
          "psychiatric",
          "white"
         ],
         "xaxis": "x",
         "y": [
          0.7825285817900993,
          0.9049703267052936,
          0.8965570909084629,
          0.7803329625509825,
          0.8541506386930878,
          0.8907823637463919,
          0.8131284924867902,
          0.8724784532960633,
          0.813231191185511
         ],
         "yaxis": "y"
        },
        {
         "alignmentgroup": "True",
         "hovertemplate": "Model=RNN<br>variable=bnsp_auc<br>=%{x}<br>AUC=%{y}<extra></extra>",
         "legendgroup": "RNN",
         "marker": {
          "color": "#72B7B2",
          "pattern": {
           "shape": ""
          }
         },
         "name": "RNN",
         "offsetgroup": "RNN",
         "orientation": "v",
         "showlegend": true,
         "textposition": "auto",
         "type": "bar",
         "x": [
          "black",
          "christian",
          "female",
          "homosexual",
          "jewish",
          "male",
          "muslim",
          "psychiatric",
          "white"
         ],
         "xaxis": "x3",
         "y": [
          0.9661125381167046,
          0.9497128935942634,
          0.9526413235165134,
          0.954021432873163,
          0.9604019602004912,
          0.9586873509787199,
          0.9548011380436954,
          0.9635585715614994,
          0.9675170524529504
         ],
         "yaxis": "y3"
        },
        {
         "alignmentgroup": "True",
         "hovertemplate": "Model=RNN<br>variable=bpsn_auc<br>=%{x}<br>AUC=%{y}<extra></extra>",
         "legendgroup": "RNN",
         "marker": {
          "color": "#72B7B2",
          "pattern": {
           "shape": ""
          }
         },
         "name": "RNN",
         "offsetgroup": "RNN",
         "orientation": "v",
         "showlegend": false,
         "textposition": "auto",
         "type": "bar",
         "x": [
          "black",
          "christian",
          "female",
          "homosexual",
          "jewish",
          "male",
          "muslim",
          "psychiatric",
          "white"
         ],
         "xaxis": "x2",
         "y": [
          0.809591092177199,
          0.9423324611824744,
          0.920791821728155,
          0.8308494531431235,
          0.8913121406346338,
          0.9105059817161237,
          0.8596922916863027,
          0.8874781208429602,
          0.8253195694665656
         ],
         "yaxis": "y2"
        },
        {
         "alignmentgroup": "True",
         "hovertemplate": "Model=RNN<br>variable=subgroup_auc<br>=%{x}<br>AUC=%{y}<extra></extra>",
         "legendgroup": "RNN",
         "marker": {
          "color": "#72B7B2",
          "pattern": {
           "shape": ""
          }
         },
         "name": "RNN",
         "offsetgroup": "RNN",
         "orientation": "v",
         "showlegend": false,
         "textposition": "auto",
         "type": "bar",
         "x": [
          "black",
          "christian",
          "female",
          "homosexual",
          "jewish",
          "male",
          "muslim",
          "psychiatric",
          "white"
         ],
         "xaxis": "x",
         "y": [
          0.8090061990263145,
          0.9310165939183543,
          0.9085324550349114,
          0.794496106785317,
          0.8908728921048801,
          0.9088015921469081,
          0.8355410215802275,
          0.8996389471232238,
          0.8361272678551726
         ],
         "yaxis": "y"
        },
        {
         "alignmentgroup": "True",
         "hovertemplate": "Model=XLNet<br>variable=bnsp_auc<br>=%{x}<br>AUC=%{y}<extra></extra>",
         "legendgroup": "XLNet",
         "marker": {
          "color": "#54A24B",
          "pattern": {
           "shape": ""
          }
         },
         "name": "XLNet",
         "offsetgroup": "XLNet",
         "orientation": "v",
         "showlegend": true,
         "textposition": "auto",
         "type": "bar",
         "x": [
          "black",
          "christian",
          "female",
          "homosexual",
          "jewish",
          "male",
          "muslim",
          "psychiatric",
          "white"
         ],
         "xaxis": "x3",
         "y": [
          0.9690780520303939,
          0.9504513165445156,
          0.9537483087259828,
          0.9581699951394551,
          0.9640704618501537,
          0.9591474787497796,
          0.9594872966637995,
          0.9569980449006696,
          0.967051110072822
         ],
         "yaxis": "y3"
        },
        {
         "alignmentgroup": "True",
         "hovertemplate": "Model=XLNet<br>variable=bpsn_auc<br>=%{x}<br>AUC=%{y}<extra></extra>",
         "legendgroup": "XLNet",
         "marker": {
          "color": "#54A24B",
          "pattern": {
           "shape": ""
          }
         },
         "name": "XLNet",
         "offsetgroup": "XLNet",
         "orientation": "v",
         "showlegend": false,
         "textposition": "auto",
         "type": "bar",
         "x": [
          "black",
          "christian",
          "female",
          "homosexual",
          "jewish",
          "male",
          "muslim",
          "psychiatric",
          "white"
         ],
         "xaxis": "x2",
         "y": [
          0.819706497432936,
          0.9494121235082998,
          0.9366232222423263,
          0.8517153577501719,
          0.8953554856985787,
          0.9255651365368445,
          0.8720830013440951,
          0.9137885163698344,
          0.8426989467321255
         ],
         "yaxis": "y2"
        },
        {
         "alignmentgroup": "True",
         "hovertemplate": "Model=XLNet<br>variable=subgroup_auc<br>=%{x}<br>AUC=%{y}<extra></extra>",
         "legendgroup": "XLNet",
         "marker": {
          "color": "#54A24B",
          "pattern": {
           "shape": ""
          }
         },
         "name": "XLNet",
         "offsetgroup": "XLNet",
         "orientation": "v",
         "showlegend": false,
         "textposition": "auto",
         "type": "bar",
         "x": [
          "black",
          "christian",
          "female",
          "homosexual",
          "jewish",
          "male",
          "muslim",
          "psychiatric",
          "white"
         ],
         "xaxis": "x",
         "y": [
          0.8278478733895837,
          0.9331354554056939,
          0.9200483033911455,
          0.8192057842046718,
          0.8975318653442289,
          0.9158371222466783,
          0.8505168005042345,
          0.9060913114372234,
          0.8467777147270693
         ],
         "yaxis": "y"
        }
       ],
       "layout": {
        "annotations": [
         {
          "font": {},
          "showarrow": false,
          "text": "Sub. AUC",
          "x": 0.5,
          "xanchor": "center",
          "xref": "paper",
          "y": 0.2866666666666666,
          "yanchor": "bottom",
          "yref": "paper"
         },
         {
          "font": {},
          "showarrow": false,
          "text": "BPSN AUC",
          "x": 0.5,
          "xanchor": "center",
          "xref": "paper",
          "y": 0.6433333333333333,
          "yanchor": "bottom",
          "yref": "paper"
         },
         {
          "font": {},
          "showarrow": false,
          "text": "BNSP AUC",
          "x": 0.5,
          "xanchor": "center",
          "xref": "paper",
          "y": 0.9999999999999999,
          "yanchor": "bottom",
          "yref": "paper"
         }
        ],
        "barmode": "group",
        "font": {
         "size": 17
        },
        "height": 1000,
        "legend": {
         "font": {
          "size": 22
         },
         "orientation": "h",
         "title": {
          "text": "Model"
         },
         "tracegroupgap": 0,
         "x": 0.5,
         "xanchor": "center",
         "y": -0.05,
         "yanchor": "top"
        },
        "margin": {
         "b": 0,
         "l": 0,
         "r": 0,
         "t": 20
        },
        "template": {
         "data": {
          "bar": [
           {
            "error_x": {
             "color": "#2a3f5f"
            },
            "error_y": {
             "color": "#2a3f5f"
            },
            "marker": {
             "line": {
              "color": "#E5ECF6",
              "width": 0.5
             },
             "pattern": {
              "fillmode": "overlay",
              "size": 10,
              "solidity": 0.2
             }
            },
            "type": "bar"
           }
          ],
          "barpolar": [
           {
            "marker": {
             "line": {
              "color": "#E5ECF6",
              "width": 0.5
             },
             "pattern": {
              "fillmode": "overlay",
              "size": 10,
              "solidity": 0.2
             }
            },
            "type": "barpolar"
           }
          ],
          "carpet": [
           {
            "aaxis": {
             "endlinecolor": "#2a3f5f",
             "gridcolor": "white",
             "linecolor": "white",
             "minorgridcolor": "white",
             "startlinecolor": "#2a3f5f"
            },
            "baxis": {
             "endlinecolor": "#2a3f5f",
             "gridcolor": "white",
             "linecolor": "white",
             "minorgridcolor": "white",
             "startlinecolor": "#2a3f5f"
            },
            "type": "carpet"
           }
          ],
          "choropleth": [
           {
            "colorbar": {
             "outlinewidth": 0,
             "ticks": ""
            },
            "type": "choropleth"
           }
          ],
          "contour": [
           {
            "colorbar": {
             "outlinewidth": 0,
             "ticks": ""
            },
            "colorscale": [
             [
              0,
              "#0d0887"
             ],
             [
              0.1111111111111111,
              "#46039f"
             ],
             [
              0.2222222222222222,
              "#7201a8"
             ],
             [
              0.3333333333333333,
              "#9c179e"
             ],
             [
              0.4444444444444444,
              "#bd3786"
             ],
             [
              0.5555555555555556,
              "#d8576b"
             ],
             [
              0.6666666666666666,
              "#ed7953"
             ],
             [
              0.7777777777777778,
              "#fb9f3a"
             ],
             [
              0.8888888888888888,
              "#fdca26"
             ],
             [
              1,
              "#f0f921"
             ]
            ],
            "type": "contour"
           }
          ],
          "contourcarpet": [
           {
            "colorbar": {
             "outlinewidth": 0,
             "ticks": ""
            },
            "type": "contourcarpet"
           }
          ],
          "heatmap": [
           {
            "colorbar": {
             "outlinewidth": 0,
             "ticks": ""
            },
            "colorscale": [
             [
              0,
              "#0d0887"
             ],
             [
              0.1111111111111111,
              "#46039f"
             ],
             [
              0.2222222222222222,
              "#7201a8"
             ],
             [
              0.3333333333333333,
              "#9c179e"
             ],
             [
              0.4444444444444444,
              "#bd3786"
             ],
             [
              0.5555555555555556,
              "#d8576b"
             ],
             [
              0.6666666666666666,
              "#ed7953"
             ],
             [
              0.7777777777777778,
              "#fb9f3a"
             ],
             [
              0.8888888888888888,
              "#fdca26"
             ],
             [
              1,
              "#f0f921"
             ]
            ],
            "type": "heatmap"
           }
          ],
          "heatmapgl": [
           {
            "colorbar": {
             "outlinewidth": 0,
             "ticks": ""
            },
            "colorscale": [
             [
              0,
              "#0d0887"
             ],
             [
              0.1111111111111111,
              "#46039f"
             ],
             [
              0.2222222222222222,
              "#7201a8"
             ],
             [
              0.3333333333333333,
              "#9c179e"
             ],
             [
              0.4444444444444444,
              "#bd3786"
             ],
             [
              0.5555555555555556,
              "#d8576b"
             ],
             [
              0.6666666666666666,
              "#ed7953"
             ],
             [
              0.7777777777777778,
              "#fb9f3a"
             ],
             [
              0.8888888888888888,
              "#fdca26"
             ],
             [
              1,
              "#f0f921"
             ]
            ],
            "type": "heatmapgl"
           }
          ],
          "histogram": [
           {
            "marker": {
             "pattern": {
              "fillmode": "overlay",
              "size": 10,
              "solidity": 0.2
             }
            },
            "type": "histogram"
           }
          ],
          "histogram2d": [
           {
            "colorbar": {
             "outlinewidth": 0,
             "ticks": ""
            },
            "colorscale": [
             [
              0,
              "#0d0887"
             ],
             [
              0.1111111111111111,
              "#46039f"
             ],
             [
              0.2222222222222222,
              "#7201a8"
             ],
             [
              0.3333333333333333,
              "#9c179e"
             ],
             [
              0.4444444444444444,
              "#bd3786"
             ],
             [
              0.5555555555555556,
              "#d8576b"
             ],
             [
              0.6666666666666666,
              "#ed7953"
             ],
             [
              0.7777777777777778,
              "#fb9f3a"
             ],
             [
              0.8888888888888888,
              "#fdca26"
             ],
             [
              1,
              "#f0f921"
             ]
            ],
            "type": "histogram2d"
           }
          ],
          "histogram2dcontour": [
           {
            "colorbar": {
             "outlinewidth": 0,
             "ticks": ""
            },
            "colorscale": [
             [
              0,
              "#0d0887"
             ],
             [
              0.1111111111111111,
              "#46039f"
             ],
             [
              0.2222222222222222,
              "#7201a8"
             ],
             [
              0.3333333333333333,
              "#9c179e"
             ],
             [
              0.4444444444444444,
              "#bd3786"
             ],
             [
              0.5555555555555556,
              "#d8576b"
             ],
             [
              0.6666666666666666,
              "#ed7953"
             ],
             [
              0.7777777777777778,
              "#fb9f3a"
             ],
             [
              0.8888888888888888,
              "#fdca26"
             ],
             [
              1,
              "#f0f921"
             ]
            ],
            "type": "histogram2dcontour"
           }
          ],
          "mesh3d": [
           {
            "colorbar": {
             "outlinewidth": 0,
             "ticks": ""
            },
            "type": "mesh3d"
           }
          ],
          "parcoords": [
           {
            "line": {
             "colorbar": {
              "outlinewidth": 0,
              "ticks": ""
             }
            },
            "type": "parcoords"
           }
          ],
          "pie": [
           {
            "automargin": true,
            "type": "pie"
           }
          ],
          "scatter": [
           {
            "marker": {
             "colorbar": {
              "outlinewidth": 0,
              "ticks": ""
             }
            },
            "type": "scatter"
           }
          ],
          "scatter3d": [
           {
            "line": {
             "colorbar": {
              "outlinewidth": 0,
              "ticks": ""
             }
            },
            "marker": {
             "colorbar": {
              "outlinewidth": 0,
              "ticks": ""
             }
            },
            "type": "scatter3d"
           }
          ],
          "scattercarpet": [
           {
            "marker": {
             "colorbar": {
              "outlinewidth": 0,
              "ticks": ""
             }
            },
            "type": "scattercarpet"
           }
          ],
          "scattergeo": [
           {
            "marker": {
             "colorbar": {
              "outlinewidth": 0,
              "ticks": ""
             }
            },
            "type": "scattergeo"
           }
          ],
          "scattergl": [
           {
            "marker": {
             "colorbar": {
              "outlinewidth": 0,
              "ticks": ""
             }
            },
            "type": "scattergl"
           }
          ],
          "scattermapbox": [
           {
            "marker": {
             "colorbar": {
              "outlinewidth": 0,
              "ticks": ""
             }
            },
            "type": "scattermapbox"
           }
          ],
          "scatterpolar": [
           {
            "marker": {
             "colorbar": {
              "outlinewidth": 0,
              "ticks": ""
             }
            },
            "type": "scatterpolar"
           }
          ],
          "scatterpolargl": [
           {
            "marker": {
             "colorbar": {
              "outlinewidth": 0,
              "ticks": ""
             }
            },
            "type": "scatterpolargl"
           }
          ],
          "scatterternary": [
           {
            "marker": {
             "colorbar": {
              "outlinewidth": 0,
              "ticks": ""
             }
            },
            "type": "scatterternary"
           }
          ],
          "surface": [
           {
            "colorbar": {
             "outlinewidth": 0,
             "ticks": ""
            },
            "colorscale": [
             [
              0,
              "#0d0887"
             ],
             [
              0.1111111111111111,
              "#46039f"
             ],
             [
              0.2222222222222222,
              "#7201a8"
             ],
             [
              0.3333333333333333,
              "#9c179e"
             ],
             [
              0.4444444444444444,
              "#bd3786"
             ],
             [
              0.5555555555555556,
              "#d8576b"
             ],
             [
              0.6666666666666666,
              "#ed7953"
             ],
             [
              0.7777777777777778,
              "#fb9f3a"
             ],
             [
              0.8888888888888888,
              "#fdca26"
             ],
             [
              1,
              "#f0f921"
             ]
            ],
            "type": "surface"
           }
          ],
          "table": [
           {
            "cells": {
             "fill": {
              "color": "#EBF0F8"
             },
             "line": {
              "color": "white"
             }
            },
            "header": {
             "fill": {
              "color": "#C8D4E3"
             },
             "line": {
              "color": "white"
             }
            },
            "type": "table"
           }
          ]
         },
         "layout": {
          "annotationdefaults": {
           "arrowcolor": "#2a3f5f",
           "arrowhead": 0,
           "arrowwidth": 1
          },
          "autotypenumbers": "strict",
          "coloraxis": {
           "colorbar": {
            "outlinewidth": 0,
            "ticks": ""
           }
          },
          "colorscale": {
           "diverging": [
            [
             0,
             "#8e0152"
            ],
            [
             0.1,
             "#c51b7d"
            ],
            [
             0.2,
             "#de77ae"
            ],
            [
             0.3,
             "#f1b6da"
            ],
            [
             0.4,
             "#fde0ef"
            ],
            [
             0.5,
             "#f7f7f7"
            ],
            [
             0.6,
             "#e6f5d0"
            ],
            [
             0.7,
             "#b8e186"
            ],
            [
             0.8,
             "#7fbc41"
            ],
            [
             0.9,
             "#4d9221"
            ],
            [
             1,
             "#276419"
            ]
           ],
           "sequential": [
            [
             0,
             "#0d0887"
            ],
            [
             0.1111111111111111,
             "#46039f"
            ],
            [
             0.2222222222222222,
             "#7201a8"
            ],
            [
             0.3333333333333333,
             "#9c179e"
            ],
            [
             0.4444444444444444,
             "#bd3786"
            ],
            [
             0.5555555555555556,
             "#d8576b"
            ],
            [
             0.6666666666666666,
             "#ed7953"
            ],
            [
             0.7777777777777778,
             "#fb9f3a"
            ],
            [
             0.8888888888888888,
             "#fdca26"
            ],
            [
             1,
             "#f0f921"
            ]
           ],
           "sequentialminus": [
            [
             0,
             "#0d0887"
            ],
            [
             0.1111111111111111,
             "#46039f"
            ],
            [
             0.2222222222222222,
             "#7201a8"
            ],
            [
             0.3333333333333333,
             "#9c179e"
            ],
            [
             0.4444444444444444,
             "#bd3786"
            ],
            [
             0.5555555555555556,
             "#d8576b"
            ],
            [
             0.6666666666666666,
             "#ed7953"
            ],
            [
             0.7777777777777778,
             "#fb9f3a"
            ],
            [
             0.8888888888888888,
             "#fdca26"
            ],
            [
             1,
             "#f0f921"
            ]
           ]
          },
          "colorway": [
           "#636efa",
           "#EF553B",
           "#00cc96",
           "#ab63fa",
           "#FFA15A",
           "#19d3f3",
           "#FF6692",
           "#B6E880",
           "#FF97FF",
           "#FECB52"
          ],
          "font": {
           "color": "#2a3f5f"
          },
          "geo": {
           "bgcolor": "white",
           "lakecolor": "white",
           "landcolor": "#E5ECF6",
           "showlakes": true,
           "showland": true,
           "subunitcolor": "white"
          },
          "hoverlabel": {
           "align": "left"
          },
          "hovermode": "closest",
          "mapbox": {
           "style": "light"
          },
          "paper_bgcolor": "white",
          "plot_bgcolor": "#E5ECF6",
          "polar": {
           "angularaxis": {
            "gridcolor": "white",
            "linecolor": "white",
            "ticks": ""
           },
           "bgcolor": "#E5ECF6",
           "radialaxis": {
            "gridcolor": "white",
            "linecolor": "white",
            "ticks": ""
           }
          },
          "scene": {
           "xaxis": {
            "backgroundcolor": "#E5ECF6",
            "gridcolor": "white",
            "gridwidth": 2,
            "linecolor": "white",
            "showbackground": true,
            "ticks": "",
            "zerolinecolor": "white"
           },
           "yaxis": {
            "backgroundcolor": "#E5ECF6",
            "gridcolor": "white",
            "gridwidth": 2,
            "linecolor": "white",
            "showbackground": true,
            "ticks": "",
            "zerolinecolor": "white"
           },
           "zaxis": {
            "backgroundcolor": "#E5ECF6",
            "gridcolor": "white",
            "gridwidth": 2,
            "linecolor": "white",
            "showbackground": true,
            "ticks": "",
            "zerolinecolor": "white"
           }
          },
          "shapedefaults": {
           "line": {
            "color": "#2a3f5f"
           }
          },
          "ternary": {
           "aaxis": {
            "gridcolor": "white",
            "linecolor": "white",
            "ticks": ""
           },
           "baxis": {
            "gridcolor": "white",
            "linecolor": "white",
            "ticks": ""
           },
           "bgcolor": "#E5ECF6",
           "caxis": {
            "gridcolor": "white",
            "linecolor": "white",
            "ticks": ""
           }
          },
          "title": {
           "x": 0.05
          },
          "xaxis": {
           "automargin": true,
           "gridcolor": "white",
           "linecolor": "white",
           "ticks": "",
           "title": {
            "standoff": 15
           },
           "zerolinecolor": "white",
           "zerolinewidth": 2
          },
          "yaxis": {
           "automargin": true,
           "gridcolor": "white",
           "linecolor": "white",
           "ticks": "",
           "title": {
            "standoff": 15
           },
           "zerolinecolor": "white",
           "zerolinewidth": 2
          }
         }
        },
        "width": 800,
        "xaxis": {
         "anchor": "y",
         "domain": [
          0,
          1
         ],
         "title": {
          "text": ""
         }
        },
        "xaxis2": {
         "anchor": "y2",
         "domain": [
          0,
          1
         ],
         "matches": "x",
         "showticklabels": false
        },
        "xaxis3": {
         "anchor": "y3",
         "domain": [
          0,
          1
         ],
         "matches": "x",
         "showticklabels": false
        },
        "yaxis": {
         "anchor": "x",
         "domain": [
          0,
          0.2866666666666666
         ],
         "range": [
          0.7,
          1
         ],
         "title": {
          "text": "AUC"
         }
        },
        "yaxis2": {
         "anchor": "x2",
         "domain": [
          0.35666666666666663,
          0.6433333333333333
         ],
         "matches": "y",
         "range": [
          0.7,
          1
         ],
         "title": {
          "text": "AUC"
         }
        },
        "yaxis3": {
         "anchor": "x3",
         "domain": [
          0.7133333333333333,
          0.9999999999999999
         ],
         "matches": "y",
         "range": [
          0.7,
          1
         ],
         "title": {
          "text": "AUC"
         }
        }
       }
      }
     },
     "metadata": {},
     "output_type": "display_data"
    }
   ],
   "source": [
    "import plotly.express as px\n",
    "\n",
    "labels={\n",
    "    \"subgroup_auc\": \"Sub. AUC\",\n",
    "    \"bpsn_auc\": \"BPSN AUC\",\n",
    "    \"bnsp_auc\": \"BNSP AUC\",\n",
    "    \"subgroup\":\"\",\n",
    "    \"model_type\": \"Model\",\n",
    "    \"value\":\"AUC\"\n",
    "}\n",
    "\n",
    "identity_aur_per_sub_per_type = identity_aur_per_sub_per_model_df.groupby([\"model_type\", \"variable\", \"subgroup\"]).mean().reset_index()\n",
    "\n",
    "fig = px.bar(identity_aur_per_sub_per_type, x=\"subgroup\", y=\"value\", \n",
    "            color=\"model_type\", barmode=\"group\",\n",
    "            facet_col=\"variable\", labels=labels, range_y=[0.7, 1.0], width=800, height=1000, facet_col_wrap=1, \n",
    "            color_discrete_sequence=px.colors.qualitative.T10)\n",
    "\n",
    "#sns.move_legend(g, \"lower\", ncol=2, frameon=True, bbox_to_anchor=(0.8, 0.5), borderpad=1)\n",
    "#fig.update_traces(width=0.1)\n",
    "fig.update_layout(legend=dict(\n",
    "    orientation=\"h\",\n",
    "    yanchor=\"top\",\n",
    "    y=-0.05,\n",
    "    xanchor=\"center\",\n",
    "    x=0.5,\n",
    "    font=dict(size=22)\n",
    "    ),\n",
    "    margin={'l': 0, 'r': 0, 't': 20, 'b': 0},\n",
    "    font={'size'   : 17}\n",
    ")\n",
    "\n",
    "fig.for_each_annotation(lambda a: a.update(text=a.text.split(\"=\")[-1]))\n",
    "fig.for_each_annotation(lambda a: a.update(text=labels.get(a.text, a.text)))\n",
    "\n",
    "fig.write_image(\"identity_aur_per_sub_per_model_df.pdf\")\n",
    "fig.show()\n",
    "\n"
   ]
  },
  {
   "cell_type": "markdown",
   "metadata": {},
   "source": [
    "* La tableau des AUROC par classe (toxicity, obscene, ...) en fonction du modèle\n",
    "* Le graph qui place les modèles de AUROC en fonction du nombre de paramètres, avec des points qui ont différentes couleurs en fonction de la famille du modèle (type BERT, type CNN, ...)"
   ]
  },
  {
   "cell_type": "code",
   "execution_count": 39,
   "metadata": {},
   "outputs": [
    {
     "data": {
      "text/plain": [
       "array(['glove-cct-pwbce', 'albert-pwbce', 'bertweet-pwbce',\n",
       "       'distilbert-pwbce', 'freezed-glove-resnet44-pwbce',\n",
       "       'glove-bigru-pwbce', 'glove-bilstm-pwbce', 'hatebert-pwbce',\n",
       "       'roberta-bce', 'roberta-fl', 'roberta-pwbce', 'roberta-pwfl',\n",
       "       'unfreezed-glove-resnet44-pwbce', 'unfreezed-glove-resnet56-pwbce',\n",
       "       'xlmroberta-pwbce', 'xlnet-pwbce'], dtype=object)"
      ]
     },
     "execution_count": 39,
     "metadata": {},
     "output_type": "execute_result"
    }
   ],
   "source": [
    "identity_aur_per_sub_per_model_df.session_name.unique()"
   ]
  },
  {
   "cell_type": "code",
   "execution_count": 40,
   "metadata": {},
   "outputs": [],
   "source": []
  },
  {
   "cell_type": "code",
   "execution_count": 41,
   "metadata": {},
   "outputs": [
    {
     "data": {
      "text/plain": [
       "0       True\n",
       "1       True\n",
       "2       True\n",
       "3       True\n",
       "4       True\n",
       "       ...  \n",
       "427    False\n",
       "428    False\n",
       "429    False\n",
       "430    False\n",
       "431    False\n",
       "Name: session_name, Length: 432, dtype: bool"
      ]
     },
     "execution_count": 41,
     "metadata": {},
     "output_type": "execute_result"
    }
   ],
   "source": [
    "identity_aur_per_sub_per_model_df.session_name.isin([\"glove-cct-pwbce\"])"
   ]
  },
  {
   "cell_type": "code",
   "execution_count": 47,
   "metadata": {},
   "outputs": [
    {
     "data": {
      "application/vnd.plotly.v1+json": {
       "config": {
        "plotlyServerURL": "https://plot.ly"
       },
       "data": [
        {
         "alignmentgroup": "True",
         "hovertemplate": "=%{x}<br>variable=subgroup_auc<br>AUC=%{y}<extra></extra>",
         "legendgroup": "glove-cct-pwbce",
         "marker": {
          "color": "#4C78A8",
          "pattern": {
           "shape": ""
          }
         },
         "name": "glove-cct-pwbce",
         "offsetgroup": "glove-cct-pwbce",
         "orientation": "v",
         "showlegend": true,
         "textposition": "auto",
         "type": "bar",
         "x": [
          "male",
          "female",
          "black",
          "white",
          "homosexual",
          "christian",
          "jewish",
          "muslim",
          "psychiatric"
         ],
         "xaxis": "x3",
         "y": [
          0.8787116623556062,
          0.880051327614723,
          0.77260061677181,
          0.792361012594379,
          0.7313882091212459,
          0.8953951042369045,
          0.8449982325910216,
          0.7692967444161212,
          0.8613207547169811
         ],
         "yaxis": "y3"
        },
        {
         "alignmentgroup": "True",
         "hovertemplate": "=%{x}<br>variable=bpsn_auc<br>AUC=%{y}<extra></extra>",
         "legendgroup": "glove-cct-pwbce",
         "marker": {
          "color": "#4C78A8",
          "pattern": {
           "shape": ""
          }
         },
         "name": "glove-cct-pwbce",
         "offsetgroup": "glove-cct-pwbce",
         "orientation": "v",
         "showlegend": false,
         "textposition": "auto",
         "type": "bar",
         "x": [
          "male",
          "female",
          "black",
          "white",
          "homosexual",
          "christian",
          "jewish",
          "muslim",
          "psychiatric"
         ],
         "xaxis": "x2",
         "y": [
          0.8788568359623838,
          0.8921456840091804,
          0.7861086244288389,
          0.8019357500631324,
          0.7780852879644665,
          0.9175540928294805,
          0.847119027610375,
          0.786380655469938,
          0.8645708546692837
         ],
         "yaxis": "y2"
        },
        {
         "alignmentgroup": "True",
         "hovertemplate": "=%{x}<br>variable=bnsp_auc<br>AUC=%{y}<extra></extra>",
         "legendgroup": "glove-cct-pwbce",
         "marker": {
          "color": "#4C78A8",
          "pattern": {
           "shape": ""
          }
         },
         "name": "glove-cct-pwbce",
         "offsetgroup": "glove-cct-pwbce",
         "orientation": "v",
         "showlegend": false,
         "textposition": "auto",
         "type": "bar",
         "x": [
          "male",
          "female",
          "black",
          "white",
          "homosexual",
          "christian",
          "jewish",
          "muslim",
          "psychiatric"
         ],
         "xaxis": "x",
         "y": [
          0.946295886111415,
          0.9389990551604765,
          0.9528748757643926,
          0.9519475224745589,
          0.945207957738433,
          0.9285510461349151,
          0.9448083876197384,
          0.9499370163091241,
          0.9452528041770818
         ],
         "yaxis": "y"
        },
        {
         "alignmentgroup": "True",
         "hovertemplate": "=%{x}<br>variable=subgroup_auc<br>AUC=%{y}<extra></extra>",
         "legendgroup": "distilbert-pwbce",
         "marker": {
          "color": "#F58518",
          "pattern": {
           "shape": ""
          }
         },
         "name": "distilbert-pwbce",
         "offsetgroup": "distilbert-pwbce",
         "orientation": "v",
         "showlegend": true,
         "textposition": "auto",
         "type": "bar",
         "x": [
          "male",
          "female",
          "black",
          "white",
          "homosexual",
          "christian",
          "jewish",
          "muslim",
          "psychiatric"
         ],
         "xaxis": "x3",
         "y": [
          0.9172758382468711,
          0.917032984112141,
          0.8323719102706595,
          0.8492201415488406,
          0.8267474972191323,
          0.9374339331370294,
          0.9064104963300272,
          0.8503878164596939,
          0.8964942930351736
         ],
         "yaxis": "y3"
        },
        {
         "alignmentgroup": "True",
         "hovertemplate": "=%{x}<br>variable=bpsn_auc<br>AUC=%{y}<extra></extra>",
         "legendgroup": "distilbert-pwbce",
         "marker": {
          "color": "#F58518",
          "pattern": {
           "shape": ""
          }
         },
         "name": "distilbert-pwbce",
         "offsetgroup": "distilbert-pwbce",
         "orientation": "v",
         "showlegend": false,
         "textposition": "auto",
         "type": "bar",
         "x": [
          "male",
          "female",
          "black",
          "white",
          "homosexual",
          "christian",
          "jewish",
          "muslim",
          "psychiatric"
         ],
         "xaxis": "x2",
         "y": [
          0.9222433995955516,
          0.933282185472737,
          0.8094134440493854,
          0.8291712847800107,
          0.8325486999512628,
          0.949989633055583,
          0.8984361652587027,
          0.8688501300573743,
          0.8904965391700286
         ],
         "yaxis": "y2"
        },
        {
         "alignmentgroup": "True",
         "hovertemplate": "=%{x}<br>variable=bnsp_auc<br>AUC=%{y}<extra></extra>",
         "legendgroup": "distilbert-pwbce",
         "marker": {
          "color": "#F58518",
          "pattern": {
           "shape": ""
          }
         },
         "name": "distilbert-pwbce",
         "offsetgroup": "distilbert-pwbce",
         "orientation": "v",
         "showlegend": false,
         "textposition": "auto",
         "type": "bar",
         "x": [
          "male",
          "female",
          "black",
          "white",
          "homosexual",
          "christian",
          "jewish",
          "muslim",
          "psychiatric"
         ],
         "xaxis": "x",
         "y": [
          0.9629902835802999,
          0.9562929514321855,
          0.9741409943635735,
          0.9724988943134042,
          0.9668148422840301,
          0.9546370125271386,
          0.9685954814316576,
          0.9620197413283534,
          0.9630872435319943
         ],
         "yaxis": "y"
        },
        {
         "alignmentgroup": "True",
         "hovertemplate": "=%{x}<br>variable=subgroup_auc<br>AUC=%{y}<extra></extra>",
         "legendgroup": "glove-bilstm-pwbce",
         "marker": {
          "color": "#E45756",
          "pattern": {
           "shape": ""
          }
         },
         "name": "glove-bilstm-pwbce",
         "offsetgroup": "glove-bilstm-pwbce",
         "orientation": "v",
         "showlegend": true,
         "textposition": "auto",
         "type": "bar",
         "x": [
          "male",
          "female",
          "black",
          "white",
          "homosexual",
          "christian",
          "jewish",
          "muslim",
          "psychiatric"
         ],
         "xaxis": "x3",
         "y": [
          0.9108893771187122,
          0.909673824211662,
          0.8149156243640518,
          0.8379056919027128,
          0.7957130144605116,
          0.9339825592925503,
          0.8982180358887988,
          0.8382101269761486,
          0.9028068949452596
         ],
         "yaxis": "y3"
        },
        {
         "alignmentgroup": "True",
         "hovertemplate": "=%{x}<br>variable=bpsn_auc<br>AUC=%{y}<extra></extra>",
         "legendgroup": "glove-bilstm-pwbce",
         "marker": {
          "color": "#E45756",
          "pattern": {
           "shape": ""
          }
         },
         "name": "glove-bilstm-pwbce",
         "offsetgroup": "glove-bilstm-pwbce",
         "orientation": "v",
         "showlegend": false,
         "textposition": "auto",
         "type": "bar",
         "x": [
          "male",
          "female",
          "black",
          "white",
          "homosexual",
          "christian",
          "jewish",
          "muslim",
          "psychiatric"
         ],
         "xaxis": "x2",
         "y": [
          0.9140608353845797,
          0.9252975688580827,
          0.8192405189347316,
          0.8324141846171589,
          0.8369031662151205,
          0.9464011156823484,
          0.9016011905113345,
          0.8688956685941356,
          0.8923821503097082
         ],
         "yaxis": "y2"
        },
        {
         "alignmentgroup": "True",
         "hovertemplate": "=%{x}<br>variable=bnsp_auc<br>AUC=%{y}<extra></extra>",
         "legendgroup": "glove-bilstm-pwbce",
         "marker": {
          "color": "#E45756",
          "pattern": {
           "shape": ""
          }
         },
         "name": "glove-bilstm-pwbce",
         "offsetgroup": "glove-bilstm-pwbce",
         "orientation": "v",
         "showlegend": false,
         "textposition": "auto",
         "type": "bar",
         "x": [
          "male",
          "female",
          "black",
          "white",
          "homosexual",
          "christian",
          "jewish",
          "muslim",
          "psychiatric"
         ],
         "xaxis": "x",
         "y": [
          0.9579601066778664,
          0.950817032277089,
          0.9649870767913424,
          0.9665558012805955,
          0.951074945343075,
          0.9485803208252658,
          0.9587444472971992,
          0.9520523821855921,
          0.9628902003950379
         ],
         "yaxis": "y"
        },
        {
         "alignmentgroup": "True",
         "hovertemplate": "=%{x}<br>variable=subgroup_auc<br>AUC=%{y}<extra></extra>",
         "legendgroup": "roberta-fl",
         "marker": {
          "color": "#72B7B2",
          "pattern": {
           "shape": ""
          }
         },
         "name": "roberta-fl",
         "offsetgroup": "roberta-fl",
         "orientation": "v",
         "showlegend": true,
         "textposition": "auto",
         "type": "bar",
         "x": [
          "male",
          "female",
          "black",
          "white",
          "homosexual",
          "christian",
          "jewish",
          "muslim",
          "psychiatric"
         ],
         "xaxis": "x3",
         "y": [
          0.9185257779991325,
          0.9241813549816797,
          0.830311438455879,
          0.8507168077426271,
          0.8387786429365963,
          0.9400980134768531,
          0.9040816750878506,
          0.8581561132453317,
          0.9078849289541113
         ],
         "yaxis": "y3"
        },
        {
         "alignmentgroup": "True",
         "hovertemplate": "=%{x}<br>variable=bpsn_auc<br>AUC=%{y}<extra></extra>",
         "legendgroup": "roberta-fl",
         "marker": {
          "color": "#72B7B2",
          "pattern": {
           "shape": ""
          }
         },
         "name": "roberta-fl",
         "offsetgroup": "roberta-fl",
         "orientation": "v",
         "showlegend": false,
         "textposition": "auto",
         "type": "bar",
         "x": [
          "male",
          "female",
          "black",
          "white",
          "homosexual",
          "christian",
          "jewish",
          "muslim",
          "psychiatric"
         ],
         "xaxis": "x2",
         "y": [
          0.9335729736077065,
          0.9438269234755469,
          0.8557799511878468,
          0.8714692659337337,
          0.8759520034392712,
          0.9504805301447512,
          0.9116156483002047,
          0.8863793120616432,
          0.9099249087211627
         ],
         "yaxis": "y2"
        },
        {
         "alignmentgroup": "True",
         "hovertemplate": "=%{x}<br>variable=bnsp_auc<br>AUC=%{y}<extra></extra>",
         "legendgroup": "roberta-fl",
         "marker": {
          "color": "#72B7B2",
          "pattern": {
           "shape": ""
          }
         },
         "name": "roberta-fl",
         "offsetgroup": "roberta-fl",
         "orientation": "v",
         "showlegend": false,
         "textposition": "auto",
         "type": "bar",
         "x": [
          "male",
          "female",
          "black",
          "white",
          "homosexual",
          "christian",
          "jewish",
          "muslim",
          "psychiatric"
         ],
         "xaxis": "x",
         "y": [
          0.9587530488186832,
          0.9543273353503434,
          0.9636209812077716,
          0.9631593557444005,
          0.9579013580478812,
          0.9571010893928884,
          0.9622675723458072,
          0.9593708598088354,
          0.9614066141359286
         ],
         "yaxis": "y"
        },
        {
         "alignmentgroup": "True",
         "hovertemplate": "=%{x}<br>variable=subgroup_auc<br>AUC=%{y}<extra></extra>",
         "legendgroup": "unfreezed-glove-resnet56-pwbce",
         "marker": {
          "color": "#54A24B",
          "pattern": {
           "shape": ""
          }
         },
         "name": "unfreezed-glove-resnet56-pwbce",
         "offsetgroup": "unfreezed-glove-resnet56-pwbce",
         "orientation": "v",
         "showlegend": true,
         "textposition": "auto",
         "type": "bar",
         "x": [
          "male",
          "female",
          "black",
          "white",
          "homosexual",
          "christian",
          "jewish",
          "muslim",
          "psychiatric"
         ],
         "xaxis": "x3",
         "y": [
          0.9007812123451633,
          0.9065495486977707,
          0.7972460512515459,
          0.8178610835264261,
          0.7966740823136819,
          0.9123573286290892,
          0.8621317031584639,
          0.8257299233675207,
          0.8817260656883298
         ],
         "yaxis": "y3"
        },
        {
         "alignmentgroup": "True",
         "hovertemplate": "=%{x}<br>variable=bpsn_auc<br>AUC=%{y}<extra></extra>",
         "legendgroup": "unfreezed-glove-resnet56-pwbce",
         "marker": {
          "color": "#54A24B",
          "pattern": {
           "shape": ""
          }
         },
         "name": "unfreezed-glove-resnet56-pwbce",
         "offsetgroup": "unfreezed-glove-resnet56-pwbce",
         "orientation": "v",
         "showlegend": false,
         "textposition": "auto",
         "type": "bar",
         "x": [
          "male",
          "female",
          "black",
          "white",
          "homosexual",
          "christian",
          "jewish",
          "muslim",
          "psychiatric"
         ],
         "xaxis": "x2",
         "y": [
          0.89430820035471,
          0.9065461694038706,
          0.7752622256950885,
          0.8014984758734648,
          0.810098134152856,
          0.9295298350529186,
          0.8714457310911248,
          0.8267343229402461,
          0.8623213353065818
         ],
         "yaxis": "y2"
        },
        {
         "alignmentgroup": "True",
         "hovertemplate": "=%{x}<br>variable=bnsp_auc<br>AUC=%{y}<extra></extra>",
         "legendgroup": "unfreezed-glove-resnet56-pwbce",
         "marker": {
          "color": "#54A24B",
          "pattern": {
           "shape": ""
          }
         },
         "name": "unfreezed-glove-resnet56-pwbce",
         "offsetgroup": "unfreezed-glove-resnet56-pwbce",
         "orientation": "v",
         "showlegend": false,
         "textposition": "auto",
         "type": "bar",
         "x": [
          "male",
          "female",
          "black",
          "white",
          "homosexual",
          "christian",
          "jewish",
          "muslim",
          "psychiatric"
         ],
         "xaxis": "x",
         "y": [
          0.9583845826909851,
          0.9550841367596208,
          0.9667974473254496,
          0.967036384069683,
          0.9541772123709583,
          0.9420796916706906,
          0.9542213801714452,
          0.9611564993544793,
          0.963353968143195
         ],
         "yaxis": "y"
        },
        {
         "alignmentgroup": "True",
         "hovertemplate": "=%{x}<br>variable=subgroup_auc<br>AUC=%{y}<extra></extra>",
         "legendgroup": "xlnet-pwbce",
         "marker": {
          "color": "#EECA3B",
          "pattern": {
           "shape": ""
          }
         },
         "name": "xlnet-pwbce",
         "offsetgroup": "xlnet-pwbce",
         "orientation": "v",
         "showlegend": true,
         "textposition": "auto",
         "type": "bar",
         "x": [
          "male",
          "female",
          "black",
          "white",
          "homosexual",
          "christian",
          "jewish",
          "muslim",
          "psychiatric"
         ],
         "xaxis": "x3",
         "y": [
          0.9158371222466783,
          0.9200483033911455,
          0.8278478733895837,
          0.8467777147270693,
          0.8192057842046718,
          0.9331354554056939,
          0.8975318653442289,
          0.8505168005042345,
          0.9060913114372234
         ],
         "yaxis": "y3"
        },
        {
         "alignmentgroup": "True",
         "hovertemplate": "=%{x}<br>variable=bpsn_auc<br>AUC=%{y}<extra></extra>",
         "legendgroup": "xlnet-pwbce",
         "marker": {
          "color": "#EECA3B",
          "pattern": {
           "shape": ""
          }
         },
         "name": "xlnet-pwbce",
         "offsetgroup": "xlnet-pwbce",
         "orientation": "v",
         "showlegend": false,
         "textposition": "auto",
         "type": "bar",
         "x": [
          "male",
          "female",
          "black",
          "white",
          "homosexual",
          "christian",
          "jewish",
          "muslim",
          "psychiatric"
         ],
         "xaxis": "x2",
         "y": [
          0.9255651365368445,
          0.9366232222423263,
          0.819706497432936,
          0.8426989467321255,
          0.8517153577501719,
          0.9494121235082998,
          0.8953554856985787,
          0.8720830013440951,
          0.9137885163698344
         ],
         "yaxis": "y2"
        },
        {
         "alignmentgroup": "True",
         "hovertemplate": "=%{x}<br>variable=bnsp_auc<br>AUC=%{y}<extra></extra>",
         "legendgroup": "xlnet-pwbce",
         "marker": {
          "color": "#EECA3B",
          "pattern": {
           "shape": ""
          }
         },
         "name": "xlnet-pwbce",
         "offsetgroup": "xlnet-pwbce",
         "orientation": "v",
         "showlegend": false,
         "textposition": "auto",
         "type": "bar",
         "x": [
          "male",
          "female",
          "black",
          "white",
          "homosexual",
          "christian",
          "jewish",
          "muslim",
          "psychiatric"
         ],
         "xaxis": "x",
         "y": [
          0.9591474787497796,
          0.9537483087259828,
          0.9690780520303939,
          0.967051110072822,
          0.9581699951394551,
          0.9504513165445156,
          0.9640704618501537,
          0.9594872966637995,
          0.9569980449006696
         ],
         "yaxis": "y"
        }
       ],
       "layout": {
        "annotations": [
         {
          "font": {},
          "showarrow": false,
          "text": "BNSP AUC",
          "x": 0.5,
          "xanchor": "center",
          "xref": "paper",
          "y": 0.2866666666666666,
          "yanchor": "bottom",
          "yref": "paper"
         },
         {
          "font": {},
          "showarrow": false,
          "text": "BPSN AUC",
          "x": 0.5,
          "xanchor": "center",
          "xref": "paper",
          "y": 0.6433333333333333,
          "yanchor": "bottom",
          "yref": "paper"
         },
         {
          "font": {},
          "showarrow": false,
          "text": "Sub. AUC",
          "x": 0.5,
          "xanchor": "center",
          "xref": "paper",
          "y": 0.9999999999999999,
          "yanchor": "bottom",
          "yref": "paper"
         }
        ],
        "barmode": "group",
        "font": {
         "size": 17
        },
        "height": 1000,
        "legend": {
         "font": {
          "size": 22
         },
         "orientation": "h",
         "title": {
          "text": ""
         },
         "tracegroupgap": 0,
         "x": 0.5,
         "xanchor": "center",
         "y": -0.05,
         "yanchor": "top"
        },
        "margin": {
         "b": 0,
         "l": 0,
         "r": 0,
         "t": 20
        },
        "template": {
         "data": {
          "bar": [
           {
            "error_x": {
             "color": "#2a3f5f"
            },
            "error_y": {
             "color": "#2a3f5f"
            },
            "marker": {
             "line": {
              "color": "#E5ECF6",
              "width": 0.5
             },
             "pattern": {
              "fillmode": "overlay",
              "size": 10,
              "solidity": 0.2
             }
            },
            "type": "bar"
           }
          ],
          "barpolar": [
           {
            "marker": {
             "line": {
              "color": "#E5ECF6",
              "width": 0.5
             },
             "pattern": {
              "fillmode": "overlay",
              "size": 10,
              "solidity": 0.2
             }
            },
            "type": "barpolar"
           }
          ],
          "carpet": [
           {
            "aaxis": {
             "endlinecolor": "#2a3f5f",
             "gridcolor": "white",
             "linecolor": "white",
             "minorgridcolor": "white",
             "startlinecolor": "#2a3f5f"
            },
            "baxis": {
             "endlinecolor": "#2a3f5f",
             "gridcolor": "white",
             "linecolor": "white",
             "minorgridcolor": "white",
             "startlinecolor": "#2a3f5f"
            },
            "type": "carpet"
           }
          ],
          "choropleth": [
           {
            "colorbar": {
             "outlinewidth": 0,
             "ticks": ""
            },
            "type": "choropleth"
           }
          ],
          "contour": [
           {
            "colorbar": {
             "outlinewidth": 0,
             "ticks": ""
            },
            "colorscale": [
             [
              0,
              "#0d0887"
             ],
             [
              0.1111111111111111,
              "#46039f"
             ],
             [
              0.2222222222222222,
              "#7201a8"
             ],
             [
              0.3333333333333333,
              "#9c179e"
             ],
             [
              0.4444444444444444,
              "#bd3786"
             ],
             [
              0.5555555555555556,
              "#d8576b"
             ],
             [
              0.6666666666666666,
              "#ed7953"
             ],
             [
              0.7777777777777778,
              "#fb9f3a"
             ],
             [
              0.8888888888888888,
              "#fdca26"
             ],
             [
              1,
              "#f0f921"
             ]
            ],
            "type": "contour"
           }
          ],
          "contourcarpet": [
           {
            "colorbar": {
             "outlinewidth": 0,
             "ticks": ""
            },
            "type": "contourcarpet"
           }
          ],
          "heatmap": [
           {
            "colorbar": {
             "outlinewidth": 0,
             "ticks": ""
            },
            "colorscale": [
             [
              0,
              "#0d0887"
             ],
             [
              0.1111111111111111,
              "#46039f"
             ],
             [
              0.2222222222222222,
              "#7201a8"
             ],
             [
              0.3333333333333333,
              "#9c179e"
             ],
             [
              0.4444444444444444,
              "#bd3786"
             ],
             [
              0.5555555555555556,
              "#d8576b"
             ],
             [
              0.6666666666666666,
              "#ed7953"
             ],
             [
              0.7777777777777778,
              "#fb9f3a"
             ],
             [
              0.8888888888888888,
              "#fdca26"
             ],
             [
              1,
              "#f0f921"
             ]
            ],
            "type": "heatmap"
           }
          ],
          "heatmapgl": [
           {
            "colorbar": {
             "outlinewidth": 0,
             "ticks": ""
            },
            "colorscale": [
             [
              0,
              "#0d0887"
             ],
             [
              0.1111111111111111,
              "#46039f"
             ],
             [
              0.2222222222222222,
              "#7201a8"
             ],
             [
              0.3333333333333333,
              "#9c179e"
             ],
             [
              0.4444444444444444,
              "#bd3786"
             ],
             [
              0.5555555555555556,
              "#d8576b"
             ],
             [
              0.6666666666666666,
              "#ed7953"
             ],
             [
              0.7777777777777778,
              "#fb9f3a"
             ],
             [
              0.8888888888888888,
              "#fdca26"
             ],
             [
              1,
              "#f0f921"
             ]
            ],
            "type": "heatmapgl"
           }
          ],
          "histogram": [
           {
            "marker": {
             "pattern": {
              "fillmode": "overlay",
              "size": 10,
              "solidity": 0.2
             }
            },
            "type": "histogram"
           }
          ],
          "histogram2d": [
           {
            "colorbar": {
             "outlinewidth": 0,
             "ticks": ""
            },
            "colorscale": [
             [
              0,
              "#0d0887"
             ],
             [
              0.1111111111111111,
              "#46039f"
             ],
             [
              0.2222222222222222,
              "#7201a8"
             ],
             [
              0.3333333333333333,
              "#9c179e"
             ],
             [
              0.4444444444444444,
              "#bd3786"
             ],
             [
              0.5555555555555556,
              "#d8576b"
             ],
             [
              0.6666666666666666,
              "#ed7953"
             ],
             [
              0.7777777777777778,
              "#fb9f3a"
             ],
             [
              0.8888888888888888,
              "#fdca26"
             ],
             [
              1,
              "#f0f921"
             ]
            ],
            "type": "histogram2d"
           }
          ],
          "histogram2dcontour": [
           {
            "colorbar": {
             "outlinewidth": 0,
             "ticks": ""
            },
            "colorscale": [
             [
              0,
              "#0d0887"
             ],
             [
              0.1111111111111111,
              "#46039f"
             ],
             [
              0.2222222222222222,
              "#7201a8"
             ],
             [
              0.3333333333333333,
              "#9c179e"
             ],
             [
              0.4444444444444444,
              "#bd3786"
             ],
             [
              0.5555555555555556,
              "#d8576b"
             ],
             [
              0.6666666666666666,
              "#ed7953"
             ],
             [
              0.7777777777777778,
              "#fb9f3a"
             ],
             [
              0.8888888888888888,
              "#fdca26"
             ],
             [
              1,
              "#f0f921"
             ]
            ],
            "type": "histogram2dcontour"
           }
          ],
          "mesh3d": [
           {
            "colorbar": {
             "outlinewidth": 0,
             "ticks": ""
            },
            "type": "mesh3d"
           }
          ],
          "parcoords": [
           {
            "line": {
             "colorbar": {
              "outlinewidth": 0,
              "ticks": ""
             }
            },
            "type": "parcoords"
           }
          ],
          "pie": [
           {
            "automargin": true,
            "type": "pie"
           }
          ],
          "scatter": [
           {
            "marker": {
             "colorbar": {
              "outlinewidth": 0,
              "ticks": ""
             }
            },
            "type": "scatter"
           }
          ],
          "scatter3d": [
           {
            "line": {
             "colorbar": {
              "outlinewidth": 0,
              "ticks": ""
             }
            },
            "marker": {
             "colorbar": {
              "outlinewidth": 0,
              "ticks": ""
             }
            },
            "type": "scatter3d"
           }
          ],
          "scattercarpet": [
           {
            "marker": {
             "colorbar": {
              "outlinewidth": 0,
              "ticks": ""
             }
            },
            "type": "scattercarpet"
           }
          ],
          "scattergeo": [
           {
            "marker": {
             "colorbar": {
              "outlinewidth": 0,
              "ticks": ""
             }
            },
            "type": "scattergeo"
           }
          ],
          "scattergl": [
           {
            "marker": {
             "colorbar": {
              "outlinewidth": 0,
              "ticks": ""
             }
            },
            "type": "scattergl"
           }
          ],
          "scattermapbox": [
           {
            "marker": {
             "colorbar": {
              "outlinewidth": 0,
              "ticks": ""
             }
            },
            "type": "scattermapbox"
           }
          ],
          "scatterpolar": [
           {
            "marker": {
             "colorbar": {
              "outlinewidth": 0,
              "ticks": ""
             }
            },
            "type": "scatterpolar"
           }
          ],
          "scatterpolargl": [
           {
            "marker": {
             "colorbar": {
              "outlinewidth": 0,
              "ticks": ""
             }
            },
            "type": "scatterpolargl"
           }
          ],
          "scatterternary": [
           {
            "marker": {
             "colorbar": {
              "outlinewidth": 0,
              "ticks": ""
             }
            },
            "type": "scatterternary"
           }
          ],
          "surface": [
           {
            "colorbar": {
             "outlinewidth": 0,
             "ticks": ""
            },
            "colorscale": [
             [
              0,
              "#0d0887"
             ],
             [
              0.1111111111111111,
              "#46039f"
             ],
             [
              0.2222222222222222,
              "#7201a8"
             ],
             [
              0.3333333333333333,
              "#9c179e"
             ],
             [
              0.4444444444444444,
              "#bd3786"
             ],
             [
              0.5555555555555556,
              "#d8576b"
             ],
             [
              0.6666666666666666,
              "#ed7953"
             ],
             [
              0.7777777777777778,
              "#fb9f3a"
             ],
             [
              0.8888888888888888,
              "#fdca26"
             ],
             [
              1,
              "#f0f921"
             ]
            ],
            "type": "surface"
           }
          ],
          "table": [
           {
            "cells": {
             "fill": {
              "color": "#EBF0F8"
             },
             "line": {
              "color": "white"
             }
            },
            "header": {
             "fill": {
              "color": "#C8D4E3"
             },
             "line": {
              "color": "white"
             }
            },
            "type": "table"
           }
          ]
         },
         "layout": {
          "annotationdefaults": {
           "arrowcolor": "#2a3f5f",
           "arrowhead": 0,
           "arrowwidth": 1
          },
          "autotypenumbers": "strict",
          "coloraxis": {
           "colorbar": {
            "outlinewidth": 0,
            "ticks": ""
           }
          },
          "colorscale": {
           "diverging": [
            [
             0,
             "#8e0152"
            ],
            [
             0.1,
             "#c51b7d"
            ],
            [
             0.2,
             "#de77ae"
            ],
            [
             0.3,
             "#f1b6da"
            ],
            [
             0.4,
             "#fde0ef"
            ],
            [
             0.5,
             "#f7f7f7"
            ],
            [
             0.6,
             "#e6f5d0"
            ],
            [
             0.7,
             "#b8e186"
            ],
            [
             0.8,
             "#7fbc41"
            ],
            [
             0.9,
             "#4d9221"
            ],
            [
             1,
             "#276419"
            ]
           ],
           "sequential": [
            [
             0,
             "#0d0887"
            ],
            [
             0.1111111111111111,
             "#46039f"
            ],
            [
             0.2222222222222222,
             "#7201a8"
            ],
            [
             0.3333333333333333,
             "#9c179e"
            ],
            [
             0.4444444444444444,
             "#bd3786"
            ],
            [
             0.5555555555555556,
             "#d8576b"
            ],
            [
             0.6666666666666666,
             "#ed7953"
            ],
            [
             0.7777777777777778,
             "#fb9f3a"
            ],
            [
             0.8888888888888888,
             "#fdca26"
            ],
            [
             1,
             "#f0f921"
            ]
           ],
           "sequentialminus": [
            [
             0,
             "#0d0887"
            ],
            [
             0.1111111111111111,
             "#46039f"
            ],
            [
             0.2222222222222222,
             "#7201a8"
            ],
            [
             0.3333333333333333,
             "#9c179e"
            ],
            [
             0.4444444444444444,
             "#bd3786"
            ],
            [
             0.5555555555555556,
             "#d8576b"
            ],
            [
             0.6666666666666666,
             "#ed7953"
            ],
            [
             0.7777777777777778,
             "#fb9f3a"
            ],
            [
             0.8888888888888888,
             "#fdca26"
            ],
            [
             1,
             "#f0f921"
            ]
           ]
          },
          "colorway": [
           "#636efa",
           "#EF553B",
           "#00cc96",
           "#ab63fa",
           "#FFA15A",
           "#19d3f3",
           "#FF6692",
           "#B6E880",
           "#FF97FF",
           "#FECB52"
          ],
          "font": {
           "color": "#2a3f5f"
          },
          "geo": {
           "bgcolor": "white",
           "lakecolor": "white",
           "landcolor": "#E5ECF6",
           "showlakes": true,
           "showland": true,
           "subunitcolor": "white"
          },
          "hoverlabel": {
           "align": "left"
          },
          "hovermode": "closest",
          "mapbox": {
           "style": "light"
          },
          "paper_bgcolor": "white",
          "plot_bgcolor": "#E5ECF6",
          "polar": {
           "angularaxis": {
            "gridcolor": "white",
            "linecolor": "white",
            "ticks": ""
           },
           "bgcolor": "#E5ECF6",
           "radialaxis": {
            "gridcolor": "white",
            "linecolor": "white",
            "ticks": ""
           }
          },
          "scene": {
           "xaxis": {
            "backgroundcolor": "#E5ECF6",
            "gridcolor": "white",
            "gridwidth": 2,
            "linecolor": "white",
            "showbackground": true,
            "ticks": "",
            "zerolinecolor": "white"
           },
           "yaxis": {
            "backgroundcolor": "#E5ECF6",
            "gridcolor": "white",
            "gridwidth": 2,
            "linecolor": "white",
            "showbackground": true,
            "ticks": "",
            "zerolinecolor": "white"
           },
           "zaxis": {
            "backgroundcolor": "#E5ECF6",
            "gridcolor": "white",
            "gridwidth": 2,
            "linecolor": "white",
            "showbackground": true,
            "ticks": "",
            "zerolinecolor": "white"
           }
          },
          "shapedefaults": {
           "line": {
            "color": "#2a3f5f"
           }
          },
          "ternary": {
           "aaxis": {
            "gridcolor": "white",
            "linecolor": "white",
            "ticks": ""
           },
           "baxis": {
            "gridcolor": "white",
            "linecolor": "white",
            "ticks": ""
           },
           "bgcolor": "#E5ECF6",
           "caxis": {
            "gridcolor": "white",
            "linecolor": "white",
            "ticks": ""
           }
          },
          "title": {
           "x": 0.05
          },
          "xaxis": {
           "automargin": true,
           "gridcolor": "white",
           "linecolor": "white",
           "ticks": "",
           "title": {
            "standoff": 15
           },
           "zerolinecolor": "white",
           "zerolinewidth": 2
          },
          "yaxis": {
           "automargin": true,
           "gridcolor": "white",
           "linecolor": "white",
           "ticks": "",
           "title": {
            "standoff": 15
           },
           "zerolinecolor": "white",
           "zerolinewidth": 2
          }
         }
        },
        "width": 800,
        "xaxis": {
         "anchor": "y",
         "domain": [
          0,
          1
         ],
         "title": {
          "text": ""
         }
        },
        "xaxis2": {
         "anchor": "y2",
         "domain": [
          0,
          1
         ],
         "matches": "x",
         "showticklabels": false
        },
        "xaxis3": {
         "anchor": "y3",
         "domain": [
          0,
          1
         ],
         "matches": "x",
         "showticklabels": false
        },
        "yaxis": {
         "anchor": "x",
         "domain": [
          0,
          0.2866666666666666
         ],
         "range": [
          0.7,
          1
         ],
         "title": {
          "text": "AUC"
         }
        },
        "yaxis2": {
         "anchor": "x2",
         "domain": [
          0.35666666666666663,
          0.6433333333333333
         ],
         "matches": "y",
         "range": [
          0.7,
          1
         ],
         "title": {
          "text": "AUC"
         }
        },
        "yaxis3": {
         "anchor": "x3",
         "domain": [
          0.7133333333333333,
          0.9999999999999999
         ],
         "matches": "y",
         "range": [
          0.7,
          1
         ],
         "title": {
          "text": "AUC"
         }
        }
       }
      }
     },
     "metadata": {},
     "output_type": "display_data"
    }
   ],
   "source": [
    "import plotly.express as px\n",
    "\n",
    "labels={\n",
    "    \"subgroup_auc\": \"Sub. AUC\",\n",
    "    \"bpsn_auc\": \"BPSN AUC\",\n",
    "    \"bnsp_auc\": \"BNSP AUC\",\n",
    "    \"subgroup\":\"\",\n",
    "    \"session_name\":\"\",\n",
    "    \"model_type\": \"Model\",\n",
    "    \"value\":\"AUC\"\n",
    "}\n",
    "\n",
    "selected_model = [\n",
    "       \"glove-cct-pwbce\",\n",
    "       \"distilbert-pwbce\", \"roberta-fl\",\n",
    "       \"glove-bilstm-pwbce\", \n",
    "       \"unfreezed-glove-resnet56-pwbce\",\n",
    "       \"xlnet-pwbce\"\n",
    "]\n",
    "\n",
    "identity_aur_per_sub_selected_model = identity_aur_per_sub_per_model_df[identity_aur_per_sub_per_model_df.session_name.isin(selected_model)].reset_index()\n",
    "\n",
    "fig = px.bar(identity_aur_per_sub_selected_model, x=\"subgroup\", y=\"value\", \n",
    "            color=\"session_name\", barmode=\"group\",\n",
    "            facet_col=\"variable\", labels=labels, range_y=[0.7, 1.0], width=800, height=1000, facet_col_wrap=1, \n",
    "            color_discrete_sequence=px.colors.qualitative.T10)\n",
    "\n",
    "#sns.move_legend(g, \"lower\", ncol=2, frameon=True, bbox_to_anchor=(0.8, 0.5), borderpad=1)\n",
    "#fig.update_traces(width=0.1)\n",
    "fig.update_layout(legend=dict(\n",
    "        orientation=\"h\",\n",
    "        yanchor=\"top\",\n",
    "        y=-0.05,\n",
    "        xanchor=\"center\",\n",
    "        x=0.5,\n",
    "        font=dict(size=22)\n",
    "    ),\n",
    "    margin={'l': 0, 'r': 0, 't': 20, 'b': 0},\n",
    "    font={'size'   : 17}\n",
    ")\n",
    "\n",
    "fig.for_each_annotation(lambda a: a.update(text=a.text.split(\"=\")[-1]))\n",
    "fig.for_each_annotation(lambda a: a.update(text=labels.get(a.text, a.text)))\n",
    "\n",
    "fig.write_image(\"identity_aur_per_sub_per_model_df.pdf\")\n",
    "fig.show()\n",
    "\n"
   ]
  },
  {
   "cell_type": "markdown",
   "metadata": {},
   "source": [
    "### Metric par classe"
   ]
  },
  {
   "cell_type": "code",
   "execution_count": 82,
   "metadata": {},
   "outputs": [
    {
     "data": {
      "application/vnd.jupyter.widget-view+json": {
       "model_id": "e2643c381ad04314bcb85b8d1c6515d6",
       "version_major": 2,
       "version_minor": 0
      },
      "text/plain": [
       "  0%|          | 0/16 [00:00<?, ?it/s]"
      ]
     },
     "metadata": {},
     "output_type": "display_data"
    }
   ],
   "source": [
    "metric_per_class_per_model_df = groupby_test_df.progress_apply(metric_per_class_per_model)"
   ]
  },
  {
   "cell_type": "code",
   "execution_count": 83,
   "metadata": {},
   "outputs": [],
   "source": [
    "# Use the same order for index\n",
    "metric_per_class_per_model_df = metric_per_class_per_model_df.reindex(multi_metric_per_model_df[\"session_name\"])\n",
    "# Generate index id with this order\n",
    "metric_per_class_per_model_df.reset_index(inplace=True)\n",
    "# Give a name to the index\n",
    "metric_per_class_per_model_df.index.rename(\"id\", inplace=True)\n",
    "# Add model_type column\n",
    "metric_per_class_per_model_df = add_model_type(metric_per_class_per_model_df)"
   ]
  },
  {
   "cell_type": "code",
   "execution_count": 84,
   "metadata": {},
   "outputs": [
    {
     "data": {
      "text/html": [
       "<div>\n",
       "<style scoped>\n",
       "    .dataframe tbody tr th:only-of-type {\n",
       "        vertical-align: middle;\n",
       "    }\n",
       "\n",
       "    .dataframe tbody tr th {\n",
       "        vertical-align: top;\n",
       "    }\n",
       "\n",
       "    .dataframe thead th {\n",
       "        text-align: right;\n",
       "    }\n",
       "</style>\n",
       "<table border=\"1\" class=\"dataframe\">\n",
       "  <thead>\n",
       "    <tr style=\"text-align: right;\">\n",
       "      <th></th>\n",
       "      <th></th>\n",
       "      <th></th>\n",
       "      <th>Toxicity</th>\n",
       "      <th>Obscene</th>\n",
       "      <th>Sexual Explicit</th>\n",
       "      <th>Identity Attack</th>\n",
       "      <th>Insult</th>\n",
       "      <th>Threat</th>\n",
       "    </tr>\n",
       "    <tr>\n",
       "      <th>Model type</th>\n",
       "      <th>Id</th>\n",
       "      <th>Model name</th>\n",
       "      <th></th>\n",
       "      <th></th>\n",
       "      <th></th>\n",
       "      <th></th>\n",
       "      <th></th>\n",
       "      <th></th>\n",
       "    </tr>\n",
       "  </thead>\n",
       "  <tbody>\n",
       "    <tr>\n",
       "      <th rowspan=\"9\" valign=\"top\">BERT</th>\n",
       "      <th>0</th>\n",
       "      <th>AlBERT</th>\n",
       "      <td>0.960843</td>\n",
       "      <td>0.989314</td>\n",
       "      <td>0.991008</td>\n",
       "      <td>0.980623</td>\n",
       "      <td>0.969538</td>\n",
       "      <td>0.982470</td>\n",
       "    </tr>\n",
       "    <tr>\n",
       "      <th>1</th>\n",
       "      <th>BERTweet</th>\n",
       "      <td>0.964250</td>\n",
       "      <td>0.990441</td>\n",
       "      <td>0.990447</td>\n",
       "      <td>0.988164</td>\n",
       "      <td>0.972114</td>\n",
       "      <td>0.983951</td>\n",
       "    </tr>\n",
       "    <tr>\n",
       "      <th>2</th>\n",
       "      <th>DistilBERT</th>\n",
       "      <td>0.963041</td>\n",
       "      <td>0.988856</td>\n",
       "      <td>0.989514</td>\n",
       "      <td>0.986858</td>\n",
       "      <td>0.970777</td>\n",
       "      <td>0.983113</td>\n",
       "    </tr>\n",
       "    <tr>\n",
       "      <th>3</th>\n",
       "      <th>HateBERT</th>\n",
       "      <td>0.962609</td>\n",
       "      <td>0.987797</td>\n",
       "      <td>0.985422</td>\n",
       "      <td>0.986892</td>\n",
       "      <td>0.970216</td>\n",
       "      <td>0.981496</td>\n",
       "    </tr>\n",
       "    <tr>\n",
       "      <th>4</th>\n",
       "      <th>RoBERTa BCE</th>\n",
       "      <td>0.964308</td>\n",
       "      <td>0.988976</td>\n",
       "      <td>0.991039</td>\n",
       "      <td>0.986832</td>\n",
       "      <td>0.971867</td>\n",
       "      <td>0.984913</td>\n",
       "    </tr>\n",
       "    <tr>\n",
       "      <th>5</th>\n",
       "      <th>RoBERTa FL</th>\n",
       "      <td>0.964503</td>\n",
       "      <td>0.990320</td>\n",
       "      <td>0.991459</td>\n",
       "      <td>0.987358</td>\n",
       "      <td>0.971850</td>\n",
       "      <td>0.985232</td>\n",
       "    </tr>\n",
       "    <tr>\n",
       "      <th>6</th>\n",
       "      <th>RoBERTa pwBCE</th>\n",
       "      <td>0.963289</td>\n",
       "      <td>0.989515</td>\n",
       "      <td>0.989243</td>\n",
       "      <td>0.986844</td>\n",
       "      <td>0.970841</td>\n",
       "      <td>0.985596</td>\n",
       "    </tr>\n",
       "    <tr>\n",
       "      <th>7</th>\n",
       "      <th>RoBERTa pwFL</th>\n",
       "      <td>0.963358</td>\n",
       "      <td>0.989771</td>\n",
       "      <td>0.988989</td>\n",
       "      <td>0.986961</td>\n",
       "      <td>0.971387</td>\n",
       "      <td>0.985159</td>\n",
       "    </tr>\n",
       "    <tr>\n",
       "      <th>8</th>\n",
       "      <th>XLM RoBERTa</th>\n",
       "      <td>0.960726</td>\n",
       "      <td>0.989989</td>\n",
       "      <td>0.990164</td>\n",
       "      <td>0.985487</td>\n",
       "      <td>0.968082</td>\n",
       "      <td>0.979638</td>\n",
       "    </tr>\n",
       "    <tr>\n",
       "      <th>CCT</th>\n",
       "      <th>9</th>\n",
       "      <th>CCT</th>\n",
       "      <td>0.940822</td>\n",
       "      <td>0.968217</td>\n",
       "      <td>0.970946</td>\n",
       "      <td>0.968105</td>\n",
       "      <td>0.948055</td>\n",
       "      <td>0.906655</td>\n",
       "    </tr>\n",
       "    <tr>\n",
       "      <th rowspan=\"3\" valign=\"top\">CNN</th>\n",
       "      <th>10</th>\n",
       "      <th>Freeze GloVe ResNet44</th>\n",
       "      <td>0.932104</td>\n",
       "      <td>0.947484</td>\n",
       "      <td>0.963683</td>\n",
       "      <td>0.970633</td>\n",
       "      <td>0.947702</td>\n",
       "      <td>0.954239</td>\n",
       "    </tr>\n",
       "    <tr>\n",
       "      <th>11</th>\n",
       "      <th>Unfreeze GloVe ResNet44</th>\n",
       "      <td>0.950070</td>\n",
       "      <td>0.976483</td>\n",
       "      <td>0.979855</td>\n",
       "      <td>0.971620</td>\n",
       "      <td>0.962922</td>\n",
       "      <td>0.954857</td>\n",
       "    </tr>\n",
       "    <tr>\n",
       "      <th>12</th>\n",
       "      <th>Unfreeze GloVe ResNet56</th>\n",
       "      <td>0.951245</td>\n",
       "      <td>0.978940</td>\n",
       "      <td>0.969098</td>\n",
       "      <td>0.970171</td>\n",
       "      <td>0.963144</td>\n",
       "      <td>0.950618</td>\n",
       "    </tr>\n",
       "    <tr>\n",
       "      <th rowspan=\"2\" valign=\"top\">RNN</th>\n",
       "      <th>13</th>\n",
       "      <th>BiGRU</th>\n",
       "      <td>0.956902</td>\n",
       "      <td>0.985315</td>\n",
       "      <td>0.985551</td>\n",
       "      <td>0.981288</td>\n",
       "      <td>0.967222</td>\n",
       "      <td>0.972633</td>\n",
       "    </tr>\n",
       "    <tr>\n",
       "      <th>14</th>\n",
       "      <th>BiLSTM</th>\n",
       "      <td>0.957366</td>\n",
       "      <td>0.986007</td>\n",
       "      <td>0.983856</td>\n",
       "      <td>0.982600</td>\n",
       "      <td>0.967329</td>\n",
       "      <td>0.975191</td>\n",
       "    </tr>\n",
       "    <tr>\n",
       "      <th>XLNet</th>\n",
       "      <th>15</th>\n",
       "      <th>XLNet</th>\n",
       "      <td>0.961972</td>\n",
       "      <td>0.990943</td>\n",
       "      <td>0.990734</td>\n",
       "      <td>0.986288</td>\n",
       "      <td>0.969336</td>\n",
       "      <td>0.980551</td>\n",
       "    </tr>\n",
       "  </tbody>\n",
       "</table>\n",
       "</div>"
      ],
      "text/plain": [
       "                                       Toxicity   Obscene  Sexual Explicit  \\\n",
       "Model type Id Model name                                                     \n",
       "BERT       0  AlBERT                   0.960843  0.989314         0.991008   \n",
       "           1  BERTweet                 0.964250  0.990441         0.990447   \n",
       "           2  DistilBERT               0.963041  0.988856         0.989514   \n",
       "           3  HateBERT                 0.962609  0.987797         0.985422   \n",
       "           4  RoBERTa BCE              0.964308  0.988976         0.991039   \n",
       "           5  RoBERTa FL               0.964503  0.990320         0.991459   \n",
       "           6  RoBERTa pwBCE            0.963289  0.989515         0.989243   \n",
       "           7  RoBERTa pwFL             0.963358  0.989771         0.988989   \n",
       "           8  XLM RoBERTa              0.960726  0.989989         0.990164   \n",
       "CCT        9  CCT                      0.940822  0.968217         0.970946   \n",
       "CNN        10 Freeze GloVe ResNet44    0.932104  0.947484         0.963683   \n",
       "           11 Unfreeze GloVe ResNet44  0.950070  0.976483         0.979855   \n",
       "           12 Unfreeze GloVe ResNet56  0.951245  0.978940         0.969098   \n",
       "RNN        13 BiGRU                    0.956902  0.985315         0.985551   \n",
       "           14 BiLSTM                   0.957366  0.986007         0.983856   \n",
       "XLNet      15 XLNet                    0.961972  0.990943         0.990734   \n",
       "\n",
       "                                       Identity Attack    Insult    Threat  \n",
       "Model type Id Model name                                                    \n",
       "BERT       0  AlBERT                          0.980623  0.969538  0.982470  \n",
       "           1  BERTweet                        0.988164  0.972114  0.983951  \n",
       "           2  DistilBERT                      0.986858  0.970777  0.983113  \n",
       "           3  HateBERT                        0.986892  0.970216  0.981496  \n",
       "           4  RoBERTa BCE                     0.986832  0.971867  0.984913  \n",
       "           5  RoBERTa FL                      0.987358  0.971850  0.985232  \n",
       "           6  RoBERTa pwBCE                   0.986844  0.970841  0.985596  \n",
       "           7  RoBERTa pwFL                    0.986961  0.971387  0.985159  \n",
       "           8  XLM RoBERTa                     0.985487  0.968082  0.979638  \n",
       "CCT        9  CCT                             0.968105  0.948055  0.906655  \n",
       "CNN        10 Freeze GloVe ResNet44           0.970633  0.947702  0.954239  \n",
       "           11 Unfreeze GloVe ResNet44         0.971620  0.962922  0.954857  \n",
       "           12 Unfreeze GloVe ResNet56         0.970171  0.963144  0.950618  \n",
       "RNN        13 BiGRU                           0.981288  0.967222  0.972633  \n",
       "           14 BiLSTM                          0.982600  0.967329  0.975191  \n",
       "XLNet      15 XLNet                           0.986288  0.969336  0.980551  "
      ]
     },
     "execution_count": 84,
     "metadata": {},
     "output_type": "execute_result"
    }
   ],
   "source": [
    "# The id is used to identify easily the model instead of using a long session name\n",
    "metric_per_class_per_model_df[\"session_name\"] = metric_per_class_per_model_df[\"session_name\"].apply(lambda session_name: session_name.split(\"_\")[0])\n",
    "metric_per_class_per_model_df[\"session_name\"] = metric_per_class_per_model_df[\"session_name\"].apply(lambda session_name: session_name[7:] if session_name.startswith(\"pierre-\") else session_name)\n",
    "\n",
    "# Add multi index with id and session_name\n",
    "metric_per_class_per_model_df.set_index([\"model_type\", metric_per_class_per_model_df.index, \"session_name\"], inplace=True)\n",
    "\n",
    "rename_map = {\n",
    "    \"toxicity\": \"Toxicity\",\n",
    "    \"obscene\": \"Obscene\",\n",
    "    \"sexual_explicit\": \"Sexual Explicit\",\n",
    "    \"identity_attack\": \"Identity Attack\",\n",
    "    \"insult\": \"Insult\",\n",
    "    \"threat\": \"Threat\",\n",
    "}\n",
    "metric_per_class_per_model_df.rename(rename_map, inplace=True, axis=1)\n",
    "\n",
    "metric_per_class_per_model_df.rename(index=SESSION_RENAME, inplace=True)\n",
    "metric_per_class_per_model_df.index.rename(INDEX_RENAME, inplace=True)\n",
    "metric_per_class_per_model_df"
   ]
  },
  {
   "cell_type": "code",
   "execution_count": 85,
   "metadata": {},
   "outputs": [],
   "source": [
    "def bold_max_value(column):\n",
    "    is_max_list = column == column.max()\n",
    "    return [\"font-weight: bold\" if is_max else \"\" for is_max in is_max_list]"
   ]
  },
  {
   "cell_type": "code",
   "execution_count": 86,
   "metadata": {},
   "outputs": [
    {
     "data": {
      "text/html": [
       "<style type=\"text/css\">\n",
       "#T_6a8fd_row0_col0 {\n",
       "  background-color: #eee9f3;\n",
       "  color: #000000;\n",
       "}\n",
       "#T_6a8fd_row0_col1, #T_6a8fd_row1_col2, #T_6a8fd_row6_col0, #T_6a8fd_row7_col0 {\n",
       "  background-color: #faf2f8;\n",
       "  color: #000000;\n",
       "}\n",
       "#T_6a8fd_row0_col2, #T_6a8fd_row4_col2, #T_6a8fd_row5_col1 {\n",
       "  background-color: #fdf5fa;\n",
       "  color: #000000;\n",
       "}\n",
       "#T_6a8fd_row0_col3, #T_6a8fd_row11_col4 {\n",
       "  background-color: #a5bddb;\n",
       "  color: #000000;\n",
       "}\n",
       "#T_6a8fd_row0_col4 {\n",
       "  background-color: #efe9f3;\n",
       "  color: #000000;\n",
       "}\n",
       "#T_6a8fd_row0_col5, #T_6a8fd_row5_col3 {\n",
       "  background-color: #f9f2f8;\n",
       "  color: #000000;\n",
       "}\n",
       "#T_6a8fd_row1_col0, #T_6a8fd_row4_col0, #T_6a8fd_row5_col5, #T_6a8fd_row7_col5 {\n",
       "  background-color: #fef6fb;\n",
       "  color: #000000;\n",
       "}\n",
       "#T_6a8fd_row1_col1, #T_6a8fd_row4_col4, #T_6a8fd_row4_col5, #T_6a8fd_row5_col4 {\n",
       "  background-color: #fef6fa;\n",
       "  color: #000000;\n",
       "}\n",
       "#T_6a8fd_row1_col3, #T_6a8fd_row1_col4, #T_6a8fd_row5_col0, #T_6a8fd_row5_col2, #T_6a8fd_row6_col5, #T_6a8fd_row15_col1 {\n",
       "  background-color: #fff7fb;\n",
       "  color: #000000;\n",
       "  font-weight: bold;\n",
       "}\n",
       "#T_6a8fd_row1_col5, #T_6a8fd_row8_col1 {\n",
       "  background-color: #fcf4fa;\n",
       "  color: #000000;\n",
       "}\n",
       "#T_6a8fd_row2_col0, #T_6a8fd_row2_col1, #T_6a8fd_row4_col1, #T_6a8fd_row8_col2 {\n",
       "  background-color: #f8f1f8;\n",
       "  color: #000000;\n",
       "}\n",
       "#T_6a8fd_row2_col2 {\n",
       "  background-color: #f5eef6;\n",
       "  color: #000000;\n",
       "}\n",
       "#T_6a8fd_row2_col3, #T_6a8fd_row3_col3, #T_6a8fd_row4_col3, #T_6a8fd_row6_col3, #T_6a8fd_row15_col5 {\n",
       "  background-color: #f5eff6;\n",
       "  color: #000000;\n",
       "}\n",
       "#T_6a8fd_row2_col4, #T_6a8fd_row3_col0, #T_6a8fd_row3_col5, #T_6a8fd_row6_col4 {\n",
       "  background-color: #f7f0f7;\n",
       "  color: #000000;\n",
       "}\n",
       "#T_6a8fd_row2_col5, #T_6a8fd_row6_col1 {\n",
       "  background-color: #faf3f9;\n",
       "  color: #000000;\n",
       "}\n",
       "#T_6a8fd_row3_col1 {\n",
       "  background-color: #f4eef6;\n",
       "  color: #000000;\n",
       "}\n",
       "#T_6a8fd_row3_col2 {\n",
       "  background-color: #d8d7e9;\n",
       "  color: #000000;\n",
       "}\n",
       "#T_6a8fd_row3_col4, #T_6a8fd_row8_col5, #T_6a8fd_row15_col0 {\n",
       "  background-color: #f4edf6;\n",
       "  color: #000000;\n",
       "}\n",
       "#T_6a8fd_row6_col2 {\n",
       "  background-color: #f3edf5;\n",
       "  color: #000000;\n",
       "}\n",
       "#T_6a8fd_row7_col1, #T_6a8fd_row15_col2 {\n",
       "  background-color: #fbf4f9;\n",
       "  color: #000000;\n",
       "}\n",
       "#T_6a8fd_row7_col2 {\n",
       "  background-color: #f2ecf5;\n",
       "  color: #000000;\n",
       "}\n",
       "#T_6a8fd_row7_col3 {\n",
       "  background-color: #f6eff7;\n",
       "  color: #000000;\n",
       "}\n",
       "#T_6a8fd_row7_col4 {\n",
       "  background-color: #fbf3f9;\n",
       "  color: #000000;\n",
       "}\n",
       "#T_6a8fd_row8_col0, #T_6a8fd_row14_col1, #T_6a8fd_row15_col4 {\n",
       "  background-color: #eee8f3;\n",
       "  color: #000000;\n",
       "}\n",
       "#T_6a8fd_row8_col3 {\n",
       "  background-color: #eae6f1;\n",
       "  color: #000000;\n",
       "}\n",
       "#T_6a8fd_row8_col4, #T_6a8fd_row13_col5 {\n",
       "  background-color: #e3e0ee;\n",
       "  color: #000000;\n",
       "}\n",
       "#T_6a8fd_row9_col0 {\n",
       "  background-color: #0c74b2;\n",
       "  color: #f1f1f1;\n",
       "}\n",
       "#T_6a8fd_row9_col1 {\n",
       "  background-color: #69a5cc;\n",
       "  color: #f1f1f1;\n",
       "}\n",
       "#T_6a8fd_row9_col2 {\n",
       "  background-color: #0872b1;\n",
       "  color: #f1f1f1;\n",
       "}\n",
       "#T_6a8fd_row9_col3, #T_6a8fd_row9_col5, #T_6a8fd_row10_col0, #T_6a8fd_row10_col1, #T_6a8fd_row10_col2, #T_6a8fd_row10_col4 {\n",
       "  background-color: #023858;\n",
       "  color: #f1f1f1;\n",
       "}\n",
       "#T_6a8fd_row9_col4 {\n",
       "  background-color: #023b5d;\n",
       "  color: #f1f1f1;\n",
       "}\n",
       "#T_6a8fd_row10_col3 {\n",
       "  background-color: #045a8d;\n",
       "  color: #f1f1f1;\n",
       "}\n",
       "#T_6a8fd_row10_col5 {\n",
       "  background-color: #9ebad9;\n",
       "  color: #000000;\n",
       "}\n",
       "#T_6a8fd_row11_col0 {\n",
       "  background-color: #89b1d4;\n",
       "  color: #000000;\n",
       "}\n",
       "#T_6a8fd_row11_col1 {\n",
       "  background-color: #b4c4df;\n",
       "  color: #000000;\n",
       "}\n",
       "#T_6a8fd_row11_col2 {\n",
       "  background-color: #96b6d7;\n",
       "  color: #000000;\n",
       "}\n",
       "#T_6a8fd_row11_col3 {\n",
       "  background-color: #04629a;\n",
       "  color: #f1f1f1;\n",
       "}\n",
       "#T_6a8fd_row11_col5 {\n",
       "  background-color: #a1bbda;\n",
       "  color: #000000;\n",
       "}\n",
       "#T_6a8fd_row12_col0 {\n",
       "  background-color: #99b8d8;\n",
       "  color: #000000;\n",
       "}\n",
       "#T_6a8fd_row12_col1, #T_6a8fd_row14_col2 {\n",
       "  background-color: #c8cde4;\n",
       "  color: #000000;\n",
       "}\n",
       "#T_6a8fd_row12_col2 {\n",
       "  background-color: #0566a0;\n",
       "  color: #f1f1f1;\n",
       "}\n",
       "#T_6a8fd_row12_col3 {\n",
       "  background-color: #045483;\n",
       "  color: #f1f1f1;\n",
       "}\n",
       "#T_6a8fd_row12_col4 {\n",
       "  background-color: #a8bedc;\n",
       "  color: #000000;\n",
       "}\n",
       "#T_6a8fd_row12_col5 {\n",
       "  background-color: #8bb2d4;\n",
       "  color: #000000;\n",
       "}\n",
       "#T_6a8fd_row13_col0 {\n",
       "  background-color: #d3d4e7;\n",
       "  color: #000000;\n",
       "}\n",
       "#T_6a8fd_row13_col1, #T_6a8fd_row14_col5 {\n",
       "  background-color: #ebe6f2;\n",
       "  color: #000000;\n",
       "}\n",
       "#T_6a8fd_row13_col2 {\n",
       "  background-color: #d9d8ea;\n",
       "  color: #000000;\n",
       "}\n",
       "#T_6a8fd_row13_col3 {\n",
       "  background-color: #b1c2de;\n",
       "  color: #000000;\n",
       "}\n",
       "#T_6a8fd_row13_col4 {\n",
       "  background-color: #dbdaeb;\n",
       "  color: #000000;\n",
       "}\n",
       "#T_6a8fd_row14_col0 {\n",
       "  background-color: #d7d6e9;\n",
       "  color: #000000;\n",
       "}\n",
       "#T_6a8fd_row14_col3 {\n",
       "  background-color: #c6cce3;\n",
       "  color: #000000;\n",
       "}\n",
       "#T_6a8fd_row14_col4 {\n",
       "  background-color: #dcdaeb;\n",
       "  color: #000000;\n",
       "}\n",
       "#T_6a8fd_row15_col3 {\n",
       "  background-color: #f1ebf5;\n",
       "  color: #000000;\n",
       "}\n",
       "</style>\n",
       "<table id=\"T_6a8fd\">\n",
       "  <thead>\n",
       "    <tr>\n",
       "      <th class=\"blank\" >&nbsp;</th>\n",
       "      <th class=\"blank\" >&nbsp;</th>\n",
       "      <th class=\"blank level0\" >&nbsp;</th>\n",
       "      <th id=\"T_6a8fd_level0_col0\" class=\"col_heading level0 col0\" >Toxicity</th>\n",
       "      <th id=\"T_6a8fd_level0_col1\" class=\"col_heading level0 col1\" >Obscene</th>\n",
       "      <th id=\"T_6a8fd_level0_col2\" class=\"col_heading level0 col2\" >Sexual Explicit</th>\n",
       "      <th id=\"T_6a8fd_level0_col3\" class=\"col_heading level0 col3\" >Identity Attack</th>\n",
       "      <th id=\"T_6a8fd_level0_col4\" class=\"col_heading level0 col4\" >Insult</th>\n",
       "      <th id=\"T_6a8fd_level0_col5\" class=\"col_heading level0 col5\" >Threat</th>\n",
       "    </tr>\n",
       "    <tr>\n",
       "      <th class=\"index_name level0\" >Model type</th>\n",
       "      <th class=\"index_name level1\" >Id</th>\n",
       "      <th class=\"index_name level2\" >Model name</th>\n",
       "      <th class=\"blank col0\" >&nbsp;</th>\n",
       "      <th class=\"blank col1\" >&nbsp;</th>\n",
       "      <th class=\"blank col2\" >&nbsp;</th>\n",
       "      <th class=\"blank col3\" >&nbsp;</th>\n",
       "      <th class=\"blank col4\" >&nbsp;</th>\n",
       "      <th class=\"blank col5\" >&nbsp;</th>\n",
       "    </tr>\n",
       "  </thead>\n",
       "  <tbody>\n",
       "    <tr>\n",
       "      <th id=\"T_6a8fd_level0_row0\" class=\"row_heading level0 row0\" rowspan=\"9\">BERT</th>\n",
       "      <th id=\"T_6a8fd_level1_row0\" class=\"row_heading level1 row0\" >0</th>\n",
       "      <th id=\"T_6a8fd_level2_row0\" class=\"row_heading level2 row0\" >AlBERT</th>\n",
       "      <td id=\"T_6a8fd_row0_col0\" class=\"data row0 col0\" >0.9608</td>\n",
       "      <td id=\"T_6a8fd_row0_col1\" class=\"data row0 col1\" >0.9893</td>\n",
       "      <td id=\"T_6a8fd_row0_col2\" class=\"data row0 col2\" >0.9910</td>\n",
       "      <td id=\"T_6a8fd_row0_col3\" class=\"data row0 col3\" >0.9806</td>\n",
       "      <td id=\"T_6a8fd_row0_col4\" class=\"data row0 col4\" >0.9695</td>\n",
       "      <td id=\"T_6a8fd_row0_col5\" class=\"data row0 col5\" >0.9825</td>\n",
       "    </tr>\n",
       "    <tr>\n",
       "      <th id=\"T_6a8fd_level1_row1\" class=\"row_heading level1 row1\" >1</th>\n",
       "      <th id=\"T_6a8fd_level2_row1\" class=\"row_heading level2 row1\" >BERTweet</th>\n",
       "      <td id=\"T_6a8fd_row1_col0\" class=\"data row1 col0\" >0.9642</td>\n",
       "      <td id=\"T_6a8fd_row1_col1\" class=\"data row1 col1\" >0.9904</td>\n",
       "      <td id=\"T_6a8fd_row1_col2\" class=\"data row1 col2\" >0.9904</td>\n",
       "      <td id=\"T_6a8fd_row1_col3\" class=\"data row1 col3\" >0.9882</td>\n",
       "      <td id=\"T_6a8fd_row1_col4\" class=\"data row1 col4\" >0.9721</td>\n",
       "      <td id=\"T_6a8fd_row1_col5\" class=\"data row1 col5\" >0.9840</td>\n",
       "    </tr>\n",
       "    <tr>\n",
       "      <th id=\"T_6a8fd_level1_row2\" class=\"row_heading level1 row2\" >2</th>\n",
       "      <th id=\"T_6a8fd_level2_row2\" class=\"row_heading level2 row2\" >DistilBERT</th>\n",
       "      <td id=\"T_6a8fd_row2_col0\" class=\"data row2 col0\" >0.9630</td>\n",
       "      <td id=\"T_6a8fd_row2_col1\" class=\"data row2 col1\" >0.9889</td>\n",
       "      <td id=\"T_6a8fd_row2_col2\" class=\"data row2 col2\" >0.9895</td>\n",
       "      <td id=\"T_6a8fd_row2_col3\" class=\"data row2 col3\" >0.9869</td>\n",
       "      <td id=\"T_6a8fd_row2_col4\" class=\"data row2 col4\" >0.9708</td>\n",
       "      <td id=\"T_6a8fd_row2_col5\" class=\"data row2 col5\" >0.9831</td>\n",
       "    </tr>\n",
       "    <tr>\n",
       "      <th id=\"T_6a8fd_level1_row3\" class=\"row_heading level1 row3\" >3</th>\n",
       "      <th id=\"T_6a8fd_level2_row3\" class=\"row_heading level2 row3\" >HateBERT</th>\n",
       "      <td id=\"T_6a8fd_row3_col0\" class=\"data row3 col0\" >0.9626</td>\n",
       "      <td id=\"T_6a8fd_row3_col1\" class=\"data row3 col1\" >0.9878</td>\n",
       "      <td id=\"T_6a8fd_row3_col2\" class=\"data row3 col2\" >0.9854</td>\n",
       "      <td id=\"T_6a8fd_row3_col3\" class=\"data row3 col3\" >0.9869</td>\n",
       "      <td id=\"T_6a8fd_row3_col4\" class=\"data row3 col4\" >0.9702</td>\n",
       "      <td id=\"T_6a8fd_row3_col5\" class=\"data row3 col5\" >0.9815</td>\n",
       "    </tr>\n",
       "    <tr>\n",
       "      <th id=\"T_6a8fd_level1_row4\" class=\"row_heading level1 row4\" >4</th>\n",
       "      <th id=\"T_6a8fd_level2_row4\" class=\"row_heading level2 row4\" >RoBERTa BCE</th>\n",
       "      <td id=\"T_6a8fd_row4_col0\" class=\"data row4 col0\" >0.9643</td>\n",
       "      <td id=\"T_6a8fd_row4_col1\" class=\"data row4 col1\" >0.9890</td>\n",
       "      <td id=\"T_6a8fd_row4_col2\" class=\"data row4 col2\" >0.9910</td>\n",
       "      <td id=\"T_6a8fd_row4_col3\" class=\"data row4 col3\" >0.9868</td>\n",
       "      <td id=\"T_6a8fd_row4_col4\" class=\"data row4 col4\" >0.9719</td>\n",
       "      <td id=\"T_6a8fd_row4_col5\" class=\"data row4 col5\" >0.9849</td>\n",
       "    </tr>\n",
       "    <tr>\n",
       "      <th id=\"T_6a8fd_level1_row5\" class=\"row_heading level1 row5\" >5</th>\n",
       "      <th id=\"T_6a8fd_level2_row5\" class=\"row_heading level2 row5\" >RoBERTa FL</th>\n",
       "      <td id=\"T_6a8fd_row5_col0\" class=\"data row5 col0\" >0.9645</td>\n",
       "      <td id=\"T_6a8fd_row5_col1\" class=\"data row5 col1\" >0.9903</td>\n",
       "      <td id=\"T_6a8fd_row5_col2\" class=\"data row5 col2\" >0.9915</td>\n",
       "      <td id=\"T_6a8fd_row5_col3\" class=\"data row5 col3\" >0.9874</td>\n",
       "      <td id=\"T_6a8fd_row5_col4\" class=\"data row5 col4\" >0.9719</td>\n",
       "      <td id=\"T_6a8fd_row5_col5\" class=\"data row5 col5\" >0.9852</td>\n",
       "    </tr>\n",
       "    <tr>\n",
       "      <th id=\"T_6a8fd_level1_row6\" class=\"row_heading level1 row6\" >6</th>\n",
       "      <th id=\"T_6a8fd_level2_row6\" class=\"row_heading level2 row6\" >RoBERTa pwBCE</th>\n",
       "      <td id=\"T_6a8fd_row6_col0\" class=\"data row6 col0\" >0.9633</td>\n",
       "      <td id=\"T_6a8fd_row6_col1\" class=\"data row6 col1\" >0.9895</td>\n",
       "      <td id=\"T_6a8fd_row6_col2\" class=\"data row6 col2\" >0.9892</td>\n",
       "      <td id=\"T_6a8fd_row6_col3\" class=\"data row6 col3\" >0.9868</td>\n",
       "      <td id=\"T_6a8fd_row6_col4\" class=\"data row6 col4\" >0.9708</td>\n",
       "      <td id=\"T_6a8fd_row6_col5\" class=\"data row6 col5\" >0.9856</td>\n",
       "    </tr>\n",
       "    <tr>\n",
       "      <th id=\"T_6a8fd_level1_row7\" class=\"row_heading level1 row7\" >7</th>\n",
       "      <th id=\"T_6a8fd_level2_row7\" class=\"row_heading level2 row7\" >RoBERTa pwFL</th>\n",
       "      <td id=\"T_6a8fd_row7_col0\" class=\"data row7 col0\" >0.9634</td>\n",
       "      <td id=\"T_6a8fd_row7_col1\" class=\"data row7 col1\" >0.9898</td>\n",
       "      <td id=\"T_6a8fd_row7_col2\" class=\"data row7 col2\" >0.9890</td>\n",
       "      <td id=\"T_6a8fd_row7_col3\" class=\"data row7 col3\" >0.9870</td>\n",
       "      <td id=\"T_6a8fd_row7_col4\" class=\"data row7 col4\" >0.9714</td>\n",
       "      <td id=\"T_6a8fd_row7_col5\" class=\"data row7 col5\" >0.9852</td>\n",
       "    </tr>\n",
       "    <tr>\n",
       "      <th id=\"T_6a8fd_level1_row8\" class=\"row_heading level1 row8\" >8</th>\n",
       "      <th id=\"T_6a8fd_level2_row8\" class=\"row_heading level2 row8\" >XLM RoBERTa</th>\n",
       "      <td id=\"T_6a8fd_row8_col0\" class=\"data row8 col0\" >0.9607</td>\n",
       "      <td id=\"T_6a8fd_row8_col1\" class=\"data row8 col1\" >0.9900</td>\n",
       "      <td id=\"T_6a8fd_row8_col2\" class=\"data row8 col2\" >0.9902</td>\n",
       "      <td id=\"T_6a8fd_row8_col3\" class=\"data row8 col3\" >0.9855</td>\n",
       "      <td id=\"T_6a8fd_row8_col4\" class=\"data row8 col4\" >0.9681</td>\n",
       "      <td id=\"T_6a8fd_row8_col5\" class=\"data row8 col5\" >0.9796</td>\n",
       "    </tr>\n",
       "    <tr>\n",
       "      <th id=\"T_6a8fd_level0_row9\" class=\"row_heading level0 row9\" >CCT</th>\n",
       "      <th id=\"T_6a8fd_level1_row9\" class=\"row_heading level1 row9\" >9</th>\n",
       "      <th id=\"T_6a8fd_level2_row9\" class=\"row_heading level2 row9\" >CCT</th>\n",
       "      <td id=\"T_6a8fd_row9_col0\" class=\"data row9 col0\" >0.9408</td>\n",
       "      <td id=\"T_6a8fd_row9_col1\" class=\"data row9 col1\" >0.9682</td>\n",
       "      <td id=\"T_6a8fd_row9_col2\" class=\"data row9 col2\" >0.9709</td>\n",
       "      <td id=\"T_6a8fd_row9_col3\" class=\"data row9 col3\" >0.9681</td>\n",
       "      <td id=\"T_6a8fd_row9_col4\" class=\"data row9 col4\" >0.9481</td>\n",
       "      <td id=\"T_6a8fd_row9_col5\" class=\"data row9 col5\" >0.9067</td>\n",
       "    </tr>\n",
       "    <tr>\n",
       "      <th id=\"T_6a8fd_level0_row10\" class=\"row_heading level0 row10\" rowspan=\"3\">CNN</th>\n",
       "      <th id=\"T_6a8fd_level1_row10\" class=\"row_heading level1 row10\" >10</th>\n",
       "      <th id=\"T_6a8fd_level2_row10\" class=\"row_heading level2 row10\" >Freeze GloVe ResNet44</th>\n",
       "      <td id=\"T_6a8fd_row10_col0\" class=\"data row10 col0\" >0.9321</td>\n",
       "      <td id=\"T_6a8fd_row10_col1\" class=\"data row10 col1\" >0.9475</td>\n",
       "      <td id=\"T_6a8fd_row10_col2\" class=\"data row10 col2\" >0.9637</td>\n",
       "      <td id=\"T_6a8fd_row10_col3\" class=\"data row10 col3\" >0.9706</td>\n",
       "      <td id=\"T_6a8fd_row10_col4\" class=\"data row10 col4\" >0.9477</td>\n",
       "      <td id=\"T_6a8fd_row10_col5\" class=\"data row10 col5\" >0.9542</td>\n",
       "    </tr>\n",
       "    <tr>\n",
       "      <th id=\"T_6a8fd_level1_row11\" class=\"row_heading level1 row11\" >11</th>\n",
       "      <th id=\"T_6a8fd_level2_row11\" class=\"row_heading level2 row11\" >Unfreeze GloVe ResNet44</th>\n",
       "      <td id=\"T_6a8fd_row11_col0\" class=\"data row11 col0\" >0.9501</td>\n",
       "      <td id=\"T_6a8fd_row11_col1\" class=\"data row11 col1\" >0.9765</td>\n",
       "      <td id=\"T_6a8fd_row11_col2\" class=\"data row11 col2\" >0.9799</td>\n",
       "      <td id=\"T_6a8fd_row11_col3\" class=\"data row11 col3\" >0.9716</td>\n",
       "      <td id=\"T_6a8fd_row11_col4\" class=\"data row11 col4\" >0.9629</td>\n",
       "      <td id=\"T_6a8fd_row11_col5\" class=\"data row11 col5\" >0.9549</td>\n",
       "    </tr>\n",
       "    <tr>\n",
       "      <th id=\"T_6a8fd_level1_row12\" class=\"row_heading level1 row12\" >12</th>\n",
       "      <th id=\"T_6a8fd_level2_row12\" class=\"row_heading level2 row12\" >Unfreeze GloVe ResNet56</th>\n",
       "      <td id=\"T_6a8fd_row12_col0\" class=\"data row12 col0\" >0.9512</td>\n",
       "      <td id=\"T_6a8fd_row12_col1\" class=\"data row12 col1\" >0.9789</td>\n",
       "      <td id=\"T_6a8fd_row12_col2\" class=\"data row12 col2\" >0.9691</td>\n",
       "      <td id=\"T_6a8fd_row12_col3\" class=\"data row12 col3\" >0.9702</td>\n",
       "      <td id=\"T_6a8fd_row12_col4\" class=\"data row12 col4\" >0.9631</td>\n",
       "      <td id=\"T_6a8fd_row12_col5\" class=\"data row12 col5\" >0.9506</td>\n",
       "    </tr>\n",
       "    <tr>\n",
       "      <th id=\"T_6a8fd_level0_row13\" class=\"row_heading level0 row13\" rowspan=\"2\">RNN</th>\n",
       "      <th id=\"T_6a8fd_level1_row13\" class=\"row_heading level1 row13\" >13</th>\n",
       "      <th id=\"T_6a8fd_level2_row13\" class=\"row_heading level2 row13\" >BiGRU</th>\n",
       "      <td id=\"T_6a8fd_row13_col0\" class=\"data row13 col0\" >0.9569</td>\n",
       "      <td id=\"T_6a8fd_row13_col1\" class=\"data row13 col1\" >0.9853</td>\n",
       "      <td id=\"T_6a8fd_row13_col2\" class=\"data row13 col2\" >0.9856</td>\n",
       "      <td id=\"T_6a8fd_row13_col3\" class=\"data row13 col3\" >0.9813</td>\n",
       "      <td id=\"T_6a8fd_row13_col4\" class=\"data row13 col4\" >0.9672</td>\n",
       "      <td id=\"T_6a8fd_row13_col5\" class=\"data row13 col5\" >0.9726</td>\n",
       "    </tr>\n",
       "    <tr>\n",
       "      <th id=\"T_6a8fd_level1_row14\" class=\"row_heading level1 row14\" >14</th>\n",
       "      <th id=\"T_6a8fd_level2_row14\" class=\"row_heading level2 row14\" >BiLSTM</th>\n",
       "      <td id=\"T_6a8fd_row14_col0\" class=\"data row14 col0\" >0.9574</td>\n",
       "      <td id=\"T_6a8fd_row14_col1\" class=\"data row14 col1\" >0.9860</td>\n",
       "      <td id=\"T_6a8fd_row14_col2\" class=\"data row14 col2\" >0.9839</td>\n",
       "      <td id=\"T_6a8fd_row14_col3\" class=\"data row14 col3\" >0.9826</td>\n",
       "      <td id=\"T_6a8fd_row14_col4\" class=\"data row14 col4\" >0.9673</td>\n",
       "      <td id=\"T_6a8fd_row14_col5\" class=\"data row14 col5\" >0.9752</td>\n",
       "    </tr>\n",
       "    <tr>\n",
       "      <th id=\"T_6a8fd_level0_row15\" class=\"row_heading level0 row15\" >XLNet</th>\n",
       "      <th id=\"T_6a8fd_level1_row15\" class=\"row_heading level1 row15\" >15</th>\n",
       "      <th id=\"T_6a8fd_level2_row15\" class=\"row_heading level2 row15\" >XLNet</th>\n",
       "      <td id=\"T_6a8fd_row15_col0\" class=\"data row15 col0\" >0.9620</td>\n",
       "      <td id=\"T_6a8fd_row15_col1\" class=\"data row15 col1\" >0.9909</td>\n",
       "      <td id=\"T_6a8fd_row15_col2\" class=\"data row15 col2\" >0.9907</td>\n",
       "      <td id=\"T_6a8fd_row15_col3\" class=\"data row15 col3\" >0.9863</td>\n",
       "      <td id=\"T_6a8fd_row15_col4\" class=\"data row15 col4\" >0.9693</td>\n",
       "      <td id=\"T_6a8fd_row15_col5\" class=\"data row15 col5\" >0.9806</td>\n",
       "    </tr>\n",
       "  </tbody>\n",
       "</table>\n"
      ],
      "text/plain": [
       "<pandas.io.formats.style.Styler at 0x7f93b9db5190>"
      ]
     },
     "execution_count": 86,
     "metadata": {},
     "output_type": "execute_result"
    }
   ],
   "source": [
    "metric_per_class_per_model_style = metric_per_class_per_model_df.style.background_gradient(axis=0, cmap=\"PuBu_r\")\n",
    "metric_per_class_per_model_style = metric_per_class_per_model_style.format(precision=4)\n",
    "metric_per_class_per_model_style = metric_per_class_per_model_style.apply(bold_max_value)\n",
    "\n",
    "\n",
    "metric_per_class_per_model_style"
   ]
  },
  {
   "cell_type": "code",
   "execution_count": 87,
   "metadata": {},
   "outputs": [
    {
     "name": "stdout",
     "output_type": "stream",
     "text": [
      "\\begin{tabular}{lllllllll}\n",
      "\\toprule\n",
      " &  &  & Toxicity & Obscene & Sexual Explicit & Identity Attack & Insult & Threat \\\\\n",
      "Model type & Id & Model name &  &  &  &  &  &  \\\\\n",
      "\\midrule\n",
      "\\multirow[c]{9}{*}{BERT} & 0 & AlBERT & {\\cellcolor[HTML]{EEE9F3}} \\color[HTML]{000000} 0.9608 & {\\cellcolor[HTML]{FAF2F8}} \\color[HTML]{000000} 0.9893 & {\\cellcolor[HTML]{FDF5FA}} \\color[HTML]{000000} 0.9910 & {\\cellcolor[HTML]{A5BDDB}} \\color[HTML]{000000} 0.9806 & {\\cellcolor[HTML]{EFE9F3}} \\color[HTML]{000000} 0.9695 & {\\cellcolor[HTML]{F9F2F8}} \\color[HTML]{000000} 0.9825 \\\\\n",
      "\\cline{2-9} \\cline{3-9}\n",
      " & 1 & BERTweet & {\\cellcolor[HTML]{FEF6FB}} \\color[HTML]{000000} 0.9642 & {\\cellcolor[HTML]{FEF6FA}} \\color[HTML]{000000} 0.9904 & {\\cellcolor[HTML]{FAF2F8}} \\color[HTML]{000000} 0.9904 & {\\cellcolor[HTML]{FFF7FB}} \\color[HTML]{000000} \\bfseries 0.9882 & {\\cellcolor[HTML]{FFF7FB}} \\color[HTML]{000000} \\bfseries 0.9721 & {\\cellcolor[HTML]{FCF4FA}} \\color[HTML]{000000} 0.9840 \\\\\n",
      "\\cline{2-9} \\cline{3-9}\n",
      " & 2 & DistilBERT & {\\cellcolor[HTML]{F8F1F8}} \\color[HTML]{000000} 0.9630 & {\\cellcolor[HTML]{F8F1F8}} \\color[HTML]{000000} 0.9889 & {\\cellcolor[HTML]{F5EEF6}} \\color[HTML]{000000} 0.9895 & {\\cellcolor[HTML]{F5EFF6}} \\color[HTML]{000000} 0.9869 & {\\cellcolor[HTML]{F7F0F7}} \\color[HTML]{000000} 0.9708 & {\\cellcolor[HTML]{FAF3F9}} \\color[HTML]{000000} 0.9831 \\\\\n",
      "\\cline{2-9} \\cline{3-9}\n",
      " & 3 & HateBERT & {\\cellcolor[HTML]{F7F0F7}} \\color[HTML]{000000} 0.9626 & {\\cellcolor[HTML]{F4EEF6}} \\color[HTML]{000000} 0.9878 & {\\cellcolor[HTML]{D8D7E9}} \\color[HTML]{000000} 0.9854 & {\\cellcolor[HTML]{F5EFF6}} \\color[HTML]{000000} 0.9869 & {\\cellcolor[HTML]{F4EDF6}} \\color[HTML]{000000} 0.9702 & {\\cellcolor[HTML]{F7F0F7}} \\color[HTML]{000000} 0.9815 \\\\\n",
      "\\cline{2-9} \\cline{3-9}\n",
      " & 4 & RoBERTa BCE & {\\cellcolor[HTML]{FEF6FB}} \\color[HTML]{000000} 0.9643 & {\\cellcolor[HTML]{F8F1F8}} \\color[HTML]{000000} 0.9890 & {\\cellcolor[HTML]{FDF5FA}} \\color[HTML]{000000} 0.9910 & {\\cellcolor[HTML]{F5EFF6}} \\color[HTML]{000000} 0.9868 & {\\cellcolor[HTML]{FEF6FA}} \\color[HTML]{000000} 0.9719 & {\\cellcolor[HTML]{FEF6FA}} \\color[HTML]{000000} 0.9849 \\\\\n",
      "\\cline{2-9} \\cline{3-9}\n",
      " & 5 & RoBERTa FL & {\\cellcolor[HTML]{FFF7FB}} \\color[HTML]{000000} \\bfseries 0.9645 & {\\cellcolor[HTML]{FDF5FA}} \\color[HTML]{000000} 0.9903 & {\\cellcolor[HTML]{FFF7FB}} \\color[HTML]{000000} \\bfseries 0.9915 & {\\cellcolor[HTML]{F9F2F8}} \\color[HTML]{000000} 0.9874 & {\\cellcolor[HTML]{FEF6FA}} \\color[HTML]{000000} 0.9719 & {\\cellcolor[HTML]{FEF6FB}} \\color[HTML]{000000} 0.9852 \\\\\n",
      "\\cline{2-9} \\cline{3-9}\n",
      " & 6 & RoBERTa pwBCE & {\\cellcolor[HTML]{FAF2F8}} \\color[HTML]{000000} 0.9633 & {\\cellcolor[HTML]{FAF3F9}} \\color[HTML]{000000} 0.9895 & {\\cellcolor[HTML]{F3EDF5}} \\color[HTML]{000000} 0.9892 & {\\cellcolor[HTML]{F5EFF6}} \\color[HTML]{000000} 0.9868 & {\\cellcolor[HTML]{F7F0F7}} \\color[HTML]{000000} 0.9708 & {\\cellcolor[HTML]{FFF7FB}} \\color[HTML]{000000} \\bfseries 0.9856 \\\\\n",
      "\\cline{2-9} \\cline{3-9}\n",
      " & 7 & RoBERTa pwFL & {\\cellcolor[HTML]{FAF2F8}} \\color[HTML]{000000} 0.9634 & {\\cellcolor[HTML]{FBF4F9}} \\color[HTML]{000000} 0.9898 & {\\cellcolor[HTML]{F2ECF5}} \\color[HTML]{000000} 0.9890 & {\\cellcolor[HTML]{F6EFF7}} \\color[HTML]{000000} 0.9870 & {\\cellcolor[HTML]{FBF3F9}} \\color[HTML]{000000} 0.9714 & {\\cellcolor[HTML]{FEF6FB}} \\color[HTML]{000000} 0.9852 \\\\\n",
      "\\cline{2-9} \\cline{3-9}\n",
      " & 8 & XLM RoBERTa & {\\cellcolor[HTML]{EEE8F3}} \\color[HTML]{000000} 0.9607 & {\\cellcolor[HTML]{FCF4FA}} \\color[HTML]{000000} 0.9900 & {\\cellcolor[HTML]{F8F1F8}} \\color[HTML]{000000} 0.9902 & {\\cellcolor[HTML]{EAE6F1}} \\color[HTML]{000000} 0.9855 & {\\cellcolor[HTML]{E3E0EE}} \\color[HTML]{000000} 0.9681 & {\\cellcolor[HTML]{F4EDF6}} \\color[HTML]{000000} 0.9796 \\\\\n",
      "\\cline{1-9} \\cline{2-9} \\cline{3-9}\n",
      "CCT & 9 & CCT & {\\cellcolor[HTML]{0C74B2}} \\color[HTML]{F1F1F1} 0.9408 & {\\cellcolor[HTML]{69A5CC}} \\color[HTML]{F1F1F1} 0.9682 & {\\cellcolor[HTML]{0872B1}} \\color[HTML]{F1F1F1} 0.9709 & {\\cellcolor[HTML]{023858}} \\color[HTML]{F1F1F1} 0.9681 & {\\cellcolor[HTML]{023B5D}} \\color[HTML]{F1F1F1} 0.9481 & {\\cellcolor[HTML]{023858}} \\color[HTML]{F1F1F1} 0.9067 \\\\\n",
      "\\cline{1-9} \\cline{2-9} \\cline{3-9}\n",
      "\\multirow[c]{3}{*}{CNN} & 10 & Freeze GloVe ResNet44 & {\\cellcolor[HTML]{023858}} \\color[HTML]{F1F1F1} 0.9321 & {\\cellcolor[HTML]{023858}} \\color[HTML]{F1F1F1} 0.9475 & {\\cellcolor[HTML]{023858}} \\color[HTML]{F1F1F1} 0.9637 & {\\cellcolor[HTML]{045A8D}} \\color[HTML]{F1F1F1} 0.9706 & {\\cellcolor[HTML]{023858}} \\color[HTML]{F1F1F1} 0.9477 & {\\cellcolor[HTML]{9EBAD9}} \\color[HTML]{000000} 0.9542 \\\\\n",
      "\\cline{2-9} \\cline{3-9}\n",
      " & 11 & Unfreeze GloVe ResNet44 & {\\cellcolor[HTML]{89B1D4}} \\color[HTML]{000000} 0.9501 & {\\cellcolor[HTML]{B4C4DF}} \\color[HTML]{000000} 0.9765 & {\\cellcolor[HTML]{96B6D7}} \\color[HTML]{000000} 0.9799 & {\\cellcolor[HTML]{04629A}} \\color[HTML]{F1F1F1} 0.9716 & {\\cellcolor[HTML]{A5BDDB}} \\color[HTML]{000000} 0.9629 & {\\cellcolor[HTML]{A1BBDA}} \\color[HTML]{000000} 0.9549 \\\\\n",
      "\\cline{2-9} \\cline{3-9}\n",
      " & 12 & Unfreeze GloVe ResNet56 & {\\cellcolor[HTML]{99B8D8}} \\color[HTML]{000000} 0.9512 & {\\cellcolor[HTML]{C8CDE4}} \\color[HTML]{000000} 0.9789 & {\\cellcolor[HTML]{0566A0}} \\color[HTML]{F1F1F1} 0.9691 & {\\cellcolor[HTML]{045483}} \\color[HTML]{F1F1F1} 0.9702 & {\\cellcolor[HTML]{A8BEDC}} \\color[HTML]{000000} 0.9631 & {\\cellcolor[HTML]{8BB2D4}} \\color[HTML]{000000} 0.9506 \\\\\n",
      "\\cline{1-9} \\cline{2-9} \\cline{3-9}\n",
      "\\multirow[c]{2}{*}{RNN} & 13 & BiGRU & {\\cellcolor[HTML]{D3D4E7}} \\color[HTML]{000000} 0.9569 & {\\cellcolor[HTML]{EBE6F2}} \\color[HTML]{000000} 0.9853 & {\\cellcolor[HTML]{D9D8EA}} \\color[HTML]{000000} 0.9856 & {\\cellcolor[HTML]{B1C2DE}} \\color[HTML]{000000} 0.9813 & {\\cellcolor[HTML]{DBDAEB}} \\color[HTML]{000000} 0.9672 & {\\cellcolor[HTML]{E3E0EE}} \\color[HTML]{000000} 0.9726 \\\\\n",
      "\\cline{2-9} \\cline{3-9}\n",
      " & 14 & BiLSTM & {\\cellcolor[HTML]{D7D6E9}} \\color[HTML]{000000} 0.9574 & {\\cellcolor[HTML]{EEE8F3}} \\color[HTML]{000000} 0.9860 & {\\cellcolor[HTML]{C8CDE4}} \\color[HTML]{000000} 0.9839 & {\\cellcolor[HTML]{C6CCE3}} \\color[HTML]{000000} 0.9826 & {\\cellcolor[HTML]{DCDAEB}} \\color[HTML]{000000} 0.9673 & {\\cellcolor[HTML]{EBE6F2}} \\color[HTML]{000000} 0.9752 \\\\\n",
      "\\cline{1-9} \\cline{2-9} \\cline{3-9}\n",
      "XLNet & 15 & XLNet & {\\cellcolor[HTML]{F4EDF6}} \\color[HTML]{000000} 0.9620 & {\\cellcolor[HTML]{FFF7FB}} \\color[HTML]{000000} \\bfseries 0.9909 & {\\cellcolor[HTML]{FBF4F9}} \\color[HTML]{000000} 0.9907 & {\\cellcolor[HTML]{F1EBF5}} \\color[HTML]{000000} 0.9863 & {\\cellcolor[HTML]{EEE8F3}} \\color[HTML]{000000} 0.9693 & {\\cellcolor[HTML]{F5EFF6}} \\color[HTML]{000000} 0.9806 \\\\\n",
      "\\cline{1-9} \\cline{2-9} \\cline{3-9}\n",
      "\\bottomrule\n",
      "\\end{tabular}\n",
      "\n"
     ]
    }
   ],
   "source": [
    "metric_per_class_per_model_latex = metric_per_class_per_model_style.to_latex(\n",
    "    convert_css=True,\n",
    "    column_format=\"lllllllll\",\n",
    "    clines=\"all;data\",\n",
    "    hrules=True,\n",
    ")\n",
    "print(metric_per_class_per_model_latex)"
   ]
  }
 ],
 "metadata": {
  "kernelspec": {
   "display_name": "Python 3.8.9 ('.venv': poetry)",
   "language": "python",
   "name": "python3"
  },
  "language_info": {
   "codemirror_mode": {
    "name": "ipython",
    "version": 3
   },
   "file_extension": ".py",
   "mimetype": "text/x-python",
   "name": "python",
   "nbconvert_exporter": "python",
   "pygments_lexer": "ipython3",
   "version": "3.8.9"
  },
  "orig_nbformat": 4,
  "vscode": {
   "interpreter": {
    "hash": "74c553a6e8b82483857ba3ddaf7e8469fb5af9a74c95d0698cfa607b46dae7b0"
   }
  }
 },
 "nbformat": 4,
 "nbformat_minor": 2
}
