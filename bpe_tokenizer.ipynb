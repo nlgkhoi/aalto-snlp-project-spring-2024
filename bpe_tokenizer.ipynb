{
 "cells": [
  {
   "cell_type": "code",
   "execution_count": 25,
   "metadata": {},
   "outputs": [
    {
     "name": "stdout",
     "output_type": "stream",
     "text": [
      "except that desmond played first base last night . tapia was in lf and reynolds had a night off .\n",
      "\n",
      "\n",
      "\n"
     ]
    }
   ],
   "source": [
    "from tokenizers import Tokenizer, SentencePieceBPETokenizer\n",
    "from tokenizers.models import BPE\n",
    "from tokenizers.trainers import BpeTrainer\n",
    "from tokenizers.pre_tokenizers import Whitespace\n",
    "import unicodedata\n",
    "import re\n",
    "import pandas as pd\n",
    "\n",
    "# Initialize a tokenizer\n",
    "tokenizer = Tokenizer(BPE(unk_token=\"[UNK]\"))\n",
    "\n",
    "# Customize pre-tokenization and normalization\n",
    "def unicodeToAscii(s):\n",
    "\treturn ''.join(\n",
    "\t\tc for c in unicodedata.normalize('NFD', s)\n",
    "\t\tif unicodedata.category(c) != 'Mn'\n",
    "\t)\n",
    "\n",
    "def normalizeString(s):\n",
    "\ts = s.lower().strip()\n",
    "\ts = unicodeToAscii(s)\n",
    "\ts = re.sub(r\"([.!?])\", r\" \\1\", s)\n",
    "\ts = re.sub(r\"[^a-zA-Z.!?]+\", r\" \", s)\n",
    "\treturn s\n",
    "\n",
    "# tokenizer.pre_tokenizer = Whitespace()\n",
    "\n",
    "df = pd.read_csv('train_2024.csv', quoting=3)\n",
    "sentences = df['text'].tolist()\n",
    "sentences = [normalizeString(sentence) for sentence in sentences]\n",
    "print(sentences[0])\n",
    "# save the list of sentence into a file\n",
    "# with open('sentences.txt', 'w') as f:\n",
    "# \tfor sentence in sentences:\n",
    "# \t\tf.write(\"%s\\n\" % sentence)\n",
    "\n",
    "# Train the tokenizer on your text data\n",
    "# trainer = BpeTrainer(vocab_size=32000, show_progress=True, special_tokens=[\"[PAD]\", \"[UNK]\", \"[CLS]\", \"[SEP]\", \"[MASK]\"])\n",
    "# tokenizer.train_from_iterator(sentences, trainer)\n",
    "\n",
    "tokenizer = SentencePieceBPETokenizer()\n",
    "tokenizer.train_from_iterator(\n",
    "    sentences,\n",
    "    vocab_size=30_000,\n",
    "    min_frequency=2,\n",
    "    show_progress=True,\n",
    "    limit_alphabet=500,\n",
    ")"
   ]
  },
  {
   "cell_type": "code",
   "execution_count": 26,
   "metadata": {},
   "outputs": [
    {
     "name": "stdout",
     "output_type": "stream",
     "text": [
      "[1481, 87, 12549, 3059, 620, 1927, 690, 1869, 35, 29645, 157, 67, 61, 9, 66, 18483, 2353, 32, 1869, 309, 35]\n",
      "except that desmond played first base last night . tapia was in lf and reynolds playing a night off .\n"
     ]
    }
   ],
   "source": [
    "# Tokenize a sentence\n",
    "sentence = \"Except that Desmond played first base last night. Tapia was in LF and Reynolds playing a night off.\"\n",
    "sentence = normalizeString(sentence)\n",
    "\n",
    "encoded = tokenizer.encode(sentence)\n",
    "print(encoded.ids)\n",
    "\n",
    "# Decode the token IDs back to text\n",
    "decoded = tokenizer.decode(encoded.ids)\n",
    "print(decoded)"
   ]
  },
  {
   "cell_type": "code",
   "execution_count": 5,
   "metadata": {},
   "outputs": [
    {
     "name": "stdout",
     "output_type": "stream",
     "text": [
      "[2376, 522, 1095, 8463, 4079, 1206, 2842, 1212, 7621, 10454, 850, 595, 498, 494, 70, 496, 519, 27505, 3192, 463, 2580, 4817]\n",
      "except that desmond played first base last night. tapia was in lf and reynolds playing a night off.\n"
     ]
    }
   ],
   "source": [
    "# Tokenize a sentence\n",
    "sentence = \"Except that Desmond played first base last night. Tapia was in LF and Reynolds playing a night off.\"\n",
    "\n",
    "encoded = tokenizer.encode(sentence.lower())\n",
    "print(encoded.ids)\n",
    "\n",
    "# Decode the token IDs back to text\n",
    "decoded = tokenizer.decode(encoded.ids)\n",
    "print(decoded)"
   ]
  }
 ],
 "metadata": {
  "kernelspec": {
   "display_name": "sl",
   "language": "python",
   "name": "python3"
  },
  "language_info": {
   "codemirror_mode": {
    "name": "ipython",
    "version": 3
   },
   "file_extension": ".py",
   "mimetype": "text/x-python",
   "name": "python",
   "nbconvert_exporter": "python",
   "pygments_lexer": "ipython3",
   "version": "3.10.14"
  }
 },
 "nbformat": 4,
 "nbformat_minor": 2
}
